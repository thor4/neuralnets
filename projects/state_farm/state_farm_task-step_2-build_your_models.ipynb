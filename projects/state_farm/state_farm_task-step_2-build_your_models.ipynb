{
  "nbformat": 4,
  "nbformat_minor": 0,
  "metadata": {
    "colab": {
      "provenance": [],
      "authorship_tag": "ABX9TyNKiLf1B4QyqXtUs1e/fykR",
      "include_colab_link": true
    },
    "kernelspec": {
      "name": "python3",
      "display_name": "Python 3"
    },
    "language_info": {
      "name": "python"
    },
    "gpuClass": "premium"
  },
  "cells": [
    {
      "cell_type": "markdown",
      "metadata": {
        "id": "view-in-github",
        "colab_type": "text"
      },
      "source": [
        "<a href=\"https://colab.research.google.com/github/thor4/neuralnets/blob/master/projects/state_farm/state_farm_task-step_2-build_your_models.ipynb\" target=\"_parent\"><img src=\"https://colab.research.google.com/assets/colab-badge.svg\" alt=\"Open In Colab\"/></a>"
      ]
    },
    {
      "cell_type": "markdown",
      "source": [
        "# State Farm Pre-employment Assessment\n",
        "### *Model-based supervised learning binary classification task*\n",
        "Your work will be evaluated in the following areas:\n",
        "- The appropriateness of the steps you took\n",
        "- The complexity of your models\n",
        "- The performance of each model on the test set (using AUC)\n",
        "- The organization and readability of your code\n",
        "- The write-up comparing the models\n",
        "---"
      ],
      "metadata": {
        "id": "3I9U6tnpuecf"
      }
    },
    {
      "cell_type": "markdown",
      "source": [
        "## Step 2 - Build your models\n",
        "For this exercise, you are required to build two models. The first model must be a logistic regression. The second model must be a decision tree, random forest, gradient boosted machine, support vector machine, or neural network. Even if multiple models were considered, please only submit two models for evaluation.’\n",
        "\n",
        "We will begin by importing relevant libraries."
      ],
      "metadata": {
        "id": "FKKVf2XCvo5b"
      }
    },
    {
      "cell_type": "code",
      "execution_count": 28,
      "metadata": {
        "id": "Zct-rkSSud0m"
      },
      "outputs": [],
      "source": [
        "import numpy as np\n",
        "import pandas as pd\n",
        "import matplotlib.pyplot as plt\n",
        "import seaborn as sns\n",
        "from sklearn.compose import ColumnTransformer\n",
        "from sklearn.pipeline import Pipeline\n",
        "from sklearn.impute import SimpleImputer\n",
        "from sklearn.preprocessing import StandardScaler, OneHotEncoder, OrdinalEncoder, FunctionTransformer, QuantileTransformer, LabelEncoder, KBinsDiscretizer\n",
        "from sklearn.model_selection import train_test_split, GridSearchCV, cross_val_score, cross_val_predict\n",
        "from sklearn.linear_model import LogisticRegression, SGDClassifier\n",
        "from sklearn.metrics import roc_auc_score, roc_curve, auc\n",
        "from sklearn.dummy import DummyClassifier\n",
        "from sklearn.tree import DecisionTreeClassifier\n",
        "from sklearn.ensemble import RandomForestClassifier, GradientBoostingClassifier\n",
        "from sklearn.svm import SVC\n",
        "from sklearn.neural_network import MLPClassifier\n",
        "import joblib\n",
        "from google.colab import files"
      ]
    },
    {
      "cell_type": "markdown",
      "source": [
        "Next, we use the pandas library to load our CSV data."
      ],
      "metadata": {
        "id": "gHKnysvV1TZR"
      }
    },
    {
      "cell_type": "code",
      "source": [
        "train_data = pd.read_csv(\"exercise_40_train.csv\")\n",
        "test_data = pd.read_csv(\"exercise_40_test.csv\")"
      ],
      "metadata": {
        "id": "lsLMUhbm1Z2Q"
      },
      "execution_count": 2,
      "outputs": []
    },
    {
      "cell_type": "code",
      "source": [
        "train_data.head()"
      ],
      "metadata": {
        "id": "ly3yQCem28eQ",
        "outputId": "a6f88610-3639-458f-bb43-21bb628a7fd6",
        "colab": {
          "base_uri": "https://localhost:8080/",
          "height": 300
        }
      },
      "execution_count": 3,
      "outputs": [
        {
          "output_type": "execute_result",
          "data": {
            "text/plain": [
              "   y        x1         x2        x3        x4        x5        x6        x7  \\\n",
              "0  0  0.165254  18.060003       Wed  1.077380 -1.339233 -1.584341   0.0062%   \n",
              "1  1  2.441471  18.416307    Friday  1.482586  0.920817 -0.759931   0.0064%   \n",
              "2  1  4.427278  19.188092  Thursday  0.145652  0.366093  0.709962   -8e-04%   \n",
              "3  0  3.925235  19.901257   Tuesday  1.763602 -0.251926 -0.827461  -0.0057%   \n",
              "4  0  2.868802  22.202473    Sunday  3.405119  0.083162  1.381504   0.0109%   \n",
              "\n",
              "         x8        x9  ...       x91       x92  x93       x94       x95  \\\n",
              "0  0.220784  1.816481  ... -0.397427  0.909479   no  5.492487       NaN   \n",
              "1  1.192441  3.513950  ...  0.656651  9.093466   no  3.346429  4.321172   \n",
              "2  0.952323  0.782974  ...  2.059615  0.305170   no  4.456565       NaN   \n",
              "3 -0.520756  1.825586  ...  0.899392  5.971782   no  4.100022  1.151085   \n",
              "4 -0.732739  2.151990  ...  3.003595  1.046096  yes  3.234033  2.074927   \n",
              "\n",
              "         x96        x97  x98  x99        x100  \n",
              "0  10.255579   7.627730    0  yes  104.251338  \n",
              "1        NaN  10.505284    1  yes  101.230645  \n",
              "2   8.754572   7.810979    0  yes  109.345215  \n",
              "3        NaN   9.178325    1  yes  103.021970  \n",
              "4   9.987006  11.702664    0  yes   92.925935  \n",
              "\n",
              "[5 rows x 101 columns]"
            ],
            "text/html": [
              "\n",
              "  <div id=\"df-9236d1b8-b099-44bc-adfd-d0fac45eb18b\">\n",
              "    <div class=\"colab-df-container\">\n",
              "      <div>\n",
              "<style scoped>\n",
              "    .dataframe tbody tr th:only-of-type {\n",
              "        vertical-align: middle;\n",
              "    }\n",
              "\n",
              "    .dataframe tbody tr th {\n",
              "        vertical-align: top;\n",
              "    }\n",
              "\n",
              "    .dataframe thead th {\n",
              "        text-align: right;\n",
              "    }\n",
              "</style>\n",
              "<table border=\"1\" class=\"dataframe\">\n",
              "  <thead>\n",
              "    <tr style=\"text-align: right;\">\n",
              "      <th></th>\n",
              "      <th>y</th>\n",
              "      <th>x1</th>\n",
              "      <th>x2</th>\n",
              "      <th>x3</th>\n",
              "      <th>x4</th>\n",
              "      <th>x5</th>\n",
              "      <th>x6</th>\n",
              "      <th>x7</th>\n",
              "      <th>x8</th>\n",
              "      <th>x9</th>\n",
              "      <th>...</th>\n",
              "      <th>x91</th>\n",
              "      <th>x92</th>\n",
              "      <th>x93</th>\n",
              "      <th>x94</th>\n",
              "      <th>x95</th>\n",
              "      <th>x96</th>\n",
              "      <th>x97</th>\n",
              "      <th>x98</th>\n",
              "      <th>x99</th>\n",
              "      <th>x100</th>\n",
              "    </tr>\n",
              "  </thead>\n",
              "  <tbody>\n",
              "    <tr>\n",
              "      <th>0</th>\n",
              "      <td>0</td>\n",
              "      <td>0.165254</td>\n",
              "      <td>18.060003</td>\n",
              "      <td>Wed</td>\n",
              "      <td>1.077380</td>\n",
              "      <td>-1.339233</td>\n",
              "      <td>-1.584341</td>\n",
              "      <td>0.0062%</td>\n",
              "      <td>0.220784</td>\n",
              "      <td>1.816481</td>\n",
              "      <td>...</td>\n",
              "      <td>-0.397427</td>\n",
              "      <td>0.909479</td>\n",
              "      <td>no</td>\n",
              "      <td>5.492487</td>\n",
              "      <td>NaN</td>\n",
              "      <td>10.255579</td>\n",
              "      <td>7.627730</td>\n",
              "      <td>0</td>\n",
              "      <td>yes</td>\n",
              "      <td>104.251338</td>\n",
              "    </tr>\n",
              "    <tr>\n",
              "      <th>1</th>\n",
              "      <td>1</td>\n",
              "      <td>2.441471</td>\n",
              "      <td>18.416307</td>\n",
              "      <td>Friday</td>\n",
              "      <td>1.482586</td>\n",
              "      <td>0.920817</td>\n",
              "      <td>-0.759931</td>\n",
              "      <td>0.0064%</td>\n",
              "      <td>1.192441</td>\n",
              "      <td>3.513950</td>\n",
              "      <td>...</td>\n",
              "      <td>0.656651</td>\n",
              "      <td>9.093466</td>\n",
              "      <td>no</td>\n",
              "      <td>3.346429</td>\n",
              "      <td>4.321172</td>\n",
              "      <td>NaN</td>\n",
              "      <td>10.505284</td>\n",
              "      <td>1</td>\n",
              "      <td>yes</td>\n",
              "      <td>101.230645</td>\n",
              "    </tr>\n",
              "    <tr>\n",
              "      <th>2</th>\n",
              "      <td>1</td>\n",
              "      <td>4.427278</td>\n",
              "      <td>19.188092</td>\n",
              "      <td>Thursday</td>\n",
              "      <td>0.145652</td>\n",
              "      <td>0.366093</td>\n",
              "      <td>0.709962</td>\n",
              "      <td>-8e-04%</td>\n",
              "      <td>0.952323</td>\n",
              "      <td>0.782974</td>\n",
              "      <td>...</td>\n",
              "      <td>2.059615</td>\n",
              "      <td>0.305170</td>\n",
              "      <td>no</td>\n",
              "      <td>4.456565</td>\n",
              "      <td>NaN</td>\n",
              "      <td>8.754572</td>\n",
              "      <td>7.810979</td>\n",
              "      <td>0</td>\n",
              "      <td>yes</td>\n",
              "      <td>109.345215</td>\n",
              "    </tr>\n",
              "    <tr>\n",
              "      <th>3</th>\n",
              "      <td>0</td>\n",
              "      <td>3.925235</td>\n",
              "      <td>19.901257</td>\n",
              "      <td>Tuesday</td>\n",
              "      <td>1.763602</td>\n",
              "      <td>-0.251926</td>\n",
              "      <td>-0.827461</td>\n",
              "      <td>-0.0057%</td>\n",
              "      <td>-0.520756</td>\n",
              "      <td>1.825586</td>\n",
              "      <td>...</td>\n",
              "      <td>0.899392</td>\n",
              "      <td>5.971782</td>\n",
              "      <td>no</td>\n",
              "      <td>4.100022</td>\n",
              "      <td>1.151085</td>\n",
              "      <td>NaN</td>\n",
              "      <td>9.178325</td>\n",
              "      <td>1</td>\n",
              "      <td>yes</td>\n",
              "      <td>103.021970</td>\n",
              "    </tr>\n",
              "    <tr>\n",
              "      <th>4</th>\n",
              "      <td>0</td>\n",
              "      <td>2.868802</td>\n",
              "      <td>22.202473</td>\n",
              "      <td>Sunday</td>\n",
              "      <td>3.405119</td>\n",
              "      <td>0.083162</td>\n",
              "      <td>1.381504</td>\n",
              "      <td>0.0109%</td>\n",
              "      <td>-0.732739</td>\n",
              "      <td>2.151990</td>\n",
              "      <td>...</td>\n",
              "      <td>3.003595</td>\n",
              "      <td>1.046096</td>\n",
              "      <td>yes</td>\n",
              "      <td>3.234033</td>\n",
              "      <td>2.074927</td>\n",
              "      <td>9.987006</td>\n",
              "      <td>11.702664</td>\n",
              "      <td>0</td>\n",
              "      <td>yes</td>\n",
              "      <td>92.925935</td>\n",
              "    </tr>\n",
              "  </tbody>\n",
              "</table>\n",
              "<p>5 rows × 101 columns</p>\n",
              "</div>\n",
              "      <button class=\"colab-df-convert\" onclick=\"convertToInteractive('df-9236d1b8-b099-44bc-adfd-d0fac45eb18b')\"\n",
              "              title=\"Convert this dataframe to an interactive table.\"\n",
              "              style=\"display:none;\">\n",
              "        \n",
              "  <svg xmlns=\"http://www.w3.org/2000/svg\" height=\"24px\"viewBox=\"0 0 24 24\"\n",
              "       width=\"24px\">\n",
              "    <path d=\"M0 0h24v24H0V0z\" fill=\"none\"/>\n",
              "    <path d=\"M18.56 5.44l.94 2.06.94-2.06 2.06-.94-2.06-.94-.94-2.06-.94 2.06-2.06.94zm-11 1L8.5 8.5l.94-2.06 2.06-.94-2.06-.94L8.5 2.5l-.94 2.06-2.06.94zm10 10l.94 2.06.94-2.06 2.06-.94-2.06-.94-.94-2.06-.94 2.06-2.06.94z\"/><path d=\"M17.41 7.96l-1.37-1.37c-.4-.4-.92-.59-1.43-.59-.52 0-1.04.2-1.43.59L10.3 9.45l-7.72 7.72c-.78.78-.78 2.05 0 2.83L4 21.41c.39.39.9.59 1.41.59.51 0 1.02-.2 1.41-.59l7.78-7.78 2.81-2.81c.8-.78.8-2.07 0-2.86zM5.41 20L4 18.59l7.72-7.72 1.47 1.35L5.41 20z\"/>\n",
              "  </svg>\n",
              "      </button>\n",
              "      \n",
              "  <style>\n",
              "    .colab-df-container {\n",
              "      display:flex;\n",
              "      flex-wrap:wrap;\n",
              "      gap: 12px;\n",
              "    }\n",
              "\n",
              "    .colab-df-convert {\n",
              "      background-color: #E8F0FE;\n",
              "      border: none;\n",
              "      border-radius: 50%;\n",
              "      cursor: pointer;\n",
              "      display: none;\n",
              "      fill: #1967D2;\n",
              "      height: 32px;\n",
              "      padding: 0 0 0 0;\n",
              "      width: 32px;\n",
              "    }\n",
              "\n",
              "    .colab-df-convert:hover {\n",
              "      background-color: #E2EBFA;\n",
              "      box-shadow: 0px 1px 2px rgba(60, 64, 67, 0.3), 0px 1px 3px 1px rgba(60, 64, 67, 0.15);\n",
              "      fill: #174EA6;\n",
              "    }\n",
              "\n",
              "    [theme=dark] .colab-df-convert {\n",
              "      background-color: #3B4455;\n",
              "      fill: #D2E3FC;\n",
              "    }\n",
              "\n",
              "    [theme=dark] .colab-df-convert:hover {\n",
              "      background-color: #434B5C;\n",
              "      box-shadow: 0px 1px 3px 1px rgba(0, 0, 0, 0.15);\n",
              "      filter: drop-shadow(0px 1px 2px rgba(0, 0, 0, 0.3));\n",
              "      fill: #FFFFFF;\n",
              "    }\n",
              "  </style>\n",
              "\n",
              "      <script>\n",
              "        const buttonEl =\n",
              "          document.querySelector('#df-9236d1b8-b099-44bc-adfd-d0fac45eb18b button.colab-df-convert');\n",
              "        buttonEl.style.display =\n",
              "          google.colab.kernel.accessAllowed ? 'block' : 'none';\n",
              "\n",
              "        async function convertToInteractive(key) {\n",
              "          const element = document.querySelector('#df-9236d1b8-b099-44bc-adfd-d0fac45eb18b');\n",
              "          const dataTable =\n",
              "            await google.colab.kernel.invokeFunction('convertToInteractive',\n",
              "                                                     [key], {});\n",
              "          if (!dataTable) return;\n",
              "\n",
              "          const docLinkHtml = 'Like what you see? Visit the ' +\n",
              "            '<a target=\"_blank\" href=https://colab.research.google.com/notebooks/data_table.ipynb>data table notebook</a>'\n",
              "            + ' to learn more about interactive tables.';\n",
              "          element.innerHTML = '';\n",
              "          dataTable['output_type'] = 'display_data';\n",
              "          await google.colab.output.renderOutput(dataTable, element);\n",
              "          const docLink = document.createElement('div');\n",
              "          docLink.innerHTML = docLinkHtml;\n",
              "          element.appendChild(docLink);\n",
              "        }\n",
              "      </script>\n",
              "    </div>\n",
              "  </div>\n",
              "  "
            ]
          },
          "metadata": {},
          "execution_count": 3
        }
      ]
    },
    {
      "cell_type": "markdown",
      "source": [
        "### Prepare the data"
      ],
      "metadata": {
        "id": "cBh11z0idZAT"
      }
    },
    {
      "cell_type": "markdown",
      "source": [
        "Separate the predictors from the labels"
      ],
      "metadata": {
        "id": "_VwiMCdtdxrb"
      }
    },
    {
      "cell_type": "code",
      "source": [
        "train = train_data.drop(\"y\", axis=1)\n",
        "train_labels = train_data[\"y\"].copy()"
      ],
      "metadata": {
        "id": "2WHpvZb_diIN"
      },
      "execution_count": 21,
      "outputs": []
    },
    {
      "cell_type": "markdown",
      "source": [
        "Drop unnecessary columns"
      ],
      "metadata": {
        "id": "wcV3RRn4UozQ"
      }
    },
    {
      "cell_type": "code",
      "source": [
        "train = train.drop(columns=[\"x39\", \"x99\", \"x79\", \"x28\"])"
      ],
      "metadata": {
        "id": "nfMPlZFrUeRU"
      },
      "execution_count": 22,
      "outputs": []
    },
    {
      "cell_type": "markdown",
      "source": [
        "Convert object columns to binary int64\n"
      ],
      "metadata": {
        "id": "EU2q5JQ4Us9I"
      }
    },
    {
      "cell_type": "code",
      "source": [
        "binary_features = [\"x24\", \"x31\", \"x93\"]\n",
        "for col in binary_features:\n",
        "    le = LabelEncoder()\n",
        "    train[col] = le.fit_transform(train[col].astype(str))"
      ],
      "metadata": {
        "id": "aAcIdOJMUvBz"
      },
      "execution_count": 23,
      "outputs": []
    },
    {
      "cell_type": "markdown",
      "source": [
        "Replace null values in `x33` and `x77` with most likely value based on probabilities"
      ],
      "metadata": {
        "id": "TUmDVBO-U-Td"
      }
    },
    {
      "cell_type": "code",
      "source": [
        "for col in [\"x33\", \"x77\"]:\n",
        "    probs = train[col].value_counts(normalize=True)\n",
        "    missing = train[col].isna()\n",
        "    train.loc[missing, col] = np.random.choice(probs.index, size=len(train[missing]), p=probs.values)"
      ],
      "metadata": {
        "id": "Yz6UiUDHU82J"
      },
      "execution_count": 24,
      "outputs": []
    },
    {
      "cell_type": "markdown",
      "source": [
        "Combine duplicate days in `x3`"
      ],
      "metadata": {
        "id": "ePxMKLv8V-oA"
      }
    },
    {
      "cell_type": "code",
      "source": [
        "day_mapping = {\n",
        "    \"Mon\": \"Monday\",\n",
        "    \"Tue\": \"Tuesday\",\n",
        "    \"Wed\": \"Wednesday\",\n",
        "    \"Thur\": \"Thursday\",\n",
        "    \"Fri\": \"Friday\",\n",
        "    \"Sat\": \"Saturday\",\n",
        "    \"Sun\": \"Sunday\"\n",
        "}\n",
        "train[\"x3\"] = train[\"x3\"].replace(day_mapping)"
      ],
      "metadata": {
        "id": "ntj_wWcfV4_5"
      },
      "execution_count": 25,
      "outputs": []
    },
    {
      "cell_type": "markdown",
      "source": [
        "Convert the `x7` column to a float by removing the % sign and dividing by 100. Convert the `x19` column to a float by removing the $ sign."
      ],
      "metadata": {
        "id": "YGROjnzlNsTj"
      }
    },
    {
      "cell_type": "code",
      "source": [
        "train['x7'] = train['x7'].str.strip('%').astype(float) / 100\n",
        "train['x19'] = train['x19'].str.strip('$').astype(float)"
      ],
      "metadata": {
        "id": "fgF_31UUKmYC"
      },
      "execution_count": 26,
      "outputs": []
    },
    {
      "cell_type": "markdown",
      "source": [
        "### Create and run preprocessing pipeline"
      ],
      "metadata": {
        "id": "uCETwZrId_RY"
      }
    },
    {
      "cell_type": "code",
      "source": [
        "# Define transformers for each group of columns\n",
        "one_hot_features = [\"x33\", \"x77\", \"x3\", \"x60\", \"x65\"]\n",
        "range_based_features = [\"x58\", \"x67\", \"x71\", \"x84\"]\n",
        "quantile_transform_features = [\"x12\", \"x18\", \"x61\", \"x92\", \"x40\", \"x57\"]\n",
        "log_transform_features = [\"x14\", \"x16\", \"x21\", \"x42\", \"x45\", \"x55\", \"x70\", \"x73\", \"x75\", \"x82\", \"x89\", \"x96\"]\n",
        "\n",
        "one_hot_transformer = Pipeline([\n",
        "    (\"imputer\", SimpleImputer(strategy=\"most_frequent\")),\n",
        "    (\"one_hot\", OneHotEncoder())\n",
        "])\n",
        "\n",
        "def custom_discretizer(X, low_quantile=0.25, high_quantile=0.75):\n",
        "    low_bound = np.quantile(X, low_quantile, axis=0)\n",
        "    high_bound = np.quantile(X, high_quantile, axis=0)\n",
        "    return np.where(X < low_bound, 0, np.where(X <= high_bound, 1, 2))\n",
        "\n",
        "range_based_transformer = Pipeline([\n",
        "    (\"imputer\", SimpleImputer(strategy=\"median\")),\n",
        "    (\"custom_discretizer\", FunctionTransformer(custom_discretizer, validate=True)),\n",
        "    (\"one_hot\", OneHotEncoder())\n",
        "])\n",
        "\n",
        "quantile_transformer = Pipeline([\n",
        "    (\"imputer\", SimpleImputer(strategy=\"median\")),\n",
        "    (\"quantile_transform\", QuantileTransformer(output_distribution=\"normal\"))\n",
        "])\n",
        "\n",
        "def log1p_with_positive_shift(X):\n",
        "    positive_shift = np.abs(np.min(X, axis=0)) + 1e-6\n",
        "    return np.log1p(X + positive_shift)\n",
        "\n",
        "log_transformer = Pipeline([\n",
        "    (\"imputer\", SimpleImputer(strategy=\"median\")),\n",
        "    (\"log_transform\", FunctionTransformer(log1p_with_positive_shift, validate=True)),\n",
        "    (\"standard_scaler\", StandardScaler())\n",
        "])\n",
        "\n",
        "remaining_float_features = list(set(train.select_dtypes(include=[\"float64\"]).columns) - set(range_based_features) - set(quantile_transform_features) - set(log_transform_features))\n",
        "\n",
        "float_transformer = Pipeline([\n",
        "    (\"imputer\", SimpleImputer(strategy=\"median\")),\n",
        "    (\"standard_scaler\", StandardScaler())\n",
        "])\n",
        "\n",
        "# Create ColumnTransformer\n",
        "preprocessor = ColumnTransformer(transformers=[\n",
        "    (\"one_hot\", one_hot_transformer, one_hot_features),\n",
        "    (\"range_based\", range_based_transformer, range_based_features),\n",
        "    (\"quantile_transform\", quantile_transformer, quantile_transform_features),\n",
        "    (\"log_transform\", log_transformer, log_transform_features),\n",
        "    (\"float_transform\", float_transformer, remaining_float_features)\n",
        "])\n",
        "\n",
        "# Apply the preprocessing pipeline\n",
        "X_transformed = preprocessor.fit_transform(train)\n",
        "\n",
        "# Get the column names from the transformers\n",
        "one_hot_cols = preprocessor.named_transformers_[\"one_hot\"].named_steps[\"one_hot\"].get_feature_names_out(one_hot_features)\n",
        "range_based_categories = [\"low\", \"middle\", \"high\"]\n",
        "range_based_cols = [f\"{col}_{cat}\" for col in range_based_features for cat in range_based_categories]\n",
        "quantile_transform_cols = [f\"quantile_{col}\" for col in quantile_transform_features]\n",
        "log_transform_cols = [f\"log_{col}\" for col in log_transform_features]\n",
        "float_transform_cols = [f\"float_{col}\" for col in remaining_float_features]\n",
        "\n",
        "print(\"One-hot cols:\", len(one_hot_cols))\n",
        "print(\"Range-based cols:\", len(range_based_cols))\n",
        "print(\"Quantile transform cols:\", len(quantile_transform_cols))\n",
        "print(\"Log transform cols:\", len(log_transform_cols))\n",
        "print(\"Float transform cols:\", len(float_transform_cols))\n",
        "\n",
        "# Combine column names\n",
        "columns = (list(one_hot_cols)\n",
        "           + list(range_based_cols)\n",
        "           + quantile_transform_cols\n",
        "           + log_transform_cols\n",
        "           + float_transform_cols)\n",
        "\n",
        "print(\"Total expected columns:\", len(columns))\n",
        "print(\"Actual columns in transformed dataset:\", X_transformed.shape[1])\n",
        "\n",
        "train_transformed = pd.DataFrame(X_transformed, columns=columns)"
      ],
      "metadata": {
        "colab": {
          "base_uri": "https://localhost:8080/"
        },
        "id": "p4J-NlNLUASG",
        "outputId": "dbd5fe9c-363a-4984-9a5a-33d9f88dbbe1"
      },
      "execution_count": 9,
      "outputs": [
        {
          "output_type": "stream",
          "name": "stdout",
          "text": [
            "One-hot cols: 82\n",
            "Range-based cols: 12\n",
            "Quantile transform cols: 6\n",
            "Log transform cols: 12\n",
            "Float transform cols: 64\n",
            "Total expected columns: 176\n",
            "Actual columns in transformed dataset: 176\n"
          ]
        }
      ]
    },
    {
      "cell_type": "code",
      "source": [
        "train_transformed.info()"
      ],
      "metadata": {
        "colab": {
          "base_uri": "https://localhost:8080/"
        },
        "id": "JqG700y9O7tU",
        "outputId": "5d7dd048-04da-4e93-be15-e4f47947a9e7"
      },
      "execution_count": 92,
      "outputs": [
        {
          "output_type": "stream",
          "name": "stdout",
          "text": [
            "<class 'pandas.core.frame.DataFrame'>\n",
            "RangeIndex: 40000 entries, 0 to 39999\n",
            "Columns: 176 entries, x33_Alabama to float_x41\n",
            "dtypes: float64(176)\n",
            "memory usage: 53.7 MB\n"
          ]
        }
      ]
    },
    {
      "cell_type": "code",
      "source": [
        "train_transformed.columns[train_transformed.isnull().sum() != 0]"
      ],
      "metadata": {
        "colab": {
          "base_uri": "https://localhost:8080/"
        },
        "id": "roiZtwsTPBtb",
        "outputId": "c4e049fb-10cd-413a-ec42-bcbcdd45221f"
      },
      "execution_count": 10,
      "outputs": [
        {
          "output_type": "execute_result",
          "data": {
            "text/plain": [
              "Index([], dtype='object')"
            ]
          },
          "metadata": {},
          "execution_count": 10
        }
      ]
    },
    {
      "cell_type": "markdown",
      "source": [
        "Split the processed training data into train & test sets."
      ],
      "metadata": {
        "id": "KCX24QEkOs-0"
      }
    },
    {
      "cell_type": "code",
      "source": [
        "X_train, X_test, y_train, y_test = train_test_split(X_transformed, train_labels, test_size=0.2, random_state=42)"
      ],
      "metadata": {
        "id": "Ng_rAuePexsU"
      },
      "execution_count": 11,
      "outputs": []
    },
    {
      "cell_type": "markdown",
      "source": [
        "Train a logistic regression model and output mean accuracy score."
      ],
      "metadata": {
        "id": "l3WQtHRwOyR0"
      }
    },
    {
      "cell_type": "code",
      "source": [
        "logistic_regression = LogisticRegression(max_iter=1000, random_state=42)\n",
        "logistic_regression.fit(X_train, y_train)\n",
        "\n",
        "logreg_train_score = logistic_regression.score(X_train, y_train)\n",
        "logreg_test_score = logistic_regression.score(X_test, y_test)\n",
        "\n",
        "print(f\"Logistic Regression train score: {logreg_train_score}\")\n",
        "print(f\"Logistic Regression test score: {logreg_test_score}\")"
      ],
      "metadata": {
        "colab": {
          "base_uri": "https://localhost:8080/"
        },
        "id": "O4QcSunSe9y7",
        "outputId": "047957d0-2a99-4f3d-b435-6511b6bb8096"
      },
      "execution_count": 12,
      "outputs": [
        {
          "output_type": "stream",
          "name": "stdout",
          "text": [
            "Logistic Regression train score: 0.8579375\n",
            "Logistic Regression test score: 0.858375\n"
          ]
        }
      ]
    },
    {
      "cell_type": "markdown",
      "source": [
        "Compare this accuracy with a logistic regression model trained on data pre-processed in a more naive fashion."
      ],
      "metadata": {
        "id": "U67MGDRDPPo0"
      }
    },
    {
      "cell_type": "code",
      "source": [
        "train = train_data.drop(\"y\", axis=1) # restore training data\n",
        "\n",
        "numeric_features = train.select_dtypes(include=[\"float64\"]).columns\n",
        "categorical_features = train.select_dtypes(include=[\"object\"]).columns\n",
        "\n",
        "numeric_transformer = Pipeline(steps=[\n",
        "    ('imputer', SimpleImputer(strategy='median')),\n",
        "    ('scaler', StandardScaler())])\n",
        "\n",
        "categorical_transformer = Pipeline(steps=[\n",
        "    ('imputer', SimpleImputer(strategy='most_frequent')),\n",
        "    ('onehot', OneHotEncoder(handle_unknown='ignore'))])\n",
        "\n",
        "simpler_preprocessor = ColumnTransformer(\n",
        "    transformers=[\n",
        "        ('num', numeric_transformer, numeric_features),\n",
        "        ('cat', categorical_transformer, categorical_features)])\n",
        "\n",
        "X_simpler_transformed = simpler_preprocessor.fit_transform(train)\n",
        "\n",
        "X_train_simpler, X_test_simpler, y_train_simpler, y_test_simpler = train_test_split(X_simpler_transformed, train_labels, test_size=0.2, random_state=42)\n"
      ],
      "metadata": {
        "id": "OhTIo1NbtgPq"
      },
      "execution_count": 13,
      "outputs": []
    },
    {
      "cell_type": "code",
      "source": [
        "logistic_regression_simpler = LogisticRegression(max_iter=1000, random_state=42)\n",
        "logistic_regression_simpler.fit(X_train_simpler, y_train_simpler)\n",
        "\n",
        "logreg_simpler_train_score = logistic_regression_simpler.score(X_train_simpler, y_train_simpler)\n",
        "logreg_simpler_test_score = logistic_regression_simpler.score(X_test_simpler, y_test_simpler)\n",
        "\n",
        "print(f\"Simpler Logistic Regression train score: {logreg_simpler_train_score}\")\n",
        "print(f\"Simpler Logistic Regression test score: {logreg_simpler_test_score}\")\n"
      ],
      "metadata": {
        "colab": {
          "base_uri": "https://localhost:8080/"
        },
        "id": "_BTYnr40toA5",
        "outputId": "1eb5ee0f-1697-43c1-9691-c1cc1b313965"
      },
      "execution_count": 14,
      "outputs": [
        {
          "output_type": "stream",
          "name": "stdout",
          "text": [
            "Simpler Logistic Regression train score: 0.8861875\n",
            "Simpler Logistic Regression test score: 0.860125\n"
          ]
        }
      ]
    },
    {
      "cell_type": "markdown",
      "source": [
        "The sophisticated preprocessing we did does not seem to matter when only looking at mean accuracy. Let's also see how a dummy classifier performs which just classifies every image as the most frequent class, which is 0. "
      ],
      "metadata": {
        "id": "Fj1fNBpXOlcM"
      }
    },
    {
      "cell_type": "code",
      "source": [
        "train_labels.value_counts()"
      ],
      "metadata": {
        "id": "T1oVHbrZO0d1",
        "outputId": "75369f5d-f3b2-4943-d9fe-0dc164132f52",
        "colab": {
          "base_uri": "https://localhost:8080/"
        }
      },
      "execution_count": 18,
      "outputs": [
        {
          "output_type": "execute_result",
          "data": {
            "text/plain": [
              "0    29991\n",
              "1     5110\n",
              "Name: y, dtype: int64"
            ]
          },
          "metadata": {},
          "execution_count": 18
        }
      ]
    },
    {
      "cell_type": "code",
      "source": [
        "dummy_clf = DummyClassifier()\n",
        "dummy_clf.fit(X_train, y_train)\n",
        "print(any(dummy_clf.predict(X_train))) # prints False: no 1s detected"
      ],
      "metadata": {
        "id": "SKM_zrBnOVEb",
        "outputId": "109e9478-8b11-4a6a-f04d-e7325e37545b",
        "colab": {
          "base_uri": "https://localhost:8080/"
        }
      },
      "execution_count": 15,
      "outputs": [
        {
          "output_type": "stream",
          "name": "stdout",
          "text": [
            "False\n"
          ]
        }
      ]
    },
    {
      "cell_type": "code",
      "source": [
        "dummy_acc = cross_val_score(dummy_clf, X_train, y_train, cv=3, scoring=\"accuracy\")\n",
        "log_reg_acc = cross_val_score(logistic_regression, X_train, y_train, cv=3, scoring=\"accuracy\")\n",
        "simpler_log_reg_acc = cross_val_score(logistic_regression_simpler, X_train_simpler, y_train_simpler, cv=3, scoring=\"accuracy\")\n",
        "print('Dummy classifier accuracy:', dummy_acc)\n",
        "print('Logistic Regression classifier accuracy:', log_reg_acc)\n",
        "print('Simpler Logistic Regression classifier accuracy:', simpler_log_reg_acc)"
      ],
      "metadata": {
        "id": "AXk48_niPOGI",
        "outputId": "d40501fd-2236-465a-b65f-7c8cf67e893b",
        "colab": {
          "base_uri": "https://localhost:8080/"
        }
      },
      "execution_count": 16,
      "outputs": [
        {
          "output_type": "stream",
          "name": "stdout",
          "text": [
            "Dummy classifier accuracy: [0.85422331 0.85412956 0.85420964]\n",
            "Logistic Regression classifier accuracy: [0.8544108  0.85703572 0.85908494]\n",
            "Simpler Logistic Regression classifier accuracy: [0.85459829 0.85319209 0.85758485]\n"
          ]
        }
      ]
    },
    {
      "cell_type": "markdown",
      "source": [
        "These models perform basically the same as the dummy classifier when looking only at accuracy. This is why accuracy is not a good metric for a binary classification problem. Let's shift our focus to the AUC metric and test another logistic regression model which uses stochastic gradient descent for optimization."
      ],
      "metadata": {
        "id": "X0c0IP39Pph-"
      }
    },
    {
      "cell_type": "markdown",
      "source": [
        "First, train the new logistic regression models."
      ],
      "metadata": {
        "id": "Fp0pJXqpQPS3"
      }
    },
    {
      "cell_type": "code",
      "source": [
        "sgd_log = SGDClassifier(loss='log_loss', random_state=42)\n",
        "sgd_log.fit(X_train, y_train)\n",
        "sgd_log_simpler = SGDClassifier(loss='log_loss', random_state=42)\n",
        "sgd_log_simpler.fit(X_train_simpler, y_train_simpler)"
      ],
      "metadata": {
        "colab": {
          "base_uri": "https://localhost:8080/",
          "height": 75
        },
        "id": "rFKjMgjFQBNA",
        "outputId": "d9a5b893-465e-4d19-94ec-32870dfa8c1a"
      },
      "execution_count": 17,
      "outputs": [
        {
          "output_type": "execute_result",
          "data": {
            "text/plain": [
              "SGDClassifier(loss='log_loss', random_state=42)"
            ],
            "text/html": [
              "<style>#sk-container-id-1 {color: black;background-color: white;}#sk-container-id-1 pre{padding: 0;}#sk-container-id-1 div.sk-toggleable {background-color: white;}#sk-container-id-1 label.sk-toggleable__label {cursor: pointer;display: block;width: 100%;margin-bottom: 0;padding: 0.3em;box-sizing: border-box;text-align: center;}#sk-container-id-1 label.sk-toggleable__label-arrow:before {content: \"▸\";float: left;margin-right: 0.25em;color: #696969;}#sk-container-id-1 label.sk-toggleable__label-arrow:hover:before {color: black;}#sk-container-id-1 div.sk-estimator:hover label.sk-toggleable__label-arrow:before {color: black;}#sk-container-id-1 div.sk-toggleable__content {max-height: 0;max-width: 0;overflow: hidden;text-align: left;background-color: #f0f8ff;}#sk-container-id-1 div.sk-toggleable__content pre {margin: 0.2em;color: black;border-radius: 0.25em;background-color: #f0f8ff;}#sk-container-id-1 input.sk-toggleable__control:checked~div.sk-toggleable__content {max-height: 200px;max-width: 100%;overflow: auto;}#sk-container-id-1 input.sk-toggleable__control:checked~label.sk-toggleable__label-arrow:before {content: \"▾\";}#sk-container-id-1 div.sk-estimator input.sk-toggleable__control:checked~label.sk-toggleable__label {background-color: #d4ebff;}#sk-container-id-1 div.sk-label input.sk-toggleable__control:checked~label.sk-toggleable__label {background-color: #d4ebff;}#sk-container-id-1 input.sk-hidden--visually {border: 0;clip: rect(1px 1px 1px 1px);clip: rect(1px, 1px, 1px, 1px);height: 1px;margin: -1px;overflow: hidden;padding: 0;position: absolute;width: 1px;}#sk-container-id-1 div.sk-estimator {font-family: monospace;background-color: #f0f8ff;border: 1px dotted black;border-radius: 0.25em;box-sizing: border-box;margin-bottom: 0.5em;}#sk-container-id-1 div.sk-estimator:hover {background-color: #d4ebff;}#sk-container-id-1 div.sk-parallel-item::after {content: \"\";width: 100%;border-bottom: 1px solid gray;flex-grow: 1;}#sk-container-id-1 div.sk-label:hover label.sk-toggleable__label {background-color: #d4ebff;}#sk-container-id-1 div.sk-serial::before {content: \"\";position: absolute;border-left: 1px solid gray;box-sizing: border-box;top: 0;bottom: 0;left: 50%;z-index: 0;}#sk-container-id-1 div.sk-serial {display: flex;flex-direction: column;align-items: center;background-color: white;padding-right: 0.2em;padding-left: 0.2em;position: relative;}#sk-container-id-1 div.sk-item {position: relative;z-index: 1;}#sk-container-id-1 div.sk-parallel {display: flex;align-items: stretch;justify-content: center;background-color: white;position: relative;}#sk-container-id-1 div.sk-item::before, #sk-container-id-1 div.sk-parallel-item::before {content: \"\";position: absolute;border-left: 1px solid gray;box-sizing: border-box;top: 0;bottom: 0;left: 50%;z-index: -1;}#sk-container-id-1 div.sk-parallel-item {display: flex;flex-direction: column;z-index: 1;position: relative;background-color: white;}#sk-container-id-1 div.sk-parallel-item:first-child::after {align-self: flex-end;width: 50%;}#sk-container-id-1 div.sk-parallel-item:last-child::after {align-self: flex-start;width: 50%;}#sk-container-id-1 div.sk-parallel-item:only-child::after {width: 0;}#sk-container-id-1 div.sk-dashed-wrapped {border: 1px dashed gray;margin: 0 0.4em 0.5em 0.4em;box-sizing: border-box;padding-bottom: 0.4em;background-color: white;}#sk-container-id-1 div.sk-label label {font-family: monospace;font-weight: bold;display: inline-block;line-height: 1.2em;}#sk-container-id-1 div.sk-label-container {text-align: center;}#sk-container-id-1 div.sk-container {/* jupyter's `normalize.less` sets `[hidden] { display: none; }` but bootstrap.min.css set `[hidden] { display: none !important; }` so we also need the `!important` here to be able to override the default hidden behavior on the sphinx rendered scikit-learn.org. See: https://github.com/scikit-learn/scikit-learn/issues/21755 */display: inline-block !important;position: relative;}#sk-container-id-1 div.sk-text-repr-fallback {display: none;}</style><div id=\"sk-container-id-1\" class=\"sk-top-container\"><div class=\"sk-text-repr-fallback\"><pre>SGDClassifier(loss=&#x27;log_loss&#x27;, random_state=42)</pre><b>In a Jupyter environment, please rerun this cell to show the HTML representation or trust the notebook. <br />On GitHub, the HTML representation is unable to render, please try loading this page with nbviewer.org.</b></div><div class=\"sk-container\" hidden><div class=\"sk-item\"><div class=\"sk-estimator sk-toggleable\"><input class=\"sk-toggleable__control sk-hidden--visually\" id=\"sk-estimator-id-1\" type=\"checkbox\" checked><label for=\"sk-estimator-id-1\" class=\"sk-toggleable__label sk-toggleable__label-arrow\">SGDClassifier</label><div class=\"sk-toggleable__content\"><pre>SGDClassifier(loss=&#x27;log_loss&#x27;, random_state=42)</pre></div></div></div></div></div>"
            ]
          },
          "metadata": {},
          "execution_count": 17
        }
      ]
    },
    {
      "cell_type": "code",
      "source": [
        "logreg_auc_train = roc_auc_score(y_train, logistic_regression.predict_proba(X_train)[:, 1])\n",
        "logreg_auc_test = roc_auc_score(y_test, logistic_regression.predict_proba(X_test)[:, 1])\n",
        "logreg_auc_train_simpler = roc_auc_score(y_train_simpler, logistic_regression_simpler.predict_proba(X_train_simpler)[:, 1])\n",
        "logreg_auc_test_simpler = roc_auc_score(y_test_simpler, logistic_regression_simpler.predict_proba(X_test_simpler)[:, 1])\n",
        "\n",
        "sgd_log_auc_train = roc_auc_score(y_train, sgd_log.predict_proba(X_train)[:, 1])\n",
        "sgd_log_auc_test = roc_auc_score(y_test, sgd_log.predict_proba(X_test)[:, 1])\n",
        "sgd_log_auc_train_simpler = roc_auc_score(y_train_simpler, sgd_log_simpler.predict_proba(X_train_simpler)[:, 1])\n",
        "sgd_log_auc_test_simpler = roc_auc_score(y_test_simpler, sgd_log_simpler.predict_proba(X_test_simpler)[:, 1])\n",
        "\n",
        "dummy_auc_train = roc_auc_score(y_train, dummy_clf.predict_proba(X_train)[:, 1])\n",
        "dummy_auc_test = roc_auc_score(y_test, dummy_clf.predict_proba(X_test)[:, 1])\n",
        "\n",
        "print(f\"Logistic Regression AUC train score: {logreg_auc_train}\")\n",
        "print(f\"Logistic Regression AUC test score: {logreg_auc_test}\")\n",
        "print(f\"Simpler Logistic Regression AUC train score: {logreg_auc_train_simpler}\")\n",
        "print(f\"Simpler Logistic Regression AUC test score: {logreg_auc_test_simpler}\")\n",
        "print(f\"SGDClassifier with log loss AUC train score: {sgd_log_auc_train}\")\n",
        "print(f\"SGDClassifier with log loss AUC test score: {sgd_log_auc_test}\")\n",
        "print(f\"Simpler SGDClassifier with log loss AUC train score: {sgd_log_auc_train_simpler}\")\n",
        "print(f\"Simpler SGDClassifier with log loss AUC test score: {sgd_log_auc_test_simpler}\")\n",
        "print(f\"Dummy Classifier AUC train score: {dummy_auc_train}\")\n",
        "print(f\"Dummy Classifier AUC test score: {dummy_auc_test}\")\n"
      ],
      "metadata": {
        "colab": {
          "base_uri": "https://localhost:8080/"
        },
        "id": "u4ynxctIQeAe",
        "outputId": "e00affa6-67ab-458c-c142-976118b63ee9"
      },
      "execution_count": 18,
      "outputs": [
        {
          "output_type": "stream",
          "name": "stdout",
          "text": [
            "Logistic Regression AUC train score: 0.758489354169098\n",
            "Logistic Regression AUC test score: 0.7531364892311917\n",
            "Simpler Logistic Regression AUC train score: 0.9344303991916478\n",
            "Simpler Logistic Regression AUC test score: 0.7513587640811863\n",
            "SGDClassifier with log loss AUC train score: 0.7418547170809597\n",
            "SGDClassifier with log loss AUC test score: 0.736119948262457\n",
            "Simpler SGDClassifier with log loss AUC train score: 0.808358946907853\n",
            "Simpler SGDClassifier with log loss AUC test score: 0.7239661365913683\n",
            "Dummy Classifier AUC train score: 0.5\n",
            "Dummy Classifier AUC test score: 0.5\n"
          ]
        }
      ]
    },
    {
      "cell_type": "markdown",
      "source": [
        "The simpler preprocessing step appears to be almost as effective as the sophisticated one according to the AUC metric. The SGDClassifier wasn't a better logistic regression optimizer in this case; perhaps because the dataset wasn't large enough to make a difference. The ineffectiveness of the dummy classifier is clear with an AUC score of 0.5, flagging it as a purely random classifier."
      ],
      "metadata": {
        "id": "3l86djRJTqzp"
      }
    },
    {
      "cell_type": "code",
      "source": [
        "# Calculate the ROC curves for all models\n",
        "fpr_logreg, tpr_logreg, _ = roc_curve(y_test, logistic_regression.predict_proba(X_test)[:, 1])\n",
        "roc_auc_logreg = auc(fpr_logreg, tpr_logreg)\n",
        "\n",
        "fpr_logreg_simpler, tpr_logreg_simpler, _ = roc_curve(y_test_simpler, logistic_regression_simpler.predict_proba(X_test_simpler)[:, 1])\n",
        "roc_auc_logreg_simpler = auc(fpr_logreg_simpler, tpr_logreg_simpler)\n",
        "\n",
        "fpr_sgd_log, tpr_sgd_log, _ = roc_curve(y_test, sgd_log.predict_proba(X_test)[:, 1])\n",
        "roc_auc_sgd_log = auc(fpr_sgd_log, tpr_sgd_log)\n",
        "\n",
        "fpr_sgd_log_simpler, tpr_sgd_log_simpler, _ = roc_curve(y_test_simpler, sgd_log_simpler.predict_proba(X_test_simpler)[:, 1])\n",
        "roc_auc_sgd_log_simpler = auc(fpr_sgd_log_simpler, tpr_sgd_log_simpler)\n",
        "\n",
        "# Plot the ROC curves\n",
        "plt.figure(figsize=(10, 6))\n",
        "plt.plot(fpr_logreg, tpr_logreg, label=f'Logistic Regression (AUC = {roc_auc_logreg:.2f})')\n",
        "plt.plot(fpr_logreg_simpler, tpr_logreg_simpler, label=f'Simpler Logistic Regression (AUC = {roc_auc_logreg_simpler:.2f})')\n",
        "plt.plot(fpr_sgd_log, tpr_sgd_log, label=f'SGDClassifier with log loss (AUC = {roc_auc_sgd_log:.2f})')\n",
        "plt.plot(fpr_sgd_log_simpler, tpr_sgd_log_simpler, label=f'Simpler SGDClassifier with log loss (AUC = {roc_auc_sgd_log_simpler:.2f})')\n",
        "\n",
        "plt.plot([0, 1], [0, 1], 'k--')\n",
        "plt.xlim([0.0, 1.0])\n",
        "plt.ylim([0.0, 1.05])\n",
        "plt.xlabel('False Positive Rate')\n",
        "plt.ylabel('True Positive Rate')\n",
        "plt.title('Receiver Operating Characteristic (ROC) Curves')\n",
        "plt.legend(loc=\"lower right\")\n",
        "plt.show()"
      ],
      "metadata": {
        "colab": {
          "base_uri": "https://localhost:8080/",
          "height": 404
        },
        "id": "-igVh8GcUQqR",
        "outputId": "ec4c2417-444b-4b7b-f8a8-99f33a909d80"
      },
      "execution_count": 19,
      "outputs": [
        {
          "output_type": "display_data",
          "data": {
            "text/plain": [
              "<Figure size 720x432 with 1 Axes>"
            ],
            "image/png": "[encoded data removed]"
          },
          "metadata": {
            "needs_background": "light"
          }
        }
      ]
    },
    {
      "cell_type": "markdown",
      "source": [
        "Let's try hyperparameter tuning to see whether there's a preprocessing/training combination of parameters that increases the AUC metric."
      ],
      "metadata": {
        "id": "jFq2VYEeWLax"
      }
    },
    {
      "cell_type": "code",
      "source": [
        "full_pipeline = Pipeline([\n",
        "    (\"preprocessing\", preprocessor),\n",
        "    (\"log_reg\", LogisticRegression(max_iter=1000, random_state=42)),\n",
        "])\n",
        "\n",
        "param_grid = [\n",
        "    {\n",
        "        'preprocessing__range_based__imputer__strategy': ['median', 'mean', 'most_frequent'],\n",
        "        'preprocessing__float_transform__imputer__strategy': ['median', 'mean', 'most_frequent'],\n",
        "        'log_reg__C': [0.1, 1, 10],\n",
        "        'log_reg__penalty': ['l1', 'l2'],\n",
        "        'log_reg__solver': ['newton-cg', 'lbfgs', 'liblinear', 'sag', 'saga']\n",
        "    },\n",
        "]\n",
        "\n",
        "# Use 'roc_auc' as the scoring metric\n",
        "grid_search = GridSearchCV(full_pipeline, param_grid, cv=3, scoring='roc_auc', refit=True)\n",
        "grid_search.fit(train, train_labels)\n"
      ],
      "metadata": {
        "colab": {
          "base_uri": "https://localhost:8080/",
          "height": 1000
        },
        "id": "nyxdMTCCyi-A",
        "outputId": "45550bb9-8c35-46ec-e363-5b52c52f9d9c"
      },
      "execution_count": 37,
      "outputs": [
        {
          "output_type": "stream",
          "name": "stderr",
          "text": [
            "/usr/local/lib/python3.9/dist-packages/sklearn/linear_model/_sag.py:350: ConvergenceWarning: The max_iter was reached which means the coef_ did not converge\n",
            "  warnings.warn(\n",
            "/usr/local/lib/python3.9/dist-packages/sklearn/linear_model/_sag.py:350: ConvergenceWarning: The max_iter was reached which means the coef_ did not converge\n",
            "  warnings.warn(\n",
            "/usr/local/lib/python3.9/dist-packages/sklearn/linear_model/_sag.py:350: ConvergenceWarning: The max_iter was reached which means the coef_ did not converge\n",
            "  warnings.warn(\n",
            "/usr/local/lib/python3.9/dist-packages/sklearn/linear_model/_sag.py:350: ConvergenceWarning: The max_iter was reached which means the coef_ did not converge\n",
            "  warnings.warn(\n",
            "/usr/local/lib/python3.9/dist-packages/sklearn/linear_model/_sag.py:350: ConvergenceWarning: The max_iter was reached which means the coef_ did not converge\n",
            "  warnings.warn(\n",
            "/usr/local/lib/python3.9/dist-packages/sklearn/linear_model/_sag.py:350: ConvergenceWarning: The max_iter was reached which means the coef_ did not converge\n",
            "  warnings.warn(\n",
            "/usr/local/lib/python3.9/dist-packages/sklearn/linear_model/_sag.py:350: ConvergenceWarning: The max_iter was reached which means the coef_ did not converge\n",
            "  warnings.warn(\n",
            "/usr/local/lib/python3.9/dist-packages/sklearn/linear_model/_sag.py:350: ConvergenceWarning: The max_iter was reached which means the coef_ did not converge\n",
            "  warnings.warn(\n",
            "/usr/local/lib/python3.9/dist-packages/sklearn/linear_model/_sag.py:350: ConvergenceWarning: The max_iter was reached which means the coef_ did not converge\n",
            "  warnings.warn(\n",
            "/usr/local/lib/python3.9/dist-packages/sklearn/linear_model/_sag.py:350: ConvergenceWarning: The max_iter was reached which means the coef_ did not converge\n",
            "  warnings.warn(\n",
            "/usr/local/lib/python3.9/dist-packages/sklearn/linear_model/_sag.py:350: ConvergenceWarning: The max_iter was reached which means the coef_ did not converge\n",
            "  warnings.warn(\n",
            "/usr/local/lib/python3.9/dist-packages/sklearn/linear_model/_sag.py:350: ConvergenceWarning: The max_iter was reached which means the coef_ did not converge\n",
            "  warnings.warn(\n",
            "/usr/local/lib/python3.9/dist-packages/sklearn/linear_model/_sag.py:350: ConvergenceWarning: The max_iter was reached which means the coef_ did not converge\n",
            "  warnings.warn(\n",
            "/usr/local/lib/python3.9/dist-packages/sklearn/model_selection/_validation.py:378: FitFailedWarning: \n",
            "243 fits failed out of a total of 810.\n",
            "The score on these train-test partitions for these parameters will be set to nan.\n",
            "If these failures are not expected, you can try to debug them by setting error_score='raise'.\n",
            "\n",
            "Below are more details about the failures:\n",
            "--------------------------------------------------------------------------------\n",
            "81 fits failed with the following error:\n",
            "Traceback (most recent call last):\n",
            "  File \"/usr/local/lib/python3.9/dist-packages/sklearn/model_selection/_validation.py\", line 686, in _fit_and_score\n",
            "    estimator.fit(X_train, y_train, **fit_params)\n",
            "  File \"/usr/local/lib/python3.9/dist-packages/sklearn/pipeline.py\", line 405, in fit\n",
            "    self._final_estimator.fit(Xt, y, **fit_params_last_step)\n",
            "  File \"/usr/local/lib/python3.9/dist-packages/sklearn/linear_model/_logistic.py\", line 1162, in fit\n",
            "    solver = _check_solver(self.solver, self.penalty, self.dual)\n",
            "  File \"/usr/local/lib/python3.9/dist-packages/sklearn/linear_model/_logistic.py\", line 54, in _check_solver\n",
            "    raise ValueError(\n",
            "ValueError: Solver newton-cg supports only 'l2' or 'none' penalties, got l1 penalty.\n",
            "\n",
            "--------------------------------------------------------------------------------\n",
            "81 fits failed with the following error:\n",
            "Traceback (most recent call last):\n",
            "  File \"/usr/local/lib/python3.9/dist-packages/sklearn/model_selection/_validation.py\", line 686, in _fit_and_score\n",
            "    estimator.fit(X_train, y_train, **fit_params)\n",
            "  File \"/usr/local/lib/python3.9/dist-packages/sklearn/pipeline.py\", line 405, in fit\n",
            "    self._final_estimator.fit(Xt, y, **fit_params_last_step)\n",
            "  File \"/usr/local/lib/python3.9/dist-packages/sklearn/linear_model/_logistic.py\", line 1162, in fit\n",
            "    solver = _check_solver(self.solver, self.penalty, self.dual)\n",
            "  File \"/usr/local/lib/python3.9/dist-packages/sklearn/linear_model/_logistic.py\", line 54, in _check_solver\n",
            "    raise ValueError(\n",
            "ValueError: Solver lbfgs supports only 'l2' or 'none' penalties, got l1 penalty.\n",
            "\n",
            "--------------------------------------------------------------------------------\n",
            "81 fits failed with the following error:\n",
            "Traceback (most recent call last):\n",
            "  File \"/usr/local/lib/python3.9/dist-packages/sklearn/model_selection/_validation.py\", line 686, in _fit_and_score\n",
            "    estimator.fit(X_train, y_train, **fit_params)\n",
            "  File \"/usr/local/lib/python3.9/dist-packages/sklearn/pipeline.py\", line 405, in fit\n",
            "    self._final_estimator.fit(Xt, y, **fit_params_last_step)\n",
            "  File \"/usr/local/lib/python3.9/dist-packages/sklearn/linear_model/_logistic.py\", line 1162, in fit\n",
            "    solver = _check_solver(self.solver, self.penalty, self.dual)\n",
            "  File \"/usr/local/lib/python3.9/dist-packages/sklearn/linear_model/_logistic.py\", line 54, in _check_solver\n",
            "    raise ValueError(\n",
            "ValueError: Solver sag supports only 'l2' or 'none' penalties, got l1 penalty.\n",
            "\n",
            "  warnings.warn(some_fits_failed_message, FitFailedWarning)\n",
            "/usr/local/lib/python3.9/dist-packages/sklearn/model_selection/_search.py:952: UserWarning: One or more of the test scores are non-finite: [       nan        nan        nan        nan        nan        nan\n",
            "        nan        nan        nan        nan        nan        nan\n",
            "        nan        nan        nan        nan        nan        nan\n",
            " 0.7321691  0.73207604 0.732156   0.73220012 0.7321191  0.73221815\n",
            " 0.73212541 0.73207127 0.73216154        nan        nan        nan\n",
            "        nan        nan        nan        nan        nan        nan\n",
            " 0.73234733 0.73230491 0.73238577 0.73238016 0.73234286 0.73237641\n",
            " 0.73241886 0.73235574 0.73241636 0.73299832 0.73301771 0.73300285\n",
            " 0.73298827 0.7330304  0.73299539 0.73357101 0.73357413 0.73357611\n",
            " 0.73301392 0.73300951 0.73302828 0.73297092 0.73302087 0.73297189\n",
            " 0.73359249 0.73355669 0.73356754 0.73286313 0.73282452 0.73286351\n",
            " 0.7328878  0.73281384 0.73284915 0.73345433 0.73342675 0.7334446\n",
            " 0.73298251 0.73301693 0.73301036 0.73298808 0.73302471 0.73299993\n",
            " 0.73358084 0.7335883  0.73355895 0.73300449 0.73300653 0.73299909\n",
            " 0.73297101 0.73301924 0.73298576 0.73356368 0.73357076 0.73355683\n",
            "        nan        nan        nan        nan        nan        nan\n",
            "        nan        nan        nan        nan        nan        nan\n",
            "        nan        nan        nan        nan        nan        nan\n",
            " 0.73286071 0.73291659 0.73285155 0.73281595 0.73288429 0.73280497\n",
            " 0.73343375 0.73350787 0.73341196        nan        nan        nan\n",
            "        nan        nan        nan        nan        nan        nan\n",
            " 0.73297982 0.7330144  0.73297982 0.73297151 0.7330113  0.73296621\n",
            " 0.73357936 0.73364219 0.73356952 0.73193275 0.73205265 0.73190355\n",
            " 0.73190932 0.73201987 0.73188638 0.7325552  0.73268851 0.73254403\n",
            " 0.73194095 0.7321016  0.73190567 0.73187635 0.73202508 0.73190518\n",
            " 0.73254025 0.73274157 0.73256484 0.73189989 0.73208569 0.73189362\n",
            " 0.73189563 0.73203663 0.73186855 0.73253844 0.732646   0.732542\n",
            " 0.7319205  0.73206874 0.73192676 0.73188812 0.73206469 0.73187663\n",
            " 0.73255047 0.7326754  0.73254546 0.73192051 0.73209892 0.73193553\n",
            " 0.73192107 0.73201947 0.73190181 0.7325469  0.73267404 0.73255558\n",
            "        nan        nan        nan        nan        nan        nan\n",
            "        nan        nan        nan        nan        nan        nan\n",
            "        nan        nan        nan        nan        nan        nan\n",
            " 0.73161668 0.73175112 0.73161176 0.73160393 0.73175024 0.73159603\n",
            " 0.73223797 0.7323173  0.73222091        nan        nan        nan\n",
            "        nan        nan        nan        nan        nan        nan\n",
            " 0.73165637 0.73178756 0.73165156 0.73159757 0.73174657 0.7316126\n",
            " 0.73227797 0.73236992 0.73223422 0.73151745 0.73168515 0.73152506\n",
            " 0.73150577 0.73165036 0.73147607 0.73212699 0.73223416 0.73214712\n",
            " 0.73154877 0.73167841 0.7315347  0.73148283 0.73166597 0.73150952\n",
            " 0.73212977 0.73224873 0.73212727 0.73153027 0.7316787  0.73151562\n",
            " 0.73148205 0.73165875 0.7314863  0.73212727 0.7322044  0.73214521\n",
            " 0.73156131 0.7316814  0.73151446 0.73149372 0.73166617 0.73150644\n",
            " 0.73214047 0.73225729 0.73215445 0.73153316 0.7316841  0.73154675\n",
            " 0.7314726  0.73164525 0.73148225 0.73216205 0.73223734 0.73213489]\n",
            "  warnings.warn(\n"
          ]
        },
        {
          "output_type": "execute_result",
          "data": {
            "text/plain": [
              "GridSearchCV(cv=3,\n",
              "             estimator=Pipeline(steps=[('preprocessing',\n",
              "                                        ColumnTransformer(transformers=[('one_hot',\n",
              "                                                                         Pipeline(steps=[('imputer',\n",
              "                                                                                          SimpleImputer(strategy='most_frequent')),\n",
              "                                                                                         ('one_hot',\n",
              "                                                                                          OneHotEncoder())]),\n",
              "                                                                         ['x33',\n",
              "                                                                          'x77',\n",
              "                                                                          'x3',\n",
              "                                                                          'x60',\n",
              "                                                                          'x65']),\n",
              "                                                                        ('range_based',\n",
              "                                                                         Pipeline(steps=[('imputer',\n",
              "                                                                                          SimpleImputer(strategy='median')),\n",
              "                                                                                         ('custom_discretizer',\n",
              "                                                                                          FunctionTransforme...\n",
              "                                        LogisticRegression(max_iter=1000,\n",
              "                                                           random_state=42))]),\n",
              "             param_grid=[{'log_reg__C': [0.1, 1, 10],\n",
              "                          'log_reg__penalty': ['l1', 'l2'],\n",
              "                          'log_reg__solver': ['newton-cg', 'lbfgs', 'liblinear',\n",
              "                                              'sag', 'saga'],\n",
              "                          'preprocessing__float_transform__imputer__strategy': ['median',\n",
              "                                                                                'mean',\n",
              "                                                                                'most_frequent'],\n",
              "                          'preprocessing__range_based__imputer__strategy': ['median',\n",
              "                                                                            'mean',\n",
              "                                                                            'most_frequent']}],\n",
              "             scoring='roc_auc')"
            ],
            "text/html": [
              "<style>#sk-container-id-4 {color: black;background-color: white;}#sk-container-id-4 pre{padding: 0;}#sk-container-id-4 div.sk-toggleable {background-color: white;}#sk-container-id-4 label.sk-toggleable__label {cursor: pointer;display: block;width: 100%;margin-bottom: 0;padding: 0.3em;box-sizing: border-box;text-align: center;}#sk-container-id-4 label.sk-toggleable__label-arrow:before {content: \"▸\";float: left;margin-right: 0.25em;color: #696969;}#sk-container-id-4 label.sk-toggleable__label-arrow:hover:before {color: black;}#sk-container-id-4 div.sk-estimator:hover label.sk-toggleable__label-arrow:before {color: black;}#sk-container-id-4 div.sk-toggleable__content {max-height: 0;max-width: 0;overflow: hidden;text-align: left;background-color: #f0f8ff;}#sk-container-id-4 div.sk-toggleable__content pre {margin: 0.2em;color: black;border-radius: 0.25em;background-color: #f0f8ff;}#sk-container-id-4 input.sk-toggleable__control:checked~div.sk-toggleable__content {max-height: 200px;max-width: 100%;overflow: auto;}#sk-container-id-4 input.sk-toggleable__control:checked~label.sk-toggleable__label-arrow:before {content: \"▾\";}#sk-container-id-4 div.sk-estimator input.sk-toggleable__control:checked~label.sk-toggleable__label {background-color: #d4ebff;}#sk-container-id-4 div.sk-label input.sk-toggleable__control:checked~label.sk-toggleable__label {background-color: #d4ebff;}#sk-container-id-4 input.sk-hidden--visually {border: 0;clip: rect(1px 1px 1px 1px);clip: rect(1px, 1px, 1px, 1px);height: 1px;margin: -1px;overflow: hidden;padding: 0;position: absolute;width: 1px;}#sk-container-id-4 div.sk-estimator {font-family: monospace;background-color: #f0f8ff;border: 1px dotted black;border-radius: 0.25em;box-sizing: border-box;margin-bottom: 0.5em;}#sk-container-id-4 div.sk-estimator:hover {background-color: #d4ebff;}#sk-container-id-4 div.sk-parallel-item::after {content: \"\";width: 100%;border-bottom: 1px solid gray;flex-grow: 1;}#sk-container-id-4 div.sk-label:hover label.sk-toggleable__label {background-color: #d4ebff;}#sk-container-id-4 div.sk-serial::before {content: \"\";position: absolute;border-left: 1px solid gray;box-sizing: border-box;top: 0;bottom: 0;left: 50%;z-index: 0;}#sk-container-id-4 div.sk-serial {display: flex;flex-direction: column;align-items: center;background-color: white;padding-right: 0.2em;padding-left: 0.2em;position: relative;}#sk-container-id-4 div.sk-item {position: relative;z-index: 1;}#sk-container-id-4 div.sk-parallel {display: flex;align-items: stretch;justify-content: center;background-color: white;position: relative;}#sk-container-id-4 div.sk-item::before, #sk-container-id-4 div.sk-parallel-item::before {content: \"\";position: absolute;border-left: 1px solid gray;box-sizing: border-box;top: 0;bottom: 0;left: 50%;z-index: -1;}#sk-container-id-4 div.sk-parallel-item {display: flex;flex-direction: column;z-index: 1;position: relative;background-color: white;}#sk-container-id-4 div.sk-parallel-item:first-child::after {align-self: flex-end;width: 50%;}#sk-container-id-4 div.sk-parallel-item:last-child::after {align-self: flex-start;width: 50%;}#sk-container-id-4 div.sk-parallel-item:only-child::after {width: 0;}#sk-container-id-4 div.sk-dashed-wrapped {border: 1px dashed gray;margin: 0 0.4em 0.5em 0.4em;box-sizing: border-box;padding-bottom: 0.4em;background-color: white;}#sk-container-id-4 div.sk-label label {font-family: monospace;font-weight: bold;display: inline-block;line-height: 1.2em;}#sk-container-id-4 div.sk-label-container {text-align: center;}#sk-container-id-4 div.sk-container {/* jupyter's `normalize.less` sets `[hidden] { display: none; }` but bootstrap.min.css set `[hidden] { display: none !important; }` so we also need the `!important` here to be able to override the default hidden behavior on the sphinx rendered scikit-learn.org. See: https://github.com/scikit-learn/scikit-learn/issues/21755 */display: inline-block !important;position: relative;}#sk-container-id-4 div.sk-text-repr-fallback {display: none;}</style><div id=\"sk-container-id-4\" class=\"sk-top-container\"><div class=\"sk-text-repr-fallback\"><pre>GridSearchCV(cv=3,\n",
              "             estimator=Pipeline(steps=[(&#x27;preprocessing&#x27;,\n",
              "                                        ColumnTransformer(transformers=[(&#x27;one_hot&#x27;,\n",
              "                                                                         Pipeline(steps=[(&#x27;imputer&#x27;,\n",
              "                                                                                          SimpleImputer(strategy=&#x27;most_frequent&#x27;)),\n",
              "                                                                                         (&#x27;one_hot&#x27;,\n",
              "                                                                                          OneHotEncoder())]),\n",
              "                                                                         [&#x27;x33&#x27;,\n",
              "                                                                          &#x27;x77&#x27;,\n",
              "                                                                          &#x27;x3&#x27;,\n",
              "                                                                          &#x27;x60&#x27;,\n",
              "                                                                          &#x27;x65&#x27;]),\n",
              "                                                                        (&#x27;range_based&#x27;,\n",
              "                                                                         Pipeline(steps=[(&#x27;imputer&#x27;,\n",
              "                                                                                          SimpleImputer(strategy=&#x27;median&#x27;)),\n",
              "                                                                                         (&#x27;custom_discretizer&#x27;,\n",
              "                                                                                          FunctionTransforme...\n",
              "                                        LogisticRegression(max_iter=1000,\n",
              "                                                           random_state=42))]),\n",
              "             param_grid=[{&#x27;log_reg__C&#x27;: [0.1, 1, 10],\n",
              "                          &#x27;log_reg__penalty&#x27;: [&#x27;l1&#x27;, &#x27;l2&#x27;],\n",
              "                          &#x27;log_reg__solver&#x27;: [&#x27;newton-cg&#x27;, &#x27;lbfgs&#x27;, &#x27;liblinear&#x27;,\n",
              "                                              &#x27;sag&#x27;, &#x27;saga&#x27;],\n",
              "                          &#x27;preprocessing__float_transform__imputer__strategy&#x27;: [&#x27;median&#x27;,\n",
              "                                                                                &#x27;mean&#x27;,\n",
              "                                                                                &#x27;most_frequent&#x27;],\n",
              "                          &#x27;preprocessing__range_based__imputer__strategy&#x27;: [&#x27;median&#x27;,\n",
              "                                                                            &#x27;mean&#x27;,\n",
              "                                                                            &#x27;most_frequent&#x27;]}],\n",
              "             scoring=&#x27;roc_auc&#x27;)</pre><b>In a Jupyter environment, please rerun this cell to show the HTML representation or trust the notebook. <br />On GitHub, the HTML representation is unable to render, please try loading this page with nbviewer.org.</b></div><div class=\"sk-container\" hidden><div class=\"sk-item sk-dashed-wrapped\"><div class=\"sk-label-container\"><div class=\"sk-label sk-toggleable\"><input class=\"sk-toggleable__control sk-hidden--visually\" id=\"sk-estimator-id-43\" type=\"checkbox\" ><label for=\"sk-estimator-id-43\" class=\"sk-toggleable__label sk-toggleable__label-arrow\">GridSearchCV</label><div class=\"sk-toggleable__content\"><pre>GridSearchCV(cv=3,\n",
              "             estimator=Pipeline(steps=[(&#x27;preprocessing&#x27;,\n",
              "                                        ColumnTransformer(transformers=[(&#x27;one_hot&#x27;,\n",
              "                                                                         Pipeline(steps=[(&#x27;imputer&#x27;,\n",
              "                                                                                          SimpleImputer(strategy=&#x27;most_frequent&#x27;)),\n",
              "                                                                                         (&#x27;one_hot&#x27;,\n",
              "                                                                                          OneHotEncoder())]),\n",
              "                                                                         [&#x27;x33&#x27;,\n",
              "                                                                          &#x27;x77&#x27;,\n",
              "                                                                          &#x27;x3&#x27;,\n",
              "                                                                          &#x27;x60&#x27;,\n",
              "                                                                          &#x27;x65&#x27;]),\n",
              "                                                                        (&#x27;range_based&#x27;,\n",
              "                                                                         Pipeline(steps=[(&#x27;imputer&#x27;,\n",
              "                                                                                          SimpleImputer(strategy=&#x27;median&#x27;)),\n",
              "                                                                                         (&#x27;custom_discretizer&#x27;,\n",
              "                                                                                          FunctionTransforme...\n",
              "                                        LogisticRegression(max_iter=1000,\n",
              "                                                           random_state=42))]),\n",
              "             param_grid=[{&#x27;log_reg__C&#x27;: [0.1, 1, 10],\n",
              "                          &#x27;log_reg__penalty&#x27;: [&#x27;l1&#x27;, &#x27;l2&#x27;],\n",
              "                          &#x27;log_reg__solver&#x27;: [&#x27;newton-cg&#x27;, &#x27;lbfgs&#x27;, &#x27;liblinear&#x27;,\n",
              "                                              &#x27;sag&#x27;, &#x27;saga&#x27;],\n",
              "                          &#x27;preprocessing__float_transform__imputer__strategy&#x27;: [&#x27;median&#x27;,\n",
              "                                                                                &#x27;mean&#x27;,\n",
              "                                                                                &#x27;most_frequent&#x27;],\n",
              "                          &#x27;preprocessing__range_based__imputer__strategy&#x27;: [&#x27;median&#x27;,\n",
              "                                                                            &#x27;mean&#x27;,\n",
              "                                                                            &#x27;most_frequent&#x27;]}],\n",
              "             scoring=&#x27;roc_auc&#x27;)</pre></div></div></div><div class=\"sk-parallel\"><div class=\"sk-parallel-item\"><div class=\"sk-item\"><div class=\"sk-label-container\"><div class=\"sk-label sk-toggleable\"><input class=\"sk-toggleable__control sk-hidden--visually\" id=\"sk-estimator-id-44\" type=\"checkbox\" ><label for=\"sk-estimator-id-44\" class=\"sk-toggleable__label sk-toggleable__label-arrow\">estimator: Pipeline</label><div class=\"sk-toggleable__content\"><pre>Pipeline(steps=[(&#x27;preprocessing&#x27;,\n",
              "                 ColumnTransformer(transformers=[(&#x27;one_hot&#x27;,\n",
              "                                                  Pipeline(steps=[(&#x27;imputer&#x27;,\n",
              "                                                                   SimpleImputer(strategy=&#x27;most_frequent&#x27;)),\n",
              "                                                                  (&#x27;one_hot&#x27;,\n",
              "                                                                   OneHotEncoder())]),\n",
              "                                                  [&#x27;x33&#x27;, &#x27;x77&#x27;, &#x27;x3&#x27;, &#x27;x60&#x27;,\n",
              "                                                   &#x27;x65&#x27;]),\n",
              "                                                 (&#x27;range_based&#x27;,\n",
              "                                                  Pipeline(steps=[(&#x27;imputer&#x27;,\n",
              "                                                                   SimpleImputer(strategy=&#x27;median&#x27;)),\n",
              "                                                                  (&#x27;custom_discretizer&#x27;,\n",
              "                                                                   FunctionTransformer(func=&lt;function custom_discr...\n",
              "                                                  Pipeline(steps=[(&#x27;imputer&#x27;,\n",
              "                                                                   SimpleImputer(strategy=&#x27;median&#x27;)),\n",
              "                                                                  (&#x27;standard_scaler&#x27;,\n",
              "                                                                   StandardScaler())]),\n",
              "                                                  [&#x27;x23&#x27;, &#x27;x78&#x27;, &#x27;x94&#x27;, &#x27;x20&#x27;,\n",
              "                                                   &#x27;x49&#x27;, &#x27;x63&#x27;, &#x27;x1&#x27;, &#x27;x54&#x27;,\n",
              "                                                   &#x27;x91&#x27;, &#x27;x6&#x27;, &#x27;x52&#x27;, &#x27;x68&#x27;,\n",
              "                                                   &#x27;x66&#x27;, &#x27;x27&#x27;, &#x27;x35&#x27;, &#x27;x97&#x27;,\n",
              "                                                   &#x27;x41&#x27;, &#x27;x4&#x27;, &#x27;x87&#x27;, &#x27;x22&#x27;,\n",
              "                                                   &#x27;x81&#x27;, &#x27;x95&#x27;, &#x27;x15&#x27;, &#x27;x2&#x27;,\n",
              "                                                   &#x27;x26&#x27;, &#x27;x50&#x27;, &#x27;x34&#x27;, &#x27;x80&#x27;,\n",
              "                                                   &#x27;x100&#x27;, &#x27;x62&#x27;, ...])])),\n",
              "                (&#x27;log_reg&#x27;,\n",
              "                 LogisticRegression(max_iter=1000, random_state=42))])</pre></div></div></div><div class=\"sk-serial\"><div class=\"sk-item\"><div class=\"sk-serial\"><div class=\"sk-item sk-dashed-wrapped\"><div class=\"sk-label-container\"><div class=\"sk-label sk-toggleable\"><input class=\"sk-toggleable__control sk-hidden--visually\" id=\"sk-estimator-id-45\" type=\"checkbox\" ><label for=\"sk-estimator-id-45\" class=\"sk-toggleable__label sk-toggleable__label-arrow\">preprocessing: ColumnTransformer</label><div class=\"sk-toggleable__content\"><pre>ColumnTransformer(transformers=[(&#x27;one_hot&#x27;,\n",
              "                                 Pipeline(steps=[(&#x27;imputer&#x27;,\n",
              "                                                  SimpleImputer(strategy=&#x27;most_frequent&#x27;)),\n",
              "                                                 (&#x27;one_hot&#x27;, OneHotEncoder())]),\n",
              "                                 [&#x27;x33&#x27;, &#x27;x77&#x27;, &#x27;x3&#x27;, &#x27;x60&#x27;, &#x27;x65&#x27;]),\n",
              "                                (&#x27;range_based&#x27;,\n",
              "                                 Pipeline(steps=[(&#x27;imputer&#x27;,\n",
              "                                                  SimpleImputer(strategy=&#x27;median&#x27;)),\n",
              "                                                 (&#x27;custom_discretizer&#x27;,\n",
              "                                                  FunctionTransformer(func=&lt;function custom_discretizer at 0x7f2c86f24f70&gt;,\n",
              "                                                                      validate=...\n",
              "                                 [&#x27;x14&#x27;, &#x27;x16&#x27;, &#x27;x21&#x27;, &#x27;x42&#x27;, &#x27;x45&#x27;, &#x27;x55&#x27;,\n",
              "                                  &#x27;x70&#x27;, &#x27;x73&#x27;, &#x27;x75&#x27;, &#x27;x82&#x27;, &#x27;x89&#x27;, &#x27;x96&#x27;]),\n",
              "                                (&#x27;float_transform&#x27;,\n",
              "                                 Pipeline(steps=[(&#x27;imputer&#x27;,\n",
              "                                                  SimpleImputer(strategy=&#x27;median&#x27;)),\n",
              "                                                 (&#x27;standard_scaler&#x27;,\n",
              "                                                  StandardScaler())]),\n",
              "                                 [&#x27;x23&#x27;, &#x27;x78&#x27;, &#x27;x94&#x27;, &#x27;x20&#x27;, &#x27;x49&#x27;, &#x27;x63&#x27;,\n",
              "                                  &#x27;x1&#x27;, &#x27;x54&#x27;, &#x27;x91&#x27;, &#x27;x6&#x27;, &#x27;x52&#x27;, &#x27;x68&#x27;, &#x27;x66&#x27;,\n",
              "                                  &#x27;x27&#x27;, &#x27;x35&#x27;, &#x27;x97&#x27;, &#x27;x41&#x27;, &#x27;x4&#x27;, &#x27;x87&#x27;,\n",
              "                                  &#x27;x22&#x27;, &#x27;x81&#x27;, &#x27;x95&#x27;, &#x27;x15&#x27;, &#x27;x2&#x27;, &#x27;x26&#x27;,\n",
              "                                  &#x27;x50&#x27;, &#x27;x34&#x27;, &#x27;x80&#x27;, &#x27;x100&#x27;, &#x27;x62&#x27;, ...])])</pre></div></div></div><div class=\"sk-parallel\"><div class=\"sk-parallel-item\"><div class=\"sk-item\"><div class=\"sk-label-container\"><div class=\"sk-label sk-toggleable\"><input class=\"sk-toggleable__control sk-hidden--visually\" id=\"sk-estimator-id-46\" type=\"checkbox\" ><label for=\"sk-estimator-id-46\" class=\"sk-toggleable__label sk-toggleable__label-arrow\">one_hot</label><div class=\"sk-toggleable__content\"><pre>[&#x27;x33&#x27;, &#x27;x77&#x27;, &#x27;x3&#x27;, &#x27;x60&#x27;, &#x27;x65&#x27;]</pre></div></div></div><div class=\"sk-serial\"><div class=\"sk-item\"><div class=\"sk-serial\"><div class=\"sk-item\"><div class=\"sk-estimator sk-toggleable\"><input class=\"sk-toggleable__control sk-hidden--visually\" id=\"sk-estimator-id-47\" type=\"checkbox\" ><label for=\"sk-estimator-id-47\" class=\"sk-toggleable__label sk-toggleable__label-arrow\">SimpleImputer</label><div class=\"sk-toggleable__content\"><pre>SimpleImputer(strategy=&#x27;most_frequent&#x27;)</pre></div></div></div><div class=\"sk-item\"><div class=\"sk-estimator sk-toggleable\"><input class=\"sk-toggleable__control sk-hidden--visually\" id=\"sk-estimator-id-48\" type=\"checkbox\" ><label for=\"sk-estimator-id-48\" class=\"sk-toggleable__label sk-toggleable__label-arrow\">OneHotEncoder</label><div class=\"sk-toggleable__content\"><pre>OneHotEncoder()</pre></div></div></div></div></div></div></div></div><div class=\"sk-parallel-item\"><div class=\"sk-item\"><div class=\"sk-label-container\"><div class=\"sk-label sk-toggleable\"><input class=\"sk-toggleable__control sk-hidden--visually\" id=\"sk-estimator-id-49\" type=\"checkbox\" ><label for=\"sk-estimator-id-49\" class=\"sk-toggleable__label sk-toggleable__label-arrow\">range_based</label><div class=\"sk-toggleable__content\"><pre>[&#x27;x58&#x27;, &#x27;x67&#x27;, &#x27;x71&#x27;, &#x27;x84&#x27;]</pre></div></div></div><div class=\"sk-serial\"><div class=\"sk-item\"><div class=\"sk-serial\"><div class=\"sk-item\"><div class=\"sk-estimator sk-toggleable\"><input class=\"sk-toggleable__control sk-hidden--visually\" id=\"sk-estimator-id-50\" type=\"checkbox\" ><label for=\"sk-estimator-id-50\" class=\"sk-toggleable__label sk-toggleable__label-arrow\">SimpleImputer</label><div class=\"sk-toggleable__content\"><pre>SimpleImputer(strategy=&#x27;median&#x27;)</pre></div></div></div><div class=\"sk-item\"><div class=\"sk-estimator sk-toggleable\"><input class=\"sk-toggleable__control sk-hidden--visually\" id=\"sk-estimator-id-51\" type=\"checkbox\" ><label for=\"sk-estimator-id-51\" class=\"sk-toggleable__label sk-toggleable__label-arrow\">FunctionTransformer</label><div class=\"sk-toggleable__content\"><pre>FunctionTransformer(func=&lt;function custom_discretizer at 0x7f2c86f24f70&gt;,\n",
              "                    validate=True)</pre></div></div></div><div class=\"sk-item\"><div class=\"sk-estimator sk-toggleable\"><input class=\"sk-toggleable__control sk-hidden--visually\" id=\"sk-estimator-id-52\" type=\"checkbox\" ><label for=\"sk-estimator-id-52\" class=\"sk-toggleable__label sk-toggleable__label-arrow\">OneHotEncoder</label><div class=\"sk-toggleable__content\"><pre>OneHotEncoder()</pre></div></div></div></div></div></div></div></div><div class=\"sk-parallel-item\"><div class=\"sk-item\"><div class=\"sk-label-container\"><div class=\"sk-label sk-toggleable\"><input class=\"sk-toggleable__control sk-hidden--visually\" id=\"sk-estimator-id-53\" type=\"checkbox\" ><label for=\"sk-estimator-id-53\" class=\"sk-toggleable__label sk-toggleable__label-arrow\">quantile_transform</label><div class=\"sk-toggleable__content\"><pre>[&#x27;x12&#x27;, &#x27;x18&#x27;, &#x27;x61&#x27;, &#x27;x92&#x27;, &#x27;x40&#x27;, &#x27;x57&#x27;]</pre></div></div></div><div class=\"sk-serial\"><div class=\"sk-item\"><div class=\"sk-serial\"><div class=\"sk-item\"><div class=\"sk-estimator sk-toggleable\"><input class=\"sk-toggleable__control sk-hidden--visually\" id=\"sk-estimator-id-54\" type=\"checkbox\" ><label for=\"sk-estimator-id-54\" class=\"sk-toggleable__label sk-toggleable__label-arrow\">SimpleImputer</label><div class=\"sk-toggleable__content\"><pre>SimpleImputer(strategy=&#x27;median&#x27;)</pre></div></div></div><div class=\"sk-item\"><div class=\"sk-estimator sk-toggleable\"><input class=\"sk-toggleable__control sk-hidden--visually\" id=\"sk-estimator-id-55\" type=\"checkbox\" ><label for=\"sk-estimator-id-55\" class=\"sk-toggleable__label sk-toggleable__label-arrow\">QuantileTransformer</label><div class=\"sk-toggleable__content\"><pre>QuantileTransformer(output_distribution=&#x27;normal&#x27;)</pre></div></div></div></div></div></div></div></div><div class=\"sk-parallel-item\"><div class=\"sk-item\"><div class=\"sk-label-container\"><div class=\"sk-label sk-toggleable\"><input class=\"sk-toggleable__control sk-hidden--visually\" id=\"sk-estimator-id-56\" type=\"checkbox\" ><label for=\"sk-estimator-id-56\" class=\"sk-toggleable__label sk-toggleable__label-arrow\">log_transform</label><div class=\"sk-toggleable__content\"><pre>[&#x27;x14&#x27;, &#x27;x16&#x27;, &#x27;x21&#x27;, &#x27;x42&#x27;, &#x27;x45&#x27;, &#x27;x55&#x27;, &#x27;x70&#x27;, &#x27;x73&#x27;, &#x27;x75&#x27;, &#x27;x82&#x27;, &#x27;x89&#x27;, &#x27;x96&#x27;]</pre></div></div></div><div class=\"sk-serial\"><div class=\"sk-item\"><div class=\"sk-serial\"><div class=\"sk-item\"><div class=\"sk-estimator sk-toggleable\"><input class=\"sk-toggleable__control sk-hidden--visually\" id=\"sk-estimator-id-57\" type=\"checkbox\" ><label for=\"sk-estimator-id-57\" class=\"sk-toggleable__label sk-toggleable__label-arrow\">SimpleImputer</label><div class=\"sk-toggleable__content\"><pre>SimpleImputer(strategy=&#x27;median&#x27;)</pre></div></div></div><div class=\"sk-item\"><div class=\"sk-estimator sk-toggleable\"><input class=\"sk-toggleable__control sk-hidden--visually\" id=\"sk-estimator-id-58\" type=\"checkbox\" ><label for=\"sk-estimator-id-58\" class=\"sk-toggleable__label sk-toggleable__label-arrow\">FunctionTransformer</label><div class=\"sk-toggleable__content\"><pre>FunctionTransformer(func=&lt;function log1p_with_positive_shift at 0x7f2c53a0aca0&gt;,\n",
              "                    validate=True)</pre></div></div></div><div class=\"sk-item\"><div class=\"sk-estimator sk-toggleable\"><input class=\"sk-toggleable__control sk-hidden--visually\" id=\"sk-estimator-id-59\" type=\"checkbox\" ><label for=\"sk-estimator-id-59\" class=\"sk-toggleable__label sk-toggleable__label-arrow\">StandardScaler</label><div class=\"sk-toggleable__content\"><pre>StandardScaler()</pre></div></div></div></div></div></div></div></div><div class=\"sk-parallel-item\"><div class=\"sk-item\"><div class=\"sk-label-container\"><div class=\"sk-label sk-toggleable\"><input class=\"sk-toggleable__control sk-hidden--visually\" id=\"sk-estimator-id-60\" type=\"checkbox\" ><label for=\"sk-estimator-id-60\" class=\"sk-toggleable__label sk-toggleable__label-arrow\">float_transform</label><div class=\"sk-toggleable__content\"><pre>[&#x27;x23&#x27;, &#x27;x78&#x27;, &#x27;x94&#x27;, &#x27;x20&#x27;, &#x27;x49&#x27;, &#x27;x63&#x27;, &#x27;x1&#x27;, &#x27;x54&#x27;, &#x27;x91&#x27;, &#x27;x6&#x27;, &#x27;x52&#x27;, &#x27;x68&#x27;, &#x27;x66&#x27;, &#x27;x27&#x27;, &#x27;x35&#x27;, &#x27;x97&#x27;, &#x27;x41&#x27;, &#x27;x4&#x27;, &#x27;x87&#x27;, &#x27;x22&#x27;, &#x27;x81&#x27;, &#x27;x95&#x27;, &#x27;x15&#x27;, &#x27;x2&#x27;, &#x27;x26&#x27;, &#x27;x50&#x27;, &#x27;x34&#x27;, &#x27;x80&#x27;, &#x27;x100&#x27;, &#x27;x62&#x27;, &#x27;x10&#x27;, &#x27;x32&#x27;, &#x27;x8&#x27;, &#x27;x72&#x27;, &#x27;x86&#x27;, &#x27;x56&#x27;, &#x27;x30&#x27;, &#x27;x88&#x27;, &#x27;x25&#x27;, &#x27;x7&#x27;, &#x27;x47&#x27;, &#x27;x19&#x27;, &#x27;x48&#x27;, &#x27;x51&#x27;, &#x27;x83&#x27;, &#x27;x85&#x27;, &#x27;x90&#x27;, &#x27;x44&#x27;, &#x27;x17&#x27;, &#x27;x11&#x27;, &#x27;x37&#x27;, &#x27;x13&#x27;, &#x27;x74&#x27;, &#x27;x29&#x27;, &#x27;x46&#x27;, &#x27;x5&#x27;, &#x27;x76&#x27;, &#x27;x36&#x27;, &#x27;x53&#x27;, &#x27;x9&#x27;, &#x27;x69&#x27;, &#x27;x38&#x27;, &#x27;x64&#x27;, &#x27;x43&#x27;]</pre></div></div></div><div class=\"sk-serial\"><div class=\"sk-item\"><div class=\"sk-serial\"><div class=\"sk-item\"><div class=\"sk-estimator sk-toggleable\"><input class=\"sk-toggleable__control sk-hidden--visually\" id=\"sk-estimator-id-61\" type=\"checkbox\" ><label for=\"sk-estimator-id-61\" class=\"sk-toggleable__label sk-toggleable__label-arrow\">SimpleImputer</label><div class=\"sk-toggleable__content\"><pre>SimpleImputer(strategy=&#x27;median&#x27;)</pre></div></div></div><div class=\"sk-item\"><div class=\"sk-estimator sk-toggleable\"><input class=\"sk-toggleable__control sk-hidden--visually\" id=\"sk-estimator-id-62\" type=\"checkbox\" ><label for=\"sk-estimator-id-62\" class=\"sk-toggleable__label sk-toggleable__label-arrow\">StandardScaler</label><div class=\"sk-toggleable__content\"><pre>StandardScaler()</pre></div></div></div></div></div></div></div></div></div></div><div class=\"sk-item\"><div class=\"sk-estimator sk-toggleable\"><input class=\"sk-toggleable__control sk-hidden--visually\" id=\"sk-estimator-id-63\" type=\"checkbox\" ><label for=\"sk-estimator-id-63\" class=\"sk-toggleable__label sk-toggleable__label-arrow\">LogisticRegression</label><div class=\"sk-toggleable__content\"><pre>LogisticRegression(max_iter=1000, random_state=42)</pre></div></div></div></div></div></div></div></div></div></div></div></div>"
            ]
          },
          "metadata": {},
          "execution_count": 37
        }
      ]
    },
    {
      "cell_type": "code",
      "source": [
        "grid_search.best_params_"
      ],
      "metadata": {
        "colab": {
          "base_uri": "https://localhost:8080/"
        },
        "id": "ByvjLO59zGA3",
        "outputId": "8fccd489-33ca-43b1-f034-32853fafc9f3"
      },
      "execution_count": 38,
      "outputs": [
        {
          "output_type": "execute_result",
          "data": {
            "text/plain": [
              "{'log_reg__C': 1,\n",
              " 'log_reg__penalty': 'l1',\n",
              " 'log_reg__solver': 'saga',\n",
              " 'preprocessing__float_transform__imputer__strategy': 'most_frequent',\n",
              " 'preprocessing__range_based__imputer__strategy': 'mean'}"
            ]
          },
          "metadata": {},
          "execution_count": 38
        }
      ]
    },
    {
      "cell_type": "code",
      "source": [
        "cv_res = pd.DataFrame(grid_search.cv_results_)\n",
        "cv_res.sort_values(by=\"mean_test_score\", ascending=False, inplace=True)\n",
        "cv_res.head() # note: the 1st column is the row ID"
      ],
      "metadata": {
        "colab": {
          "base_uri": "https://localhost:8080/",
          "height": 444
        },
        "id": "glqmYZEYzW4G",
        "outputId": "e90851c4-02e0-4368-f71a-f810543ba1c5"
      },
      "execution_count": 39,
      "outputs": [
        {
          "output_type": "execute_result",
          "data": {
            "text/plain": [
              "     mean_fit_time  std_fit_time  mean_score_time  std_score_time  \\\n",
              "133      11.048126      1.361842         0.053183        0.001527   \n",
              "60        0.566791      0.066664         0.072784        0.003745   \n",
              "79        3.114878      0.260038         0.060701        0.008325   \n",
              "78        3.163240      0.319609         0.061889        0.013163   \n",
              "132      10.599569      1.501656         0.059168        0.010429   \n",
              "\n",
              "    param_log_reg__C param_log_reg__penalty param_log_reg__solver  \\\n",
              "133                1                     l1                  saga   \n",
              "60               0.1                     l2                 lbfgs   \n",
              "79               0.1                     l2                   sag   \n",
              "78               0.1                     l2                   sag   \n",
              "132                1                     l1                  saga   \n",
              "\n",
              "    param_preprocessing__float_transform__imputer__strategy  \\\n",
              "133                                      most_frequent        \n",
              "60                                       most_frequent        \n",
              "79                                       most_frequent        \n",
              "78                                       most_frequent        \n",
              "132                                      most_frequent        \n",
              "\n",
              "    param_preprocessing__range_based__imputer__strategy  \\\n",
              "133                                               mean    \n",
              "60                                              median    \n",
              "79                                                mean    \n",
              "78                                              median    \n",
              "132                                             median    \n",
              "\n",
              "                                                params  split0_test_score  \\\n",
              "133  {'log_reg__C': 1, 'log_reg__penalty': 'l1', 'l...           0.721299   \n",
              "60   {'log_reg__C': 0.1, 'log_reg__penalty': 'l2', ...           0.720814   \n",
              "79   {'log_reg__C': 0.1, 'log_reg__penalty': 'l2', ...           0.721466   \n",
              "78   {'log_reg__C': 0.1, 'log_reg__penalty': 'l2', ...           0.720815   \n",
              "132  {'log_reg__C': 1, 'log_reg__penalty': 'l1', 'l...           0.720716   \n",
              "\n",
              "     split1_test_score  split2_test_score  mean_test_score  std_test_score  \\\n",
              "133           0.755594           0.724034         0.733642        0.015562   \n",
              "60            0.755694           0.724269         0.733592        0.015692   \n",
              "79            0.755325           0.723974         0.733588        0.015404   \n",
              "78            0.755666           0.724262         0.733581        0.015680   \n",
              "132           0.755769           0.724252         0.733579        0.015757   \n",
              "\n",
              "     rank_test_score  \n",
              "133                1  \n",
              "60                 2  \n",
              "79                 3  \n",
              "78                 4  \n",
              "132                5  "
            ],
            "text/html": [
              "\n",
              "  <div id=\"df-22e7ba8c-fcb6-4a78-9503-d88c250b8242\">\n",
              "    <div class=\"colab-df-container\">\n",
              "      <div>\n",
              "<style scoped>\n",
              "    .dataframe tbody tr th:only-of-type {\n",
              "        vertical-align: middle;\n",
              "    }\n",
              "\n",
              "    .dataframe tbody tr th {\n",
              "        vertical-align: top;\n",
              "    }\n",
              "\n",
              "    .dataframe thead th {\n",
              "        text-align: right;\n",
              "    }\n",
              "</style>\n",
              "<table border=\"1\" class=\"dataframe\">\n",
              "  <thead>\n",
              "    <tr style=\"text-align: right;\">\n",
              "      <th></th>\n",
              "      <th>mean_fit_time</th>\n",
              "      <th>std_fit_time</th>\n",
              "      <th>mean_score_time</th>\n",
              "      <th>std_score_time</th>\n",
              "      <th>param_log_reg__C</th>\n",
              "      <th>param_log_reg__penalty</th>\n",
              "      <th>param_log_reg__solver</th>\n",
              "      <th>param_preprocessing__float_transform__imputer__strategy</th>\n",
              "      <th>param_preprocessing__range_based__imputer__strategy</th>\n",
              "      <th>params</th>\n",
              "      <th>split0_test_score</th>\n",
              "      <th>split1_test_score</th>\n",
              "      <th>split2_test_score</th>\n",
              "      <th>mean_test_score</th>\n",
              "      <th>std_test_score</th>\n",
              "      <th>rank_test_score</th>\n",
              "    </tr>\n",
              "  </thead>\n",
              "  <tbody>\n",
              "    <tr>\n",
              "      <th>133</th>\n",
              "      <td>11.048126</td>\n",
              "      <td>1.361842</td>\n",
              "      <td>0.053183</td>\n",
              "      <td>0.001527</td>\n",
              "      <td>1</td>\n",
              "      <td>l1</td>\n",
              "      <td>saga</td>\n",
              "      <td>most_frequent</td>\n",
              "      <td>mean</td>\n",
              "      <td>{'log_reg__C': 1, 'log_reg__penalty': 'l1', 'l...</td>\n",
              "      <td>0.721299</td>\n",
              "      <td>0.755594</td>\n",
              "      <td>0.724034</td>\n",
              "      <td>0.733642</td>\n",
              "      <td>0.015562</td>\n",
              "      <td>1</td>\n",
              "    </tr>\n",
              "    <tr>\n",
              "      <th>60</th>\n",
              "      <td>0.566791</td>\n",
              "      <td>0.066664</td>\n",
              "      <td>0.072784</td>\n",
              "      <td>0.003745</td>\n",
              "      <td>0.1</td>\n",
              "      <td>l2</td>\n",
              "      <td>lbfgs</td>\n",
              "      <td>most_frequent</td>\n",
              "      <td>median</td>\n",
              "      <td>{'log_reg__C': 0.1, 'log_reg__penalty': 'l2', ...</td>\n",
              "      <td>0.720814</td>\n",
              "      <td>0.755694</td>\n",
              "      <td>0.724269</td>\n",
              "      <td>0.733592</td>\n",
              "      <td>0.015692</td>\n",
              "      <td>2</td>\n",
              "    </tr>\n",
              "    <tr>\n",
              "      <th>79</th>\n",
              "      <td>3.114878</td>\n",
              "      <td>0.260038</td>\n",
              "      <td>0.060701</td>\n",
              "      <td>0.008325</td>\n",
              "      <td>0.1</td>\n",
              "      <td>l2</td>\n",
              "      <td>sag</td>\n",
              "      <td>most_frequent</td>\n",
              "      <td>mean</td>\n",
              "      <td>{'log_reg__C': 0.1, 'log_reg__penalty': 'l2', ...</td>\n",
              "      <td>0.721466</td>\n",
              "      <td>0.755325</td>\n",
              "      <td>0.723974</td>\n",
              "      <td>0.733588</td>\n",
              "      <td>0.015404</td>\n",
              "      <td>3</td>\n",
              "    </tr>\n",
              "    <tr>\n",
              "      <th>78</th>\n",
              "      <td>3.163240</td>\n",
              "      <td>0.319609</td>\n",
              "      <td>0.061889</td>\n",
              "      <td>0.013163</td>\n",
              "      <td>0.1</td>\n",
              "      <td>l2</td>\n",
              "      <td>sag</td>\n",
              "      <td>most_frequent</td>\n",
              "      <td>median</td>\n",
              "      <td>{'log_reg__C': 0.1, 'log_reg__penalty': 'l2', ...</td>\n",
              "      <td>0.720815</td>\n",
              "      <td>0.755666</td>\n",
              "      <td>0.724262</td>\n",
              "      <td>0.733581</td>\n",
              "      <td>0.015680</td>\n",
              "      <td>4</td>\n",
              "    </tr>\n",
              "    <tr>\n",
              "      <th>132</th>\n",
              "      <td>10.599569</td>\n",
              "      <td>1.501656</td>\n",
              "      <td>0.059168</td>\n",
              "      <td>0.010429</td>\n",
              "      <td>1</td>\n",
              "      <td>l1</td>\n",
              "      <td>saga</td>\n",
              "      <td>most_frequent</td>\n",
              "      <td>median</td>\n",
              "      <td>{'log_reg__C': 1, 'log_reg__penalty': 'l1', 'l...</td>\n",
              "      <td>0.720716</td>\n",
              "      <td>0.755769</td>\n",
              "      <td>0.724252</td>\n",
              "      <td>0.733579</td>\n",
              "      <td>0.015757</td>\n",
              "      <td>5</td>\n",
              "    </tr>\n",
              "  </tbody>\n",
              "</table>\n",
              "</div>\n",
              "      <button class=\"colab-df-convert\" onclick=\"convertToInteractive('df-22e7ba8c-fcb6-4a78-9503-d88c250b8242')\"\n",
              "              title=\"Convert this dataframe to an interactive table.\"\n",
              "              style=\"display:none;\">\n",
              "        \n",
              "  <svg xmlns=\"http://www.w3.org/2000/svg\" height=\"24px\"viewBox=\"0 0 24 24\"\n",
              "       width=\"24px\">\n",
              "    <path d=\"M0 0h24v24H0V0z\" fill=\"none\"/>\n",
              "    <path d=\"M18.56 5.44l.94 2.06.94-2.06 2.06-.94-2.06-.94-.94-2.06-.94 2.06-2.06.94zm-11 1L8.5 8.5l.94-2.06 2.06-.94-2.06-.94L8.5 2.5l-.94 2.06-2.06.94zm10 10l.94 2.06.94-2.06 2.06-.94-2.06-.94-.94-2.06-.94 2.06-2.06.94z\"/><path d=\"M17.41 7.96l-1.37-1.37c-.4-.4-.92-.59-1.43-.59-.52 0-1.04.2-1.43.59L10.3 9.45l-7.72 7.72c-.78.78-.78 2.05 0 2.83L4 21.41c.39.39.9.59 1.41.59.51 0 1.02-.2 1.41-.59l7.78-7.78 2.81-2.81c.8-.78.8-2.07 0-2.86zM5.41 20L4 18.59l7.72-7.72 1.47 1.35L5.41 20z\"/>\n",
              "  </svg>\n",
              "      </button>\n",
              "      \n",
              "  <style>\n",
              "    .colab-df-container {\n",
              "      display:flex;\n",
              "      flex-wrap:wrap;\n",
              "      gap: 12px;\n",
              "    }\n",
              "\n",
              "    .colab-df-convert {\n",
              "      background-color: #E8F0FE;\n",
              "      border: none;\n",
              "      border-radius: 50%;\n",
              "      cursor: pointer;\n",
              "      display: none;\n",
              "      fill: #1967D2;\n",
              "      height: 32px;\n",
              "      padding: 0 0 0 0;\n",
              "      width: 32px;\n",
              "    }\n",
              "\n",
              "    .colab-df-convert:hover {\n",
              "      background-color: #E2EBFA;\n",
              "      box-shadow: 0px 1px 2px rgba(60, 64, 67, 0.3), 0px 1px 3px 1px rgba(60, 64, 67, 0.15);\n",
              "      fill: #174EA6;\n",
              "    }\n",
              "\n",
              "    [theme=dark] .colab-df-convert {\n",
              "      background-color: #3B4455;\n",
              "      fill: #D2E3FC;\n",
              "    }\n",
              "\n",
              "    [theme=dark] .colab-df-convert:hover {\n",
              "      background-color: #434B5C;\n",
              "      box-shadow: 0px 1px 3px 1px rgba(0, 0, 0, 0.15);\n",
              "      filter: drop-shadow(0px 1px 2px rgba(0, 0, 0, 0.3));\n",
              "      fill: #FFFFFF;\n",
              "    }\n",
              "  </style>\n",
              "\n",
              "      <script>\n",
              "        const buttonEl =\n",
              "          document.querySelector('#df-22e7ba8c-fcb6-4a78-9503-d88c250b8242 button.colab-df-convert');\n",
              "        buttonEl.style.display =\n",
              "          google.colab.kernel.accessAllowed ? 'block' : 'none';\n",
              "\n",
              "        async function convertToInteractive(key) {\n",
              "          const element = document.querySelector('#df-22e7ba8c-fcb6-4a78-9503-d88c250b8242');\n",
              "          const dataTable =\n",
              "            await google.colab.kernel.invokeFunction('convertToInteractive',\n",
              "                                                     [key], {});\n",
              "          if (!dataTable) return;\n",
              "\n",
              "          const docLinkHtml = 'Like what you see? Visit the ' +\n",
              "            '<a target=\"_blank\" href=https://colab.research.google.com/notebooks/data_table.ipynb>data table notebook</a>'\n",
              "            + ' to learn more about interactive tables.';\n",
              "          element.innerHTML = '';\n",
              "          dataTable['output_type'] = 'display_data';\n",
              "          await google.colab.output.renderOutput(dataTable, element);\n",
              "          const docLink = document.createElement('div');\n",
              "          docLink.innerHTML = docLinkHtml;\n",
              "          element.appendChild(docLink);\n",
              "        }\n",
              "      </script>\n",
              "    </div>\n",
              "  </div>\n",
              "  "
            ]
          },
          "metadata": {},
          "execution_count": 39
        }
      ]
    },
    {
      "cell_type": "code",
      "source": [
        "cv_res['mean_test_score'].hist()"
      ],
      "metadata": {
        "colab": {
          "base_uri": "https://localhost:8080/",
          "height": 282
        },
        "id": "Hghp3SrmzxPy",
        "outputId": "158e6ff0-fad8-4dc9-8ed2-2638633a10e3"
      },
      "execution_count": 42,
      "outputs": [
        {
          "output_type": "execute_result",
          "data": {
            "text/plain": [
              "<Axes: >"
            ]
          },
          "metadata": {},
          "execution_count": 42
        },
        {
          "output_type": "display_data",
          "data": {
            "text/plain": [
              "<Figure size 432x288 with 1 Axes>"
            ],
            "image/png": "[encoded data removed]"
          },
          "metadata": {
            "needs_background": "light"
          }
        }
      ]
    },
    {
      "cell_type": "markdown",
      "source": [
        "The parameter search did not make a meaningful difference in the AUC score. So, we will stick with our original model with the sophisticated pipeline."
      ],
      "metadata": {
        "id": "yeAjAJRGHZR0"
      }
    },
    {
      "cell_type": "markdown",
      "source": [
        "Next, we will train a decision tree, random forest, gradient boosting, support vector machine and neural network models."
      ],
      "metadata": {
        "id": "m4LHaOBlXkpJ"
      }
    },
    {
      "cell_type": "code",
      "source": [
        "# Define the models\n",
        "models = [\n",
        "    (\"Decision Tree\", DecisionTreeClassifier(random_state=42)),\n",
        "    (\"Random Forest\", RandomForestClassifier(random_state=42)),\n",
        "    (\"Gradient Boosting\", GradientBoostingClassifier(random_state=42)),\n",
        "    (\"Support Vector Machine\", SVC(probability=True, random_state=42)),\n",
        "    (\"Neural Network\", MLPClassifier(max_iter=1000, random_state=42)),\n",
        "]"
      ],
      "metadata": {
        "id": "ouH67us6X3Gu"
      },
      "execution_count": 21,
      "outputs": []
    },
    {
      "cell_type": "markdown",
      "source": [
        "Train the models using cross-validation and compare their AUC scores."
      ],
      "metadata": {
        "id": "jloWgjjgX7Zm"
      }
    },
    {
      "cell_type": "code",
      "source": [
        "for name, model in models:\n",
        "    if name == \"Support Vector Machine\":\n",
        "        decision_function_scores = cross_val_predict(model, X_train, y_train, cv=5, method='decision_function')\n",
        "        auc_score = roc_auc_score(y_train, decision_function_scores)\n",
        "        print(f\"{name} - AUC: {auc_score:.4f}\")\n",
        "    else: \n",
        "        cv_auc_scores = cross_val_score(model, X_train, y_train, cv=5, scoring='roc_auc')\n",
        "        print(f\"{name} - mean AUC: {cv_auc_scores.mean():.4f}, std: {cv_auc_scores.std():.4f}\")"
      ],
      "metadata": {
        "id": "-MYWpFDdX39M",
        "outputId": "c0e021cb-3b12-46c0-dd26-90ae5fcd7ddd",
        "colab": {
          "base_uri": "https://localhost:8080/"
        }
      },
      "execution_count": 22,
      "outputs": [
        {
          "output_type": "stream",
          "name": "stdout",
          "text": [
            "Decision Tree - mean AUC: 0.5653, std: 0.0057\n",
            "Random Forest - mean AUC: 0.7165, std: 0.0069\n",
            "Gradient Boosting - mean AUC: 0.7818, std: 0.0089\n",
            "Support Vector Machine - AUC: 0.7200\n",
            "Neural Network - mean AUC: 0.6824, std: 0.0048\n"
          ]
        }
      ]
    },
    {
      "cell_type": "markdown",
      "source": [
        "It looks like the Gradient Boosting model performed the best. Let's try another round of hyperparameter tuning, focusing on only the modeling parameters this time, for Gradient Boosting."
      ],
      "metadata": {
        "id": "0JreqjKdWTrP"
      }
    },
    {
      "cell_type": "code",
      "source": [
        "full_pipeline = Pipeline([\n",
        "    (\"preprocessing\", preprocessor),\n",
        "    (\"grad_boost\", GradientBoostingClassifier(random_state=42)),\n",
        "])\n",
        "\n",
        "param_grid = [\n",
        "    {\n",
        "        'grad_boost__n_estimators': [5,50,250,500],\n",
        "        'grad_boost__max_depth':[1,3,5,7,9],\n",
        "        'grad_boost__learning_rate':[0.01,0.1,1,10,100]\n",
        "    },\n",
        "]\n",
        "\n",
        "# Use 'roc_auc' as the scoring metric\n",
        "grid_search_gb = GridSearchCV(full_pipeline, param_grid, cv=3, scoring='roc_auc', refit=True)\n",
        "grid_search_gb.fit(train, train_labels)"
      ],
      "metadata": {
        "id": "zRIsACONWj_J",
        "outputId": "69814c1a-6066-4134-9f43-47b7eb2cb0f3",
        "colab": {
          "base_uri": "https://localhost:8080/",
          "height": 346
        }
      },
      "execution_count": 27,
      "outputs": [
        {
          "output_type": "error",
          "ename": "KeyboardInterrupt",
          "evalue": "ignored",
          "traceback": [
            "\u001b[0;31m---------------------------------------------------------------------------\u001b[0m",
            "\u001b[0;31mKeyboardInterrupt\u001b[0m                         Traceback (most recent call last)",
            "\u001b[0;32m<ipython-input-27-ad2c7b1ba738>\u001b[0m in \u001b[0;36m<module>\u001b[0;34m\u001b[0m\n\u001b[1;32m     14\u001b[0m \u001b[0;31m# Use 'roc_auc' as the scoring metric\u001b[0m\u001b[0;34m\u001b[0m\u001b[0;34m\u001b[0m\u001b[0m\n\u001b[1;32m     15\u001b[0m \u001b[0mgrid_search_gb\u001b[0m \u001b[0;34m=\u001b[0m \u001b[0mGridSearchCV\u001b[0m\u001b[0;34m(\u001b[0m\u001b[0mfull_pipeline\u001b[0m\u001b[0;34m,\u001b[0m \u001b[0mparam_grid\u001b[0m\u001b[0;34m,\u001b[0m \u001b[0mcv\u001b[0m\u001b[0;34m=\u001b[0m\u001b[0;36m3\u001b[0m\u001b[0;34m,\u001b[0m \u001b[0mscoring\u001b[0m\u001b[0;34m=\u001b[0m\u001b[0;34m'roc_auc'\u001b[0m\u001b[0;34m,\u001b[0m \u001b[0mrefit\u001b[0m\u001b[0;34m=\u001b[0m\u001b[0;32mTrue\u001b[0m\u001b[0;34m)\u001b[0m\u001b[0;34m\u001b[0m\u001b[0;34m\u001b[0m\u001b[0m\n\u001b[0;32m---> 16\u001b[0;31m \u001b[0mgrid_search_gb\u001b[0m\u001b[0;34m.\u001b[0m\u001b[0mfit\u001b[0m\u001b[0;34m(\u001b[0m\u001b[0mtrain\u001b[0m\u001b[0;34m,\u001b[0m \u001b[0mtrain_labels\u001b[0m\u001b[0;34m)\u001b[0m\u001b[0;34m\u001b[0m\u001b[0;34m\u001b[0m\u001b[0m\n\u001b[0m",
            "\u001b[0;32m/usr/local/lib/python3.9/dist-packages/sklearn/model_selection/_search.py\u001b[0m in \u001b[0;36mfit\u001b[0;34m(self, X, y, groups, **fit_params)\u001b[0m\n\u001b[1;32m    872\u001b[0m                 \u001b[0;32mreturn\u001b[0m \u001b[0mresults\u001b[0m\u001b[0;34m\u001b[0m\u001b[0;34m\u001b[0m\u001b[0m\n\u001b[1;32m    873\u001b[0m \u001b[0;34m\u001b[0m\u001b[0m\n\u001b[0;32m--> 874\u001b[0;31m             \u001b[0mself\u001b[0m\u001b[0;34m.\u001b[0m\u001b[0m_run_search\u001b[0m\u001b[0;34m(\u001b[0m\u001b[0mevaluate_candidates\u001b[0m\u001b[0;34m)\u001b[0m\u001b[0;34m\u001b[0m\u001b[0;34m\u001b[0m\u001b[0m\n\u001b[0m\u001b[1;32m    875\u001b[0m \u001b[0;34m\u001b[0m\u001b[0m\n\u001b[1;32m    876\u001b[0m             \u001b[0;31m# multimetric is determined here because in the case of a callable\u001b[0m\u001b[0;34m\u001b[0m\u001b[0;34m\u001b[0m\u001b[0m\n",
            "\u001b[0;32m/usr/local/lib/python3.9/dist-packages/sklearn/model_selection/_search.py\u001b[0m in \u001b[0;36m_run_search\u001b[0;34m(self, evaluate_candidates)\u001b[0m\n\u001b[1;32m   1386\u001b[0m     \u001b[0;32mdef\u001b[0m \u001b[0m_run_search\u001b[0m\u001b[0;34m(\u001b[0m\u001b[0mself\u001b[0m\u001b[0;34m,\u001b[0m \u001b[0mevaluate_candidates\u001b[0m\u001b[0;34m)\u001b[0m\u001b[0;34m:\u001b[0m\u001b[0;34m\u001b[0m\u001b[0;34m\u001b[0m\u001b[0m\n\u001b[1;32m   1387\u001b[0m         \u001b[0;34m\"\"\"Search all candidates in param_grid\"\"\"\u001b[0m\u001b[0;34m\u001b[0m\u001b[0;34m\u001b[0m\u001b[0m\n\u001b[0;32m-> 1388\u001b[0;31m         \u001b[0mevaluate_candidates\u001b[0m\u001b[0;34m(\u001b[0m\u001b[0mParameterGrid\u001b[0m\u001b[0;34m(\u001b[0m\u001b[0mself\u001b[0m\u001b[0;34m.\u001b[0m\u001b[0mparam_grid\u001b[0m\u001b[0;34m)\u001b[0m\u001b[0;34m)\u001b[0m\u001b[0;34m\u001b[0m\u001b[0;34m\u001b[0m\u001b[0m\n\u001b[0m\u001b[1;32m   1389\u001b[0m \u001b[0;34m\u001b[0m\u001b[0m\n\u001b[1;32m   1390\u001b[0m \u001b[0;34m\u001b[0m\u001b[0m\n",
            "\u001b[0;32m/usr/local/lib/python3.9/dist-packages/sklearn/model_selection/_search.py\u001b[0m in \u001b[0;36mevaluate_candidates\u001b[0;34m(candidate_params, cv, more_results)\u001b[0m\n\u001b[1;32m    819\u001b[0m                     )\n\u001b[1;32m    820\u001b[0m \u001b[0;34m\u001b[0m\u001b[0m\n\u001b[0;32m--> 821\u001b[0;31m                 out = parallel(\n\u001b[0m\u001b[1;32m    822\u001b[0m                     delayed(_fit_and_score)(\n\u001b[1;32m    823\u001b[0m                         \u001b[0mclone\u001b[0m\u001b[0;34m(\u001b[0m\u001b[0mbase_estimator\u001b[0m\u001b[0;34m)\u001b[0m\u001b[0;34m,\u001b[0m\u001b[0;34m\u001b[0m\u001b[0;34m\u001b[0m\u001b[0m\n",
            "\u001b[0;32m/usr/local/lib/python3.9/dist-packages/sklearn/utils/parallel.py\u001b[0m in \u001b[0;36m__call__\u001b[0;34m(self, iterable)\u001b[0m\n\u001b[1;32m     61\u001b[0m             \u001b[0;32mfor\u001b[0m \u001b[0mdelayed_func\u001b[0m\u001b[0;34m,\u001b[0m \u001b[0margs\u001b[0m\u001b[0;34m,\u001b[0m \u001b[0mkwargs\u001b[0m \u001b[0;32min\u001b[0m \u001b[0miterable\u001b[0m\u001b[0;34m\u001b[0m\u001b[0;34m\u001b[0m\u001b[0m\n\u001b[1;32m     62\u001b[0m         )\n\u001b[0;32m---> 63\u001b[0;31m         \u001b[0;32mreturn\u001b[0m \u001b[0msuper\u001b[0m\u001b[0;34m(\u001b[0m\u001b[0;34m)\u001b[0m\u001b[0;34m.\u001b[0m\u001b[0m__call__\u001b[0m\u001b[0;34m(\u001b[0m\u001b[0miterable_with_config\u001b[0m\u001b[0;34m)\u001b[0m\u001b[0;34m\u001b[0m\u001b[0;34m\u001b[0m\u001b[0m\n\u001b[0m\u001b[1;32m     64\u001b[0m \u001b[0;34m\u001b[0m\u001b[0m\n\u001b[1;32m     65\u001b[0m \u001b[0;34m\u001b[0m\u001b[0m\n",
            "\u001b[0;32m/usr/local/lib/python3.9/dist-packages/joblib/parallel.py\u001b[0m in \u001b[0;36m__call__\u001b[0;34m(self, iterable)\u001b[0m\n\u001b[1;32m   1049\u001b[0m                 \u001b[0mself\u001b[0m\u001b[0;34m.\u001b[0m\u001b[0m_iterating\u001b[0m \u001b[0;34m=\u001b[0m \u001b[0mself\u001b[0m\u001b[0;34m.\u001b[0m\u001b[0m_original_iterator\u001b[0m \u001b[0;32mis\u001b[0m \u001b[0;32mnot\u001b[0m \u001b[0;32mNone\u001b[0m\u001b[0;34m\u001b[0m\u001b[0;34m\u001b[0m\u001b[0m\n\u001b[1;32m   1050\u001b[0m \u001b[0;34m\u001b[0m\u001b[0m\n\u001b[0;32m-> 1051\u001b[0;31m             \u001b[0;32mwhile\u001b[0m \u001b[0mself\u001b[0m\u001b[0;34m.\u001b[0m\u001b[0mdispatch_one_batch\u001b[0m\u001b[0;34m(\u001b[0m\u001b[0miterator\u001b[0m\u001b[0;34m)\u001b[0m\u001b[0;34m:\u001b[0m\u001b[0;34m\u001b[0m\u001b[0;34m\u001b[0m\u001b[0m\n\u001b[0m\u001b[1;32m   1052\u001b[0m                 \u001b[0;32mpass\u001b[0m\u001b[0;34m\u001b[0m\u001b[0;34m\u001b[0m\u001b[0m\n\u001b[1;32m   1053\u001b[0m \u001b[0;34m\u001b[0m\u001b[0m\n",
            "\u001b[0;32m/usr/local/lib/python3.9/dist-packages/joblib/parallel.py\u001b[0m in \u001b[0;36mdispatch_one_batch\u001b[0;34m(self, iterator)\u001b[0m\n\u001b[1;32m    862\u001b[0m                 \u001b[0;32mreturn\u001b[0m \u001b[0;32mFalse\u001b[0m\u001b[0;34m\u001b[0m\u001b[0;34m\u001b[0m\u001b[0m\n\u001b[1;32m    863\u001b[0m             \u001b[0;32melse\u001b[0m\u001b[0;34m:\u001b[0m\u001b[0;34m\u001b[0m\u001b[0;34m\u001b[0m\u001b[0m\n\u001b[0;32m--> 864\u001b[0;31m                 \u001b[0mself\u001b[0m\u001b[0;34m.\u001b[0m\u001b[0m_dispatch\u001b[0m\u001b[0;34m(\u001b[0m\u001b[0mtasks\u001b[0m\u001b[0;34m)\u001b[0m\u001b[0;34m\u001b[0m\u001b[0;34m\u001b[0m\u001b[0m\n\u001b[0m\u001b[1;32m    865\u001b[0m                 \u001b[0;32mreturn\u001b[0m \u001b[0;32mTrue\u001b[0m\u001b[0;34m\u001b[0m\u001b[0;34m\u001b[0m\u001b[0m\n\u001b[1;32m    866\u001b[0m \u001b[0;34m\u001b[0m\u001b[0m\n",
            "\u001b[0;32m/usr/local/lib/python3.9/dist-packages/joblib/parallel.py\u001b[0m in \u001b[0;36m_dispatch\u001b[0;34m(self, batch)\u001b[0m\n\u001b[1;32m    780\u001b[0m         \u001b[0;32mwith\u001b[0m \u001b[0mself\u001b[0m\u001b[0;34m.\u001b[0m\u001b[0m_lock\u001b[0m\u001b[0;34m:\u001b[0m\u001b[0;34m\u001b[0m\u001b[0;34m\u001b[0m\u001b[0m\n\u001b[1;32m    781\u001b[0m             \u001b[0mjob_idx\u001b[0m \u001b[0;34m=\u001b[0m \u001b[0mlen\u001b[0m\u001b[0;34m(\u001b[0m\u001b[0mself\u001b[0m\u001b[0;34m.\u001b[0m\u001b[0m_jobs\u001b[0m\u001b[0;34m)\u001b[0m\u001b[0;34m\u001b[0m\u001b[0;34m\u001b[0m\u001b[0m\n\u001b[0;32m--> 782\u001b[0;31m             \u001b[0mjob\u001b[0m \u001b[0;34m=\u001b[0m \u001b[0mself\u001b[0m\u001b[0;34m.\u001b[0m\u001b[0m_backend\u001b[0m\u001b[0;34m.\u001b[0m\u001b[0mapply_async\u001b[0m\u001b[0;34m(\u001b[0m\u001b[0mbatch\u001b[0m\u001b[0;34m,\u001b[0m \u001b[0mcallback\u001b[0m\u001b[0;34m=\u001b[0m\u001b[0mcb\u001b[0m\u001b[0;34m)\u001b[0m\u001b[0;34m\u001b[0m\u001b[0;34m\u001b[0m\u001b[0m\n\u001b[0m\u001b[1;32m    783\u001b[0m             \u001b[0;31m# A job can complete so quickly than its callback is\u001b[0m\u001b[0;34m\u001b[0m\u001b[0;34m\u001b[0m\u001b[0m\n\u001b[1;32m    784\u001b[0m             \u001b[0;31m# called before we get here, causing self._jobs to\u001b[0m\u001b[0;34m\u001b[0m\u001b[0;34m\u001b[0m\u001b[0m\n",
            "\u001b[0;32m/usr/local/lib/python3.9/dist-packages/joblib/_parallel_backends.py\u001b[0m in \u001b[0;36mapply_async\u001b[0;34m(self, func, callback)\u001b[0m\n\u001b[1;32m    206\u001b[0m     \u001b[0;32mdef\u001b[0m \u001b[0mapply_async\u001b[0m\u001b[0;34m(\u001b[0m\u001b[0mself\u001b[0m\u001b[0;34m,\u001b[0m \u001b[0mfunc\u001b[0m\u001b[0;34m,\u001b[0m \u001b[0mcallback\u001b[0m\u001b[0;34m=\u001b[0m\u001b[0;32mNone\u001b[0m\u001b[0;34m)\u001b[0m\u001b[0;34m:\u001b[0m\u001b[0;34m\u001b[0m\u001b[0;34m\u001b[0m\u001b[0m\n\u001b[1;32m    207\u001b[0m         \u001b[0;34m\"\"\"Schedule a func to be run\"\"\"\u001b[0m\u001b[0;34m\u001b[0m\u001b[0;34m\u001b[0m\u001b[0m\n\u001b[0;32m--> 208\u001b[0;31m         \u001b[0mresult\u001b[0m \u001b[0;34m=\u001b[0m \u001b[0mImmediateResult\u001b[0m\u001b[0;34m(\u001b[0m\u001b[0mfunc\u001b[0m\u001b[0;34m)\u001b[0m\u001b[0;34m\u001b[0m\u001b[0;34m\u001b[0m\u001b[0m\n\u001b[0m\u001b[1;32m    209\u001b[0m         \u001b[0;32mif\u001b[0m \u001b[0mcallback\u001b[0m\u001b[0;34m:\u001b[0m\u001b[0;34m\u001b[0m\u001b[0;34m\u001b[0m\u001b[0m\n\u001b[1;32m    210\u001b[0m             \u001b[0mcallback\u001b[0m\u001b[0;34m(\u001b[0m\u001b[0mresult\u001b[0m\u001b[0;34m)\u001b[0m\u001b[0;34m\u001b[0m\u001b[0;34m\u001b[0m\u001b[0m\n",
            "\u001b[0;32m/usr/local/lib/python3.9/dist-packages/joblib/_parallel_backends.py\u001b[0m in \u001b[0;36m__init__\u001b[0;34m(self, batch)\u001b[0m\n\u001b[1;32m    570\u001b[0m         \u001b[0;31m# Don't delay the application, to avoid keeping the input\u001b[0m\u001b[0;34m\u001b[0m\u001b[0;34m\u001b[0m\u001b[0m\n\u001b[1;32m    571\u001b[0m         \u001b[0;31m# arguments in memory\u001b[0m\u001b[0;34m\u001b[0m\u001b[0;34m\u001b[0m\u001b[0m\n\u001b[0;32m--> 572\u001b[0;31m         \u001b[0mself\u001b[0m\u001b[0;34m.\u001b[0m\u001b[0mresults\u001b[0m \u001b[0;34m=\u001b[0m \u001b[0mbatch\u001b[0m\u001b[0;34m(\u001b[0m\u001b[0;34m)\u001b[0m\u001b[0;34m\u001b[0m\u001b[0;34m\u001b[0m\u001b[0m\n\u001b[0m\u001b[1;32m    573\u001b[0m \u001b[0;34m\u001b[0m\u001b[0m\n\u001b[1;32m    574\u001b[0m     \u001b[0;32mdef\u001b[0m \u001b[0mget\u001b[0m\u001b[0;34m(\u001b[0m\u001b[0mself\u001b[0m\u001b[0;34m)\u001b[0m\u001b[0;34m:\u001b[0m\u001b[0;34m\u001b[0m\u001b[0;34m\u001b[0m\u001b[0m\n",
            "\u001b[0;32m/usr/local/lib/python3.9/dist-packages/joblib/parallel.py\u001b[0m in \u001b[0;36m__call__\u001b[0;34m(self)\u001b[0m\n\u001b[1;32m    261\u001b[0m         \u001b[0;31m# change the default number of processes to -1\u001b[0m\u001b[0;34m\u001b[0m\u001b[0;34m\u001b[0m\u001b[0m\n\u001b[1;32m    262\u001b[0m         \u001b[0;32mwith\u001b[0m \u001b[0mparallel_backend\u001b[0m\u001b[0;34m(\u001b[0m\u001b[0mself\u001b[0m\u001b[0;34m.\u001b[0m\u001b[0m_backend\u001b[0m\u001b[0;34m,\u001b[0m \u001b[0mn_jobs\u001b[0m\u001b[0;34m=\u001b[0m\u001b[0mself\u001b[0m\u001b[0;34m.\u001b[0m\u001b[0m_n_jobs\u001b[0m\u001b[0;34m)\u001b[0m\u001b[0;34m:\u001b[0m\u001b[0;34m\u001b[0m\u001b[0;34m\u001b[0m\u001b[0m\n\u001b[0;32m--> 263\u001b[0;31m             return [func(*args, **kwargs)\n\u001b[0m\u001b[1;32m    264\u001b[0m                     for func, args, kwargs in self.items]\n\u001b[1;32m    265\u001b[0m \u001b[0;34m\u001b[0m\u001b[0m\n",
            "\u001b[0;32m/usr/local/lib/python3.9/dist-packages/joblib/parallel.py\u001b[0m in \u001b[0;36m<listcomp>\u001b[0;34m(.0)\u001b[0m\n\u001b[1;32m    261\u001b[0m         \u001b[0;31m# change the default number of processes to -1\u001b[0m\u001b[0;34m\u001b[0m\u001b[0;34m\u001b[0m\u001b[0m\n\u001b[1;32m    262\u001b[0m         \u001b[0;32mwith\u001b[0m \u001b[0mparallel_backend\u001b[0m\u001b[0;34m(\u001b[0m\u001b[0mself\u001b[0m\u001b[0;34m.\u001b[0m\u001b[0m_backend\u001b[0m\u001b[0;34m,\u001b[0m \u001b[0mn_jobs\u001b[0m\u001b[0;34m=\u001b[0m\u001b[0mself\u001b[0m\u001b[0;34m.\u001b[0m\u001b[0m_n_jobs\u001b[0m\u001b[0;34m)\u001b[0m\u001b[0;34m:\u001b[0m\u001b[0;34m\u001b[0m\u001b[0;34m\u001b[0m\u001b[0m\n\u001b[0;32m--> 263\u001b[0;31m             return [func(*args, **kwargs)\n\u001b[0m\u001b[1;32m    264\u001b[0m                     for func, args, kwargs in self.items]\n\u001b[1;32m    265\u001b[0m \u001b[0;34m\u001b[0m\u001b[0m\n",
            "\u001b[0;32m/usr/local/lib/python3.9/dist-packages/sklearn/utils/parallel.py\u001b[0m in \u001b[0;36m__call__\u001b[0;34m(self, *args, **kwargs)\u001b[0m\n\u001b[1;32m    121\u001b[0m             \u001b[0mconfig\u001b[0m \u001b[0;34m=\u001b[0m \u001b[0;34m{\u001b[0m\u001b[0;34m}\u001b[0m\u001b[0;34m\u001b[0m\u001b[0;34m\u001b[0m\u001b[0m\n\u001b[1;32m    122\u001b[0m         \u001b[0;32mwith\u001b[0m \u001b[0mconfig_context\u001b[0m\u001b[0;34m(\u001b[0m\u001b[0;34m**\u001b[0m\u001b[0mconfig\u001b[0m\u001b[0;34m)\u001b[0m\u001b[0;34m:\u001b[0m\u001b[0;34m\u001b[0m\u001b[0;34m\u001b[0m\u001b[0m\n\u001b[0;32m--> 123\u001b[0;31m             \u001b[0;32mreturn\u001b[0m \u001b[0mself\u001b[0m\u001b[0;34m.\u001b[0m\u001b[0mfunction\u001b[0m\u001b[0;34m(\u001b[0m\u001b[0;34m*\u001b[0m\u001b[0margs\u001b[0m\u001b[0;34m,\u001b[0m \u001b[0;34m**\u001b[0m\u001b[0mkwargs\u001b[0m\u001b[0;34m)\u001b[0m\u001b[0;34m\u001b[0m\u001b[0;34m\u001b[0m\u001b[0m\n\u001b[0m",
            "\u001b[0;32m/usr/local/lib/python3.9/dist-packages/sklearn/model_selection/_validation.py\u001b[0m in \u001b[0;36m_fit_and_score\u001b[0;34m(estimator, X, y, scorer, train, test, verbose, parameters, fit_params, return_train_score, return_parameters, return_n_test_samples, return_times, return_estimator, split_progress, candidate_progress, error_score)\u001b[0m\n\u001b[1;32m    684\u001b[0m             \u001b[0mestimator\u001b[0m\u001b[0;34m.\u001b[0m\u001b[0mfit\u001b[0m\u001b[0;34m(\u001b[0m\u001b[0mX_train\u001b[0m\u001b[0;34m,\u001b[0m \u001b[0;34m**\u001b[0m\u001b[0mfit_params\u001b[0m\u001b[0;34m)\u001b[0m\u001b[0;34m\u001b[0m\u001b[0;34m\u001b[0m\u001b[0m\n\u001b[1;32m    685\u001b[0m         \u001b[0;32melse\u001b[0m\u001b[0;34m:\u001b[0m\u001b[0;34m\u001b[0m\u001b[0;34m\u001b[0m\u001b[0m\n\u001b[0;32m--> 686\u001b[0;31m             \u001b[0mestimator\u001b[0m\u001b[0;34m.\u001b[0m\u001b[0mfit\u001b[0m\u001b[0;34m(\u001b[0m\u001b[0mX_train\u001b[0m\u001b[0;34m,\u001b[0m \u001b[0my_train\u001b[0m\u001b[0;34m,\u001b[0m \u001b[0;34m**\u001b[0m\u001b[0mfit_params\u001b[0m\u001b[0;34m)\u001b[0m\u001b[0;34m\u001b[0m\u001b[0;34m\u001b[0m\u001b[0m\n\u001b[0m\u001b[1;32m    687\u001b[0m \u001b[0;34m\u001b[0m\u001b[0m\n\u001b[1;32m    688\u001b[0m     \u001b[0;32mexcept\u001b[0m \u001b[0mException\u001b[0m\u001b[0;34m:\u001b[0m\u001b[0;34m\u001b[0m\u001b[0;34m\u001b[0m\u001b[0m\n",
            "\u001b[0;32m/usr/local/lib/python3.9/dist-packages/sklearn/pipeline.py\u001b[0m in \u001b[0;36mfit\u001b[0;34m(self, X, y, **fit_params)\u001b[0m\n\u001b[1;32m    403\u001b[0m             \u001b[0;32mif\u001b[0m \u001b[0mself\u001b[0m\u001b[0;34m.\u001b[0m\u001b[0m_final_estimator\u001b[0m \u001b[0;34m!=\u001b[0m \u001b[0;34m\"passthrough\"\u001b[0m\u001b[0;34m:\u001b[0m\u001b[0;34m\u001b[0m\u001b[0;34m\u001b[0m\u001b[0m\n\u001b[1;32m    404\u001b[0m                 \u001b[0mfit_params_last_step\u001b[0m \u001b[0;34m=\u001b[0m \u001b[0mfit_params_steps\u001b[0m\u001b[0;34m[\u001b[0m\u001b[0mself\u001b[0m\u001b[0;34m.\u001b[0m\u001b[0msteps\u001b[0m\u001b[0;34m[\u001b[0m\u001b[0;34m-\u001b[0m\u001b[0;36m1\u001b[0m\u001b[0;34m]\u001b[0m\u001b[0;34m[\u001b[0m\u001b[0;36m0\u001b[0m\u001b[0;34m]\u001b[0m\u001b[0;34m]\u001b[0m\u001b[0;34m\u001b[0m\u001b[0;34m\u001b[0m\u001b[0m\n\u001b[0;32m--> 405\u001b[0;31m                 \u001b[0mself\u001b[0m\u001b[0;34m.\u001b[0m\u001b[0m_final_estimator\u001b[0m\u001b[0;34m.\u001b[0m\u001b[0mfit\u001b[0m\u001b[0;34m(\u001b[0m\u001b[0mXt\u001b[0m\u001b[0;34m,\u001b[0m \u001b[0my\u001b[0m\u001b[0;34m,\u001b[0m \u001b[0;34m**\u001b[0m\u001b[0mfit_params_last_step\u001b[0m\u001b[0;34m)\u001b[0m\u001b[0;34m\u001b[0m\u001b[0;34m\u001b[0m\u001b[0m\n\u001b[0m\u001b[1;32m    406\u001b[0m \u001b[0;34m\u001b[0m\u001b[0m\n\u001b[1;32m    407\u001b[0m         \u001b[0;32mreturn\u001b[0m \u001b[0mself\u001b[0m\u001b[0;34m\u001b[0m\u001b[0;34m\u001b[0m\u001b[0m\n",
            "\u001b[0;32m/usr/local/lib/python3.9/dist-packages/sklearn/ensemble/_gb.py\u001b[0m in \u001b[0;36mfit\u001b[0;34m(self, X, y, sample_weight, monitor)\u001b[0m\n\u001b[1;32m    536\u001b[0m \u001b[0;34m\u001b[0m\u001b[0m\n\u001b[1;32m    537\u001b[0m         \u001b[0;31m# fit the boosting stages\u001b[0m\u001b[0;34m\u001b[0m\u001b[0;34m\u001b[0m\u001b[0m\n\u001b[0;32m--> 538\u001b[0;31m         n_stages = self._fit_stages(\n\u001b[0m\u001b[1;32m    539\u001b[0m             \u001b[0mX\u001b[0m\u001b[0;34m,\u001b[0m\u001b[0;34m\u001b[0m\u001b[0;34m\u001b[0m\u001b[0m\n\u001b[1;32m    540\u001b[0m             \u001b[0my\u001b[0m\u001b[0;34m,\u001b[0m\u001b[0;34m\u001b[0m\u001b[0;34m\u001b[0m\u001b[0m\n",
            "\u001b[0;32m/usr/local/lib/python3.9/dist-packages/sklearn/ensemble/_gb.py\u001b[0m in \u001b[0;36m_fit_stages\u001b[0;34m(self, X, y, raw_predictions, sample_weight, random_state, X_val, y_val, sample_weight_val, begin_at_stage, monitor)\u001b[0m\n\u001b[1;32m    613\u001b[0m \u001b[0;34m\u001b[0m\u001b[0m\n\u001b[1;32m    614\u001b[0m             \u001b[0;31m# fit next stage of trees\u001b[0m\u001b[0;34m\u001b[0m\u001b[0;34m\u001b[0m\u001b[0m\n\u001b[0;32m--> 615\u001b[0;31m             raw_predictions = self._fit_stage(\n\u001b[0m\u001b[1;32m    616\u001b[0m                 \u001b[0mi\u001b[0m\u001b[0;34m,\u001b[0m\u001b[0;34m\u001b[0m\u001b[0;34m\u001b[0m\u001b[0m\n\u001b[1;32m    617\u001b[0m                 \u001b[0mX\u001b[0m\u001b[0;34m,\u001b[0m\u001b[0;34m\u001b[0m\u001b[0;34m\u001b[0m\u001b[0m\n",
            "\u001b[0;32m/usr/local/lib/python3.9/dist-packages/sklearn/ensemble/_gb.py\u001b[0m in \u001b[0;36m_fit_stage\u001b[0;34m(self, i, X, y, raw_predictions, sample_weight, sample_mask, random_state, X_csc, X_csr)\u001b[0m\n\u001b[1;32m    255\u001b[0m \u001b[0;34m\u001b[0m\u001b[0m\n\u001b[1;32m    256\u001b[0m             \u001b[0mX\u001b[0m \u001b[0;34m=\u001b[0m \u001b[0mX_csr\u001b[0m \u001b[0;32mif\u001b[0m \u001b[0mX_csr\u001b[0m \u001b[0;32mis\u001b[0m \u001b[0;32mnot\u001b[0m \u001b[0;32mNone\u001b[0m \u001b[0;32melse\u001b[0m \u001b[0mX\u001b[0m\u001b[0;34m\u001b[0m\u001b[0;34m\u001b[0m\u001b[0m\n\u001b[0;32m--> 257\u001b[0;31m             \u001b[0mtree\u001b[0m\u001b[0;34m.\u001b[0m\u001b[0mfit\u001b[0m\u001b[0;34m(\u001b[0m\u001b[0mX\u001b[0m\u001b[0;34m,\u001b[0m \u001b[0mresidual\u001b[0m\u001b[0;34m,\u001b[0m \u001b[0msample_weight\u001b[0m\u001b[0;34m=\u001b[0m\u001b[0msample_weight\u001b[0m\u001b[0;34m,\u001b[0m \u001b[0mcheck_input\u001b[0m\u001b[0;34m=\u001b[0m\u001b[0;32mFalse\u001b[0m\u001b[0;34m)\u001b[0m\u001b[0;34m\u001b[0m\u001b[0;34m\u001b[0m\u001b[0m\n\u001b[0m\u001b[1;32m    258\u001b[0m \u001b[0;34m\u001b[0m\u001b[0m\n\u001b[1;32m    259\u001b[0m             \u001b[0;31m# update tree leaves\u001b[0m\u001b[0;34m\u001b[0m\u001b[0;34m\u001b[0m\u001b[0m\n",
            "\u001b[0;32m/usr/local/lib/python3.9/dist-packages/sklearn/tree/_classes.py\u001b[0m in \u001b[0;36mfit\u001b[0;34m(self, X, y, sample_weight, check_input)\u001b[0m\n\u001b[1;32m   1245\u001b[0m         \"\"\"\n\u001b[1;32m   1246\u001b[0m \u001b[0;34m\u001b[0m\u001b[0m\n\u001b[0;32m-> 1247\u001b[0;31m         super().fit(\n\u001b[0m\u001b[1;32m   1248\u001b[0m             \u001b[0mX\u001b[0m\u001b[0;34m,\u001b[0m\u001b[0;34m\u001b[0m\u001b[0;34m\u001b[0m\u001b[0m\n\u001b[1;32m   1249\u001b[0m             \u001b[0my\u001b[0m\u001b[0;34m,\u001b[0m\u001b[0;34m\u001b[0m\u001b[0;34m\u001b[0m\u001b[0m\n",
            "\u001b[0;32m/usr/local/lib/python3.9/dist-packages/sklearn/tree/_classes.py\u001b[0m in \u001b[0;36mfit\u001b[0;34m(self, X, y, sample_weight, check_input)\u001b[0m\n\u001b[1;32m    377\u001b[0m             )\n\u001b[1;32m    378\u001b[0m \u001b[0;34m\u001b[0m\u001b[0m\n\u001b[0;32m--> 379\u001b[0;31m         \u001b[0mbuilder\u001b[0m\u001b[0;34m.\u001b[0m\u001b[0mbuild\u001b[0m\u001b[0;34m(\u001b[0m\u001b[0mself\u001b[0m\u001b[0;34m.\u001b[0m\u001b[0mtree_\u001b[0m\u001b[0;34m,\u001b[0m \u001b[0mX\u001b[0m\u001b[0;34m,\u001b[0m \u001b[0my\u001b[0m\u001b[0;34m,\u001b[0m \u001b[0msample_weight\u001b[0m\u001b[0;34m)\u001b[0m\u001b[0;34m\u001b[0m\u001b[0;34m\u001b[0m\u001b[0m\n\u001b[0m\u001b[1;32m    380\u001b[0m \u001b[0;34m\u001b[0m\u001b[0m\n\u001b[1;32m    381\u001b[0m         \u001b[0;32mif\u001b[0m \u001b[0mself\u001b[0m\u001b[0;34m.\u001b[0m\u001b[0mn_outputs_\u001b[0m \u001b[0;34m==\u001b[0m \u001b[0;36m1\u001b[0m \u001b[0;32mand\u001b[0m \u001b[0mis_classifier\u001b[0m\u001b[0;34m(\u001b[0m\u001b[0mself\u001b[0m\u001b[0;34m)\u001b[0m\u001b[0;34m:\u001b[0m\u001b[0;34m\u001b[0m\u001b[0;34m\u001b[0m\u001b[0m\n",
            "\u001b[0;31mKeyboardInterrupt\u001b[0m: "
          ]
        }
      ]
    },
    {
      "cell_type": "markdown",
      "source": [
        "I ran out of time and was not able to tune these hyperparameters. Gradient boosting classifiers take a long time to train. Let's retrain the gradient boosting model."
      ],
      "metadata": {
        "id": "U8MHElWVujDY"
      }
    },
    {
      "cell_type": "code",
      "source": [
        "# Create the Gradient Boosting model\n",
        "gb_model = GradientBoostingClassifier(random_state=42)\n",
        "\n",
        "# Perform 5-fold cross-validation and get the AUC scores\n",
        "cv_auc_scores = cross_val_score(gb_model, X_train, y_train, cv=5, scoring='roc_auc')\n",
        "\n",
        "# Calculate the mean AUC and standard deviation\n",
        "mean_auc = cv_auc_scores.mean()\n",
        "std_auc = cv_auc_scores.std()\n",
        "\n",
        "# Print the results\n",
        "print(f\"Gradient Boosting - mean AUC: {mean_auc:.4f}, std: {std_auc:.4f}\")\n",
        "\n",
        "# Train the Gradient Boosting model on the entire training set\n",
        "gb_model.fit(X_train, y_train)"
      ],
      "metadata": {
        "id": "rjQil53xvuRJ",
        "outputId": "816485db-8ddc-40ed-bd2d-ab1effe36b8e",
        "colab": {
          "base_uri": "https://localhost:8080/",
          "height": 92
        }
      },
      "execution_count": 31,
      "outputs": [
        {
          "output_type": "stream",
          "name": "stdout",
          "text": [
            "Gradient Boosting - mean AUC: 0.7816, std: 0.0080\n"
          ]
        },
        {
          "output_type": "execute_result",
          "data": {
            "text/plain": [
              "GradientBoostingClassifier(random_state=42)"
            ],
            "text/html": [
              "<style>#sk-container-id-2 {color: black;background-color: white;}#sk-container-id-2 pre{padding: 0;}#sk-container-id-2 div.sk-toggleable {background-color: white;}#sk-container-id-2 label.sk-toggleable__label {cursor: pointer;display: block;width: 100%;margin-bottom: 0;padding: 0.3em;box-sizing: border-box;text-align: center;}#sk-container-id-2 label.sk-toggleable__label-arrow:before {content: \"▸\";float: left;margin-right: 0.25em;color: #696969;}#sk-container-id-2 label.sk-toggleable__label-arrow:hover:before {color: black;}#sk-container-id-2 div.sk-estimator:hover label.sk-toggleable__label-arrow:before {color: black;}#sk-container-id-2 div.sk-toggleable__content {max-height: 0;max-width: 0;overflow: hidden;text-align: left;background-color: #f0f8ff;}#sk-container-id-2 div.sk-toggleable__content pre {margin: 0.2em;color: black;border-radius: 0.25em;background-color: #f0f8ff;}#sk-container-id-2 input.sk-toggleable__control:checked~div.sk-toggleable__content {max-height: 200px;max-width: 100%;overflow: auto;}#sk-container-id-2 input.sk-toggleable__control:checked~label.sk-toggleable__label-arrow:before {content: \"▾\";}#sk-container-id-2 div.sk-estimator input.sk-toggleable__control:checked~label.sk-toggleable__label {background-color: #d4ebff;}#sk-container-id-2 div.sk-label input.sk-toggleable__control:checked~label.sk-toggleable__label {background-color: #d4ebff;}#sk-container-id-2 input.sk-hidden--visually {border: 0;clip: rect(1px 1px 1px 1px);clip: rect(1px, 1px, 1px, 1px);height: 1px;margin: -1px;overflow: hidden;padding: 0;position: absolute;width: 1px;}#sk-container-id-2 div.sk-estimator {font-family: monospace;background-color: #f0f8ff;border: 1px dotted black;border-radius: 0.25em;box-sizing: border-box;margin-bottom: 0.5em;}#sk-container-id-2 div.sk-estimator:hover {background-color: #d4ebff;}#sk-container-id-2 div.sk-parallel-item::after {content: \"\";width: 100%;border-bottom: 1px solid gray;flex-grow: 1;}#sk-container-id-2 div.sk-label:hover label.sk-toggleable__label {background-color: #d4ebff;}#sk-container-id-2 div.sk-serial::before {content: \"\";position: absolute;border-left: 1px solid gray;box-sizing: border-box;top: 0;bottom: 0;left: 50%;z-index: 0;}#sk-container-id-2 div.sk-serial {display: flex;flex-direction: column;align-items: center;background-color: white;padding-right: 0.2em;padding-left: 0.2em;position: relative;}#sk-container-id-2 div.sk-item {position: relative;z-index: 1;}#sk-container-id-2 div.sk-parallel {display: flex;align-items: stretch;justify-content: center;background-color: white;position: relative;}#sk-container-id-2 div.sk-item::before, #sk-container-id-2 div.sk-parallel-item::before {content: \"\";position: absolute;border-left: 1px solid gray;box-sizing: border-box;top: 0;bottom: 0;left: 50%;z-index: -1;}#sk-container-id-2 div.sk-parallel-item {display: flex;flex-direction: column;z-index: 1;position: relative;background-color: white;}#sk-container-id-2 div.sk-parallel-item:first-child::after {align-self: flex-end;width: 50%;}#sk-container-id-2 div.sk-parallel-item:last-child::after {align-self: flex-start;width: 50%;}#sk-container-id-2 div.sk-parallel-item:only-child::after {width: 0;}#sk-container-id-2 div.sk-dashed-wrapped {border: 1px dashed gray;margin: 0 0.4em 0.5em 0.4em;box-sizing: border-box;padding-bottom: 0.4em;background-color: white;}#sk-container-id-2 div.sk-label label {font-family: monospace;font-weight: bold;display: inline-block;line-height: 1.2em;}#sk-container-id-2 div.sk-label-container {text-align: center;}#sk-container-id-2 div.sk-container {/* jupyter's `normalize.less` sets `[hidden] { display: none; }` but bootstrap.min.css set `[hidden] { display: none !important; }` so we also need the `!important` here to be able to override the default hidden behavior on the sphinx rendered scikit-learn.org. See: https://github.com/scikit-learn/scikit-learn/issues/21755 */display: inline-block !important;position: relative;}#sk-container-id-2 div.sk-text-repr-fallback {display: none;}</style><div id=\"sk-container-id-2\" class=\"sk-top-container\"><div class=\"sk-text-repr-fallback\"><pre>GradientBoostingClassifier(random_state=42)</pre><b>In a Jupyter environment, please rerun this cell to show the HTML representation or trust the notebook. <br />On GitHub, the HTML representation is unable to render, please try loading this page with nbviewer.org.</b></div><div class=\"sk-container\" hidden><div class=\"sk-item\"><div class=\"sk-estimator sk-toggleable\"><input class=\"sk-toggleable__control sk-hidden--visually\" id=\"sk-estimator-id-2\" type=\"checkbox\" checked><label for=\"sk-estimator-id-2\" class=\"sk-toggleable__label sk-toggleable__label-arrow\">GradientBoostingClassifier</label><div class=\"sk-toggleable__content\"><pre>GradientBoostingClassifier(random_state=42)</pre></div></div></div></div></div>"
            ]
          },
          "metadata": {},
          "execution_count": 31
        }
      ]
    },
    {
      "cell_type": "markdown",
      "source": [
        "Save the models for use in other notebooks."
      ],
      "metadata": {
        "id": "NSNQMxFE6M2r"
      }
    },
    {
      "cell_type": "code",
      "source": [
        "joblib.dump(logistic_regression, 'logistic_regression_model.pkl')\n",
        "joblib.dump(gb_model, 'gb_model.pkl')\n",
        "files.download('logistic_regression_model.pkl')\n",
        "files.download('gb_model.pkl')"
      ],
      "metadata": {
        "id": "Nc8NjVzf6Jra",
        "outputId": "12fa15fc-7bbf-41df-9b02-d30cb5b90dbb",
        "colab": {
          "base_uri": "https://localhost:8080/",
          "height": 17
        }
      },
      "execution_count": 32,
      "outputs": [
        {
          "output_type": "display_data",
          "data": {
            "text/plain": [
              "<IPython.core.display.Javascript object>"
            ],
            "application/javascript": [
              "\n",
              "    async function download(id, filename, size) {\n",
              "      if (!google.colab.kernel.accessAllowed) {\n",
              "        return;\n",
              "      }\n",
              "      const div = document.createElement('div');\n",
              "      const label = document.createElement('label');\n",
              "      label.textContent = `Downloading \"${filename}\": `;\n",
              "      div.appendChild(label);\n",
              "      const progress = document.createElement('progress');\n",
              "      progress.max = size;\n",
              "      div.appendChild(progress);\n",
              "      document.body.appendChild(div);\n",
              "\n",
              "      const buffers = [];\n",
              "      let downloaded = 0;\n",
              "\n",
              "      const channel = await google.colab.kernel.comms.open(id);\n",
              "      // Send a message to notify the kernel that we're ready.\n",
              "      channel.send({})\n",
              "\n",
              "      for await (const message of channel.messages) {\n",
              "        // Send a message to notify the kernel that we're ready.\n",
              "        channel.send({})\n",
              "        if (message.buffers) {\n",
              "          for (const buffer of message.buffers) {\n",
              "            buffers.push(buffer);\n",
              "            downloaded += buffer.byteLength;\n",
              "            progress.value = downloaded;\n",
              "          }\n",
              "        }\n",
              "      }\n",
              "      const blob = new Blob(buffers, {type: 'application/binary'});\n",
              "      const a = document.createElement('a');\n",
              "      a.href = window.URL.createObjectURL(blob);\n",
              "      a.download = filename;\n",
              "      div.appendChild(a);\n",
              "      a.click();\n",
              "      div.remove();\n",
              "    }\n",
              "  "
            ]
          },
          "metadata": {}
        },
        {
          "output_type": "display_data",
          "data": {
            "text/plain": [
              "<IPython.core.display.Javascript object>"
            ],
            "application/javascript": [
              "download(\"download_0a5c5fa0-c13c-4120-a156-204fe1e00bf6\", \"logistic_regression_model.pkl\", 2191)"
            ]
          },
          "metadata": {}
        },
        {
          "output_type": "display_data",
          "data": {
            "text/plain": [
              "<IPython.core.display.Javascript object>"
            ],
            "application/javascript": [
              "\n",
              "    async function download(id, filename, size) {\n",
              "      if (!google.colab.kernel.accessAllowed) {\n",
              "        return;\n",
              "      }\n",
              "      const div = document.createElement('div');\n",
              "      const label = document.createElement('label');\n",
              "      label.textContent = `Downloading \"${filename}\": `;\n",
              "      div.appendChild(label);\n",
              "      const progress = document.createElement('progress');\n",
              "      progress.max = size;\n",
              "      div.appendChild(progress);\n",
              "      document.body.appendChild(div);\n",
              "\n",
              "      const buffers = [];\n",
              "      let downloaded = 0;\n",
              "\n",
              "      const channel = await google.colab.kernel.comms.open(id);\n",
              "      // Send a message to notify the kernel that we're ready.\n",
              "      channel.send({})\n",
              "\n",
              "      for await (const message of channel.messages) {\n",
              "        // Send a message to notify the kernel that we're ready.\n",
              "        channel.send({})\n",
              "        if (message.buffers) {\n",
              "          for (const buffer of message.buffers) {\n",
              "            buffers.push(buffer);\n",
              "            downloaded += buffer.byteLength;\n",
              "            progress.value = downloaded;\n",
              "          }\n",
              "        }\n",
              "      }\n",
              "      const blob = new Blob(buffers, {type: 'application/binary'});\n",
              "      const a = document.createElement('a');\n",
              "      a.href = window.URL.createObjectURL(blob);\n",
              "      a.download = filename;\n",
              "      div.appendChild(a);\n",
              "      a.click();\n",
              "      div.remove();\n",
              "    }\n",
              "  "
            ]
          },
          "metadata": {}
        },
        {
          "output_type": "display_data",
          "data": {
            "text/plain": [
              "<IPython.core.display.Javascript object>"
            ],
            "application/javascript": [
              "download(\"download_575458f6-a7c9-4f25-bd45-3126979b0bbb\", \"gb_model.pkl\", 176990)"
            ]
          },
          "metadata": {}
        }
      ]
    }
  ]
}