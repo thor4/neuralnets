{
  "nbformat": 4,
  "nbformat_minor": 0,
  "metadata": {
    "colab": {
      "name": "Untitled1.ipynb",
      "provenance": [],
      "authorship_tag": "ABX9TyNOXQAvm9YtI9pojfu0NP40",
      "include_colab_link": true
    },
    "kernelspec": {
      "name": "python3",
      "display_name": "Python 3"
    },
    "language_info": {
      "name": "python"
    }
  },
  "cells": [
    {
      "cell_type": "markdown",
      "metadata": {
        "id": "view-in-github",
        "colab_type": "text"
      },
      "source": [
        "<a href=\"https://colab.research.google.com/github/thor4/neuralnets/blob/master/projects/1-CNN/step_4_process_behavioral_results.ipynb\" target=\"_parent\"><img src=\"https://colab.research.google.com/assets/colab-badge.svg\" alt=\"Open In Colab\"/></a>"
      ]
    },
    {
      "cell_type": "markdown",
      "metadata": {
        "id": "Z-KE4xmZlba8"
      },
      "source": [
        "Load matlab file containing subject-level confidence and accuracy"
      ]
    },
    {
      "cell_type": "code",
      "metadata": {
        "id": "Cmn1g9mNlYF5"
      },
      "source": [
        "from scipy.io import loadmat\n",
        "results = loadmat('subject_results_sub_tilt_cont.mat')"
      ],
      "execution_count": 4,
      "outputs": []
    },
    {
      "cell_type": "code",
      "metadata": {
        "colab": {
          "base_uri": "https://localhost:8080/"
        },
        "id": "nM0hwzN7m1Bs",
        "outputId": "b4071b59-2b3d-4f66-dc57-89fb9aaf1b59"
      },
      "source": [
        "results.keys()"
      ],
      "execution_count": 7,
      "outputs": [
        {
          "output_type": "execute_result",
          "data": {
            "text/plain": [
              "dict_keys(['__header__', '__version__', '__globals__', 'accuracy', 'confidence', 'subjects'])"
            ]
          },
          "metadata": {},
          "execution_count": 7
        }
      ]
    },
    {
      "cell_type": "code",
      "metadata": {
        "colab": {
          "base_uri": "https://localhost:8080/"
        },
        "id": "NuPj_2Lam9gT",
        "outputId": "06160097-6385-4d82-87dc-d1d5fca12837"
      },
      "source": [
        "results['accuracy'].shape"
      ],
      "execution_count": 10,
      "outputs": [
        {
          "output_type": "execute_result",
          "data": {
            "text/plain": [
              "(55, 3, 3)"
            ]
          },
          "metadata": {},
          "execution_count": 10
        }
      ]
    },
    {
      "cell_type": "code",
      "metadata": {
        "id": "-M8Kn9B3oPlW"
      },
      "source": [
        "accuracy = results['accuracy']"
      ],
      "execution_count": 11,
      "outputs": []
    },
    {
      "cell_type": "code",
      "metadata": {
        "colab": {
          "base_uri": "https://localhost:8080/"
        },
        "id": "HjEkcqUFolOi",
        "outputId": "d42246cf-3e41-4797-d72d-a969b123c23e"
      },
      "source": [
        "accuracy[0]"
      ],
      "execution_count": 13,
      "outputs": [
        {
          "output_type": "execute_result",
          "data": {
            "text/plain": [
              "array([[0.64, 0.69, 0.7 ],\n",
              "       [0.65, 0.79, 0.84],\n",
              "       [0.84, 0.95, 0.95]])"
            ]
          },
          "metadata": {},
          "execution_count": 13
        }
      ]
    },
    {
      "cell_type": "code",
      "metadata": {
        "colab": {
          "base_uri": "https://localhost:8080/",
          "height": 35
        },
        "id": "4OLN9-NnmgP8",
        "outputId": "96af871a-3bfe-495f-bdda-cce2fc272068"
      },
      "source": [
        "import os\n",
        "os.getcwd()"
      ],
      "execution_count": 3,
      "outputs": [
        {
          "output_type": "execute_result",
          "data": {
            "application/vnd.google.colaboratory.intrinsic+json": {
              "type": "string"
            },
            "text/plain": [
              "'/content'"
            ]
          },
          "metadata": {},
          "execution_count": 3
        }
      ]
    }
  ]
}