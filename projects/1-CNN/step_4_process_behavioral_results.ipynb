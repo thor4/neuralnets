{
  "nbformat": 4,
  "nbformat_minor": 0,
  "metadata": {
    "colab": {
      "name": "Untitled1.ipynb",
      "provenance": [],
      "authorship_tag": "ABX9TyOvohFnJFLUw5LAO+MU2RNT",
      "include_colab_link": true
    },
    "kernelspec": {
      "name": "python3",
      "display_name": "Python 3"
    },
    "language_info": {
      "name": "python"
    }
  },
  "cells": [
    {
      "cell_type": "markdown",
      "metadata": {
        "id": "view-in-github",
        "colab_type": "text"
      },
      "source": [
        "<a href=\"https://colab.research.google.com/github/thor4/neuralnets/blob/master/projects/1-CNN/step_4_process_behavioral_results.ipynb\" target=\"_parent\"><img src=\"https://colab.research.google.com/assets/colab-badge.svg\" alt=\"Open In Colab\"/></a>"
      ]
    },
    {
      "cell_type": "markdown",
      "metadata": {
        "id": "65lD7JmQqJKf"
      },
      "source": [
        "## 1: Load behavioral results\n",
        "These were the results of running this experiment across 55 subjects. Run the cell to download a zip file from OSF then extract the matlab file `subject_results_sub_tilt_cont.mat` into the current directory."
      ]
    },
    {
      "cell_type": "code",
      "metadata": {
        "cellView": "form",
        "id": "QeS3gpAzr1Vk",
        "outputId": "a93ed050-6fee-485c-e580-e9b20eab9569",
        "colab": {
          "base_uri": "https://localhost:8080/"
        }
      },
      "source": [
        "# @title Download behavioral results\n",
        "\n",
        "import requests, os\n",
        "from zipfile import ZipFile\n",
        "\n",
        "print(\"Start downloading and unzipping `Behavioral results`...\")\n",
        "name = 'behavioral_results'\n",
        "fname = f\"{name}.zip\"\n",
        "url = f\"https://osf.io/wsg26/download\" #osf share link\n",
        "r = requests.get(url, allow_redirects=True)\n",
        "with open(fname, 'wb') as fh:\n",
        "  fh.write(r.content) #download file\n",
        "\n",
        "with ZipFile(fname, 'r') as zfile:\n",
        "  zfile.extractall() #extract contents\n",
        "\n",
        "if os.path.exists(fname):\n",
        "  os.remove(fname) #delete zip file\n",
        "else:\n",
        "  print(f\"The file {fname} does not exist\")\n",
        "\n",
        "print(\"Download completed.\")"
      ],
      "execution_count": 1,
      "outputs": [
        {
          "output_type": "stream",
          "name": "stdout",
          "text": [
            "Start downloading and unzipping `Behavioral results`...\n",
            "Download completed.\n"
          ]
        }
      ]
    },
    {
      "cell_type": "markdown",
      "metadata": {
        "id": "31zlOC1dq5-E"
      },
      "source": [
        "The file is comprised of a 55x3x3 matrix labeled `accuracy`, a 55x3x3 matrix named `confidence`, and a vector of length 55 named `subjects`. The subjects vector contains the id of the subject data used. The accuracy matrix contains how accurate each subject was for each of 3 tilt and 3 contrast combinations in a `subject x tilt x contrast` shape. The confidence matrix contains the same thing, but has confidence values instead."
      ]
    },
    {
      "cell_type": "markdown",
      "metadata": {
        "id": "Z-KE4xmZlba8"
      },
      "source": [
        "Load matlab file containing subject-level confidence and accuracy"
      ]
    },
    {
      "cell_type": "code",
      "metadata": {
        "id": "SNVa-ghmFcga"
      },
      "source": [
        "import numpy as np\n",
        "from scipy.io import loadmat"
      ],
      "execution_count": 7,
      "outputs": []
    },
    {
      "cell_type": "code",
      "metadata": {
        "id": "Cmn1g9mNlYF5"
      },
      "source": [
        "results = loadmat('subject_results_sub_tilt_cont.mat')"
      ],
      "execution_count": 2,
      "outputs": []
    },
    {
      "cell_type": "code",
      "metadata": {
        "colab": {
          "base_uri": "https://localhost:8080/"
        },
        "id": "nM0hwzN7m1Bs",
        "outputId": "35182a17-ab00-427b-b1a6-e0208ba1e0df"
      },
      "source": [
        "results.keys()"
      ],
      "execution_count": 3,
      "outputs": [
        {
          "output_type": "execute_result",
          "data": {
            "text/plain": [
              "dict_keys(['__header__', '__version__', '__globals__', 'accuracy', 'confidence', 'subjects'])"
            ]
          },
          "metadata": {},
          "execution_count": 3
        }
      ]
    },
    {
      "cell_type": "code",
      "metadata": {
        "colab": {
          "base_uri": "https://localhost:8080/"
        },
        "id": "NuPj_2Lam9gT",
        "outputId": "62a023cf-919d-4987-b718-c52b1808db1b"
      },
      "source": [
        "results['accuracy'].shape"
      ],
      "execution_count": 4,
      "outputs": [
        {
          "output_type": "execute_result",
          "data": {
            "text/plain": [
              "(55, 3, 3)"
            ]
          },
          "metadata": {},
          "execution_count": 4
        }
      ]
    },
    {
      "cell_type": "code",
      "metadata": {
        "id": "-M8Kn9B3oPlW"
      },
      "source": [
        "accuracy = results['accuracy']"
      ],
      "execution_count": 5,
      "outputs": []
    },
    {
      "cell_type": "markdown",
      "metadata": {
        "id": "brV0fXC5dPJ3"
      },
      "source": [
        "Let's check the first subject's accuracy for all 9 tilt x contrast combinations."
      ]
    },
    {
      "cell_type": "code",
      "metadata": {
        "colab": {
          "base_uri": "https://localhost:8080/"
        },
        "id": "HjEkcqUFolOi",
        "outputId": "be8402e8-8796-4eae-b8ec-c515619c5337"
      },
      "source": [
        "accuracy[0] "
      ],
      "execution_count": 6,
      "outputs": [
        {
          "output_type": "execute_result",
          "data": {
            "text/plain": [
              "array([[0.64, 0.69, 0.7 ],\n",
              "       [0.65, 0.79, 0.84],\n",
              "       [0.84, 0.95, 0.95]])"
            ]
          },
          "metadata": {},
          "execution_count": 6
        }
      ]
    },
    {
      "cell_type": "code",
      "metadata": {
        "colab": {
          "base_uri": "https://localhost:8080/"
        },
        "id": "4OLN9-NnmgP8",
        "outputId": "56485d7f-9aa1-47a4-f4ae-9a5b59211313"
      },
      "source": [
        "avg_acc = np.average(accuracy, axis=0)\n",
        "avg_acc"
      ],
      "execution_count": 9,
      "outputs": [
        {
          "output_type": "execute_result",
          "data": {
            "text/plain": [
              "array([[0.55890909, 0.58781818, 0.60909091],\n",
              "       [0.58945455, 0.66709091, 0.70872727],\n",
              "       [0.69890909, 0.78672727, 0.82636364]])"
            ]
          },
          "metadata": {},
          "execution_count": 9
        }
      ]
    }
  ]
}