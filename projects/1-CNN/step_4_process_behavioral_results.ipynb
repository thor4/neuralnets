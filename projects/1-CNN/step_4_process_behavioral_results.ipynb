{
  "nbformat": 4,
  "nbformat_minor": 0,
  "metadata": {
    "colab": {
      "name": "Untitled1.ipynb",
      "provenance": [],
      "authorship_tag": "ABX9TyOsyyOVRTVq9R93OTCppbfR",
      "include_colab_link": true
    },
    "kernelspec": {
      "name": "python3",
      "display_name": "Python 3"
    },
    "language_info": {
      "name": "python"
    }
  },
  "cells": [
    {
      "cell_type": "markdown",
      "metadata": {
        "id": "view-in-github",
        "colab_type": "text"
      },
      "source": [
        "<a href=\"https://colab.research.google.com/github/thor4/neuralnets/blob/master/projects/1-CNN/step_4_process_behavioral_results.ipynb\" target=\"_parent\"><img src=\"https://colab.research.google.com/assets/colab-badge.svg\" alt=\"Open In Colab\"/></a>"
      ]
    },
    {
      "cell_type": "markdown",
      "metadata": {
        "id": "65lD7JmQqJKf"
      },
      "source": [
        "## 1: Load behavioral results\n",
        "These were the results of running this experiment across 55 subjects. Run the cell to download a zip file from OSF then extract the matlab file `subject_results_sub_tilt_cont.mat` into the current directory."
      ]
    },
    {
      "cell_type": "code",
      "metadata": {
        "cellView": "form",
        "id": "QeS3gpAzr1Vk",
        "outputId": "fb044a97-5d44-4023-a3f0-ad6d73a2951d",
        "colab": {
          "base_uri": "https://localhost:8080/"
        }
      },
      "source": [
        "# @title Download behavioral results\n",
        "\n",
        "import requests, os\n",
        "from zipfile import ZipFile\n",
        "\n",
        "print(\"Start downloading and unzipping `Behavioral results`...\")\n",
        "name = 'behavioral_results'\n",
        "fname = f\"{name}.zip\"\n",
        "url = f\"https://osf.io/wsg26/download\" #osf share link\n",
        "r = requests.get(url, allow_redirects=True)\n",
        "with open(fname, 'wb') as fh:\n",
        "  fh.write(r.content) #download file\n",
        "\n",
        "with ZipFile(fname, 'r') as zfile:\n",
        "  zfile.extractall() #extract contents\n",
        "\n",
        "if os.path.exists(fname):\n",
        "  os.remove(fname) #delete zip file\n",
        "else:\n",
        "  print(f\"The file {fname} does not exist\")\n",
        "\n",
        "print(\"Download completed.\")"
      ],
      "execution_count": 1,
      "outputs": [
        {
          "output_type": "stream",
          "name": "stdout",
          "text": [
            "Start downloading and unzipping `Behavioral results`...\n",
            "Download completed.\n"
          ]
        }
      ]
    },
    {
      "cell_type": "markdown",
      "metadata": {
        "id": "31zlOC1dq5-E"
      },
      "source": [
        "The file is comprised of a 55x3x3 matrix labeled `accuracy`, a 55x3x3 matrix named `confidence`, and a vector of length 55 named `subjects`. The subjects vector contains the id of the subject data used. The accuracy matrix contains how accurate each subject was for each of 3 tilt and 3 contrast combinations in a `subject x tilt x contrast` shape. The confidence matrix contains the same thing, but has confidence values instead."
      ]
    },
    {
      "cell_type": "markdown",
      "metadata": {
        "id": "Z-KE4xmZlba8"
      },
      "source": [
        "Load matlab file containing subject-level confidence and accuracy"
      ]
    },
    {
      "cell_type": "code",
      "metadata": {
        "id": "SNVa-ghmFcga"
      },
      "source": [
        "import numpy as np\n",
        "import pandas as pd\n",
        "from scipy.io import loadmat"
      ],
      "execution_count": 9,
      "outputs": []
    },
    {
      "cell_type": "code",
      "metadata": {
        "id": "Cmn1g9mNlYF5"
      },
      "source": [
        "results = loadmat('subject_results_sub_tilt_cont.mat')"
      ],
      "execution_count": 3,
      "outputs": []
    },
    {
      "cell_type": "code",
      "metadata": {
        "colab": {
          "base_uri": "https://localhost:8080/"
        },
        "id": "nM0hwzN7m1Bs",
        "outputId": "3185aa19-67df-4310-c2b3-301ffdfdf253"
      },
      "source": [
        "results.keys()"
      ],
      "execution_count": 4,
      "outputs": [
        {
          "output_type": "execute_result",
          "data": {
            "text/plain": [
              "dict_keys(['__header__', '__version__', '__globals__', 'accuracy', 'confidence', 'subjects'])"
            ]
          },
          "metadata": {},
          "execution_count": 4
        }
      ]
    },
    {
      "cell_type": "code",
      "metadata": {
        "colab": {
          "base_uri": "https://localhost:8080/"
        },
        "id": "NuPj_2Lam9gT",
        "outputId": "c5dc5406-4867-467f-c14b-18c73b7f6254"
      },
      "source": [
        "results['accuracy'].shape"
      ],
      "execution_count": 5,
      "outputs": [
        {
          "output_type": "execute_result",
          "data": {
            "text/plain": [
              "(55, 3, 3)"
            ]
          },
          "metadata": {},
          "execution_count": 5
        }
      ]
    },
    {
      "cell_type": "code",
      "metadata": {
        "id": "-M8Kn9B3oPlW"
      },
      "source": [
        "accuracy = results['accuracy']"
      ],
      "execution_count": 6,
      "outputs": []
    },
    {
      "cell_type": "markdown",
      "metadata": {
        "id": "brV0fXC5dPJ3"
      },
      "source": [
        "Let's check the first subject's accuracy for all 9 tilt x contrast combinations."
      ]
    },
    {
      "cell_type": "code",
      "metadata": {
        "colab": {
          "base_uri": "https://localhost:8080/"
        },
        "id": "HjEkcqUFolOi",
        "outputId": "25761dab-cbf2-4bb3-8944-3d74809e5201"
      },
      "source": [
        "accuracy[0] "
      ],
      "execution_count": 7,
      "outputs": [
        {
          "output_type": "execute_result",
          "data": {
            "text/plain": [
              "array([[0.64, 0.69, 0.7 ],\n",
              "       [0.65, 0.79, 0.84],\n",
              "       [0.84, 0.95, 0.95]])"
            ]
          },
          "metadata": {},
          "execution_count": 7
        }
      ]
    },
    {
      "cell_type": "markdown",
      "source": [
        "Now, let's average over all subjects to find the mean accuracy for each tilt x contrast condition."
      ],
      "metadata": {
        "id": "T0kZOX7U4Rh4"
      }
    },
    {
      "cell_type": "code",
      "metadata": {
        "colab": {
          "base_uri": "https://localhost:8080/"
        },
        "id": "4OLN9-NnmgP8",
        "outputId": "28a29112-5870-4b91-ce02-ab5ca617c492"
      },
      "source": [
        "avg_acc = np.average(accuracy, axis=0)\n",
        "avg_acc"
      ],
      "execution_count": 13,
      "outputs": [
        {
          "output_type": "execute_result",
          "data": {
            "text/plain": [
              "array([[0.55890909, 0.58781818, 0.60909091],\n",
              "       [0.58945455, 0.66709091, 0.70872727],\n",
              "       [0.69890909, 0.78672727, 0.82636364]])"
            ]
          },
          "metadata": {},
          "execution_count": 13
        }
      ]
    },
    {
      "cell_type": "markdown",
      "source": [
        "Do the same for confidence."
      ],
      "metadata": {
        "id": "pcAsN7g044m-"
      }
    },
    {
      "cell_type": "code",
      "source": [
        "avg_conf = np.average(results['confidence'], axis=0)\n",
        "avg_conf"
      ],
      "metadata": {
        "id": "mhEDZvBC46aB",
        "outputId": "b8507c70-7663-4067-e17a-55390754d5c7",
        "colab": {
          "base_uri": "https://localhost:8080/"
        }
      },
      "execution_count": 8,
      "outputs": [
        {
          "output_type": "execute_result",
          "data": {
            "text/plain": [
              "array([[2.05836364, 2.25127273, 2.46509091],\n",
              "       [2.08072727, 2.29509091, 2.53545455],\n",
              "       [2.17872727, 2.48781818, 2.792     ]])"
            ]
          },
          "metadata": {},
          "execution_count": 8
        }
      ]
    },
    {
      "cell_type": "code",
      "source": [
        "avg_acc.flatten() #unroll avg acc matrix"
      ],
      "metadata": {
        "id": "keBzmenK5pw-",
        "outputId": "30f0456f-4177-4c67-eedd-7454214576b7",
        "colab": {
          "base_uri": "https://localhost:8080/"
        }
      },
      "execution_count": 14,
      "outputs": [
        {
          "output_type": "execute_result",
          "data": {
            "text/plain": [
              "array([0.55890909, 0.58781818, 0.60909091, 0.58945455, 0.66709091,\n",
              "       0.70872727, 0.69890909, 0.78672727, 0.82636364])"
            ]
          },
          "metadata": {},
          "execution_count": 14
        }
      ]
    },
    {
      "cell_type": "markdown",
      "source": [
        "Add to a pandas dataframe to obtain output similar to the neural networks. STOPPED HERE. ENSURE CONCATENATION MATCHES ALL VALUES APPROPRIATELY"
      ],
      "metadata": {
        "id": "oy38MjZ35Lak"
      }
    },
    {
      "cell_type": "code",
      "source": [
        "df_results = pd.concat([df_results, pd.DataFrame({'Accuracy':[acc],\n",
        "                                                    'Confidence':[conf]})], \n",
        "                         axis=0, ignore_index=True) #append logits & labels to dataframe"
      ],
      "metadata": {
        "id": "a22zfw4X5Kee"
      },
      "execution_count": null,
      "outputs": []
    }
  ]
}