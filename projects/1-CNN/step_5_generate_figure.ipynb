{
  "nbformat": 4,
  "nbformat_minor": 0,
  "metadata": {
    "colab": {
      "name": "step_5_generate_figure.ipynb",
      "provenance": [],
      "authorship_tag": "ABX9TyOWN8wUWk2gKBdnzM4g7zVp",
      "include_colab_link": true
    },
    "kernelspec": {
      "name": "python3",
      "display_name": "Python 3"
    },
    "language_info": {
      "name": "python"
    }
  },
  "cells": [
    {
      "cell_type": "markdown",
      "metadata": {
        "id": "view-in-github",
        "colab_type": "text"
      },
      "source": [
        "<a href=\"https://colab.research.google.com/github/thor4/neuralnets/blob/master/projects/1-CNN/step_5_generate_figure.ipynb\" target=\"_parent\"><img src=\"https://colab.research.google.com/assets/colab-badge.svg\" alt=\"Open In Colab\"/></a>"
      ]
    },
    {
      "cell_type": "markdown",
      "source": [
        "# Visualize results"
      ],
      "metadata": {
        "id": "6Wk5yMRgs7br"
      }
    },
    {
      "cell_type": "markdown",
      "metadata": {
        "id": "65lD7JmQqJKf"
      },
      "source": [
        "## 1: Load confidence & accuracy results\n",
        "Run the cell to download a zip file from OSF then extract the following excel spreadsheets: `results_behavioral.xlsx`, `results_cifar10.xlsx`, `results_van3.xlsx`, and `results_vgg16-raw_conf.xlsx` into the current directory."
      ]
    },
    {
      "cell_type": "code",
      "metadata": {
        "cellView": "form",
        "id": "QeS3gpAzr1Vk",
        "outputId": "94109f8d-7f7a-48ee-b25a-9bacc02ea638",
        "colab": {
          "base_uri": "https://localhost:8080/"
        }
      },
      "source": [
        "# @title Download results\n",
        "\n",
        "import requests, os\n",
        "from zipfile import ZipFile\n",
        "\n",
        "print(\"Start downloading and unzipping `Confidence & accuracy results`...\")\n",
        "name = 'conf_acc_results'\n",
        "fname = f\"{name}.zip\"\n",
        "url = f\"https://osf.io/xsf62/download\" #osf share link\n",
        "r = requests.get(url, allow_redirects=True)\n",
        "with open(fname, 'wb') as fh:\n",
        "  fh.write(r.content) #download file\n",
        "\n",
        "with ZipFile(fname, 'r') as zfile:\n",
        "  zfile.extractall() #extract contents\n",
        "\n",
        "if os.path.exists(fname):\n",
        "  os.remove(fname) #delete zip file\n",
        "else:\n",
        "  print(f\"The file {fname} does not exist\")\n",
        "\n",
        "print(\"Download completed.\")"
      ],
      "execution_count": 1,
      "outputs": [
        {
          "output_type": "stream",
          "name": "stdout",
          "text": [
            "Start downloading and unzipping `Confidence & accuracy results`...\n",
            "Download completed.\n"
          ]
        }
      ]
    },
    {
      "cell_type": "markdown",
      "metadata": {
        "id": "31zlOC1dq5-E"
      },
      "source": [
        "These were the average confidence and accuracy results of the VGG16, CIFAR10 and Gabor models. The CIFAR10 and Gabor models used a vanilla CNN architecture. The VGG16 & CIFAR10 used transfer learning to fine-tune their top layers for the Gabor classification task. The Gabor model was trained specifically for the Gabor classifaction task. The behavioral results are also included and comprise the average confidence and accuracy results across 55 subjects."
      ]
    },
    {
      "cell_type": "code",
      "source": [
        "# @title Download behavioral results matlab file\n",
        "\n",
        "import requests, os\n",
        "from zipfile import ZipFile\n",
        "\n",
        "print(\"Start downloading and unzipping `Behavioral results matlab file`...\")\n",
        "name = 'behavioral_results'\n",
        "fname = f\"{name}.zip\"\n",
        "url = f\"https://osf.io/wsg26/download\" #osf share link\n",
        "r = requests.get(url, allow_redirects=True)\n",
        "with open(fname, 'wb') as fh:\n",
        "  fh.write(r.content) #download file\n",
        "\n",
        "with ZipFile(fname, 'r') as zfile:\n",
        "  zfile.extractall() #extract contents\n",
        "\n",
        "if os.path.exists(fname):\n",
        "  os.remove(fname) #delete zip file\n",
        "else:\n",
        "  print(f\"The file {fname} does not exist\")\n",
        "\n",
        "print(\"Download completed.\")"
      ],
      "metadata": {
        "cellView": "form",
        "colab": {
          "base_uri": "https://localhost:8080/"
        },
        "id": "qQKuZz8EmmRK",
        "outputId": "87c801f8-2eb7-41a8-aaae-ed1695c335f0"
      },
      "execution_count": 2,
      "outputs": [
        {
          "output_type": "stream",
          "name": "stdout",
          "text": [
            "Start downloading and unzipping `Behavioral results matlab file`...\n",
            "Download completed.\n"
          ]
        }
      ]
    },
    {
      "cell_type": "markdown",
      "source": [
        "The file is comprised of a 55x3x3 matrix labeled accuracy, a 55x3x3 matrix named confidence, and a vector of length 55 named subjects. The subjects vector contains the id of the subject data used. The accuracy matrix contains how accurate each subject was for each of 3 tilt and 3 contrast combinations in a subject x tilt x contrast shape. The confidence matrix contains the same thing, but has confidence values instead."
      ],
      "metadata": {
        "id": "q8kurRzLmxL5"
      }
    },
    {
      "cell_type": "markdown",
      "metadata": {
        "id": "Z-KE4xmZlba8"
      },
      "source": [
        "Load necessary libraries."
      ]
    },
    {
      "cell_type": "code",
      "metadata": {
        "id": "SNVa-ghmFcga"
      },
      "source": [
        "import numpy as np\n",
        "import pandas as pd\n",
        "import seaborn as sns\n",
        "from scipy.io import loadmat\n",
        "from scipy.stats import sem\n",
        "import matplotlib.pyplot as plt\n",
        "import matplotlib"
      ],
      "execution_count": 3,
      "outputs": []
    },
    {
      "cell_type": "code",
      "source": [
        "results = loadmat('subject_results_sub_tilt_cont.mat')\n",
        "results.keys()"
      ],
      "metadata": {
        "colab": {
          "base_uri": "https://localhost:8080/"
        },
        "id": "Ip1GE2TSg5ow",
        "outputId": "051f9dc1-0218-41fc-c71d-6c46abe9eb92"
      },
      "execution_count": 4,
      "outputs": [
        {
          "output_type": "execute_result",
          "data": {
            "text/plain": [
              "dict_keys(['__header__', '__version__', '__globals__', 'accuracy', 'confidence', 'subjects'])"
            ]
          },
          "metadata": {},
          "execution_count": 4
        }
      ]
    },
    {
      "cell_type": "markdown",
      "source": [
        "Extract confidence and accuracy."
      ],
      "metadata": {
        "id": "ZgfjKWDMgvyB"
      }
    },
    {
      "cell_type": "code",
      "source": [
        "accuracy = results['accuracy']\n",
        "confidence = results['confidence']"
      ],
      "metadata": {
        "id": "issEzjPOgrv7"
      },
      "execution_count": 5,
      "outputs": []
    },
    {
      "cell_type": "code",
      "source": [
        "confidence.shape"
      ],
      "metadata": {
        "colab": {
          "base_uri": "https://localhost:8080/"
        },
        "id": "RnJFSAXyjOdB",
        "outputId": "7cb12b7d-8d8f-458a-d2e4-d66749a92bf1"
      },
      "execution_count": null,
      "outputs": [
        {
          "output_type": "execute_result",
          "data": {
            "text/plain": [
              "(55, 3, 3)"
            ]
          },
          "metadata": {},
          "execution_count": 6
        }
      ]
    },
    {
      "cell_type": "markdown",
      "source": [
        "How many total samples are there (55x3x3)?"
      ],
      "metadata": {
        "id": "jvfQt5Sjky_a"
      }
    },
    {
      "cell_type": "code",
      "source": [
        "np.count_nonzero(confidence)"
      ],
      "metadata": {
        "colab": {
          "base_uri": "https://localhost:8080/"
        },
        "id": "7FZmQQF0kuMT",
        "outputId": "067ccc05-a4f0-4db8-9bc8-763e28510d05"
      },
      "execution_count": null,
      "outputs": [
        {
          "output_type": "execute_result",
          "data": {
            "text/plain": [
              "495"
            ]
          },
          "metadata": {},
          "execution_count": 7
        }
      ]
    },
    {
      "cell_type": "markdown",
      "source": [
        "Repeat the tilt array 3 times for all conditions (9) then 55 times for all subjects."
      ],
      "metadata": {
        "id": "4r_Cg7EklndM"
      }
    },
    {
      "cell_type": "code",
      "source": [
        "#d = {'col1': [1, 2], 'col2': [3, 4]}\n",
        "\n",
        "#beh_tilts = np.array([[1,2],[3,4]])\n",
        "beh_tilts = np.array([1,1,1,2,2,2,3,3,3])\n",
        "all_beh_tilts = np.tile(beh_tilts, 55)\n",
        "print(all_beh_tilts)\n",
        "print(all_beh_tilts.shape)"
      ],
      "metadata": {
        "colab": {
          "base_uri": "https://localhost:8080/"
        },
        "id": "zVLWGMtghn8j",
        "outputId": "4d14134d-52fc-4f9e-ba73-ade5899dcb08"
      },
      "execution_count": 6,
      "outputs": [
        {
          "output_type": "stream",
          "name": "stdout",
          "text": [
            "[1 1 1 2 2 2 3 3 3 1 1 1 2 2 2 3 3 3 1 1 1 2 2 2 3 3 3 1 1 1 2 2 2 3 3 3 1\n",
            " 1 1 2 2 2 3 3 3 1 1 1 2 2 2 3 3 3 1 1 1 2 2 2 3 3 3 1 1 1 2 2 2 3 3 3 1 1\n",
            " 1 2 2 2 3 3 3 1 1 1 2 2 2 3 3 3 1 1 1 2 2 2 3 3 3 1 1 1 2 2 2 3 3 3 1 1 1\n",
            " 2 2 2 3 3 3 1 1 1 2 2 2 3 3 3 1 1 1 2 2 2 3 3 3 1 1 1 2 2 2 3 3 3 1 1 1 2\n",
            " 2 2 3 3 3 1 1 1 2 2 2 3 3 3 1 1 1 2 2 2 3 3 3 1 1 1 2 2 2 3 3 3 1 1 1 2 2\n",
            " 2 3 3 3 1 1 1 2 2 2 3 3 3 1 1 1 2 2 2 3 3 3 1 1 1 2 2 2 3 3 3 1 1 1 2 2 2\n",
            " 3 3 3 1 1 1 2 2 2 3 3 3 1 1 1 2 2 2 3 3 3 1 1 1 2 2 2 3 3 3 1 1 1 2 2 2 3\n",
            " 3 3 1 1 1 2 2 2 3 3 3 1 1 1 2 2 2 3 3 3 1 1 1 2 2 2 3 3 3 1 1 1 2 2 2 3 3\n",
            " 3 1 1 1 2 2 2 3 3 3 1 1 1 2 2 2 3 3 3 1 1 1 2 2 2 3 3 3 1 1 1 2 2 2 3 3 3\n",
            " 1 1 1 2 2 2 3 3 3 1 1 1 2 2 2 3 3 3 1 1 1 2 2 2 3 3 3 1 1 1 2 2 2 3 3 3 1\n",
            " 1 1 2 2 2 3 3 3 1 1 1 2 2 2 3 3 3 1 1 1 2 2 2 3 3 3 1 1 1 2 2 2 3 3 3 1 1\n",
            " 1 2 2 2 3 3 3 1 1 1 2 2 2 3 3 3 1 1 1 2 2 2 3 3 3 1 1 1 2 2 2 3 3 3 1 1 1\n",
            " 2 2 2 3 3 3 1 1 1 2 2 2 3 3 3 1 1 1 2 2 2 3 3 3 1 1 1 2 2 2 3 3 3 1 1 1 2\n",
            " 2 2 3 3 3 1 1 1 2 2 2 3 3 3]\n",
            "(495,)\n"
          ]
        }
      ]
    },
    {
      "cell_type": "markdown",
      "source": [
        "Do the same for contrast."
      ],
      "metadata": {
        "id": "9BYYZzsgndc7"
      }
    },
    {
      "cell_type": "code",
      "source": [
        "beh_contrast = np.array([1,2,3])\n",
        "all_beh_contrast = np.tile(beh_contrast, 165)\n",
        "print(all_beh_contrast)\n",
        "print(all_beh_contrast.shape)"
      ],
      "metadata": {
        "colab": {
          "base_uri": "https://localhost:8080/"
        },
        "id": "NBB7v9ccm4be",
        "outputId": "f660bdbe-4a22-44c9-dc14-265bef3524ed"
      },
      "execution_count": 7,
      "outputs": [
        {
          "output_type": "stream",
          "name": "stdout",
          "text": [
            "[1 2 3 1 2 3 1 2 3 1 2 3 1 2 3 1 2 3 1 2 3 1 2 3 1 2 3 1 2 3 1 2 3 1 2 3 1\n",
            " 2 3 1 2 3 1 2 3 1 2 3 1 2 3 1 2 3 1 2 3 1 2 3 1 2 3 1 2 3 1 2 3 1 2 3 1 2\n",
            " 3 1 2 3 1 2 3 1 2 3 1 2 3 1 2 3 1 2 3 1 2 3 1 2 3 1 2 3 1 2 3 1 2 3 1 2 3\n",
            " 1 2 3 1 2 3 1 2 3 1 2 3 1 2 3 1 2 3 1 2 3 1 2 3 1 2 3 1 2 3 1 2 3 1 2 3 1\n",
            " 2 3 1 2 3 1 2 3 1 2 3 1 2 3 1 2 3 1 2 3 1 2 3 1 2 3 1 2 3 1 2 3 1 2 3 1 2\n",
            " 3 1 2 3 1 2 3 1 2 3 1 2 3 1 2 3 1 2 3 1 2 3 1 2 3 1 2 3 1 2 3 1 2 3 1 2 3\n",
            " 1 2 3 1 2 3 1 2 3 1 2 3 1 2 3 1 2 3 1 2 3 1 2 3 1 2 3 1 2 3 1 2 3 1 2 3 1\n",
            " 2 3 1 2 3 1 2 3 1 2 3 1 2 3 1 2 3 1 2 3 1 2 3 1 2 3 1 2 3 1 2 3 1 2 3 1 2\n",
            " 3 1 2 3 1 2 3 1 2 3 1 2 3 1 2 3 1 2 3 1 2 3 1 2 3 1 2 3 1 2 3 1 2 3 1 2 3\n",
            " 1 2 3 1 2 3 1 2 3 1 2 3 1 2 3 1 2 3 1 2 3 1 2 3 1 2 3 1 2 3 1 2 3 1 2 3 1\n",
            " 2 3 1 2 3 1 2 3 1 2 3 1 2 3 1 2 3 1 2 3 1 2 3 1 2 3 1 2 3 1 2 3 1 2 3 1 2\n",
            " 3 1 2 3 1 2 3 1 2 3 1 2 3 1 2 3 1 2 3 1 2 3 1 2 3 1 2 3 1 2 3 1 2 3 1 2 3\n",
            " 1 2 3 1 2 3 1 2 3 1 2 3 1 2 3 1 2 3 1 2 3 1 2 3 1 2 3 1 2 3 1 2 3 1 2 3 1\n",
            " 2 3 1 2 3 1 2 3 1 2 3 1 2 3]\n",
            "(495,)\n"
          ]
        }
      ]
    },
    {
      "cell_type": "code",
      "source": [
        "accuracy.shape"
      ],
      "metadata": {
        "colab": {
          "base_uri": "https://localhost:8080/"
        },
        "id": "qmhzfouSrwnT",
        "outputId": "0ceff376-33f1-4ec9-f30e-4fa339ea60d3"
      },
      "execution_count": null,
      "outputs": [
        {
          "output_type": "execute_result",
          "data": {
            "text/plain": [
              "(55, 3, 3)"
            ]
          },
          "metadata": {},
          "execution_count": 11
        }
      ]
    },
    {
      "cell_type": "code",
      "source": [
        "accuracy[1,:,:]"
      ],
      "metadata": {
        "colab": {
          "base_uri": "https://localhost:8080/"
        },
        "id": "4T2o6RLkr0pM",
        "outputId": "e46466b6-0f0e-4b91-f5bc-1f698b4b8881"
      },
      "execution_count": null,
      "outputs": [
        {
          "output_type": "execute_result",
          "data": {
            "text/plain": [
              "array([[0.53, 0.54, 0.5 ],\n",
              "       [0.52, 0.53, 0.58],\n",
              "       [0.69, 0.73, 0.7 ]])"
            ]
          },
          "metadata": {},
          "execution_count": 12
        }
      ]
    },
    {
      "cell_type": "markdown",
      "source": [
        "Confirm the flatten operation is unrolling accuracy first by subject (1st dim), then by tilt (2nd dim), then by contrast (3rd dim). `accuracy` is subject x tilt x contrast"
      ],
      "metadata": {
        "id": "_ubLPALlvBL-"
      }
    },
    {
      "cell_type": "code",
      "source": [
        "test2 = accuracy.flatten(order='C')\n",
        "test2"
      ],
      "metadata": {
        "colab": {
          "base_uri": "https://localhost:8080/"
        },
        "id": "RhmnSi5hsz54",
        "outputId": "470e4332-28e4-42be-9178-84cefa3567f7"
      },
      "execution_count": null,
      "outputs": [
        {
          "output_type": "execute_result",
          "data": {
            "text/plain": [
              "array([0.64, 0.69, 0.7 , 0.65, 0.79, 0.84, 0.84, 0.95, 0.95, 0.53, 0.54,\n",
              "       0.5 , 0.52, 0.53, 0.58, 0.69, 0.73, 0.7 , 0.54, 0.57, 0.67, 0.6 ,\n",
              "       0.66, 0.77, 0.78, 0.85, 0.9 , 0.62, 0.54, 0.57, 0.63, 0.68, 0.71,\n",
              "       0.82, 0.74, 0.79, 0.52, 0.58, 0.57, 0.53, 0.63, 0.57, 0.6 , 0.58,\n",
              "       0.71, 0.61, 0.64, 0.69, 0.63, 0.76, 0.8 , 0.81, 0.92, 0.95, 0.62,\n",
              "       0.61, 0.54, 0.57, 0.62, 0.68, 0.77, 0.75, 0.78, 0.55, 0.61, 0.68,\n",
              "       0.63, 0.67, 0.72, 0.7 , 0.83, 0.88, 0.58, 0.62, 0.7 , 0.6 , 0.65,\n",
              "       0.78, 0.79, 0.87, 0.97, 0.47, 0.65, 0.71, 0.56, 0.8 , 0.75, 0.73,\n",
              "       0.98, 0.95, 0.57, 0.51, 0.66, 0.64, 0.64, 0.73, 0.74, 0.8 , 0.82,\n",
              "       0.57, 0.59, 0.55, 0.69, 0.71, 0.7 , 0.81, 0.81, 0.85, 0.53, 0.6 ,\n",
              "       0.53, 0.55, 0.66, 0.52, 0.55, 0.6 , 0.67, 0.57, 0.6 , 0.64, 0.64,\n",
              "       0.6 , 0.64, 0.74, 0.85, 0.86, 0.6 , 0.6 , 0.67, 0.58, 0.8 , 0.8 ,\n",
              "       0.86, 0.91, 0.91, 0.59, 0.71, 0.72, 0.67, 0.86, 0.87, 0.79, 0.92,\n",
              "       0.95, 0.6 , 0.57, 0.64, 0.49, 0.6 , 0.72, 0.61, 0.75, 0.86, 0.49,\n",
              "       0.49, 0.56, 0.55, 0.57, 0.61, 0.62, 0.65, 0.71, 0.57, 0.64, 0.53,\n",
              "       0.67, 0.72, 0.68, 0.79, 0.79, 0.94, 0.69, 0.57, 0.61, 0.6 , 0.58,\n",
              "       0.78, 0.7 , 0.74, 0.89, 0.69, 0.69, 0.69, 0.53, 0.83, 0.86, 0.75,\n",
              "       0.92, 0.97, 0.47, 0.58, 0.56, 0.55, 0.71, 0.62, 0.64, 0.75, 0.78,\n",
              "       0.57, 0.61, 0.6 , 0.6 , 0.56, 0.77, 0.77, 0.71, 0.82, 0.58, 0.7 ,\n",
              "       0.72, 0.68, 0.8 , 0.86, 0.86, 0.94, 0.99, 0.59, 0.58, 0.58, 0.49,\n",
              "       0.7 , 0.6 , 0.61, 0.76, 0.73, 0.55, 0.64, 0.64, 0.71, 0.65, 0.69,\n",
              "       0.78, 0.74, 0.87, 0.56, 0.64, 0.62, 0.65, 0.64, 0.67, 0.68, 0.75,\n",
              "       0.8 , 0.57, 0.59, 0.58, 0.66, 0.59, 0.72, 0.7 , 0.72, 0.85, 0.48,\n",
              "       0.7 , 0.73, 0.53, 0.68, 0.85, 0.74, 0.91, 0.99, 0.56, 0.47, 0.55,\n",
              "       0.52, 0.57, 0.62, 0.49, 0.7 , 0.71, 0.5 , 0.49, 0.55, 0.63, 0.68,\n",
              "       0.63, 0.73, 0.81, 0.75, 0.48, 0.56, 0.62, 0.6 , 0.62, 0.59, 0.58,\n",
              "       0.71, 0.73, 0.51, 0.63, 0.63, 0.63, 0.77, 0.79, 0.64, 0.79, 0.89,\n",
              "       0.49, 0.61, 0.67, 0.59, 0.67, 0.7 , 0.76, 0.81, 0.93, 0.51, 0.54,\n",
              "       0.58, 0.62, 0.58, 0.66, 0.53, 0.75, 0.79, 0.62, 0.67, 0.57, 0.7 ,\n",
              "       0.73, 0.77, 0.81, 0.85, 0.89, 0.53, 0.59, 0.73, 0.56, 0.77, 0.85,\n",
              "       0.78, 0.91, 0.94, 0.48, 0.55, 0.53, 0.47, 0.53, 0.62, 0.51, 0.64,\n",
              "       0.61, 0.52, 0.6 , 0.64, 0.66, 0.71, 0.71, 0.7 , 0.83, 0.86, 0.63,\n",
              "       0.56, 0.57, 0.54, 0.58, 0.61, 0.62, 0.68, 0.73, 0.6 , 0.52, 0.63,\n",
              "       0.54, 0.67, 0.59, 0.73, 0.86, 0.72, 0.62, 0.56, 0.63, 0.68, 0.74,\n",
              "       0.76, 0.77, 0.87, 0.89, 0.61, 0.58, 0.5 , 0.51, 0.58, 0.55, 0.59,\n",
              "       0.7 , 0.64, 0.51, 0.44, 0.52, 0.54, 0.5 , 0.53, 0.69, 0.7 , 0.66,\n",
              "       0.55, 0.57, 0.54, 0.46, 0.53, 0.68, 0.58, 0.59, 0.6 , 0.51, 0.59,\n",
              "       0.54, 0.49, 0.67, 0.69, 0.68, 0.65, 0.72, 0.59, 0.65, 0.61, 0.5 ,\n",
              "       0.76, 0.78, 0.73, 0.94, 0.85, 0.58, 0.55, 0.58, 0.64, 0.67, 0.76,\n",
              "       0.68, 0.74, 0.83, 0.53, 0.6 , 0.63, 0.6 , 0.65, 0.71, 0.66, 0.77,\n",
              "       0.81, 0.57, 0.58, 0.64, 0.59, 0.79, 0.78, 0.64, 0.86, 0.93, 0.55,\n",
              "       0.5 , 0.43, 0.55, 0.65, 0.65, 0.57, 0.68, 0.68, 0.51, 0.46, 0.5 ,\n",
              "       0.59, 0.52, 0.67, 0.54, 0.65, 0.79, 0.53, 0.61, 0.66, 0.69, 0.72,\n",
              "       0.83, 0.83, 0.92, 0.95, 0.63, 0.59, 0.65, 0.62, 0.68, 0.74, 0.66,\n",
              "       0.74, 0.86, 0.5 , 0.6 , 0.64, 0.5 , 0.66, 0.82, 0.67, 0.9 , 0.85])"
            ]
          },
          "metadata": {},
          "execution_count": 13
        }
      ]
    },
    {
      "cell_type": "code",
      "source": [
        "df_beh = pd.DataFrame(columns=['Tilt','Contrast','Accuracy','Confidence']) #initialize dataframe\n",
        "df_beh['Tilt'] = all_beh_tilts\n",
        "df_beh['Contrast'] = all_beh_contrast\n",
        "df_beh['Accuracy'] = accuracy.flatten(order='C')\n",
        "df_beh['Confidence'] = confidence.flatten(order='C')\n",
        "df_beh.head()"
      ],
      "metadata": {
        "colab": {
          "base_uri": "https://localhost:8080/",
          "height": 206
        },
        "id": "o1be0PxypHs5",
        "outputId": "c57293e2-7d31-45e1-f458-284e209e2f1e"
      },
      "execution_count": 8,
      "outputs": [
        {
          "output_type": "execute_result",
          "data": {
            "text/html": [
              "\n",
              "  <div id=\"df-f6547d2a-4cfd-4963-bd0d-869194d563bf\">\n",
              "    <div class=\"colab-df-container\">\n",
              "      <div>\n",
              "<style scoped>\n",
              "    .dataframe tbody tr th:only-of-type {\n",
              "        vertical-align: middle;\n",
              "    }\n",
              "\n",
              "    .dataframe tbody tr th {\n",
              "        vertical-align: top;\n",
              "    }\n",
              "\n",
              "    .dataframe thead th {\n",
              "        text-align: right;\n",
              "    }\n",
              "</style>\n",
              "<table border=\"1\" class=\"dataframe\">\n",
              "  <thead>\n",
              "    <tr style=\"text-align: right;\">\n",
              "      <th></th>\n",
              "      <th>Tilt</th>\n",
              "      <th>Contrast</th>\n",
              "      <th>Accuracy</th>\n",
              "      <th>Confidence</th>\n",
              "    </tr>\n",
              "  </thead>\n",
              "  <tbody>\n",
              "    <tr>\n",
              "      <th>0</th>\n",
              "      <td>1</td>\n",
              "      <td>1</td>\n",
              "      <td>0.64</td>\n",
              "      <td>1.90</td>\n",
              "    </tr>\n",
              "    <tr>\n",
              "      <th>1</th>\n",
              "      <td>1</td>\n",
              "      <td>2</td>\n",
              "      <td>0.69</td>\n",
              "      <td>1.87</td>\n",
              "    </tr>\n",
              "    <tr>\n",
              "      <th>2</th>\n",
              "      <td>1</td>\n",
              "      <td>3</td>\n",
              "      <td>0.70</td>\n",
              "      <td>2.18</td>\n",
              "    </tr>\n",
              "    <tr>\n",
              "      <th>3</th>\n",
              "      <td>2</td>\n",
              "      <td>1</td>\n",
              "      <td>0.65</td>\n",
              "      <td>1.94</td>\n",
              "    </tr>\n",
              "    <tr>\n",
              "      <th>4</th>\n",
              "      <td>2</td>\n",
              "      <td>2</td>\n",
              "      <td>0.79</td>\n",
              "      <td>1.95</td>\n",
              "    </tr>\n",
              "  </tbody>\n",
              "</table>\n",
              "</div>\n",
              "      <button class=\"colab-df-convert\" onclick=\"convertToInteractive('df-f6547d2a-4cfd-4963-bd0d-869194d563bf')\"\n",
              "              title=\"Convert this dataframe to an interactive table.\"\n",
              "              style=\"display:none;\">\n",
              "        \n",
              "  <svg xmlns=\"http://www.w3.org/2000/svg\" height=\"24px\"viewBox=\"0 0 24 24\"\n",
              "       width=\"24px\">\n",
              "    <path d=\"M0 0h24v24H0V0z\" fill=\"none\"/>\n",
              "    <path d=\"M18.56 5.44l.94 2.06.94-2.06 2.06-.94-2.06-.94-.94-2.06-.94 2.06-2.06.94zm-11 1L8.5 8.5l.94-2.06 2.06-.94-2.06-.94L8.5 2.5l-.94 2.06-2.06.94zm10 10l.94 2.06.94-2.06 2.06-.94-2.06-.94-.94-2.06-.94 2.06-2.06.94z\"/><path d=\"M17.41 7.96l-1.37-1.37c-.4-.4-.92-.59-1.43-.59-.52 0-1.04.2-1.43.59L10.3 9.45l-7.72 7.72c-.78.78-.78 2.05 0 2.83L4 21.41c.39.39.9.59 1.41.59.51 0 1.02-.2 1.41-.59l7.78-7.78 2.81-2.81c.8-.78.8-2.07 0-2.86zM5.41 20L4 18.59l7.72-7.72 1.47 1.35L5.41 20z\"/>\n",
              "  </svg>\n",
              "      </button>\n",
              "      \n",
              "  <style>\n",
              "    .colab-df-container {\n",
              "      display:flex;\n",
              "      flex-wrap:wrap;\n",
              "      gap: 12px;\n",
              "    }\n",
              "\n",
              "    .colab-df-convert {\n",
              "      background-color: #E8F0FE;\n",
              "      border: none;\n",
              "      border-radius: 50%;\n",
              "      cursor: pointer;\n",
              "      display: none;\n",
              "      fill: #1967D2;\n",
              "      height: 32px;\n",
              "      padding: 0 0 0 0;\n",
              "      width: 32px;\n",
              "    }\n",
              "\n",
              "    .colab-df-convert:hover {\n",
              "      background-color: #E2EBFA;\n",
              "      box-shadow: 0px 1px 2px rgba(60, 64, 67, 0.3), 0px 1px 3px 1px rgba(60, 64, 67, 0.15);\n",
              "      fill: #174EA6;\n",
              "    }\n",
              "\n",
              "    [theme=dark] .colab-df-convert {\n",
              "      background-color: #3B4455;\n",
              "      fill: #D2E3FC;\n",
              "    }\n",
              "\n",
              "    [theme=dark] .colab-df-convert:hover {\n",
              "      background-color: #434B5C;\n",
              "      box-shadow: 0px 1px 3px 1px rgba(0, 0, 0, 0.15);\n",
              "      filter: drop-shadow(0px 1px 2px rgba(0, 0, 0, 0.3));\n",
              "      fill: #FFFFFF;\n",
              "    }\n",
              "  </style>\n",
              "\n",
              "      <script>\n",
              "        const buttonEl =\n",
              "          document.querySelector('#df-f6547d2a-4cfd-4963-bd0d-869194d563bf button.colab-df-convert');\n",
              "        buttonEl.style.display =\n",
              "          google.colab.kernel.accessAllowed ? 'block' : 'none';\n",
              "\n",
              "        async function convertToInteractive(key) {\n",
              "          const element = document.querySelector('#df-f6547d2a-4cfd-4963-bd0d-869194d563bf');\n",
              "          const dataTable =\n",
              "            await google.colab.kernel.invokeFunction('convertToInteractive',\n",
              "                                                     [key], {});\n",
              "          if (!dataTable) return;\n",
              "\n",
              "          const docLinkHtml = 'Like what you see? Visit the ' +\n",
              "            '<a target=\"_blank\" href=https://colab.research.google.com/notebooks/data_table.ipynb>data table notebook</a>'\n",
              "            + ' to learn more about interactive tables.';\n",
              "          element.innerHTML = '';\n",
              "          dataTable['output_type'] = 'display_data';\n",
              "          await google.colab.output.renderOutput(dataTable, element);\n",
              "          const docLink = document.createElement('div');\n",
              "          docLink.innerHTML = docLinkHtml;\n",
              "          element.appendChild(docLink);\n",
              "        }\n",
              "      </script>\n",
              "    </div>\n",
              "  </div>\n",
              "  "
            ],
            "text/plain": [
              "   Tilt  Contrast  Accuracy  Confidence\n",
              "0     1         1      0.64        1.90\n",
              "1     1         2      0.69        1.87\n",
              "2     1         3      0.70        2.18\n",
              "3     2         1      0.65        1.94\n",
              "4     2         2      0.79        1.95"
            ]
          },
          "metadata": {},
          "execution_count": 8
        }
      ]
    },
    {
      "cell_type": "markdown",
      "source": [
        "Confirm that the third subject's data displays in dataframe."
      ],
      "metadata": {
        "id": "UP0dJvCKwmLw"
      }
    },
    {
      "cell_type": "code",
      "source": [
        "df_beh[18:27] #subject 3 (every 9)"
      ],
      "metadata": {
        "colab": {
          "base_uri": "https://localhost:8080/",
          "height": 332
        },
        "id": "9ZJ-Kgs5wGwU",
        "outputId": "431f6136-e469-44d4-e5d4-e5b3e5929652"
      },
      "execution_count": 9,
      "outputs": [
        {
          "output_type": "execute_result",
          "data": {
            "text/html": [
              "\n",
              "  <div id=\"df-cb109eff-d364-4110-9d6e-667336e5896d\">\n",
              "    <div class=\"colab-df-container\">\n",
              "      <div>\n",
              "<style scoped>\n",
              "    .dataframe tbody tr th:only-of-type {\n",
              "        vertical-align: middle;\n",
              "    }\n",
              "\n",
              "    .dataframe tbody tr th {\n",
              "        vertical-align: top;\n",
              "    }\n",
              "\n",
              "    .dataframe thead th {\n",
              "        text-align: right;\n",
              "    }\n",
              "</style>\n",
              "<table border=\"1\" class=\"dataframe\">\n",
              "  <thead>\n",
              "    <tr style=\"text-align: right;\">\n",
              "      <th></th>\n",
              "      <th>Tilt</th>\n",
              "      <th>Contrast</th>\n",
              "      <th>Accuracy</th>\n",
              "      <th>Confidence</th>\n",
              "    </tr>\n",
              "  </thead>\n",
              "  <tbody>\n",
              "    <tr>\n",
              "      <th>18</th>\n",
              "      <td>1</td>\n",
              "      <td>1</td>\n",
              "      <td>0.54</td>\n",
              "      <td>1.32</td>\n",
              "    </tr>\n",
              "    <tr>\n",
              "      <th>19</th>\n",
              "      <td>1</td>\n",
              "      <td>2</td>\n",
              "      <td>0.57</td>\n",
              "      <td>1.44</td>\n",
              "    </tr>\n",
              "    <tr>\n",
              "      <th>20</th>\n",
              "      <td>1</td>\n",
              "      <td>3</td>\n",
              "      <td>0.67</td>\n",
              "      <td>1.68</td>\n",
              "    </tr>\n",
              "    <tr>\n",
              "      <th>21</th>\n",
              "      <td>2</td>\n",
              "      <td>1</td>\n",
              "      <td>0.60</td>\n",
              "      <td>1.29</td>\n",
              "    </tr>\n",
              "    <tr>\n",
              "      <th>22</th>\n",
              "      <td>2</td>\n",
              "      <td>2</td>\n",
              "      <td>0.66</td>\n",
              "      <td>1.51</td>\n",
              "    </tr>\n",
              "    <tr>\n",
              "      <th>23</th>\n",
              "      <td>2</td>\n",
              "      <td>3</td>\n",
              "      <td>0.77</td>\n",
              "      <td>1.73</td>\n",
              "    </tr>\n",
              "    <tr>\n",
              "      <th>24</th>\n",
              "      <td>3</td>\n",
              "      <td>1</td>\n",
              "      <td>0.78</td>\n",
              "      <td>1.44</td>\n",
              "    </tr>\n",
              "    <tr>\n",
              "      <th>25</th>\n",
              "      <td>3</td>\n",
              "      <td>2</td>\n",
              "      <td>0.85</td>\n",
              "      <td>1.64</td>\n",
              "    </tr>\n",
              "    <tr>\n",
              "      <th>26</th>\n",
              "      <td>3</td>\n",
              "      <td>3</td>\n",
              "      <td>0.90</td>\n",
              "      <td>2.05</td>\n",
              "    </tr>\n",
              "  </tbody>\n",
              "</table>\n",
              "</div>\n",
              "      <button class=\"colab-df-convert\" onclick=\"convertToInteractive('df-cb109eff-d364-4110-9d6e-667336e5896d')\"\n",
              "              title=\"Convert this dataframe to an interactive table.\"\n",
              "              style=\"display:none;\">\n",
              "        \n",
              "  <svg xmlns=\"http://www.w3.org/2000/svg\" height=\"24px\"viewBox=\"0 0 24 24\"\n",
              "       width=\"24px\">\n",
              "    <path d=\"M0 0h24v24H0V0z\" fill=\"none\"/>\n",
              "    <path d=\"M18.56 5.44l.94 2.06.94-2.06 2.06-.94-2.06-.94-.94-2.06-.94 2.06-2.06.94zm-11 1L8.5 8.5l.94-2.06 2.06-.94-2.06-.94L8.5 2.5l-.94 2.06-2.06.94zm10 10l.94 2.06.94-2.06 2.06-.94-2.06-.94-.94-2.06-.94 2.06-2.06.94z\"/><path d=\"M17.41 7.96l-1.37-1.37c-.4-.4-.92-.59-1.43-.59-.52 0-1.04.2-1.43.59L10.3 9.45l-7.72 7.72c-.78.78-.78 2.05 0 2.83L4 21.41c.39.39.9.59 1.41.59.51 0 1.02-.2 1.41-.59l7.78-7.78 2.81-2.81c.8-.78.8-2.07 0-2.86zM5.41 20L4 18.59l7.72-7.72 1.47 1.35L5.41 20z\"/>\n",
              "  </svg>\n",
              "      </button>\n",
              "      \n",
              "  <style>\n",
              "    .colab-df-container {\n",
              "      display:flex;\n",
              "      flex-wrap:wrap;\n",
              "      gap: 12px;\n",
              "    }\n",
              "\n",
              "    .colab-df-convert {\n",
              "      background-color: #E8F0FE;\n",
              "      border: none;\n",
              "      border-radius: 50%;\n",
              "      cursor: pointer;\n",
              "      display: none;\n",
              "      fill: #1967D2;\n",
              "      height: 32px;\n",
              "      padding: 0 0 0 0;\n",
              "      width: 32px;\n",
              "    }\n",
              "\n",
              "    .colab-df-convert:hover {\n",
              "      background-color: #E2EBFA;\n",
              "      box-shadow: 0px 1px 2px rgba(60, 64, 67, 0.3), 0px 1px 3px 1px rgba(60, 64, 67, 0.15);\n",
              "      fill: #174EA6;\n",
              "    }\n",
              "\n",
              "    [theme=dark] .colab-df-convert {\n",
              "      background-color: #3B4455;\n",
              "      fill: #D2E3FC;\n",
              "    }\n",
              "\n",
              "    [theme=dark] .colab-df-convert:hover {\n",
              "      background-color: #434B5C;\n",
              "      box-shadow: 0px 1px 3px 1px rgba(0, 0, 0, 0.15);\n",
              "      filter: drop-shadow(0px 1px 2px rgba(0, 0, 0, 0.3));\n",
              "      fill: #FFFFFF;\n",
              "    }\n",
              "  </style>\n",
              "\n",
              "      <script>\n",
              "        const buttonEl =\n",
              "          document.querySelector('#df-cb109eff-d364-4110-9d6e-667336e5896d button.colab-df-convert');\n",
              "        buttonEl.style.display =\n",
              "          google.colab.kernel.accessAllowed ? 'block' : 'none';\n",
              "\n",
              "        async function convertToInteractive(key) {\n",
              "          const element = document.querySelector('#df-cb109eff-d364-4110-9d6e-667336e5896d');\n",
              "          const dataTable =\n",
              "            await google.colab.kernel.invokeFunction('convertToInteractive',\n",
              "                                                     [key], {});\n",
              "          if (!dataTable) return;\n",
              "\n",
              "          const docLinkHtml = 'Like what you see? Visit the ' +\n",
              "            '<a target=\"_blank\" href=https://colab.research.google.com/notebooks/data_table.ipynb>data table notebook</a>'\n",
              "            + ' to learn more about interactive tables.';\n",
              "          element.innerHTML = '';\n",
              "          dataTable['output_type'] = 'display_data';\n",
              "          await google.colab.output.renderOutput(dataTable, element);\n",
              "          const docLink = document.createElement('div');\n",
              "          docLink.innerHTML = docLinkHtml;\n",
              "          element.appendChild(docLink);\n",
              "        }\n",
              "      </script>\n",
              "    </div>\n",
              "  </div>\n",
              "  "
            ],
            "text/plain": [
              "    Tilt  Contrast  Accuracy  Confidence\n",
              "18     1         1      0.54        1.32\n",
              "19     1         2      0.57        1.44\n",
              "20     1         3      0.67        1.68\n",
              "21     2         1      0.60        1.29\n",
              "22     2         2      0.66        1.51\n",
              "23     2         3      0.77        1.73\n",
              "24     3         1      0.78        1.44\n",
              "25     3         2      0.85        1.64\n",
              "26     3         3      0.90        2.05"
            ]
          },
          "metadata": {},
          "execution_count": 9
        }
      ]
    },
    {
      "cell_type": "code",
      "source": [
        "print(accuracy[2,:,:])\n",
        "print(confidence[2,:,:])"
      ],
      "metadata": {
        "colab": {
          "base_uri": "https://localhost:8080/"
        },
        "id": "1Q9Ho7QHv9L_",
        "outputId": "76cdabaa-395e-4202-9f39-af0de150136c"
      },
      "execution_count": 10,
      "outputs": [
        {
          "output_type": "stream",
          "name": "stdout",
          "text": [
            "[[0.54 0.57 0.67]\n",
            " [0.6  0.66 0.77]\n",
            " [0.78 0.85 0.9 ]]\n",
            "[[1.32 1.44 1.68]\n",
            " [1.29 1.51 1.73]\n",
            " [1.44 1.64 2.05]]\n"
          ]
        }
      ]
    },
    {
      "cell_type": "markdown",
      "source": [
        "This looks good."
      ],
      "metadata": {
        "id": "c77NML3bwzhP"
      }
    },
    {
      "cell_type": "markdown",
      "source": [
        "should be 9 different arrays of length 55 (55 subjects):"
      ],
      "metadata": {
        "id": "ckRbarBFs4qi"
      }
    },
    {
      "cell_type": "code",
      "source": [
        "grouped = df_beh.groupby(['Tilt','Contrast'])\n",
        "for name,group in grouped:\n",
        "   print(name)\n",
        "   print(group.shape)   "
      ],
      "metadata": {
        "id": "KauEmck4sUiS",
        "outputId": "123d6c1e-c40f-4cc0-f748-4190b552986a",
        "colab": {
          "base_uri": "https://localhost:8080/"
        }
      },
      "execution_count": 11,
      "outputs": [
        {
          "output_type": "stream",
          "name": "stdout",
          "text": [
            "(1, 1)\n",
            "(55, 4)\n",
            "(1, 2)\n",
            "(55, 4)\n",
            "(1, 3)\n",
            "(55, 4)\n",
            "(2, 1)\n",
            "(55, 4)\n",
            "(2, 2)\n",
            "(55, 4)\n",
            "(2, 3)\n",
            "(55, 4)\n",
            "(3, 1)\n",
            "(55, 4)\n",
            "(3, 2)\n",
            "(55, 4)\n",
            "(3, 3)\n",
            "(55, 4)\n"
          ]
        }
      ]
    },
    {
      "cell_type": "code",
      "source": [
        "grouped['Accuracy'].agg(np.mean)"
      ],
      "metadata": {
        "id": "VkLVVI3htmr1",
        "outputId": "0dd70056-2c48-444a-cd2f-d6567eb031c8",
        "colab": {
          "base_uri": "https://localhost:8080/"
        }
      },
      "execution_count": 12,
      "outputs": [
        {
          "output_type": "execute_result",
          "data": {
            "text/plain": [
              "Tilt  Contrast\n",
              "1     1           0.558909\n",
              "      2           0.587818\n",
              "      3           0.609091\n",
              "2     1           0.589455\n",
              "      2           0.667091\n",
              "      3           0.708727\n",
              "3     1           0.698909\n",
              "      2           0.786727\n",
              "      3           0.826364\n",
              "Name: Accuracy, dtype: float64"
            ]
          },
          "metadata": {},
          "execution_count": 12
        }
      ]
    },
    {
      "cell_type": "markdown",
      "source": [
        "Group by tilt & contrast and calculate the standard error of the mean for all 55 subjects' confidence and accuracy scores."
      ],
      "metadata": {
        "id": "lEmZmwh3u-V4"
      }
    },
    {
      "cell_type": "code",
      "source": [
        "grouped = df_beh.groupby(['Tilt','Contrast'])\n",
        "sem_conf = grouped['Confidence'].agg(sem)\n",
        "sem_acc = grouped['Accuracy'].agg(sem)"
      ],
      "metadata": {
        "id": "K92e5I2yu6Uk"
      },
      "execution_count": 13,
      "outputs": []
    },
    {
      "cell_type": "code",
      "source": [
        "sem_conf"
      ],
      "metadata": {
        "id": "OrAAQ6HNy_Qi",
        "outputId": "d172afb8-0c98-4d70-b4cb-dc7e571c70fc",
        "colab": {
          "base_uri": "https://localhost:8080/"
        }
      },
      "execution_count": 14,
      "outputs": [
        {
          "output_type": "execute_result",
          "data": {
            "text/plain": [
              "Tilt  Contrast\n",
              "1     1           0.064195\n",
              "      2           0.062081\n",
              "      3           0.059975\n",
              "2     1           0.064704\n",
              "      2           0.062115\n",
              "      3           0.056786\n",
              "3     1           0.062264\n",
              "      2           0.058879\n",
              "      3           0.057765\n",
              "Name: Confidence, dtype: float64"
            ]
          },
          "metadata": {},
          "execution_count": 14
        }
      ]
    },
    {
      "cell_type": "code",
      "source": [
        "sem_conf.iloc[8]"
      ],
      "metadata": {
        "id": "J1SMDj9Axtfh",
        "outputId": "2afbd081-5246-47e7-8032-932bfa61b440",
        "colab": {
          "base_uri": "https://localhost:8080/"
        }
      },
      "execution_count": 15,
      "outputs": [
        {
          "output_type": "execute_result",
          "data": {
            "text/plain": [
              "0.0577649947008966"
            ]
          },
          "metadata": {},
          "execution_count": 15
        }
      ]
    },
    {
      "cell_type": "code",
      "source": [
        "sem_acc.iloc[8]"
      ],
      "metadata": {
        "id": "KnOgce6v0mRN",
        "outputId": "be274dc2-2cac-4d5c-b8b7-42ca28bffb77",
        "colab": {
          "base_uri": "https://localhost:8080/"
        }
      },
      "execution_count": 16,
      "outputs": [
        {
          "output_type": "execute_result",
          "data": {
            "text/plain": [
              "0.014061825095187759"
            ]
          },
          "metadata": {},
          "execution_count": 16
        }
      ]
    },
    {
      "cell_type": "code",
      "source": [
        "#sns.set_theme(style=\"whitegrid\")\n",
        "matplotlib.rc_file_defaults() #reset defaults\n",
        "fig, ((ax1, ax2), (ax3, ax4)) = plt.subplots(2, 2, figsize=(20,10)) #set up canvas\n",
        "sns.despine(fig, left=True, bottom=True)\n",
        "fig1a = sns.barplot(data=df_beh, x=\"Tilt\", y=\"Accuracy\", \n",
        "                hue=\"Contrast\", palette=\"pastel\", ci=None, ax=ax1)\n",
        "ax1.set_ylim(0.5,1), ax1.set_xlabel('Magnitude of tilt')\n",
        "fig1b = sns.barplot(data=df_beh, x=\"Tilt\", y=\"Confidence\", \n",
        "                hue=\"Contrast\", palette=\"pastel\", ci=None, ax=ax2)\n",
        "ax2.set_ylim(1.5,3.5), ax2.set_xlabel('Magnitude of tilt')\n",
        "def show_sem(axs, fig):\n",
        "  y_measurement = []\n",
        "  if fig == \"1a\":\n",
        "    err_b = sem_acc\n",
        "  elif fig == \"1b\":\n",
        "    err_b = sem_conf\n",
        "  for idx,p in enumerate(axs.patches):    \n",
        "    _x = p.get_x() + p.get_width() / 2\n",
        "    _y = p.get_y() + p.get_height()\n",
        "    axs.errorbar(_x, _y, yerr=err_b.iloc[idx], color=\"k\")\n",
        "    y_measurement.append(_y)\n",
        "  return y_measurement\n",
        "mean_acc = show_sem(ax1, \"1a\")\n",
        "mean_conf = show_sem(ax2, \"1b\")\n",
        "plt.tight_layout()\n",
        "#plt.savefig('conf_acc_van3.png', transparent=True, dpi=300)"
      ],
      "metadata": {
        "id": "1n7Pxq7EY2-F",
        "outputId": "8ad850a9-cdae-4233-d673-aa70718df3f4",
        "colab": {
          "base_uri": "https://localhost:8080/",
          "height": 1000
        }
      },
      "execution_count": 20,
      "outputs": [
        {
          "output_type": "display_data",
          "data": {
            "image/png": "[encoded data removed]",
            "text/plain": [
              "<Figure size 2000x1000 with 4 Axes>"
            ]
          },
          "metadata": {}
        }
      ]
    },
    {
      "cell_type": "code",
      "source": [
        "print(mean_acc)\n",
        "print(mean_conf)"
      ],
      "metadata": {
        "id": "mHk38_6f0WqF",
        "outputId": "9a8c9101-67b6-4197-ada6-8558b199dfe8",
        "colab": {
          "base_uri": "https://localhost:8080/"
        }
      },
      "execution_count": 21,
      "outputs": [
        {
          "output_type": "stream",
          "name": "stdout",
          "text": [
            "[0.5589090909090911, 0.5894545454545455, 0.6989090909090907, 0.5878181818181817, 0.6670909090909091, 0.7867272727272729, 0.609090909090909, 0.7087272727272728, 0.8263636363636364]\n",
            "[2.0583636363636364, 2.080727272727273, 2.178727272727273, 2.2512727272727266, 2.2950909090909093, 2.487818181818182, 2.4650909090909097, 2.535454545454545, 2.7919999999999994]\n"
          ]
        }
      ]
    },
    {
      "cell_type": "code",
      "source": [
        "diss = np.array([[mean_acc[6],mean_conf[6]], [mean_acc[4],mean_conf[4]], [mean_acc[2],mean_conf[2]]])\n",
        "diss"
      ],
      "metadata": {
        "id": "GHi5Tb3Q0s2v",
        "outputId": "4246727e-60b8-4a6b-cd95-144e091b1235",
        "colab": {
          "base_uri": "https://localhost:8080/"
        }
      },
      "execution_count": 31,
      "outputs": [
        {
          "output_type": "execute_result",
          "data": {
            "text/plain": [
              "array([[0.60909091, 2.46509091],\n",
              "       [0.66709091, 2.29509091],\n",
              "       [0.69890909, 2.17872727]])"
            ]
          },
          "metadata": {},
          "execution_count": 31
        }
      ]
    },
    {
      "cell_type": "code",
      "source": [
        "diss[:,0]"
      ],
      "metadata": {
        "id": "UOHttA2_2RUq",
        "outputId": "e36c9009-24d5-453d-87da-5b77ce065c01",
        "colab": {
          "base_uri": "https://localhost:8080/"
        }
      },
      "execution_count": 32,
      "outputs": [
        {
          "output_type": "execute_result",
          "data": {
            "text/plain": [
              "array([0.60909091, 0.66709091, 0.69890909])"
            ]
          },
          "metadata": {},
          "execution_count": 32
        }
      ]
    },
    {
      "cell_type": "markdown",
      "source": [
        "#STOPPED HERE, PUT THE ABOVE COORDINATES INTO A POINTPLOT FOR FIGURE 1C"
      ],
      "metadata": {
        "id": "ZTwwgABh2rI5"
      }
    },
    {
      "cell_type": "code",
      "source": [
        "g = sns.catplot(\n",
        "    data=df_beh, kind=\"bar\",\n",
        "    x=\"Tilt\", y=\"Accuracy\", hue=\"Contrast\",\n",
        "    ci=95, palette=\"pastel\")\n",
        "g.despine(left=True)"
      ],
      "metadata": {
        "colab": {
          "base_uri": "https://localhost:8080/",
          "height": 382
        },
        "id": "rUsrdN4F8uri",
        "outputId": "9d20c5a1-d4d1-4cca-cbe4-8efbbeadefec"
      },
      "execution_count": null,
      "outputs": [
        {
          "output_type": "execute_result",
          "data": {
            "text/plain": [
              "<seaborn.axisgrid.FacetGrid at 0x7f9002b58290>"
            ]
          },
          "metadata": {},
          "execution_count": 12
        },
        {
          "output_type": "display_data",
          "data": {
            "image/png": "[encoded data removed]",
            "text/plain": [
              "<Figure size 420.425x360 with 1 Axes>"
            ]
          },
          "metadata": {}
        }
      ]
    },
    {
      "cell_type": "code",
      "source": [
        "\n",
        "sns.set_theme(style=\"whitegrid\")\n",
        "#f, ax = plt.subplots(figsize=(20, 10))\n",
        "#sns.despine(f, left=True, bottom=True)\n",
        "g = sns.catplot(data=df_beh, kind=\"bar\",\n",
        "    x=\"Tilt\", y=\"Accuracy\", hue=\"Contrast\",\n",
        "    ci=95,  height=8, palette=\"pastel\")\n",
        "g.despine(left=True)\n",
        "fig=plt.gcf()\n",
        "plt.tight_layout()\n",
        "#plt.savefig('conf_acc_van3.png', transparent=True, dpi=300)"
      ],
      "metadata": {
        "id": "W_2C1nw5nUSQ",
        "outputId": "ccaf2cb3-ec4d-4709-9a86-b685d2fe47e9",
        "colab": {
          "base_uri": "https://localhost:8080/",
          "height": 581
        }
      },
      "execution_count": null,
      "outputs": [
        {
          "output_type": "display_data",
          "data": {
            "image/png": "[encoded data removed]",
            "text/plain": [
              "<Figure size 636.425x576 with 1 Axes>"
            ]
          },
          "metadata": {}
        }
      ]
    },
    {
      "cell_type": "code",
      "source": [
        "\n",
        "sns.set_theme(style=\"whitegrid\")\n",
        "#f, ax = plt.subplots(figsize=(20, 10))\n",
        "#sns.despine(f, left=True, bottom=True)\n",
        "g = sns.catplot(data=df_beh, kind=\"bar\",\n",
        "    x=\"Tilt\", y=\"Accuracy\", hue=\"Contrast\",\n",
        "    ci=95,  height=6, aspect=2.5, palette=\"pastel\")\n",
        "g.despine(left=True)\n",
        "fig=plt.gcf()\n",
        "plt.tight_layout()\n",
        "plt.savefig('tilt_con_beh.png', transparent=True, dpi=300)"
      ],
      "metadata": {
        "id": "AZeeeP39omeI",
        "outputId": "27d74cf3-a7c8-4f78-a1f6-e34a9160aece",
        "colab": {
          "base_uri": "https://localhost:8080/",
          "height": 437
        }
      },
      "execution_count": null,
      "outputs": [
        {
          "output_type": "display_data",
          "data": {
            "image/png": "[encoded data removed]",
            "text/plain": [
              "<Figure size 1140.42x432 with 1 Axes>"
            ]
          },
          "metadata": {}
        }
      ]
    },
    {
      "cell_type": "markdown",
      "source": [
        "Set the NaN indices for behavior results."
      ],
      "metadata": {
        "id": "ARLjTwmGX57_"
      }
    },
    {
      "cell_type": "code",
      "source": [
        "print(df_cif['Tilt'])\n",
        "print(df_van3['Tilt'])\n",
        "print(df_vgg['Tilt'])"
      ],
      "metadata": {
        "colab": {
          "base_uri": "https://localhost:8080/"
        },
        "id": "Tpf5n74XXo0A",
        "outputId": "cfa246c8-9894-4bc8-c50f-62368b389d5d"
      },
      "execution_count": null,
      "outputs": [
        {
          "output_type": "stream",
          "name": "stdout",
          "text": [
            "0     0.1\n",
            "1     NaN\n",
            "2     NaN\n",
            "3     0.2\n",
            "4     NaN\n",
            "5     NaN\n",
            "6     0.4\n",
            "7     NaN\n",
            "8     NaN\n",
            "9     0.8\n",
            "10    NaN\n",
            "11    NaN\n",
            "12    1.6\n",
            "13    NaN\n",
            "14    NaN\n",
            "15    3.2\n",
            "16    NaN\n",
            "17    NaN\n",
            "Name: Tilt, dtype: float64\n",
            "0     0.1\n",
            "1     NaN\n",
            "2     NaN\n",
            "3     0.2\n",
            "4     NaN\n",
            "5     NaN\n",
            "6     0.4\n",
            "7     NaN\n",
            "8     NaN\n",
            "9     0.8\n",
            "10    NaN\n",
            "11    NaN\n",
            "12    1.6\n",
            "13    NaN\n",
            "14    NaN\n",
            "15    3.2\n",
            "16    NaN\n",
            "17    NaN\n",
            "Name: Tilt, dtype: float64\n",
            "0     0.1\n",
            "1     NaN\n",
            "2     NaN\n",
            "3     0.2\n",
            "4     NaN\n",
            "5     NaN\n",
            "6     0.4\n",
            "7     NaN\n",
            "8     NaN\n",
            "9     0.8\n",
            "10    NaN\n",
            "11    NaN\n",
            "12    1.6\n",
            "13    NaN\n",
            "14    NaN\n",
            "15    3.2\n",
            "16    NaN\n",
            "17    NaN\n",
            "Name: Tilt, dtype: float64\n"
          ]
        }
      ]
    },
    {
      "cell_type": "markdown",
      "source": [
        "Set the NaN indices for model results."
      ],
      "metadata": {
        "id": "lEkTBv6ZX-74"
      }
    },
    {
      "cell_type": "code",
      "source": [
        "df_nanidx_mod = [1,2,4,5,7,8,10,11,13,14,16,17]"
      ],
      "metadata": {
        "id": "MjKoy26PX34x"
      },
      "execution_count": null,
      "outputs": []
    },
    {
      "cell_type": "markdown",
      "source": [
        "Remove all the NaNs."
      ],
      "metadata": {
        "id": "-fC3oRMOYzxY"
      }
    },
    {
      "cell_type": "code",
      "source": [
        "df_beh.loc[df_nanidx,'Tilt'] = [1.0,1.0,2.0,2.0,3.0,3.0]\n",
        "df_cif.loc[df_nanidx_mod,'Tilt'] = [0.1,0.1,0.2,0.2,0.4,0.4,0.8,0.8,1.6,1.6,3.2,3.2]\n",
        "df_van3.loc[df_nanidx_mod,'Tilt'] = [0.1,0.1,0.2,0.2,0.4,0.4,0.8,0.8,1.6,1.6,3.2,3.2]\n",
        "df_vgg.loc[df_nanidx_mod,'Tilt'] = [0.1,0.1,0.2,0.2,0.4,0.4,0.8,0.8,1.6,1.6,3.2,3.2]"
      ],
      "metadata": {
        "id": "-OJ7PZ9DWbgK"
      },
      "execution_count": null,
      "outputs": []
    },
    {
      "cell_type": "code",
      "source": [
        "print(df_beh['Tilt'])\n",
        "print(df_vgg['Tilt'])"
      ],
      "metadata": {
        "colab": {
          "base_uri": "https://localhost:8080/"
        },
        "id": "dcFEMYSZTI6L",
        "outputId": "09755328-9e37-4a68-e988-1ca8ade23ee9"
      },
      "execution_count": null,
      "outputs": [
        {
          "output_type": "stream",
          "name": "stdout",
          "text": [
            "0    1.0\n",
            "1    1.0\n",
            "2    1.0\n",
            "3    2.0\n",
            "4    2.0\n",
            "5    2.0\n",
            "6    3.0\n",
            "7    3.0\n",
            "8    3.0\n",
            "Name: Tilt, dtype: float64\n",
            "0     0.1\n",
            "1     0.1\n",
            "2     0.1\n",
            "3     0.2\n",
            "4     0.2\n",
            "5     0.2\n",
            "6     0.4\n",
            "7     0.4\n",
            "8     0.4\n",
            "9     0.8\n",
            "10    0.8\n",
            "11    0.8\n",
            "12    1.6\n",
            "13    1.6\n",
            "14    1.6\n",
            "15    3.2\n",
            "16    3.2\n",
            "17    3.2\n",
            "Name: Tilt, dtype: float64\n"
          ]
        }
      ]
    },
    {
      "cell_type": "code",
      "metadata": {
        "colab": {
          "base_uri": "https://localhost:8080/",
          "height": 206
        },
        "id": "nM0hwzN7m1Bs",
        "outputId": "1524e364-0f56-407e-94be-3163df8e7488"
      },
      "source": [
        "df_cif.head()"
      ],
      "execution_count": null,
      "outputs": [
        {
          "output_type": "execute_result",
          "data": {
            "text/html": [
              "<div>\n",
              "<style scoped>\n",
              "    .dataframe tbody tr th:only-of-type {\n",
              "        vertical-align: middle;\n",
              "    }\n",
              "\n",
              "    .dataframe tbody tr th {\n",
              "        vertical-align: top;\n",
              "    }\n",
              "\n",
              "    .dataframe thead th {\n",
              "        text-align: right;\n",
              "    }\n",
              "</style>\n",
              "<table border=\"1\" class=\"dataframe\">\n",
              "  <thead>\n",
              "    <tr style=\"text-align: right;\">\n",
              "      <th></th>\n",
              "      <th>Tilt</th>\n",
              "      <th>Contrast</th>\n",
              "      <th>Accuracy</th>\n",
              "      <th>Confidence</th>\n",
              "    </tr>\n",
              "  </thead>\n",
              "  <tbody>\n",
              "    <tr>\n",
              "      <th>0</th>\n",
              "      <td>0.1</td>\n",
              "      <td>0.30</td>\n",
              "      <td>0.520</td>\n",
              "      <td>0.688855</td>\n",
              "    </tr>\n",
              "    <tr>\n",
              "      <th>1</th>\n",
              "      <td>0.1</td>\n",
              "      <td>0.45</td>\n",
              "      <td>0.511</td>\n",
              "      <td>0.683615</td>\n",
              "    </tr>\n",
              "    <tr>\n",
              "      <th>2</th>\n",
              "      <td>0.1</td>\n",
              "      <td>1.00</td>\n",
              "      <td>0.526</td>\n",
              "      <td>0.742383</td>\n",
              "    </tr>\n",
              "    <tr>\n",
              "      <th>3</th>\n",
              "      <td>0.2</td>\n",
              "      <td>0.30</td>\n",
              "      <td>0.497</td>\n",
              "      <td>0.696570</td>\n",
              "    </tr>\n",
              "    <tr>\n",
              "      <th>4</th>\n",
              "      <td>0.2</td>\n",
              "      <td>0.45</td>\n",
              "      <td>0.503</td>\n",
              "      <td>0.697424</td>\n",
              "    </tr>\n",
              "  </tbody>\n",
              "</table>\n",
              "</div>"
            ],
            "text/plain": [
              "   Tilt  Contrast  Accuracy  Confidence\n",
              "0   0.1      0.30     0.520    0.688855\n",
              "1   0.1      0.45     0.511    0.683615\n",
              "2   0.1      1.00     0.526    0.742383\n",
              "3   0.2      0.30     0.497    0.696570\n",
              "4   0.2      0.45     0.503    0.697424"
            ]
          },
          "metadata": {},
          "execution_count": 36
        }
      ]
    },
    {
      "cell_type": "markdown",
      "source": [
        "# STOPPED HERE: NEED RAW DATA FOR CONF INT. LOAD MAT FILE"
      ],
      "metadata": {
        "id": "ODrNUaoHe5a0"
      }
    },
    {
      "cell_type": "markdown",
      "source": [
        "## 2: Extract confidence and accuracy"
      ],
      "metadata": {
        "id": "LmsLA2oQtJMz"
      }
    },
    {
      "cell_type": "code",
      "metadata": {
        "id": "-M8Kn9B3oPlW"
      },
      "source": [
        "accuracy = results['accuracy']"
      ],
      "execution_count": null,
      "outputs": []
    },
    {
      "cell_type": "markdown",
      "metadata": {
        "id": "brV0fXC5dPJ3"
      },
      "source": [
        "Let's check the first subject's accuracy for all 9 tilt x contrast combinations."
      ]
    },
    {
      "cell_type": "code",
      "metadata": {
        "colab": {
          "base_uri": "https://localhost:8080/"
        },
        "id": "HjEkcqUFolOi",
        "outputId": "d4d7fb29-8a27-4edb-f5be-f35b302d59d7"
      },
      "source": [
        "accuracy[0] "
      ],
      "execution_count": null,
      "outputs": [
        {
          "output_type": "execute_result",
          "data": {
            "text/plain": [
              "array([[0.64, 0.69, 0.7 ],\n",
              "       [0.65, 0.79, 0.84],\n",
              "       [0.84, 0.95, 0.95]])"
            ]
          },
          "metadata": {},
          "execution_count": 7
        }
      ]
    },
    {
      "cell_type": "markdown",
      "source": [
        "Now, let's average over all subjects to find the mean accuracy for each tilt x contrast condition."
      ],
      "metadata": {
        "id": "T0kZOX7U4Rh4"
      }
    },
    {
      "cell_type": "code",
      "metadata": {
        "colab": {
          "base_uri": "https://localhost:8080/"
        },
        "id": "4OLN9-NnmgP8",
        "outputId": "86038c8d-9d22-4b58-889f-0687c7a4a95d"
      },
      "source": [
        "avg_acc = np.average(accuracy, axis=0)\n",
        "avg_acc"
      ],
      "execution_count": null,
      "outputs": [
        {
          "output_type": "execute_result",
          "data": {
            "text/plain": [
              "array([[0.55890909, 0.58781818, 0.60909091],\n",
              "       [0.58945455, 0.66709091, 0.70872727],\n",
              "       [0.69890909, 0.78672727, 0.82636364]])"
            ]
          },
          "metadata": {},
          "execution_count": 8
        }
      ]
    },
    {
      "cell_type": "markdown",
      "source": [
        "Do the same for confidence."
      ],
      "metadata": {
        "id": "pcAsN7g044m-"
      }
    },
    {
      "cell_type": "code",
      "source": [
        "avg_conf = np.average(results['confidence'], axis=0)\n",
        "avg_conf"
      ],
      "metadata": {
        "id": "mhEDZvBC46aB",
        "outputId": "495a11e0-c7cc-453a-fbcc-b67635594c51",
        "colab": {
          "base_uri": "https://localhost:8080/"
        }
      },
      "execution_count": null,
      "outputs": [
        {
          "output_type": "execute_result",
          "data": {
            "text/plain": [
              "array([[2.05836364, 2.25127273, 2.46509091],\n",
              "       [2.08072727, 2.29509091, 2.53545455],\n",
              "       [2.17872727, 2.48781818, 2.792     ]])"
            ]
          },
          "metadata": {},
          "execution_count": 9
        }
      ]
    },
    {
      "cell_type": "code",
      "source": [
        "avg_acc.flatten() #unroll avg acc matrix"
      ],
      "metadata": {
        "id": "keBzmenK5pw-",
        "outputId": "e5c5daeb-45a5-41e6-8165-d2de8ff3012d",
        "colab": {
          "base_uri": "https://localhost:8080/"
        }
      },
      "execution_count": null,
      "outputs": [
        {
          "output_type": "execute_result",
          "data": {
            "text/plain": [
              "array([0.55890909, 0.58781818, 0.60909091, 0.58945455, 0.66709091,\n",
              "       0.70872727, 0.69890909, 0.78672727, 0.82636364])"
            ]
          },
          "metadata": {},
          "execution_count": 10
        }
      ]
    },
    {
      "cell_type": "markdown",
      "source": [
        "## 3: Create dataframe of results and save to Excel"
      ],
      "metadata": {
        "id": "KoYAimzJtPL4"
      }
    },
    {
      "cell_type": "markdown",
      "source": [
        "Create a dataframe containing all average results with tilt x contrast assignments."
      ],
      "metadata": {
        "id": "rX4lw5ObsJPa"
      }
    },
    {
      "cell_type": "code",
      "source": [
        "df_results = pd.DataFrame({'Accuracy':avg_acc.flatten(),\n",
        "                           'Confidence':avg_conf.flatten()})\n",
        "df_results = df_results.assign(Tilt = [1, 1, 1, 2, 2, 2, 3, 3, 3],\n",
        "                         Contrast = [1, 2, 3, 1, 2, 3, 1, 2, 3])"
      ],
      "metadata": {
        "id": "a22zfw4X5Kee"
      },
      "execution_count": null,
      "outputs": []
    },
    {
      "cell_type": "code",
      "source": [
        "df_results"
      ],
      "metadata": {
        "id": "tWCcSJwirbgZ",
        "outputId": "bf9623ea-8a82-40a9-d1b7-971971476d71",
        "colab": {
          "base_uri": "https://localhost:8080/",
          "height": 332
        }
      },
      "execution_count": null,
      "outputs": [
        {
          "output_type": "execute_result",
          "data": {
            "text/html": [
              "<div>\n",
              "<style scoped>\n",
              "    .dataframe tbody tr th:only-of-type {\n",
              "        vertical-align: middle;\n",
              "    }\n",
              "\n",
              "    .dataframe tbody tr th {\n",
              "        vertical-align: top;\n",
              "    }\n",
              "\n",
              "    .dataframe thead th {\n",
              "        text-align: right;\n",
              "    }\n",
              "</style>\n",
              "<table border=\"1\" class=\"dataframe\">\n",
              "  <thead>\n",
              "    <tr style=\"text-align: right;\">\n",
              "      <th></th>\n",
              "      <th>Accuracy</th>\n",
              "      <th>Confidence</th>\n",
              "      <th>Tilt</th>\n",
              "      <th>Contrast</th>\n",
              "    </tr>\n",
              "  </thead>\n",
              "  <tbody>\n",
              "    <tr>\n",
              "      <th>0</th>\n",
              "      <td>0.558909</td>\n",
              "      <td>2.058364</td>\n",
              "      <td>1</td>\n",
              "      <td>1</td>\n",
              "    </tr>\n",
              "    <tr>\n",
              "      <th>1</th>\n",
              "      <td>0.587818</td>\n",
              "      <td>2.251273</td>\n",
              "      <td>1</td>\n",
              "      <td>2</td>\n",
              "    </tr>\n",
              "    <tr>\n",
              "      <th>2</th>\n",
              "      <td>0.609091</td>\n",
              "      <td>2.465091</td>\n",
              "      <td>1</td>\n",
              "      <td>3</td>\n",
              "    </tr>\n",
              "    <tr>\n",
              "      <th>3</th>\n",
              "      <td>0.589455</td>\n",
              "      <td>2.080727</td>\n",
              "      <td>2</td>\n",
              "      <td>1</td>\n",
              "    </tr>\n",
              "    <tr>\n",
              "      <th>4</th>\n",
              "      <td>0.667091</td>\n",
              "      <td>2.295091</td>\n",
              "      <td>2</td>\n",
              "      <td>2</td>\n",
              "    </tr>\n",
              "    <tr>\n",
              "      <th>5</th>\n",
              "      <td>0.708727</td>\n",
              "      <td>2.535455</td>\n",
              "      <td>2</td>\n",
              "      <td>3</td>\n",
              "    </tr>\n",
              "    <tr>\n",
              "      <th>6</th>\n",
              "      <td>0.698909</td>\n",
              "      <td>2.178727</td>\n",
              "      <td>3</td>\n",
              "      <td>1</td>\n",
              "    </tr>\n",
              "    <tr>\n",
              "      <th>7</th>\n",
              "      <td>0.786727</td>\n",
              "      <td>2.487818</td>\n",
              "      <td>3</td>\n",
              "      <td>2</td>\n",
              "    </tr>\n",
              "    <tr>\n",
              "      <th>8</th>\n",
              "      <td>0.826364</td>\n",
              "      <td>2.792000</td>\n",
              "      <td>3</td>\n",
              "      <td>3</td>\n",
              "    </tr>\n",
              "  </tbody>\n",
              "</table>\n",
              "</div>"
            ],
            "text/plain": [
              "   Accuracy  Confidence  Tilt  Contrast\n",
              "0  0.558909    2.058364     1         1\n",
              "1  0.587818    2.251273     1         2\n",
              "2  0.609091    2.465091     1         3\n",
              "3  0.589455    2.080727     2         1\n",
              "4  0.667091    2.295091     2         2\n",
              "5  0.708727    2.535455     2         3\n",
              "6  0.698909    2.178727     3         1\n",
              "7  0.786727    2.487818     3         2\n",
              "8  0.826364    2.792000     3         3"
            ]
          },
          "metadata": {},
          "execution_count": 16
        }
      ]
    },
    {
      "cell_type": "markdown",
      "source": [
        "Group the results by tilt and contrast for a clearer visualization."
      ],
      "metadata": {
        "id": "WdgZNZaSsWuS"
      }
    },
    {
      "cell_type": "code",
      "source": [
        "df_results_groupbyta = df_results.reset_index().set_index(['Tilt','Contrast'])\n",
        "del df_results_groupbyta['index']\n",
        "df_results_groupbyta"
      ],
      "metadata": {
        "id": "sMOQ7x4qrsBn",
        "outputId": "0baeaa59-ecd7-4158-dd7f-ec951a5801a7",
        "colab": {
          "base_uri": "https://localhost:8080/",
          "height": 363
        }
      },
      "execution_count": null,
      "outputs": [
        {
          "output_type": "execute_result",
          "data": {
            "text/html": [
              "<div>\n",
              "<style scoped>\n",
              "    .dataframe tbody tr th:only-of-type {\n",
              "        vertical-align: middle;\n",
              "    }\n",
              "\n",
              "    .dataframe tbody tr th {\n",
              "        vertical-align: top;\n",
              "    }\n",
              "\n",
              "    .dataframe thead th {\n",
              "        text-align: right;\n",
              "    }\n",
              "</style>\n",
              "<table border=\"1\" class=\"dataframe\">\n",
              "  <thead>\n",
              "    <tr style=\"text-align: right;\">\n",
              "      <th></th>\n",
              "      <th></th>\n",
              "      <th>Accuracy</th>\n",
              "      <th>Confidence</th>\n",
              "    </tr>\n",
              "    <tr>\n",
              "      <th>Tilt</th>\n",
              "      <th>Contrast</th>\n",
              "      <th></th>\n",
              "      <th></th>\n",
              "    </tr>\n",
              "  </thead>\n",
              "  <tbody>\n",
              "    <tr>\n",
              "      <th rowspan=\"3\" valign=\"top\">1</th>\n",
              "      <th>1</th>\n",
              "      <td>0.558909</td>\n",
              "      <td>2.058364</td>\n",
              "    </tr>\n",
              "    <tr>\n",
              "      <th>2</th>\n",
              "      <td>0.587818</td>\n",
              "      <td>2.251273</td>\n",
              "    </tr>\n",
              "    <tr>\n",
              "      <th>3</th>\n",
              "      <td>0.609091</td>\n",
              "      <td>2.465091</td>\n",
              "    </tr>\n",
              "    <tr>\n",
              "      <th rowspan=\"3\" valign=\"top\">2</th>\n",
              "      <th>1</th>\n",
              "      <td>0.589455</td>\n",
              "      <td>2.080727</td>\n",
              "    </tr>\n",
              "    <tr>\n",
              "      <th>2</th>\n",
              "      <td>0.667091</td>\n",
              "      <td>2.295091</td>\n",
              "    </tr>\n",
              "    <tr>\n",
              "      <th>3</th>\n",
              "      <td>0.708727</td>\n",
              "      <td>2.535455</td>\n",
              "    </tr>\n",
              "    <tr>\n",
              "      <th rowspan=\"3\" valign=\"top\">3</th>\n",
              "      <th>1</th>\n",
              "      <td>0.698909</td>\n",
              "      <td>2.178727</td>\n",
              "    </tr>\n",
              "    <tr>\n",
              "      <th>2</th>\n",
              "      <td>0.786727</td>\n",
              "      <td>2.487818</td>\n",
              "    </tr>\n",
              "    <tr>\n",
              "      <th>3</th>\n",
              "      <td>0.826364</td>\n",
              "      <td>2.792000</td>\n",
              "    </tr>\n",
              "  </tbody>\n",
              "</table>\n",
              "</div>"
            ],
            "text/plain": [
              "               Accuracy  Confidence\n",
              "Tilt Contrast                      \n",
              "1    1         0.558909    2.058364\n",
              "     2         0.587818    2.251273\n",
              "     3         0.609091    2.465091\n",
              "2    1         0.589455    2.080727\n",
              "     2         0.667091    2.295091\n",
              "     3         0.708727    2.535455\n",
              "3    1         0.698909    2.178727\n",
              "     2         0.786727    2.487818\n",
              "     3         0.826364    2.792000"
            ]
          },
          "metadata": {},
          "execution_count": 17
        }
      ]
    },
    {
      "cell_type": "markdown",
      "source": [
        "Save to disk."
      ],
      "metadata": {
        "id": "iOT_aarDs0-B"
      }
    },
    {
      "cell_type": "code",
      "source": [
        "results_excel_filepath = os.path.join(os.getcwd(), 'results_behavioral.xlsx') #prep path to save to\n",
        "df_results_groupbyta.to_excel(results_excel_filepath, index=True) #save to disk"
      ],
      "metadata": {
        "id": "ZoV8seiFr6Le"
      },
      "execution_count": null,
      "outputs": []
    }
  ]
}