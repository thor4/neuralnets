{
  "nbformat": 4,
  "nbformat_minor": 0,
  "metadata": {
    "colab": {
      "name": "step_5_generate_figure.ipynb",
      "provenance": [],
      "authorship_tag": "ABX9TyNXCtcEzfQRVF5Lkk2wxaj7",
      "include_colab_link": true
    },
    "kernelspec": {
      "name": "python3",
      "display_name": "Python 3"
    },
    "language_info": {
      "name": "python"
    }
  },
  "cells": [
    {
      "cell_type": "markdown",
      "metadata": {
        "id": "view-in-github",
        "colab_type": "text"
      },
      "source": [
        "<a href=\"https://colab.research.google.com/github/thor4/neuralnets/blob/master/projects/1-CNN/step_5_generate_figure.ipynb\" target=\"_parent\"><img src=\"https://colab.research.google.com/assets/colab-badge.svg\" alt=\"Open In Colab\"/></a>"
      ]
    },
    {
      "cell_type": "markdown",
      "source": [
        "# Visualize results"
      ],
      "metadata": {
        "id": "6Wk5yMRgs7br"
      }
    },
    {
      "cell_type": "markdown",
      "metadata": {
        "id": "65lD7JmQqJKf"
      },
      "source": [
        "## 1: Load confidence & accuracy results\n",
        "Run the cell to download a zip file from OSF then extract the following excel spreadsheets: `results_behavioral.xlsx`, `results_cifar10.xlsx`, `results_van3.xlsx`, and `results_vgg16-raw_conf.xlsx` into the current directory."
      ]
    },
    {
      "cell_type": "code",
      "metadata": {
        "cellView": "form",
        "id": "QeS3gpAzr1Vk",
        "outputId": "acdb3c0f-5de1-4f12-d6d4-74baba143788",
        "colab": {
          "base_uri": "https://localhost:8080/"
        }
      },
      "source": [
        "# @title Download results\n",
        "\n",
        "import requests, os\n",
        "from zipfile import ZipFile\n",
        "\n",
        "print(\"Start downloading and unzipping `Confidence & accuracy results`...\")\n",
        "name = 'conf_acc_results'\n",
        "fname = f\"{name}.zip\"\n",
        "url = f\"https://osf.io/xsf62/download\" #osf share link\n",
        "r = requests.get(url, allow_redirects=True)\n",
        "with open(fname, 'wb') as fh:\n",
        "  fh.write(r.content) #download file\n",
        "\n",
        "with ZipFile(fname, 'r') as zfile:\n",
        "  zfile.extractall() #extract contents\n",
        "\n",
        "if os.path.exists(fname):\n",
        "  os.remove(fname) #delete zip file\n",
        "else:\n",
        "  print(f\"The file {fname} does not exist\")\n",
        "\n",
        "print(\"Download completed.\")"
      ],
      "execution_count": 1,
      "outputs": [
        {
          "metadata": {
            "tags": null
          },
          "name": "stdout",
          "output_type": "stream",
          "text": [
            "Start downloading and unzipping `Behavioral results`...\n",
            "Download completed.\n"
          ]
        }
      ]
    },
    {
      "cell_type": "markdown",
      "metadata": {
        "id": "31zlOC1dq5-E"
      },
      "source": [
        "These were the average confidence and accuracy results of the VGG16, CIFAR10 and Gabor models. The CIFAR10 and Gabor models used a vanilla CNN architecture. The VGG16 & CIFAR10 used transfer learning to fine-tune their top layers for the Gabor classification task. The Gabor model was trained specifically for the Gabor classifaction task. The behavioral results are also included and comprise the average confidence and accuracy results across 55 subjects."
      ]
    },
    {
      "cell_type": "code",
      "source": [
        "# @title Download behavioral results matlab file\n",
        "\n",
        "import requests, os\n",
        "from zipfile import ZipFile\n",
        "\n",
        "print(\"Start downloading and unzipping `Behavioral results matlab file`...\")\n",
        "name = 'behavioral_results'\n",
        "fname = f\"{name}.zip\"\n",
        "url = f\"https://osf.io/wsg26/download\" #osf share link\n",
        "r = requests.get(url, allow_redirects=True)\n",
        "with open(fname, 'wb') as fh:\n",
        "  fh.write(r.content) #download file\n",
        "\n",
        "with ZipFile(fname, 'r') as zfile:\n",
        "  zfile.extractall() #extract contents\n",
        "\n",
        "if os.path.exists(fname):\n",
        "  os.remove(fname) #delete zip file\n",
        "else:\n",
        "  print(f\"The file {fname} does not exist\")\n",
        "\n",
        "print(\"Download completed.\")"
      ],
      "metadata": {
        "cellView": "form",
        "id": "qQKuZz8EmmRK",
        "outputId": "c88619fb-c981-4140-d313-5f19438cf2c7",
        "colab": {
          "base_uri": "https://localhost:8080/"
        }
      },
      "execution_count": 1,
      "outputs": [
        {
          "output_type": "stream",
          "name": "stdout",
          "text": [
            "Start downloading and unzipping `Behavioral results matlab file`...\n",
            "Download completed.\n"
          ]
        }
      ]
    },
    {
      "cell_type": "markdown",
      "source": [
        "The file is comprised of a 55x3x3 matrix labeled accuracy, a 55x3x3 matrix named confidence, and a vector of length 55 named subjects. The subjects vector contains the id of the subject data used. The accuracy matrix contains how accurate each subject was for each of 3 tilt and 3 contrast combinations in a subject x tilt x contrast shape. The confidence matrix contains the same thing, but has confidence values instead."
      ],
      "metadata": {
        "id": "q8kurRzLmxL5"
      }
    },
    {
      "cell_type": "markdown",
      "metadata": {
        "id": "Z-KE4xmZlba8"
      },
      "source": [
        "Load necessary libraries."
      ]
    },
    {
      "cell_type": "code",
      "metadata": {
        "id": "SNVa-ghmFcga"
      },
      "source": [
        "import numpy as np\n",
        "import pandas as pd\n",
        "import seaborn as sns\n",
        "from scipy.io import loadmat"
      ],
      "execution_count": 4,
      "outputs": []
    },
    {
      "cell_type": "code",
      "source": [
        "results = loadmat('subject_results_sub_tilt_cont.mat')\n",
        "results.keys()"
      ],
      "metadata": {
        "id": "Ip1GE2TSg5ow",
        "outputId": "28001496-b0c6-49c6-b24d-295bafae15ff",
        "colab": {
          "base_uri": "https://localhost:8080/"
        }
      },
      "execution_count": 5,
      "outputs": [
        {
          "output_type": "execute_result",
          "data": {
            "text/plain": [
              "dict_keys(['__header__', '__version__', '__globals__', 'accuracy', 'confidence', 'subjects'])"
            ]
          },
          "metadata": {},
          "execution_count": 5
        }
      ]
    },
    {
      "cell_type": "markdown",
      "source": [
        "Extract confidence and accuracy."
      ],
      "metadata": {
        "id": "ZgfjKWDMgvyB"
      }
    },
    {
      "cell_type": "code",
      "source": [
        "accuracy = results['accuracy']\n",
        "confidence = results['confidence']"
      ],
      "metadata": {
        "id": "issEzjPOgrv7"
      },
      "execution_count": 6,
      "outputs": []
    },
    {
      "cell_type": "code",
      "source": [
        "confidence.shape"
      ],
      "metadata": {
        "id": "RnJFSAXyjOdB",
        "outputId": "2a56bbce-7b69-4f2f-bac4-d2b330ac9dea",
        "colab": {
          "base_uri": "https://localhost:8080/"
        }
      },
      "execution_count": 42,
      "outputs": [
        {
          "output_type": "execute_result",
          "data": {
            "text/plain": [
              "(55, 3, 3)"
            ]
          },
          "metadata": {},
          "execution_count": 42
        }
      ]
    },
    {
      "cell_type": "markdown",
      "source": [
        "How many total samples are there (55x3x3)?"
      ],
      "metadata": {
        "id": "jvfQt5Sjky_a"
      }
    },
    {
      "cell_type": "code",
      "source": [
        "np.count_nonzero(confidence)"
      ],
      "metadata": {
        "id": "7FZmQQF0kuMT",
        "outputId": "caa80850-e951-4154-b475-2afb194c0606",
        "colab": {
          "base_uri": "https://localhost:8080/"
        }
      },
      "execution_count": 14,
      "outputs": [
        {
          "output_type": "execute_result",
          "data": {
            "text/plain": [
              "495"
            ]
          },
          "metadata": {},
          "execution_count": 14
        }
      ]
    },
    {
      "cell_type": "markdown",
      "source": [
        "Repeat the tilt array 3 times for all conditions (9) then 55 times for all subjects."
      ],
      "metadata": {
        "id": "4r_Cg7EklndM"
      }
    },
    {
      "cell_type": "code",
      "source": [
        "#d = {'col1': [1, 2], 'col2': [3, 4]}\n",
        "\n",
        "#beh_tilts = np.array([[1,2],[3,4]])\n",
        "beh_tilts = np.array([1,1,1,2,2,2,3,3,3])\n",
        "all_beh_tilts = np.tile(beh_tilts, 55)\n",
        "print(all_beh_tilts)\n",
        "print(all_beh_tilts.shape)"
      ],
      "metadata": {
        "id": "zVLWGMtghn8j",
        "outputId": "bb89b3ca-5412-4564-bf9c-af35b140da96",
        "colab": {
          "base_uri": "https://localhost:8080/"
        }
      },
      "execution_count": 20,
      "outputs": [
        {
          "output_type": "stream",
          "name": "stdout",
          "text": [
            "[1 1 1 2 2 2 3 3 3 1 1 1 2 2 2 3 3 3 1 1 1 2 2 2 3 3 3 1 1 1 2 2 2 3 3 3 1\n",
            " 1 1 2 2 2 3 3 3 1 1 1 2 2 2 3 3 3 1 1 1 2 2 2 3 3 3 1 1 1 2 2 2 3 3 3 1 1\n",
            " 1 2 2 2 3 3 3 1 1 1 2 2 2 3 3 3 1 1 1 2 2 2 3 3 3 1 1 1 2 2 2 3 3 3 1 1 1\n",
            " 2 2 2 3 3 3 1 1 1 2 2 2 3 3 3 1 1 1 2 2 2 3 3 3 1 1 1 2 2 2 3 3 3 1 1 1 2\n",
            " 2 2 3 3 3 1 1 1 2 2 2 3 3 3 1 1 1 2 2 2 3 3 3 1 1 1 2 2 2 3 3 3 1 1 1 2 2\n",
            " 2 3 3 3 1 1 1 2 2 2 3 3 3 1 1 1 2 2 2 3 3 3 1 1 1 2 2 2 3 3 3 1 1 1 2 2 2\n",
            " 3 3 3 1 1 1 2 2 2 3 3 3 1 1 1 2 2 2 3 3 3 1 1 1 2 2 2 3 3 3 1 1 1 2 2 2 3\n",
            " 3 3 1 1 1 2 2 2 3 3 3 1 1 1 2 2 2 3 3 3 1 1 1 2 2 2 3 3 3 1 1 1 2 2 2 3 3\n",
            " 3 1 1 1 2 2 2 3 3 3 1 1 1 2 2 2 3 3 3 1 1 1 2 2 2 3 3 3 1 1 1 2 2 2 3 3 3\n",
            " 1 1 1 2 2 2 3 3 3 1 1 1 2 2 2 3 3 3 1 1 1 2 2 2 3 3 3 1 1 1 2 2 2 3 3 3 1\n",
            " 1 1 2 2 2 3 3 3 1 1 1 2 2 2 3 3 3 1 1 1 2 2 2 3 3 3 1 1 1 2 2 2 3 3 3 1 1\n",
            " 1 2 2 2 3 3 3 1 1 1 2 2 2 3 3 3 1 1 1 2 2 2 3 3 3 1 1 1 2 2 2 3 3 3 1 1 1\n",
            " 2 2 2 3 3 3 1 1 1 2 2 2 3 3 3 1 1 1 2 2 2 3 3 3 1 1 1 2 2 2 3 3 3 1 1 1 2\n",
            " 2 2 3 3 3 1 1 1 2 2 2 3 3 3]\n",
            "(495,)\n"
          ]
        }
      ]
    },
    {
      "cell_type": "markdown",
      "source": [
        "Do the same for contrast."
      ],
      "metadata": {
        "id": "9BYYZzsgndc7"
      }
    },
    {
      "cell_type": "code",
      "source": [
        "beh_contrast = np.array([1,2,3])\n",
        "all_beh_contrast = np.tile(beh_contrast, 165)\n",
        "print(all_beh_contrast)\n",
        "print(all_beh_contrast.shape)"
      ],
      "metadata": {
        "id": "NBB7v9ccm4be",
        "outputId": "7ca51ec0-356c-4773-c4c1-0caa66a26439",
        "colab": {
          "base_uri": "https://localhost:8080/"
        }
      },
      "execution_count": 21,
      "outputs": [
        {
          "output_type": "stream",
          "name": "stdout",
          "text": [
            "[1 2 3 1 2 3 1 2 3 1 2 3 1 2 3 1 2 3 1 2 3 1 2 3 1 2 3 1 2 3 1 2 3 1 2 3 1\n",
            " 2 3 1 2 3 1 2 3 1 2 3 1 2 3 1 2 3 1 2 3 1 2 3 1 2 3 1 2 3 1 2 3 1 2 3 1 2\n",
            " 3 1 2 3 1 2 3 1 2 3 1 2 3 1 2 3 1 2 3 1 2 3 1 2 3 1 2 3 1 2 3 1 2 3 1 2 3\n",
            " 1 2 3 1 2 3 1 2 3 1 2 3 1 2 3 1 2 3 1 2 3 1 2 3 1 2 3 1 2 3 1 2 3 1 2 3 1\n",
            " 2 3 1 2 3 1 2 3 1 2 3 1 2 3 1 2 3 1 2 3 1 2 3 1 2 3 1 2 3 1 2 3 1 2 3 1 2\n",
            " 3 1 2 3 1 2 3 1 2 3 1 2 3 1 2 3 1 2 3 1 2 3 1 2 3 1 2 3 1 2 3 1 2 3 1 2 3\n",
            " 1 2 3 1 2 3 1 2 3 1 2 3 1 2 3 1 2 3 1 2 3 1 2 3 1 2 3 1 2 3 1 2 3 1 2 3 1\n",
            " 2 3 1 2 3 1 2 3 1 2 3 1 2 3 1 2 3 1 2 3 1 2 3 1 2 3 1 2 3 1 2 3 1 2 3 1 2\n",
            " 3 1 2 3 1 2 3 1 2 3 1 2 3 1 2 3 1 2 3 1 2 3 1 2 3 1 2 3 1 2 3 1 2 3 1 2 3\n",
            " 1 2 3 1 2 3 1 2 3 1 2 3 1 2 3 1 2 3 1 2 3 1 2 3 1 2 3 1 2 3 1 2 3 1 2 3 1\n",
            " 2 3 1 2 3 1 2 3 1 2 3 1 2 3 1 2 3 1 2 3 1 2 3 1 2 3 1 2 3 1 2 3 1 2 3 1 2\n",
            " 3 1 2 3 1 2 3 1 2 3 1 2 3 1 2 3 1 2 3 1 2 3 1 2 3 1 2 3 1 2 3 1 2 3 1 2 3\n",
            " 1 2 3 1 2 3 1 2 3 1 2 3 1 2 3 1 2 3 1 2 3 1 2 3 1 2 3 1 2 3 1 2 3 1 2 3 1\n",
            " 2 3 1 2 3 1 2 3 1 2 3 1 2 3]\n",
            "(495,)\n"
          ]
        }
      ]
    },
    {
      "cell_type": "code",
      "source": [
        "accuracy.shape"
      ],
      "metadata": {
        "id": "qmhzfouSrwnT",
        "outputId": "fc5d67b6-e60d-4958-8399-4efe722556d6",
        "colab": {
          "base_uri": "https://localhost:8080/"
        }
      },
      "execution_count": 30,
      "outputs": [
        {
          "output_type": "execute_result",
          "data": {
            "text/plain": [
              "(55, 3, 3)"
            ]
          },
          "metadata": {},
          "execution_count": 30
        }
      ]
    },
    {
      "cell_type": "code",
      "source": [
        "accuracy[1,:,:]"
      ],
      "metadata": {
        "id": "4T2o6RLkr0pM",
        "outputId": "70db091b-ea94-4b4f-a317-64e5c5210843",
        "colab": {
          "base_uri": "https://localhost:8080/"
        }
      },
      "execution_count": 41,
      "outputs": [
        {
          "output_type": "execute_result",
          "data": {
            "text/plain": [
              "array([[0.53, 0.54, 0.5 ],\n",
              "       [0.52, 0.53, 0.58],\n",
              "       [0.69, 0.73, 0.7 ]])"
            ]
          },
          "metadata": {},
          "execution_count": 41
        }
      ]
    },
    {
      "cell_type": "markdown",
      "source": [
        "Confirm the flatten operation is unrolling accuracy first by subject (1st dim), then by tilt (2nd dim), then by contrast (3rd dim). `accuracy` is subject x tilt x contrast"
      ],
      "metadata": {
        "id": "_ubLPALlvBL-"
      }
    },
    {
      "cell_type": "code",
      "source": [
        "test2 = accuracy.flatten(order='C')\n",
        "test2"
      ],
      "metadata": {
        "id": "RhmnSi5hsz54",
        "outputId": "8160eb6f-7ba2-41d1-a3ea-6ed9e9684794",
        "colab": {
          "base_uri": "https://localhost:8080/"
        }
      },
      "execution_count": 40,
      "outputs": [
        {
          "output_type": "execute_result",
          "data": {
            "text/plain": [
              "array([0.64, 0.69, 0.7 , 0.65, 0.79, 0.84, 0.84, 0.95, 0.95, 0.53, 0.54,\n",
              "       0.5 , 0.52, 0.53, 0.58, 0.69, 0.73, 0.7 , 0.54, 0.57, 0.67, 0.6 ,\n",
              "       0.66, 0.77, 0.78, 0.85, 0.9 , 0.62, 0.54, 0.57, 0.63, 0.68, 0.71,\n",
              "       0.82, 0.74, 0.79, 0.52, 0.58, 0.57, 0.53, 0.63, 0.57, 0.6 , 0.58,\n",
              "       0.71, 0.61, 0.64, 0.69, 0.63, 0.76, 0.8 , 0.81, 0.92, 0.95, 0.62,\n",
              "       0.61, 0.54, 0.57, 0.62, 0.68, 0.77, 0.75, 0.78, 0.55, 0.61, 0.68,\n",
              "       0.63, 0.67, 0.72, 0.7 , 0.83, 0.88, 0.58, 0.62, 0.7 , 0.6 , 0.65,\n",
              "       0.78, 0.79, 0.87, 0.97, 0.47, 0.65, 0.71, 0.56, 0.8 , 0.75, 0.73,\n",
              "       0.98, 0.95, 0.57, 0.51, 0.66, 0.64, 0.64, 0.73, 0.74, 0.8 , 0.82,\n",
              "       0.57, 0.59, 0.55, 0.69, 0.71, 0.7 , 0.81, 0.81, 0.85, 0.53, 0.6 ,\n",
              "       0.53, 0.55, 0.66, 0.52, 0.55, 0.6 , 0.67, 0.57, 0.6 , 0.64, 0.64,\n",
              "       0.6 , 0.64, 0.74, 0.85, 0.86, 0.6 , 0.6 , 0.67, 0.58, 0.8 , 0.8 ,\n",
              "       0.86, 0.91, 0.91, 0.59, 0.71, 0.72, 0.67, 0.86, 0.87, 0.79, 0.92,\n",
              "       0.95, 0.6 , 0.57, 0.64, 0.49, 0.6 , 0.72, 0.61, 0.75, 0.86, 0.49,\n",
              "       0.49, 0.56, 0.55, 0.57, 0.61, 0.62, 0.65, 0.71, 0.57, 0.64, 0.53,\n",
              "       0.67, 0.72, 0.68, 0.79, 0.79, 0.94, 0.69, 0.57, 0.61, 0.6 , 0.58,\n",
              "       0.78, 0.7 , 0.74, 0.89, 0.69, 0.69, 0.69, 0.53, 0.83, 0.86, 0.75,\n",
              "       0.92, 0.97, 0.47, 0.58, 0.56, 0.55, 0.71, 0.62, 0.64, 0.75, 0.78,\n",
              "       0.57, 0.61, 0.6 , 0.6 , 0.56, 0.77, 0.77, 0.71, 0.82, 0.58, 0.7 ,\n",
              "       0.72, 0.68, 0.8 , 0.86, 0.86, 0.94, 0.99, 0.59, 0.58, 0.58, 0.49,\n",
              "       0.7 , 0.6 , 0.61, 0.76, 0.73, 0.55, 0.64, 0.64, 0.71, 0.65, 0.69,\n",
              "       0.78, 0.74, 0.87, 0.56, 0.64, 0.62, 0.65, 0.64, 0.67, 0.68, 0.75,\n",
              "       0.8 , 0.57, 0.59, 0.58, 0.66, 0.59, 0.72, 0.7 , 0.72, 0.85, 0.48,\n",
              "       0.7 , 0.73, 0.53, 0.68, 0.85, 0.74, 0.91, 0.99, 0.56, 0.47, 0.55,\n",
              "       0.52, 0.57, 0.62, 0.49, 0.7 , 0.71, 0.5 , 0.49, 0.55, 0.63, 0.68,\n",
              "       0.63, 0.73, 0.81, 0.75, 0.48, 0.56, 0.62, 0.6 , 0.62, 0.59, 0.58,\n",
              "       0.71, 0.73, 0.51, 0.63, 0.63, 0.63, 0.77, 0.79, 0.64, 0.79, 0.89,\n",
              "       0.49, 0.61, 0.67, 0.59, 0.67, 0.7 , 0.76, 0.81, 0.93, 0.51, 0.54,\n",
              "       0.58, 0.62, 0.58, 0.66, 0.53, 0.75, 0.79, 0.62, 0.67, 0.57, 0.7 ,\n",
              "       0.73, 0.77, 0.81, 0.85, 0.89, 0.53, 0.59, 0.73, 0.56, 0.77, 0.85,\n",
              "       0.78, 0.91, 0.94, 0.48, 0.55, 0.53, 0.47, 0.53, 0.62, 0.51, 0.64,\n",
              "       0.61, 0.52, 0.6 , 0.64, 0.66, 0.71, 0.71, 0.7 , 0.83, 0.86, 0.63,\n",
              "       0.56, 0.57, 0.54, 0.58, 0.61, 0.62, 0.68, 0.73, 0.6 , 0.52, 0.63,\n",
              "       0.54, 0.67, 0.59, 0.73, 0.86, 0.72, 0.62, 0.56, 0.63, 0.68, 0.74,\n",
              "       0.76, 0.77, 0.87, 0.89, 0.61, 0.58, 0.5 , 0.51, 0.58, 0.55, 0.59,\n",
              "       0.7 , 0.64, 0.51, 0.44, 0.52, 0.54, 0.5 , 0.53, 0.69, 0.7 , 0.66,\n",
              "       0.55, 0.57, 0.54, 0.46, 0.53, 0.68, 0.58, 0.59, 0.6 , 0.51, 0.59,\n",
              "       0.54, 0.49, 0.67, 0.69, 0.68, 0.65, 0.72, 0.59, 0.65, 0.61, 0.5 ,\n",
              "       0.76, 0.78, 0.73, 0.94, 0.85, 0.58, 0.55, 0.58, 0.64, 0.67, 0.76,\n",
              "       0.68, 0.74, 0.83, 0.53, 0.6 , 0.63, 0.6 , 0.65, 0.71, 0.66, 0.77,\n",
              "       0.81, 0.57, 0.58, 0.64, 0.59, 0.79, 0.78, 0.64, 0.86, 0.93, 0.55,\n",
              "       0.5 , 0.43, 0.55, 0.65, 0.65, 0.57, 0.68, 0.68, 0.51, 0.46, 0.5 ,\n",
              "       0.59, 0.52, 0.67, 0.54, 0.65, 0.79, 0.53, 0.61, 0.66, 0.69, 0.72,\n",
              "       0.83, 0.83, 0.92, 0.95, 0.63, 0.59, 0.65, 0.62, 0.68, 0.74, 0.66,\n",
              "       0.74, 0.86, 0.5 , 0.6 , 0.64, 0.5 , 0.66, 0.82, 0.67, 0.9 , 0.85])"
            ]
          },
          "metadata": {},
          "execution_count": 40
        }
      ]
    },
    {
      "cell_type": "code",
      "source": [
        "df_beh = pd.DataFrame(columns=['Tilt','Contrast','Accuracy','Confidence']) #initialize dataframe\n",
        "df_beh['Tilt'] = all_beh_tilts\n",
        "df_beh['Contrast'] = all_beh_contrast\n",
        "df_beh['Accuracy'] = accuracy.flatten(order='C')\n",
        "df_beh['Confidence'] = confidence.flatten(order='C')\n",
        "df_beh.head()"
      ],
      "metadata": {
        "id": "o1be0PxypHs5",
        "outputId": "20cf68f5-19f3-447a-bdf6-885d95a7852f",
        "colab": {
          "base_uri": "https://localhost:8080/",
          "height": 206
        }
      },
      "execution_count": 44,
      "outputs": [
        {
          "output_type": "execute_result",
          "data": {
            "text/html": [
              "<div>\n",
              "<style scoped>\n",
              "    .dataframe tbody tr th:only-of-type {\n",
              "        vertical-align: middle;\n",
              "    }\n",
              "\n",
              "    .dataframe tbody tr th {\n",
              "        vertical-align: top;\n",
              "    }\n",
              "\n",
              "    .dataframe thead th {\n",
              "        text-align: right;\n",
              "    }\n",
              "</style>\n",
              "<table border=\"1\" class=\"dataframe\">\n",
              "  <thead>\n",
              "    <tr style=\"text-align: right;\">\n",
              "      <th></th>\n",
              "      <th>Tilt</th>\n",
              "      <th>Contrast</th>\n",
              "      <th>Accuracy</th>\n",
              "      <th>Confidence</th>\n",
              "    </tr>\n",
              "  </thead>\n",
              "  <tbody>\n",
              "    <tr>\n",
              "      <th>0</th>\n",
              "      <td>1</td>\n",
              "      <td>1</td>\n",
              "      <td>0.64</td>\n",
              "      <td>1.90</td>\n",
              "    </tr>\n",
              "    <tr>\n",
              "      <th>1</th>\n",
              "      <td>1</td>\n",
              "      <td>2</td>\n",
              "      <td>0.69</td>\n",
              "      <td>1.87</td>\n",
              "    </tr>\n",
              "    <tr>\n",
              "      <th>2</th>\n",
              "      <td>1</td>\n",
              "      <td>3</td>\n",
              "      <td>0.70</td>\n",
              "      <td>2.18</td>\n",
              "    </tr>\n",
              "    <tr>\n",
              "      <th>3</th>\n",
              "      <td>2</td>\n",
              "      <td>1</td>\n",
              "      <td>0.65</td>\n",
              "      <td>1.94</td>\n",
              "    </tr>\n",
              "    <tr>\n",
              "      <th>4</th>\n",
              "      <td>2</td>\n",
              "      <td>2</td>\n",
              "      <td>0.79</td>\n",
              "      <td>1.95</td>\n",
              "    </tr>\n",
              "  </tbody>\n",
              "</table>\n",
              "</div>"
            ],
            "text/plain": [
              "   Tilt  Contrast  Accuracy  Confidence\n",
              "0     1         1      0.64        1.90\n",
              "1     1         2      0.69        1.87\n",
              "2     1         3      0.70        2.18\n",
              "3     2         1      0.65        1.94\n",
              "4     2         2      0.79        1.95"
            ]
          },
          "metadata": {},
          "execution_count": 44
        }
      ]
    },
    {
      "cell_type": "markdown",
      "source": [
        "Confirm that the third subject's data displays in dataframe."
      ],
      "metadata": {
        "id": "UP0dJvCKwmLw"
      }
    },
    {
      "cell_type": "code",
      "source": [
        "df_beh[18:27] #subject 3 (every 9)"
      ],
      "metadata": {
        "id": "9ZJ-Kgs5wGwU",
        "outputId": "f8860e15-cd48-4bc7-802e-a4366a21cc00",
        "colab": {
          "base_uri": "https://localhost:8080/",
          "height": 332
        }
      },
      "execution_count": 49,
      "outputs": [
        {
          "output_type": "execute_result",
          "data": {
            "text/html": [
              "<div>\n",
              "<style scoped>\n",
              "    .dataframe tbody tr th:only-of-type {\n",
              "        vertical-align: middle;\n",
              "    }\n",
              "\n",
              "    .dataframe tbody tr th {\n",
              "        vertical-align: top;\n",
              "    }\n",
              "\n",
              "    .dataframe thead th {\n",
              "        text-align: right;\n",
              "    }\n",
              "</style>\n",
              "<table border=\"1\" class=\"dataframe\">\n",
              "  <thead>\n",
              "    <tr style=\"text-align: right;\">\n",
              "      <th></th>\n",
              "      <th>Tilt</th>\n",
              "      <th>Contrast</th>\n",
              "      <th>Accuracy</th>\n",
              "      <th>Confidence</th>\n",
              "    </tr>\n",
              "  </thead>\n",
              "  <tbody>\n",
              "    <tr>\n",
              "      <th>18</th>\n",
              "      <td>1</td>\n",
              "      <td>1</td>\n",
              "      <td>0.54</td>\n",
              "      <td>1.32</td>\n",
              "    </tr>\n",
              "    <tr>\n",
              "      <th>19</th>\n",
              "      <td>1</td>\n",
              "      <td>2</td>\n",
              "      <td>0.57</td>\n",
              "      <td>1.44</td>\n",
              "    </tr>\n",
              "    <tr>\n",
              "      <th>20</th>\n",
              "      <td>1</td>\n",
              "      <td>3</td>\n",
              "      <td>0.67</td>\n",
              "      <td>1.68</td>\n",
              "    </tr>\n",
              "    <tr>\n",
              "      <th>21</th>\n",
              "      <td>2</td>\n",
              "      <td>1</td>\n",
              "      <td>0.60</td>\n",
              "      <td>1.29</td>\n",
              "    </tr>\n",
              "    <tr>\n",
              "      <th>22</th>\n",
              "      <td>2</td>\n",
              "      <td>2</td>\n",
              "      <td>0.66</td>\n",
              "      <td>1.51</td>\n",
              "    </tr>\n",
              "    <tr>\n",
              "      <th>23</th>\n",
              "      <td>2</td>\n",
              "      <td>3</td>\n",
              "      <td>0.77</td>\n",
              "      <td>1.73</td>\n",
              "    </tr>\n",
              "    <tr>\n",
              "      <th>24</th>\n",
              "      <td>3</td>\n",
              "      <td>1</td>\n",
              "      <td>0.78</td>\n",
              "      <td>1.44</td>\n",
              "    </tr>\n",
              "    <tr>\n",
              "      <th>25</th>\n",
              "      <td>3</td>\n",
              "      <td>2</td>\n",
              "      <td>0.85</td>\n",
              "      <td>1.64</td>\n",
              "    </tr>\n",
              "    <tr>\n",
              "      <th>26</th>\n",
              "      <td>3</td>\n",
              "      <td>3</td>\n",
              "      <td>0.90</td>\n",
              "      <td>2.05</td>\n",
              "    </tr>\n",
              "  </tbody>\n",
              "</table>\n",
              "</div>"
            ],
            "text/plain": [
              "    Tilt  Contrast  Accuracy  Confidence\n",
              "18     1         1      0.54        1.32\n",
              "19     1         2      0.57        1.44\n",
              "20     1         3      0.67        1.68\n",
              "21     2         1      0.60        1.29\n",
              "22     2         2      0.66        1.51\n",
              "23     2         3      0.77        1.73\n",
              "24     3         1      0.78        1.44\n",
              "25     3         2      0.85        1.64\n",
              "26     3         3      0.90        2.05"
            ]
          },
          "metadata": {},
          "execution_count": 49
        }
      ]
    },
    {
      "cell_type": "code",
      "source": [
        "print(accuracy[2,:,:])\n",
        "print(confidence[2,:,:])"
      ],
      "metadata": {
        "id": "1Q9Ho7QHv9L_",
        "outputId": "5c0f94c0-96bc-4c6b-b997-15e10f7a42fd",
        "colab": {
          "base_uri": "https://localhost:8080/"
        }
      },
      "execution_count": 50,
      "outputs": [
        {
          "output_type": "stream",
          "name": "stdout",
          "text": [
            "[[0.54 0.57 0.67]\n",
            " [0.6  0.66 0.77]\n",
            " [0.78 0.85 0.9 ]]\n",
            "[[1.32 1.44 1.68]\n",
            " [1.29 1.51 1.73]\n",
            " [1.44 1.64 2.05]]\n"
          ]
        }
      ]
    },
    {
      "cell_type": "markdown",
      "source": [
        "This looks good."
      ],
      "metadata": {
        "id": "c77NML3bwzhP"
      }
    },
    {
      "cell_type": "markdown",
      "source": [
        "Load the spreadsheets into pandas dataframe."
      ],
      "metadata": {
        "id": "6Zv9wrlyx9mY"
      }
    },
    {
      "cell_type": "code",
      "metadata": {
        "id": "Cmn1g9mNlYF5",
        "outputId": "723b0a40-076f-4bc3-f1de-f97fe4cb15fc",
        "colab": {
          "base_uri": "https://localhost:8080/"
        }
      },
      "source": [
        "df_beh = pd.read_excel(\"results_behavioral.xlsx\") #mobilenetv2 logits\n",
        "df_cif = pd.read_excel(\"results_cifar10.xlsx\") #vanilla logits\n",
        "df_van3 = pd.read_excel(\"results_van3.xlsx\") #vanilla logits\n",
        "df_vgg = pd.read_excel(\"results_vgg16-raw_conf.xlsx\") #vanilla logits\n",
        "print(df_beh.head())\n",
        "print(df_cif.head())\n",
        "print(df_van3.head())\n",
        "print(df_vgg.head())"
      ],
      "execution_count": 25,
      "outputs": [
        {
          "output_type": "stream",
          "name": "stdout",
          "text": [
            "   Tilt  Contrast  Accuracy  Confidence\n",
            "0   1.0         1  0.558909    2.058364\n",
            "1   NaN         2  0.587818    2.251273\n",
            "2   NaN         3  0.609091    2.465091\n",
            "3   2.0         1  0.589455    2.080727\n",
            "4   NaN         2  0.667091    2.295091\n",
            "   Tilt  Contrast  Accuracy  Confidence\n",
            "0   0.1      0.30     0.520    0.688855\n",
            "1   NaN      0.45     0.511    0.683615\n",
            "2   NaN      1.00     0.526    0.742383\n",
            "3   0.2      0.30     0.497    0.696570\n",
            "4   NaN      0.45     0.503    0.697424\n",
            "   Tilt  Contrast  Accuracy  Confidence\n",
            "0   0.1      0.30     0.650    1.112273\n",
            "1   NaN      0.45     0.699    1.239503\n",
            "2   NaN      1.00     0.835    1.958911\n",
            "3   0.2      0.30     0.751    1.232105\n",
            "4   NaN      0.45     0.858    1.678815\n",
            "   Tilt  Contrast  Accuracy  Confidence\n",
            "0   0.1      0.30     0.616    0.495122\n",
            "1   NaN      0.45     0.574    0.544343\n",
            "2   NaN      1.00     0.536    1.197594\n",
            "3   0.2      0.30     0.598    0.483895\n",
            "4   NaN      0.45     0.617    0.584853\n"
          ]
        }
      ]
    },
    {
      "cell_type": "code",
      "source": [
        "df_beh['Tilt']"
      ],
      "metadata": {
        "colab": {
          "base_uri": "https://localhost:8080/"
        },
        "id": "2aVQqp0KSmco",
        "outputId": "afa1eec5-0fce-40d7-e70a-d4887d89f254"
      },
      "execution_count": 26,
      "outputs": [
        {
          "output_type": "execute_result",
          "data": {
            "text/plain": [
              "0    1.0\n",
              "1    NaN\n",
              "2    NaN\n",
              "3    2.0\n",
              "4    NaN\n",
              "5    NaN\n",
              "6    3.0\n",
              "7    NaN\n",
              "8    NaN\n",
              "Name: Tilt, dtype: float64"
            ]
          },
          "metadata": {},
          "execution_count": 26
        }
      ]
    },
    {
      "cell_type": "markdown",
      "source": [
        "Set the NaN indices for behavior results."
      ],
      "metadata": {
        "id": "ARLjTwmGX57_"
      }
    },
    {
      "cell_type": "code",
      "source": [
        "df_nanidx = [1,2,4,5,7,8]"
      ],
      "metadata": {
        "id": "548z0ejzS9fI"
      },
      "execution_count": 27,
      "outputs": []
    },
    {
      "cell_type": "code",
      "source": [
        "print(df_cif['Tilt'])\n",
        "print(df_van3['Tilt'])\n",
        "print(df_vgg['Tilt'])"
      ],
      "metadata": {
        "colab": {
          "base_uri": "https://localhost:8080/"
        },
        "id": "Tpf5n74XXo0A",
        "outputId": "cfa246c8-9894-4bc8-c50f-62368b389d5d"
      },
      "execution_count": 30,
      "outputs": [
        {
          "output_type": "stream",
          "name": "stdout",
          "text": [
            "0     0.1\n",
            "1     NaN\n",
            "2     NaN\n",
            "3     0.2\n",
            "4     NaN\n",
            "5     NaN\n",
            "6     0.4\n",
            "7     NaN\n",
            "8     NaN\n",
            "9     0.8\n",
            "10    NaN\n",
            "11    NaN\n",
            "12    1.6\n",
            "13    NaN\n",
            "14    NaN\n",
            "15    3.2\n",
            "16    NaN\n",
            "17    NaN\n",
            "Name: Tilt, dtype: float64\n",
            "0     0.1\n",
            "1     NaN\n",
            "2     NaN\n",
            "3     0.2\n",
            "4     NaN\n",
            "5     NaN\n",
            "6     0.4\n",
            "7     NaN\n",
            "8     NaN\n",
            "9     0.8\n",
            "10    NaN\n",
            "11    NaN\n",
            "12    1.6\n",
            "13    NaN\n",
            "14    NaN\n",
            "15    3.2\n",
            "16    NaN\n",
            "17    NaN\n",
            "Name: Tilt, dtype: float64\n",
            "0     0.1\n",
            "1     NaN\n",
            "2     NaN\n",
            "3     0.2\n",
            "4     NaN\n",
            "5     NaN\n",
            "6     0.4\n",
            "7     NaN\n",
            "8     NaN\n",
            "9     0.8\n",
            "10    NaN\n",
            "11    NaN\n",
            "12    1.6\n",
            "13    NaN\n",
            "14    NaN\n",
            "15    3.2\n",
            "16    NaN\n",
            "17    NaN\n",
            "Name: Tilt, dtype: float64\n"
          ]
        }
      ]
    },
    {
      "cell_type": "markdown",
      "source": [
        "Set the NaN indices for model results."
      ],
      "metadata": {
        "id": "lEkTBv6ZX-74"
      }
    },
    {
      "cell_type": "code",
      "source": [
        "df_nanidx_mod = [1,2,4,5,7,8,10,11,13,14,16,17]"
      ],
      "metadata": {
        "id": "MjKoy26PX34x"
      },
      "execution_count": 31,
      "outputs": []
    },
    {
      "cell_type": "markdown",
      "source": [
        "Remove all the NaNs."
      ],
      "metadata": {
        "id": "-fC3oRMOYzxY"
      }
    },
    {
      "cell_type": "code",
      "source": [
        "df_beh.loc[df_nanidx,'Tilt'] = [1.0,1.0,2.0,2.0,3.0,3.0]\n",
        "df_cif.loc[df_nanidx_mod,'Tilt'] = [0.1,0.1,0.2,0.2,0.4,0.4,0.8,0.8,1.6,1.6,3.2,3.2]\n",
        "df_van3.loc[df_nanidx_mod,'Tilt'] = [0.1,0.1,0.2,0.2,0.4,0.4,0.8,0.8,1.6,1.6,3.2,3.2]\n",
        "df_vgg.loc[df_nanidx_mod,'Tilt'] = [0.1,0.1,0.2,0.2,0.4,0.4,0.8,0.8,1.6,1.6,3.2,3.2]"
      ],
      "metadata": {
        "id": "-OJ7PZ9DWbgK"
      },
      "execution_count": 33,
      "outputs": []
    },
    {
      "cell_type": "code",
      "source": [
        "print(df_beh['Tilt'])\n",
        "print(df_vgg['Tilt'])"
      ],
      "metadata": {
        "colab": {
          "base_uri": "https://localhost:8080/"
        },
        "id": "dcFEMYSZTI6L",
        "outputId": "09755328-9e37-4a68-e988-1ca8ade23ee9"
      },
      "execution_count": 34,
      "outputs": [
        {
          "output_type": "stream",
          "name": "stdout",
          "text": [
            "0    1.0\n",
            "1    1.0\n",
            "2    1.0\n",
            "3    2.0\n",
            "4    2.0\n",
            "5    2.0\n",
            "6    3.0\n",
            "7    3.0\n",
            "8    3.0\n",
            "Name: Tilt, dtype: float64\n",
            "0     0.1\n",
            "1     0.1\n",
            "2     0.1\n",
            "3     0.2\n",
            "4     0.2\n",
            "5     0.2\n",
            "6     0.4\n",
            "7     0.4\n",
            "8     0.4\n",
            "9     0.8\n",
            "10    0.8\n",
            "11    0.8\n",
            "12    1.6\n",
            "13    1.6\n",
            "14    1.6\n",
            "15    3.2\n",
            "16    3.2\n",
            "17    3.2\n",
            "Name: Tilt, dtype: float64\n"
          ]
        }
      ]
    },
    {
      "cell_type": "code",
      "metadata": {
        "colab": {
          "base_uri": "https://localhost:8080/",
          "height": 206
        },
        "id": "nM0hwzN7m1Bs",
        "outputId": "1524e364-0f56-407e-94be-3163df8e7488"
      },
      "source": [
        "df_cif.head()"
      ],
      "execution_count": 36,
      "outputs": [
        {
          "output_type": "execute_result",
          "data": {
            "text/html": [
              "<div>\n",
              "<style scoped>\n",
              "    .dataframe tbody tr th:only-of-type {\n",
              "        vertical-align: middle;\n",
              "    }\n",
              "\n",
              "    .dataframe tbody tr th {\n",
              "        vertical-align: top;\n",
              "    }\n",
              "\n",
              "    .dataframe thead th {\n",
              "        text-align: right;\n",
              "    }\n",
              "</style>\n",
              "<table border=\"1\" class=\"dataframe\">\n",
              "  <thead>\n",
              "    <tr style=\"text-align: right;\">\n",
              "      <th></th>\n",
              "      <th>Tilt</th>\n",
              "      <th>Contrast</th>\n",
              "      <th>Accuracy</th>\n",
              "      <th>Confidence</th>\n",
              "    </tr>\n",
              "  </thead>\n",
              "  <tbody>\n",
              "    <tr>\n",
              "      <th>0</th>\n",
              "      <td>0.1</td>\n",
              "      <td>0.30</td>\n",
              "      <td>0.520</td>\n",
              "      <td>0.688855</td>\n",
              "    </tr>\n",
              "    <tr>\n",
              "      <th>1</th>\n",
              "      <td>0.1</td>\n",
              "      <td>0.45</td>\n",
              "      <td>0.511</td>\n",
              "      <td>0.683615</td>\n",
              "    </tr>\n",
              "    <tr>\n",
              "      <th>2</th>\n",
              "      <td>0.1</td>\n",
              "      <td>1.00</td>\n",
              "      <td>0.526</td>\n",
              "      <td>0.742383</td>\n",
              "    </tr>\n",
              "    <tr>\n",
              "      <th>3</th>\n",
              "      <td>0.2</td>\n",
              "      <td>0.30</td>\n",
              "      <td>0.497</td>\n",
              "      <td>0.696570</td>\n",
              "    </tr>\n",
              "    <tr>\n",
              "      <th>4</th>\n",
              "      <td>0.2</td>\n",
              "      <td>0.45</td>\n",
              "      <td>0.503</td>\n",
              "      <td>0.697424</td>\n",
              "    </tr>\n",
              "  </tbody>\n",
              "</table>\n",
              "</div>"
            ],
            "text/plain": [
              "   Tilt  Contrast  Accuracy  Confidence\n",
              "0   0.1      0.30     0.520    0.688855\n",
              "1   0.1      0.45     0.511    0.683615\n",
              "2   0.1      1.00     0.526    0.742383\n",
              "3   0.2      0.30     0.497    0.696570\n",
              "4   0.2      0.45     0.503    0.697424"
            ]
          },
          "metadata": {},
          "execution_count": 36
        }
      ]
    },
    {
      "cell_type": "code",
      "metadata": {
        "colab": {
          "base_uri": "https://localhost:8080/",
          "height": 382
        },
        "id": "NuPj_2Lam9gT",
        "outputId": "342bf69a-ca0a-4520-f9b2-ce304e0a71d4"
      },
      "source": [
        "sns.set_theme(style=\"whitegrid\", palette=\"pastel\")\n",
        "\n",
        "# Draw a nested boxplot to show bills by day and time\n",
        "#sns.boxplot(x=\"Tilt\", y=\"Accuracy\", hue=\"Contrast\", data=df_beh)\n",
        "# Draw a nested barplot by species and sex\n",
        "g = sns.catplot(\n",
        "    data=df_beh, kind=\"bar\",\n",
        "    x=\"Tilt\", y=\"Accuracy\", hue=\"Contrast\",\n",
        "    ci=\"sd\", palette=\"pastel\", alpha=.8, )\n",
        "g.despine(left=True)\n",
        "#g.set_axis_labels(\"\", \"Body mass (g)\")\n",
        "#g.legend.set_title(\"\")"
      ],
      "execution_count": 45,
      "outputs": [
        {
          "output_type": "execute_result",
          "data": {
            "text/plain": [
              "<seaborn.axisgrid.FacetGrid at 0x7fe2e74cd3d0>"
            ]
          },
          "metadata": {},
          "execution_count": 45
        },
        {
          "output_type": "display_data",
          "data": {
            "image/png": "[encoded data removed]",
            "text/plain": [
              "<Figure size 420.425x360 with 1 Axes>"
            ]
          },
          "metadata": {}
        }
      ]
    },
    {
      "cell_type": "markdown",
      "source": [
        "# STOPPED HERE: NEED RAW DATA FOR CONF INT. LOAD MAT FILE"
      ],
      "metadata": {
        "id": "ODrNUaoHe5a0"
      }
    },
    {
      "cell_type": "markdown",
      "source": [
        "## 2: Extract confidence and accuracy"
      ],
      "metadata": {
        "id": "LmsLA2oQtJMz"
      }
    },
    {
      "cell_type": "code",
      "metadata": {
        "id": "-M8Kn9B3oPlW"
      },
      "source": [
        "accuracy = results['accuracy']"
      ],
      "execution_count": null,
      "outputs": []
    },
    {
      "cell_type": "markdown",
      "metadata": {
        "id": "brV0fXC5dPJ3"
      },
      "source": [
        "Let's check the first subject's accuracy for all 9 tilt x contrast combinations."
      ]
    },
    {
      "cell_type": "code",
      "metadata": {
        "colab": {
          "base_uri": "https://localhost:8080/"
        },
        "id": "HjEkcqUFolOi",
        "outputId": "d4d7fb29-8a27-4edb-f5be-f35b302d59d7"
      },
      "source": [
        "accuracy[0] "
      ],
      "execution_count": null,
      "outputs": [
        {
          "output_type": "execute_result",
          "data": {
            "text/plain": [
              "array([[0.64, 0.69, 0.7 ],\n",
              "       [0.65, 0.79, 0.84],\n",
              "       [0.84, 0.95, 0.95]])"
            ]
          },
          "metadata": {},
          "execution_count": 7
        }
      ]
    },
    {
      "cell_type": "markdown",
      "source": [
        "Now, let's average over all subjects to find the mean accuracy for each tilt x contrast condition."
      ],
      "metadata": {
        "id": "T0kZOX7U4Rh4"
      }
    },
    {
      "cell_type": "code",
      "metadata": {
        "colab": {
          "base_uri": "https://localhost:8080/"
        },
        "id": "4OLN9-NnmgP8",
        "outputId": "86038c8d-9d22-4b58-889f-0687c7a4a95d"
      },
      "source": [
        "avg_acc = np.average(accuracy, axis=0)\n",
        "avg_acc"
      ],
      "execution_count": null,
      "outputs": [
        {
          "output_type": "execute_result",
          "data": {
            "text/plain": [
              "array([[0.55890909, 0.58781818, 0.60909091],\n",
              "       [0.58945455, 0.66709091, 0.70872727],\n",
              "       [0.69890909, 0.78672727, 0.82636364]])"
            ]
          },
          "metadata": {},
          "execution_count": 8
        }
      ]
    },
    {
      "cell_type": "markdown",
      "source": [
        "Do the same for confidence."
      ],
      "metadata": {
        "id": "pcAsN7g044m-"
      }
    },
    {
      "cell_type": "code",
      "source": [
        "avg_conf = np.average(results['confidence'], axis=0)\n",
        "avg_conf"
      ],
      "metadata": {
        "id": "mhEDZvBC46aB",
        "outputId": "495a11e0-c7cc-453a-fbcc-b67635594c51",
        "colab": {
          "base_uri": "https://localhost:8080/"
        }
      },
      "execution_count": null,
      "outputs": [
        {
          "output_type": "execute_result",
          "data": {
            "text/plain": [
              "array([[2.05836364, 2.25127273, 2.46509091],\n",
              "       [2.08072727, 2.29509091, 2.53545455],\n",
              "       [2.17872727, 2.48781818, 2.792     ]])"
            ]
          },
          "metadata": {},
          "execution_count": 9
        }
      ]
    },
    {
      "cell_type": "code",
      "source": [
        "avg_acc.flatten() #unroll avg acc matrix"
      ],
      "metadata": {
        "id": "keBzmenK5pw-",
        "outputId": "e5c5daeb-45a5-41e6-8165-d2de8ff3012d",
        "colab": {
          "base_uri": "https://localhost:8080/"
        }
      },
      "execution_count": null,
      "outputs": [
        {
          "output_type": "execute_result",
          "data": {
            "text/plain": [
              "array([0.55890909, 0.58781818, 0.60909091, 0.58945455, 0.66709091,\n",
              "       0.70872727, 0.69890909, 0.78672727, 0.82636364])"
            ]
          },
          "metadata": {},
          "execution_count": 10
        }
      ]
    },
    {
      "cell_type": "markdown",
      "source": [
        "## 3: Create dataframe of results and save to Excel"
      ],
      "metadata": {
        "id": "KoYAimzJtPL4"
      }
    },
    {
      "cell_type": "markdown",
      "source": [
        "Create a dataframe containing all average results with tilt x contrast assignments."
      ],
      "metadata": {
        "id": "rX4lw5ObsJPa"
      }
    },
    {
      "cell_type": "code",
      "source": [
        "df_results = pd.DataFrame({'Accuracy':avg_acc.flatten(),\n",
        "                           'Confidence':avg_conf.flatten()})\n",
        "df_results = df_results.assign(Tilt = [1, 1, 1, 2, 2, 2, 3, 3, 3],\n",
        "                         Contrast = [1, 2, 3, 1, 2, 3, 1, 2, 3])"
      ],
      "metadata": {
        "id": "a22zfw4X5Kee"
      },
      "execution_count": null,
      "outputs": []
    },
    {
      "cell_type": "code",
      "source": [
        "df_results"
      ],
      "metadata": {
        "id": "tWCcSJwirbgZ",
        "outputId": "bf9623ea-8a82-40a9-d1b7-971971476d71",
        "colab": {
          "base_uri": "https://localhost:8080/",
          "height": 332
        }
      },
      "execution_count": null,
      "outputs": [
        {
          "output_type": "execute_result",
          "data": {
            "text/html": [
              "<div>\n",
              "<style scoped>\n",
              "    .dataframe tbody tr th:only-of-type {\n",
              "        vertical-align: middle;\n",
              "    }\n",
              "\n",
              "    .dataframe tbody tr th {\n",
              "        vertical-align: top;\n",
              "    }\n",
              "\n",
              "    .dataframe thead th {\n",
              "        text-align: right;\n",
              "    }\n",
              "</style>\n",
              "<table border=\"1\" class=\"dataframe\">\n",
              "  <thead>\n",
              "    <tr style=\"text-align: right;\">\n",
              "      <th></th>\n",
              "      <th>Accuracy</th>\n",
              "      <th>Confidence</th>\n",
              "      <th>Tilt</th>\n",
              "      <th>Contrast</th>\n",
              "    </tr>\n",
              "  </thead>\n",
              "  <tbody>\n",
              "    <tr>\n",
              "      <th>0</th>\n",
              "      <td>0.558909</td>\n",
              "      <td>2.058364</td>\n",
              "      <td>1</td>\n",
              "      <td>1</td>\n",
              "    </tr>\n",
              "    <tr>\n",
              "      <th>1</th>\n",
              "      <td>0.587818</td>\n",
              "      <td>2.251273</td>\n",
              "      <td>1</td>\n",
              "      <td>2</td>\n",
              "    </tr>\n",
              "    <tr>\n",
              "      <th>2</th>\n",
              "      <td>0.609091</td>\n",
              "      <td>2.465091</td>\n",
              "      <td>1</td>\n",
              "      <td>3</td>\n",
              "    </tr>\n",
              "    <tr>\n",
              "      <th>3</th>\n",
              "      <td>0.589455</td>\n",
              "      <td>2.080727</td>\n",
              "      <td>2</td>\n",
              "      <td>1</td>\n",
              "    </tr>\n",
              "    <tr>\n",
              "      <th>4</th>\n",
              "      <td>0.667091</td>\n",
              "      <td>2.295091</td>\n",
              "      <td>2</td>\n",
              "      <td>2</td>\n",
              "    </tr>\n",
              "    <tr>\n",
              "      <th>5</th>\n",
              "      <td>0.708727</td>\n",
              "      <td>2.535455</td>\n",
              "      <td>2</td>\n",
              "      <td>3</td>\n",
              "    </tr>\n",
              "    <tr>\n",
              "      <th>6</th>\n",
              "      <td>0.698909</td>\n",
              "      <td>2.178727</td>\n",
              "      <td>3</td>\n",
              "      <td>1</td>\n",
              "    </tr>\n",
              "    <tr>\n",
              "      <th>7</th>\n",
              "      <td>0.786727</td>\n",
              "      <td>2.487818</td>\n",
              "      <td>3</td>\n",
              "      <td>2</td>\n",
              "    </tr>\n",
              "    <tr>\n",
              "      <th>8</th>\n",
              "      <td>0.826364</td>\n",
              "      <td>2.792000</td>\n",
              "      <td>3</td>\n",
              "      <td>3</td>\n",
              "    </tr>\n",
              "  </tbody>\n",
              "</table>\n",
              "</div>"
            ],
            "text/plain": [
              "   Accuracy  Confidence  Tilt  Contrast\n",
              "0  0.558909    2.058364     1         1\n",
              "1  0.587818    2.251273     1         2\n",
              "2  0.609091    2.465091     1         3\n",
              "3  0.589455    2.080727     2         1\n",
              "4  0.667091    2.295091     2         2\n",
              "5  0.708727    2.535455     2         3\n",
              "6  0.698909    2.178727     3         1\n",
              "7  0.786727    2.487818     3         2\n",
              "8  0.826364    2.792000     3         3"
            ]
          },
          "metadata": {},
          "execution_count": 16
        }
      ]
    },
    {
      "cell_type": "markdown",
      "source": [
        "Group the results by tilt and contrast for a clearer visualization."
      ],
      "metadata": {
        "id": "WdgZNZaSsWuS"
      }
    },
    {
      "cell_type": "code",
      "source": [
        "df_results_groupbyta = df_results.reset_index().set_index(['Tilt','Contrast'])\n",
        "del df_results_groupbyta['index']\n",
        "df_results_groupbyta"
      ],
      "metadata": {
        "id": "sMOQ7x4qrsBn",
        "outputId": "0baeaa59-ecd7-4158-dd7f-ec951a5801a7",
        "colab": {
          "base_uri": "https://localhost:8080/",
          "height": 363
        }
      },
      "execution_count": null,
      "outputs": [
        {
          "output_type": "execute_result",
          "data": {
            "text/html": [
              "<div>\n",
              "<style scoped>\n",
              "    .dataframe tbody tr th:only-of-type {\n",
              "        vertical-align: middle;\n",
              "    }\n",
              "\n",
              "    .dataframe tbody tr th {\n",
              "        vertical-align: top;\n",
              "    }\n",
              "\n",
              "    .dataframe thead th {\n",
              "        text-align: right;\n",
              "    }\n",
              "</style>\n",
              "<table border=\"1\" class=\"dataframe\">\n",
              "  <thead>\n",
              "    <tr style=\"text-align: right;\">\n",
              "      <th></th>\n",
              "      <th></th>\n",
              "      <th>Accuracy</th>\n",
              "      <th>Confidence</th>\n",
              "    </tr>\n",
              "    <tr>\n",
              "      <th>Tilt</th>\n",
              "      <th>Contrast</th>\n",
              "      <th></th>\n",
              "      <th></th>\n",
              "    </tr>\n",
              "  </thead>\n",
              "  <tbody>\n",
              "    <tr>\n",
              "      <th rowspan=\"3\" valign=\"top\">1</th>\n",
              "      <th>1</th>\n",
              "      <td>0.558909</td>\n",
              "      <td>2.058364</td>\n",
              "    </tr>\n",
              "    <tr>\n",
              "      <th>2</th>\n",
              "      <td>0.587818</td>\n",
              "      <td>2.251273</td>\n",
              "    </tr>\n",
              "    <tr>\n",
              "      <th>3</th>\n",
              "      <td>0.609091</td>\n",
              "      <td>2.465091</td>\n",
              "    </tr>\n",
              "    <tr>\n",
              "      <th rowspan=\"3\" valign=\"top\">2</th>\n",
              "      <th>1</th>\n",
              "      <td>0.589455</td>\n",
              "      <td>2.080727</td>\n",
              "    </tr>\n",
              "    <tr>\n",
              "      <th>2</th>\n",
              "      <td>0.667091</td>\n",
              "      <td>2.295091</td>\n",
              "    </tr>\n",
              "    <tr>\n",
              "      <th>3</th>\n",
              "      <td>0.708727</td>\n",
              "      <td>2.535455</td>\n",
              "    </tr>\n",
              "    <tr>\n",
              "      <th rowspan=\"3\" valign=\"top\">3</th>\n",
              "      <th>1</th>\n",
              "      <td>0.698909</td>\n",
              "      <td>2.178727</td>\n",
              "    </tr>\n",
              "    <tr>\n",
              "      <th>2</th>\n",
              "      <td>0.786727</td>\n",
              "      <td>2.487818</td>\n",
              "    </tr>\n",
              "    <tr>\n",
              "      <th>3</th>\n",
              "      <td>0.826364</td>\n",
              "      <td>2.792000</td>\n",
              "    </tr>\n",
              "  </tbody>\n",
              "</table>\n",
              "</div>"
            ],
            "text/plain": [
              "               Accuracy  Confidence\n",
              "Tilt Contrast                      \n",
              "1    1         0.558909    2.058364\n",
              "     2         0.587818    2.251273\n",
              "     3         0.609091    2.465091\n",
              "2    1         0.589455    2.080727\n",
              "     2         0.667091    2.295091\n",
              "     3         0.708727    2.535455\n",
              "3    1         0.698909    2.178727\n",
              "     2         0.786727    2.487818\n",
              "     3         0.826364    2.792000"
            ]
          },
          "metadata": {},
          "execution_count": 17
        }
      ]
    },
    {
      "cell_type": "markdown",
      "source": [
        "Save to disk."
      ],
      "metadata": {
        "id": "iOT_aarDs0-B"
      }
    },
    {
      "cell_type": "code",
      "source": [
        "results_excel_filepath = os.path.join(os.getcwd(), 'results_behavioral.xlsx') #prep path to save to\n",
        "df_results_groupbyta.to_excel(results_excel_filepath, index=True) #save to disk"
      ],
      "metadata": {
        "id": "ZoV8seiFr6Le"
      },
      "execution_count": null,
      "outputs": []
    }
  ]
}