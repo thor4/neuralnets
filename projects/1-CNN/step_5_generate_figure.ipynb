{
  "nbformat": 4,
  "nbformat_minor": 0,
  "metadata": {
    "colab": {
      "name": "step_5_generate_figure.ipynb",
      "provenance": [],
      "authorship_tag": "ABX9TyMsGGbhLYWMMggtm+61EE3F",
      "include_colab_link": true
    },
    "kernelspec": {
      "name": "python3",
      "display_name": "Python 3"
    },
    "language_info": {
      "name": "python"
    }
  },
  "cells": [
    {
      "cell_type": "markdown",
      "metadata": {
        "id": "view-in-github",
        "colab_type": "text"
      },
      "source": [
        "<a href=\"https://colab.research.google.com/github/thor4/neuralnets/blob/master/projects/1-CNN/step_5_generate_figure.ipynb\" target=\"_parent\"><img src=\"https://colab.research.google.com/assets/colab-badge.svg\" alt=\"Open In Colab\"/></a>"
      ]
    },
    {
      "cell_type": "markdown",
      "source": [
        "# Visualize results"
      ],
      "metadata": {
        "id": "6Wk5yMRgs7br"
      }
    },
    {
      "cell_type": "markdown",
      "metadata": {
        "id": "65lD7JmQqJKf"
      },
      "source": [
        "## 1: Load confidence & accuracy results\n",
        "Run the cell to download a zip file from OSF then extract the following excel spreadsheets: `results_behavioral.xlsx`, `results_cifar10.xlsx`, `results_van3.xlsx`, and `results_vgg16-raw_conf.xlsx` into the current directory."
      ]
    },
    {
      "cell_type": "code",
      "metadata": {
        "cellView": "form",
        "id": "QeS3gpAzr1Vk",
        "outputId": "b46db44b-f6cc-476a-ee5a-543b067824d6",
        "colab": {
          "base_uri": "https://localhost:8080/"
        }
      },
      "source": [
        "# @title Download results\n",
        "\n",
        "import requests, os\n",
        "from zipfile import ZipFile\n",
        "\n",
        "print(\"Start downloading and unzipping `Confidence & accuracy results`...\")\n",
        "name = 'conf_acc_results'\n",
        "fname = f\"{name}.zip\"\n",
        "url = f\"https://osf.io/xsf62/download\" #osf share link\n",
        "r = requests.get(url, allow_redirects=True)\n",
        "with open(fname, 'wb') as fh:\n",
        "  fh.write(r.content) #download file\n",
        "\n",
        "with ZipFile(fname, 'r') as zfile:\n",
        "  zfile.extractall() #extract contents\n",
        "\n",
        "if os.path.exists(fname):\n",
        "  os.remove(fname) #delete zip file\n",
        "else:\n",
        "  print(f\"The file {fname} does not exist\")\n",
        "\n",
        "print(\"Download completed.\")"
      ],
      "execution_count": 1,
      "outputs": [
        {
          "output_type": "stream",
          "name": "stdout",
          "text": [
            "Start downloading and unzipping `Confidence & accuracy results`...\n",
            "Download completed.\n"
          ]
        }
      ]
    },
    {
      "cell_type": "markdown",
      "metadata": {
        "id": "31zlOC1dq5-E"
      },
      "source": [
        "These were the average confidence and accuracy results of the VGG16, CIFAR10 and Gabor models. The CIFAR10 and Gabor models used a vanilla CNN architecture. The VGG16 & CIFAR10 used transfer learning to fine-tune their top layers for the Gabor classification task. The Gabor model was trained specifically for the Gabor classifaction task. The behavioral results are also included and comprise the average confidence and accuracy results across 55 subjects."
      ]
    },
    {
      "cell_type": "code",
      "source": [
        "# @title Download behavioral results matlab file\n",
        "\n",
        "import requests, os\n",
        "from zipfile import ZipFile\n",
        "\n",
        "print(\"Start downloading and unzipping `Behavioral results matlab file`...\")\n",
        "name = 'behavioral_results'\n",
        "fname = f\"{name}.zip\"\n",
        "url = f\"https://osf.io/wsg26/download\" #osf share link\n",
        "r = requests.get(url, allow_redirects=True)\n",
        "with open(fname, 'wb') as fh:\n",
        "  fh.write(r.content) #download file\n",
        "\n",
        "with ZipFile(fname, 'r') as zfile:\n",
        "  zfile.extractall() #extract contents\n",
        "\n",
        "if os.path.exists(fname):\n",
        "  os.remove(fname) #delete zip file\n",
        "else:\n",
        "  print(f\"The file {fname} does not exist\")\n",
        "\n",
        "print(\"Download completed.\")"
      ],
      "metadata": {
        "cellView": "form",
        "colab": {
          "base_uri": "https://localhost:8080/"
        },
        "id": "qQKuZz8EmmRK",
        "outputId": "80b0ed26-30a0-4db3-fd31-c57b508120aa"
      },
      "execution_count": 2,
      "outputs": [
        {
          "output_type": "stream",
          "name": "stdout",
          "text": [
            "Start downloading and unzipping `Behavioral results matlab file`...\n",
            "Download completed.\n"
          ]
        }
      ]
    },
    {
      "cell_type": "markdown",
      "source": [
        "The file is comprised of a 55x3x3 matrix labeled accuracy, a 55x3x3 matrix named confidence, and a vector of length 55 named subjects. The subjects vector contains the id of the subject data used. The accuracy matrix contains how accurate each subject was for each of 3 tilt and 3 contrast combinations in a subject x tilt x contrast shape. The confidence matrix contains the same thing, but has confidence values instead."
      ],
      "metadata": {
        "id": "q8kurRzLmxL5"
      }
    },
    {
      "cell_type": "markdown",
      "metadata": {
        "id": "Z-KE4xmZlba8"
      },
      "source": [
        "Load necessary libraries."
      ]
    },
    {
      "cell_type": "code",
      "metadata": {
        "id": "SNVa-ghmFcga"
      },
      "source": [
        "import numpy as np\n",
        "import pandas as pd\n",
        "import seaborn as sns\n",
        "from scipy.io import loadmat\n",
        "from scipy.stats import sem\n",
        "import matplotlib.pyplot as plt\n",
        "import matplotlib"
      ],
      "execution_count": 3,
      "outputs": []
    },
    {
      "cell_type": "code",
      "source": [
        "results = loadmat('subject_results_sub_tilt_cont.mat')\n",
        "results.keys()"
      ],
      "metadata": {
        "colab": {
          "base_uri": "https://localhost:8080/"
        },
        "id": "Ip1GE2TSg5ow",
        "outputId": "b99df61f-74bb-4ee6-9972-37a434b80e9b"
      },
      "execution_count": 4,
      "outputs": [
        {
          "output_type": "execute_result",
          "data": {
            "text/plain": [
              "dict_keys(['__header__', '__version__', '__globals__', 'accuracy', 'confidence', 'subjects'])"
            ]
          },
          "metadata": {},
          "execution_count": 4
        }
      ]
    },
    {
      "cell_type": "markdown",
      "source": [
        "Extract confidence and accuracy."
      ],
      "metadata": {
        "id": "ZgfjKWDMgvyB"
      }
    },
    {
      "cell_type": "code",
      "source": [
        "accuracy = results['accuracy']\n",
        "confidence = results['confidence']"
      ],
      "metadata": {
        "id": "issEzjPOgrv7"
      },
      "execution_count": 5,
      "outputs": []
    },
    {
      "cell_type": "code",
      "source": [
        "confidence.shape"
      ],
      "metadata": {
        "colab": {
          "base_uri": "https://localhost:8080/"
        },
        "id": "RnJFSAXyjOdB",
        "outputId": "7cb12b7d-8d8f-458a-d2e4-d66749a92bf1"
      },
      "execution_count": null,
      "outputs": [
        {
          "output_type": "execute_result",
          "data": {
            "text/plain": [
              "(55, 3, 3)"
            ]
          },
          "metadata": {},
          "execution_count": 6
        }
      ]
    },
    {
      "cell_type": "markdown",
      "source": [
        "How many total samples are there (55x3x3)?"
      ],
      "metadata": {
        "id": "jvfQt5Sjky_a"
      }
    },
    {
      "cell_type": "code",
      "source": [
        "np.count_nonzero(confidence)"
      ],
      "metadata": {
        "colab": {
          "base_uri": "https://localhost:8080/"
        },
        "id": "7FZmQQF0kuMT",
        "outputId": "067ccc05-a4f0-4db8-9bc8-763e28510d05"
      },
      "execution_count": null,
      "outputs": [
        {
          "output_type": "execute_result",
          "data": {
            "text/plain": [
              "495"
            ]
          },
          "metadata": {},
          "execution_count": 7
        }
      ]
    },
    {
      "cell_type": "markdown",
      "source": [
        "Repeat the tilt array 3 times for all conditions (9) then 55 times for all subjects."
      ],
      "metadata": {
        "id": "4r_Cg7EklndM"
      }
    },
    {
      "cell_type": "code",
      "source": [
        "beh_tilts = np.array([1,1,1,2,2,2,3,3,3])\n",
        "all_beh_tilts = np.tile(beh_tilts, 55)\n",
        "#print(all_beh_tilts)\n",
        "print(all_beh_tilts.shape)"
      ],
      "metadata": {
        "colab": {
          "base_uri": "https://localhost:8080/"
        },
        "id": "zVLWGMtghn8j",
        "outputId": "37370b4e-544a-480b-c794-84d828dd7c38"
      },
      "execution_count": 7,
      "outputs": [
        {
          "output_type": "stream",
          "name": "stdout",
          "text": [
            "(495,)\n"
          ]
        }
      ]
    },
    {
      "cell_type": "markdown",
      "source": [
        "Do the same for contrast."
      ],
      "metadata": {
        "id": "9BYYZzsgndc7"
      }
    },
    {
      "cell_type": "code",
      "source": [
        "beh_contrast = np.array([1,2,3])\n",
        "all_beh_contrast = np.tile(beh_contrast, 165)\n",
        "#print(all_beh_contrast)\n",
        "print(all_beh_contrast.shape)"
      ],
      "metadata": {
        "colab": {
          "base_uri": "https://localhost:8080/"
        },
        "id": "NBB7v9ccm4be",
        "outputId": "6d2a9d6d-5efd-4edb-9838-87ef3cff13fe"
      },
      "execution_count": 8,
      "outputs": [
        {
          "output_type": "stream",
          "name": "stdout",
          "text": [
            "(495,)\n"
          ]
        }
      ]
    },
    {
      "cell_type": "code",
      "source": [
        "accuracy.shape"
      ],
      "metadata": {
        "colab": {
          "base_uri": "https://localhost:8080/"
        },
        "id": "qmhzfouSrwnT",
        "outputId": "4a94176e-9606-4610-964d-10cf65537cec"
      },
      "execution_count": 10,
      "outputs": [
        {
          "output_type": "execute_result",
          "data": {
            "text/plain": [
              "(55, 3, 3)"
            ]
          },
          "metadata": {},
          "execution_count": 10
        }
      ]
    },
    {
      "cell_type": "code",
      "source": [
        "accuracy[1,:,:]"
      ],
      "metadata": {
        "colab": {
          "base_uri": "https://localhost:8080/"
        },
        "id": "4T2o6RLkr0pM",
        "outputId": "e7bcd190-cdd3-47ee-f027-0f80ebc1cb0a"
      },
      "execution_count": 11,
      "outputs": [
        {
          "output_type": "execute_result",
          "data": {
            "text/plain": [
              "array([[0.53, 0.54, 0.5 ],\n",
              "       [0.52, 0.53, 0.58],\n",
              "       [0.69, 0.73, 0.7 ]])"
            ]
          },
          "metadata": {},
          "execution_count": 11
        }
      ]
    },
    {
      "cell_type": "markdown",
      "source": [
        "Enable data table exploration for dataframes."
      ],
      "metadata": {
        "id": "TT8qaqQlbuNz"
      }
    },
    {
      "cell_type": "code",
      "source": [
        "from google.colab import data_table\n",
        "data_table.enable_dataframe_formatter()"
      ],
      "metadata": {
        "id": "TrVzJbG7bttL"
      },
      "execution_count": 9,
      "outputs": []
    },
    {
      "cell_type": "markdown",
      "source": [
        "Confirm the flatten operation is unrolling accuracy first by subject (1st dim), then by tilt (2nd dim), then by contrast (3rd dim). `accuracy` is subject x tilt x contrast"
      ],
      "metadata": {
        "id": "_ubLPALlvBL-"
      }
    },
    {
      "cell_type": "code",
      "source": [
        "df_beh = pd.DataFrame(columns=['Tilt','Contrast','Accuracy','Confidence']) #initialize dataframe\n",
        "df_beh['Tilt'] = all_beh_tilts\n",
        "df_beh['Contrast'] = all_beh_contrast\n",
        "df_beh['Accuracy'] = accuracy.flatten(order='C')\n",
        "df_beh['Confidence'] = confidence.flatten(order='C')\n",
        "df_beh"
      ],
      "metadata": {
        "colab": {
          "base_uri": "https://localhost:8080/",
          "height": 637
        },
        "id": "o1be0PxypHs5",
        "outputId": "efd0ab8c-3067-490f-c7b3-b1510b119bdf"
      },
      "execution_count": 10,
      "outputs": [
        {
          "output_type": "execute_result",
          "data": {
            "application/vnd.google.colaboratory.module+javascript": "\n      import \"https://ssl.gstatic.com/colaboratory/data_table/a6224c040fa35dcf/data_table.js\";\n\n      window.createDataTable({\n        data: [[{\n            'v': 0,\n            'f': \"0\",\n        },\n{\n            'v': 1,\n            'f': \"1\",\n        },\n{\n            'v': 1,\n            'f': \"1\",\n        },\n{\n            'v': 0.64,\n            'f': \"0.64\",\n        },\n{\n            'v': 1.9,\n            'f': \"1.9\",\n        }],\n [{\n            'v': 1,\n            'f': \"1\",\n        },\n{\n            'v': 1,\n            'f': \"1\",\n        },\n{\n            'v': 2,\n            'f': \"2\",\n        },\n{\n            'v': 0.69,\n            'f': \"0.69\",\n        },\n{\n            'v': 1.87,\n            'f': \"1.87\",\n        }],\n [{\n            'v': 2,\n            'f': \"2\",\n        },\n{\n            'v': 1,\n            'f': \"1\",\n        },\n{\n            'v': 3,\n            'f': \"3\",\n        },\n{\n            'v': 0.7,\n            'f': \"0.7\",\n        },\n{\n            'v': 2.18,\n            'f': \"2.18\",\n        }],\n [{\n            'v': 3,\n            'f': \"3\",\n        },\n{\n            'v': 2,\n            'f': \"2\",\n        },\n{\n            'v': 1,\n            'f': \"1\",\n        },\n{\n            'v': 0.65,\n            'f': \"0.65\",\n        },\n{\n            'v': 1.94,\n            'f': \"1.94\",\n        }],\n [{\n            'v': 4,\n            'f': \"4\",\n        },\n{\n            'v': 2,\n            'f': \"2\",\n        },\n{\n            'v': 2,\n            'f': \"2\",\n        },\n{\n            'v': 0.79,\n            'f': \"0.79\",\n        },\n{\n            'v': 1.95,\n            'f': \"1.95\",\n        }],\n [{\n            'v': 5,\n            'f': \"5\",\n        },\n{\n            'v': 2,\n            'f': \"2\",\n        },\n{\n            'v': 3,\n            'f': \"3\",\n        },\n{\n            'v': 0.84,\n            'f': \"0.84\",\n        },\n{\n            'v': 2.52,\n            'f': \"2.52\",\n        }],\n [{\n            'v': 6,\n            'f': \"6\",\n        },\n{\n            'v': 3,\n            'f': \"3\",\n        },\n{\n            'v': 1,\n            'f': \"1\",\n        },\n{\n            'v': 0.84,\n            'f': \"0.84\",\n        },\n{\n            'v': 2.09,\n            'f': \"2.09\",\n        }],\n [{\n            'v': 7,\n            'f': \"7\",\n        },\n{\n            'v': 3,\n            'f': \"3\",\n        },\n{\n            'v': 2,\n            'f': \"2\",\n        },\n{\n            'v': 0.95,\n            'f': \"0.95\",\n        },\n{\n            'v': 2.55,\n            'f': \"2.55\",\n        }],\n [{\n            'v': 8,\n            'f': \"8\",\n        },\n{\n            'v': 3,\n            'f': \"3\",\n        },\n{\n            'v': 3,\n            'f': \"3\",\n        },\n{\n            'v': 0.95,\n            'f': \"0.95\",\n        },\n{\n            'v': 2.96,\n            'f': \"2.96\",\n        }],\n [{\n            'v': 9,\n            'f': \"9\",\n        },\n{\n            'v': 1,\n            'f': \"1\",\n        },\n{\n            'v': 1,\n            'f': \"1\",\n        },\n{\n            'v': 0.53,\n            'f': \"0.53\",\n        },\n{\n            'v': 1.72,\n            'f': \"1.72\",\n        }],\n [{\n            'v': 10,\n            'f': \"10\",\n        },\n{\n            'v': 1,\n            'f': \"1\",\n        },\n{\n            'v': 2,\n            'f': \"2\",\n        },\n{\n            'v': 0.54,\n            'f': \"0.54\",\n        },\n{\n            'v': 2.14,\n            'f': \"2.14\",\n        }],\n [{\n            'v': 11,\n            'f': \"11\",\n        },\n{\n            'v': 1,\n            'f': \"1\",\n        },\n{\n            'v': 3,\n            'f': \"3\",\n        },\n{\n            'v': 0.5,\n            'f': \"0.5\",\n        },\n{\n            'v': 2.54,\n            'f': \"2.54\",\n        }],\n [{\n            'v': 12,\n            'f': \"12\",\n        },\n{\n            'v': 2,\n            'f': \"2\",\n        },\n{\n            'v': 1,\n            'f': \"1\",\n        },\n{\n            'v': 0.52,\n            'f': \"0.52\",\n        },\n{\n            'v': 1.71,\n            'f': \"1.71\",\n        }],\n [{\n            'v': 13,\n            'f': \"13\",\n        },\n{\n            'v': 2,\n            'f': \"2\",\n        },\n{\n            'v': 2,\n            'f': \"2\",\n        },\n{\n            'v': 0.53,\n            'f': \"0.53\",\n        },\n{\n            'v': 2.05,\n            'f': \"2.05\",\n        }],\n [{\n            'v': 14,\n            'f': \"14\",\n        },\n{\n            'v': 2,\n            'f': \"2\",\n        },\n{\n            'v': 3,\n            'f': \"3\",\n        },\n{\n            'v': 0.58,\n            'f': \"0.58\",\n        },\n{\n            'v': 2.45,\n            'f': \"2.45\",\n        }],\n [{\n            'v': 15,\n            'f': \"15\",\n        },\n{\n            'v': 3,\n            'f': \"3\",\n        },\n{\n            'v': 1,\n            'f': \"1\",\n        },\n{\n            'v': 0.69,\n            'f': \"0.69\",\n        },\n{\n            'v': 1.64,\n            'f': \"1.64\",\n        }],\n [{\n            'v': 16,\n            'f': \"16\",\n        },\n{\n            'v': 3,\n            'f': \"3\",\n        },\n{\n            'v': 2,\n            'f': \"2\",\n        },\n{\n            'v': 0.73,\n            'f': \"0.73\",\n        },\n{\n            'v': 2.45,\n            'f': \"2.45\",\n        }],\n [{\n            'v': 17,\n            'f': \"17\",\n        },\n{\n            'v': 3,\n            'f': \"3\",\n        },\n{\n            'v': 3,\n            'f': \"3\",\n        },\n{\n            'v': 0.7,\n            'f': \"0.7\",\n        },\n{\n            'v': 2.83,\n            'f': \"2.83\",\n        }],\n [{\n            'v': 18,\n            'f': \"18\",\n        },\n{\n            'v': 1,\n            'f': \"1\",\n        },\n{\n            'v': 1,\n            'f': \"1\",\n        },\n{\n            'v': 0.54,\n            'f': \"0.54\",\n        },\n{\n            'v': 1.32,\n            'f': \"1.32\",\n        }],\n [{\n            'v': 19,\n            'f': \"19\",\n        },\n{\n            'v': 1,\n            'f': \"1\",\n        },\n{\n            'v': 2,\n            'f': \"2\",\n        },\n{\n            'v': 0.57,\n            'f': \"0.57\",\n        },\n{\n            'v': 1.44,\n            'f': \"1.44\",\n        }],\n [{\n            'v': 20,\n            'f': \"20\",\n        },\n{\n            'v': 1,\n            'f': \"1\",\n        },\n{\n            'v': 3,\n            'f': \"3\",\n        },\n{\n            'v': 0.67,\n            'f': \"0.67\",\n        },\n{\n            'v': 1.68,\n            'f': \"1.68\",\n        }],\n [{\n            'v': 21,\n            'f': \"21\",\n        },\n{\n            'v': 2,\n            'f': \"2\",\n        },\n{\n            'v': 1,\n            'f': \"1\",\n        },\n{\n            'v': 0.6,\n            'f': \"0.6\",\n        },\n{\n            'v': 1.29,\n            'f': \"1.29\",\n        }],\n [{\n            'v': 22,\n            'f': \"22\",\n        },\n{\n            'v': 2,\n            'f': \"2\",\n        },\n{\n            'v': 2,\n            'f': \"2\",\n        },\n{\n            'v': 0.66,\n            'f': \"0.66\",\n        },\n{\n            'v': 1.51,\n            'f': \"1.51\",\n        }],\n [{\n            'v': 23,\n            'f': \"23\",\n        },\n{\n            'v': 2,\n            'f': \"2\",\n        },\n{\n            'v': 3,\n            'f': \"3\",\n        },\n{\n            'v': 0.77,\n            'f': \"0.77\",\n        },\n{\n            'v': 1.73,\n            'f': \"1.73\",\n        }],\n [{\n            'v': 24,\n            'f': \"24\",\n        },\n{\n            'v': 3,\n            'f': \"3\",\n        },\n{\n            'v': 1,\n            'f': \"1\",\n        },\n{\n            'v': 0.78,\n            'f': \"0.78\",\n        },\n{\n            'v': 1.44,\n            'f': \"1.44\",\n        }],\n [{\n            'v': 25,\n            'f': \"25\",\n        },\n{\n            'v': 3,\n            'f': \"3\",\n        },\n{\n            'v': 2,\n            'f': \"2\",\n        },\n{\n            'v': 0.85,\n            'f': \"0.85\",\n        },\n{\n            'v': 1.64,\n            'f': \"1.64\",\n        }],\n [{\n            'v': 26,\n            'f': \"26\",\n        },\n{\n            'v': 3,\n            'f': \"3\",\n        },\n{\n            'v': 3,\n            'f': \"3\",\n        },\n{\n            'v': 0.9,\n            'f': \"0.9\",\n        },\n{\n            'v': 2.05,\n            'f': \"2.05\",\n        }],\n [{\n            'v': 27,\n            'f': \"27\",\n        },\n{\n            'v': 1,\n            'f': \"1\",\n        },\n{\n            'v': 1,\n            'f': \"1\",\n        },\n{\n            'v': 0.62,\n            'f': \"0.62\",\n        },\n{\n            'v': 2.02,\n            'f': \"2.02\",\n        }],\n [{\n            'v': 28,\n            'f': \"28\",\n        },\n{\n            'v': 1,\n            'f': \"1\",\n        },\n{\n            'v': 2,\n            'f': \"2\",\n        },\n{\n            'v': 0.54,\n            'f': \"0.54\",\n        },\n{\n            'v': 2.0,\n            'f': \"2.0\",\n        }],\n [{\n            'v': 29,\n            'f': \"29\",\n        },\n{\n            'v': 1,\n            'f': \"1\",\n        },\n{\n            'v': 3,\n            'f': \"3\",\n        },\n{\n            'v': 0.57,\n            'f': \"0.57\",\n        },\n{\n            'v': 2.0,\n            'f': \"2.0\",\n        }],\n [{\n            'v': 30,\n            'f': \"30\",\n        },\n{\n            'v': 2,\n            'f': \"2\",\n        },\n{\n            'v': 1,\n            'f': \"1\",\n        },\n{\n            'v': 0.63,\n            'f': \"0.63\",\n        },\n{\n            'v': 1.97,\n            'f': \"1.97\",\n        }],\n [{\n            'v': 31,\n            'f': \"31\",\n        },\n{\n            'v': 2,\n            'f': \"2\",\n        },\n{\n            'v': 2,\n            'f': \"2\",\n        },\n{\n            'v': 0.68,\n            'f': \"0.68\",\n        },\n{\n            'v': 1.96,\n            'f': \"1.96\",\n        }],\n [{\n            'v': 32,\n            'f': \"32\",\n        },\n{\n            'v': 2,\n            'f': \"2\",\n        },\n{\n            'v': 3,\n            'f': \"3\",\n        },\n{\n            'v': 0.71,\n            'f': \"0.71\",\n        },\n{\n            'v': 2.11,\n            'f': \"2.11\",\n        }],\n [{\n            'v': 33,\n            'f': \"33\",\n        },\n{\n            'v': 3,\n            'f': \"3\",\n        },\n{\n            'v': 1,\n            'f': \"1\",\n        },\n{\n            'v': 0.82,\n            'f': \"0.82\",\n        },\n{\n            'v': 2.37,\n            'f': \"2.37\",\n        }],\n [{\n            'v': 34,\n            'f': \"34\",\n        },\n{\n            'v': 3,\n            'f': \"3\",\n        },\n{\n            'v': 2,\n            'f': \"2\",\n        },\n{\n            'v': 0.74,\n            'f': \"0.74\",\n        },\n{\n            'v': 2.29,\n            'f': \"2.29\",\n        }],\n [{\n            'v': 35,\n            'f': \"35\",\n        },\n{\n            'v': 3,\n            'f': \"3\",\n        },\n{\n            'v': 3,\n            'f': \"3\",\n        },\n{\n            'v': 0.79,\n            'f': \"0.79\",\n        },\n{\n            'v': 2.41,\n            'f': \"2.41\",\n        }],\n [{\n            'v': 36,\n            'f': \"36\",\n        },\n{\n            'v': 1,\n            'f': \"1\",\n        },\n{\n            'v': 1,\n            'f': \"1\",\n        },\n{\n            'v': 0.52,\n            'f': \"0.52\",\n        },\n{\n            'v': 2.09,\n            'f': \"2.09\",\n        }],\n [{\n            'v': 37,\n            'f': \"37\",\n        },\n{\n            'v': 1,\n            'f': \"1\",\n        },\n{\n            'v': 2,\n            'f': \"2\",\n        },\n{\n            'v': 0.58,\n            'f': \"0.58\",\n        },\n{\n            'v': 2.49,\n            'f': \"2.49\",\n        }],\n [{\n            'v': 38,\n            'f': \"38\",\n        },\n{\n            'v': 1,\n            'f': \"1\",\n        },\n{\n            'v': 3,\n            'f': \"3\",\n        },\n{\n            'v': 0.57,\n            'f': \"0.57\",\n        },\n{\n            'v': 2.4,\n            'f': \"2.4\",\n        }],\n [{\n            'v': 39,\n            'f': \"39\",\n        },\n{\n            'v': 2,\n            'f': \"2\",\n        },\n{\n            'v': 1,\n            'f': \"1\",\n        },\n{\n            'v': 0.53,\n            'f': \"0.53\",\n        },\n{\n            'v': 2.05,\n            'f': \"2.05\",\n        }],\n [{\n            'v': 40,\n            'f': \"40\",\n        },\n{\n            'v': 2,\n            'f': \"2\",\n        },\n{\n            'v': 2,\n            'f': \"2\",\n        },\n{\n            'v': 0.63,\n            'f': \"0.63\",\n        },\n{\n            'v': 2.39,\n            'f': \"2.39\",\n        }],\n [{\n            'v': 41,\n            'f': \"41\",\n        },\n{\n            'v': 2,\n            'f': \"2\",\n        },\n{\n            'v': 3,\n            'f': \"3\",\n        },\n{\n            'v': 0.57,\n            'f': \"0.57\",\n        },\n{\n            'v': 2.47,\n            'f': \"2.47\",\n        }],\n [{\n            'v': 42,\n            'f': \"42\",\n        },\n{\n            'v': 3,\n            'f': \"3\",\n        },\n{\n            'v': 1,\n            'f': \"1\",\n        },\n{\n            'v': 0.6,\n            'f': \"0.6\",\n        },\n{\n            'v': 2.31,\n            'f': \"2.31\",\n        }],\n [{\n            'v': 43,\n            'f': \"43\",\n        },\n{\n            'v': 3,\n            'f': \"3\",\n        },\n{\n            'v': 2,\n            'f': \"2\",\n        },\n{\n            'v': 0.58,\n            'f': \"0.58\",\n        },\n{\n            'v': 2.45,\n            'f': \"2.45\",\n        }],\n [{\n            'v': 44,\n            'f': \"44\",\n        },\n{\n            'v': 3,\n            'f': \"3\",\n        },\n{\n            'v': 3,\n            'f': \"3\",\n        },\n{\n            'v': 0.71,\n            'f': \"0.71\",\n        },\n{\n            'v': 2.56,\n            'f': \"2.56\",\n        }],\n [{\n            'v': 45,\n            'f': \"45\",\n        },\n{\n            'v': 1,\n            'f': \"1\",\n        },\n{\n            'v': 1,\n            'f': \"1\",\n        },\n{\n            'v': 0.61,\n            'f': \"0.61\",\n        },\n{\n            'v': 2.82,\n            'f': \"2.82\",\n        }],\n [{\n            'v': 46,\n            'f': \"46\",\n        },\n{\n            'v': 1,\n            'f': \"1\",\n        },\n{\n            'v': 2,\n            'f': \"2\",\n        },\n{\n            'v': 0.64,\n            'f': \"0.64\",\n        },\n{\n            'v': 2.82,\n            'f': \"2.82\",\n        }],\n [{\n            'v': 47,\n            'f': \"47\",\n        },\n{\n            'v': 1,\n            'f': \"1\",\n        },\n{\n            'v': 3,\n            'f': \"3\",\n        },\n{\n            'v': 0.69,\n            'f': \"0.69\",\n        },\n{\n            'v': 2.81,\n            'f': \"2.81\",\n        }],\n [{\n            'v': 48,\n            'f': \"48\",\n        },\n{\n            'v': 2,\n            'f': \"2\",\n        },\n{\n            'v': 1,\n            'f': \"1\",\n        },\n{\n            'v': 0.63,\n            'f': \"0.63\",\n        },\n{\n            'v': 2.71,\n            'f': \"2.71\",\n        }],\n [{\n            'v': 49,\n            'f': \"49\",\n        },\n{\n            'v': 2,\n            'f': \"2\",\n        },\n{\n            'v': 2,\n            'f': \"2\",\n        },\n{\n            'v': 0.76,\n            'f': \"0.76\",\n        },\n{\n            'v': 2.99,\n            'f': \"2.99\",\n        }],\n [{\n            'v': 50,\n            'f': \"50\",\n        },\n{\n            'v': 2,\n            'f': \"2\",\n        },\n{\n            'v': 3,\n            'f': \"3\",\n        },\n{\n            'v': 0.8,\n            'f': \"0.8\",\n        },\n{\n            'v': 2.68,\n            'f': \"2.68\",\n        }],\n [{\n            'v': 51,\n            'f': \"51\",\n        },\n{\n            'v': 3,\n            'f': \"3\",\n        },\n{\n            'v': 1,\n            'f': \"1\",\n        },\n{\n            'v': 0.81,\n            'f': \"0.81\",\n        },\n{\n            'v': 3.03,\n            'f': \"3.03\",\n        }],\n [{\n            'v': 52,\n            'f': \"52\",\n        },\n{\n            'v': 3,\n            'f': \"3\",\n        },\n{\n            'v': 2,\n            'f': \"2\",\n        },\n{\n            'v': 0.92,\n            'f': \"0.92\",\n        },\n{\n            'v': 3.15,\n            'f': \"3.15\",\n        }],\n [{\n            'v': 53,\n            'f': \"53\",\n        },\n{\n            'v': 3,\n            'f': \"3\",\n        },\n{\n            'v': 3,\n            'f': \"3\",\n        },\n{\n            'v': 0.95,\n            'f': \"0.95\",\n        },\n{\n            'v': 3.26,\n            'f': \"3.26\",\n        }],\n [{\n            'v': 54,\n            'f': \"54\",\n        },\n{\n            'v': 1,\n            'f': \"1\",\n        },\n{\n            'v': 1,\n            'f': \"1\",\n        },\n{\n            'v': 0.62,\n            'f': \"0.62\",\n        },\n{\n            'v': 2.11,\n            'f': \"2.11\",\n        }],\n [{\n            'v': 55,\n            'f': \"55\",\n        },\n{\n            'v': 1,\n            'f': \"1\",\n        },\n{\n            'v': 2,\n            'f': \"2\",\n        },\n{\n            'v': 0.61,\n            'f': \"0.61\",\n        },\n{\n            'v': 2.38,\n            'f': \"2.38\",\n        }],\n [{\n            'v': 56,\n            'f': \"56\",\n        },\n{\n            'v': 1,\n            'f': \"1\",\n        },\n{\n            'v': 3,\n            'f': \"3\",\n        },\n{\n            'v': 0.54,\n            'f': \"0.54\",\n        },\n{\n            'v': 2.19,\n            'f': \"2.19\",\n        }],\n [{\n            'v': 57,\n            'f': \"57\",\n        },\n{\n            'v': 2,\n            'f': \"2\",\n        },\n{\n            'v': 1,\n            'f': \"1\",\n        },\n{\n            'v': 0.57,\n            'f': \"0.57\",\n        },\n{\n            'v': 2.05,\n            'f': \"2.05\",\n        }],\n [{\n            'v': 58,\n            'f': \"58\",\n        },\n{\n            'v': 2,\n            'f': \"2\",\n        },\n{\n            'v': 2,\n            'f': \"2\",\n        },\n{\n            'v': 0.62,\n            'f': \"0.62\",\n        },\n{\n            'v': 2.32,\n            'f': \"2.32\",\n        }],\n [{\n            'v': 59,\n            'f': \"59\",\n        },\n{\n            'v': 2,\n            'f': \"2\",\n        },\n{\n            'v': 3,\n            'f': \"3\",\n        },\n{\n            'v': 0.68,\n            'f': \"0.68\",\n        },\n{\n            'v': 2.44,\n            'f': \"2.44\",\n        }],\n [{\n            'v': 60,\n            'f': \"60\",\n        },\n{\n            'v': 3,\n            'f': \"3\",\n        },\n{\n            'v': 1,\n            'f': \"1\",\n        },\n{\n            'v': 0.77,\n            'f': \"0.77\",\n        },\n{\n            'v': 2.2,\n            'f': \"2.2\",\n        }],\n [{\n            'v': 61,\n            'f': \"61\",\n        },\n{\n            'v': 3,\n            'f': \"3\",\n        },\n{\n            'v': 2,\n            'f': \"2\",\n        },\n{\n            'v': 0.75,\n            'f': \"0.75\",\n        },\n{\n            'v': 2.4,\n            'f': \"2.4\",\n        }],\n [{\n            'v': 62,\n            'f': \"62\",\n        },\n{\n            'v': 3,\n            'f': \"3\",\n        },\n{\n            'v': 3,\n            'f': \"3\",\n        },\n{\n            'v': 0.78,\n            'f': \"0.78\",\n        },\n{\n            'v': 2.73,\n            'f': \"2.73\",\n        }],\n [{\n            'v': 63,\n            'f': \"63\",\n        },\n{\n            'v': 1,\n            'f': \"1\",\n        },\n{\n            'v': 1,\n            'f': \"1\",\n        },\n{\n            'v': 0.55,\n            'f': \"0.55\",\n        },\n{\n            'v': 1.72,\n            'f': \"1.72\",\n        }],\n [{\n            'v': 64,\n            'f': \"64\",\n        },\n{\n            'v': 1,\n            'f': \"1\",\n        },\n{\n            'v': 2,\n            'f': \"2\",\n        },\n{\n            'v': 0.61,\n            'f': \"0.61\",\n        },\n{\n            'v': 2.04,\n            'f': \"2.04\",\n        }],\n [{\n            'v': 65,\n            'f': \"65\",\n        },\n{\n            'v': 1,\n            'f': \"1\",\n        },\n{\n            'v': 3,\n            'f': \"3\",\n        },\n{\n            'v': 0.68,\n            'f': \"0.68\",\n        },\n{\n            'v': 2.15,\n            'f': \"2.15\",\n        }],\n [{\n            'v': 66,\n            'f': \"66\",\n        },\n{\n            'v': 2,\n            'f': \"2\",\n        },\n{\n            'v': 1,\n            'f': \"1\",\n        },\n{\n            'v': 0.63,\n            'f': \"0.63\",\n        },\n{\n            'v': 1.69,\n            'f': \"1.69\",\n        }],\n [{\n            'v': 67,\n            'f': \"67\",\n        },\n{\n            'v': 2,\n            'f': \"2\",\n        },\n{\n            'v': 2,\n            'f': \"2\",\n        },\n{\n            'v': 0.67,\n            'f': \"0.67\",\n        },\n{\n            'v': 2.06,\n            'f': \"2.06\",\n        }],\n [{\n            'v': 68,\n            'f': \"68\",\n        },\n{\n            'v': 2,\n            'f': \"2\",\n        },\n{\n            'v': 3,\n            'f': \"3\",\n        },\n{\n            'v': 0.72,\n            'f': \"0.72\",\n        },\n{\n            'v': 2.14,\n            'f': \"2.14\",\n        }],\n [{\n            'v': 69,\n            'f': \"69\",\n        },\n{\n            'v': 3,\n            'f': \"3\",\n        },\n{\n            'v': 1,\n            'f': \"1\",\n        },\n{\n            'v': 0.7,\n            'f': \"0.7\",\n        },\n{\n            'v': 1.72,\n            'f': \"1.72\",\n        }],\n [{\n            'v': 70,\n            'f': \"70\",\n        },\n{\n            'v': 3,\n            'f': \"3\",\n        },\n{\n            'v': 2,\n            'f': \"2\",\n        },\n{\n            'v': 0.83,\n            'f': \"0.83\",\n        },\n{\n            'v': 2.23,\n            'f': \"2.23\",\n        }],\n [{\n            'v': 71,\n            'f': \"71\",\n        },\n{\n            'v': 3,\n            'f': \"3\",\n        },\n{\n            'v': 3,\n            'f': \"3\",\n        },\n{\n            'v': 0.88,\n            'f': \"0.88\",\n        },\n{\n            'v': 2.38,\n            'f': \"2.38\",\n        }],\n [{\n            'v': 72,\n            'f': \"72\",\n        },\n{\n            'v': 1,\n            'f': \"1\",\n        },\n{\n            'v': 1,\n            'f': \"1\",\n        },\n{\n            'v': 0.58,\n            'f': \"0.58\",\n        },\n{\n            'v': 2.0,\n            'f': \"2.0\",\n        }],\n [{\n            'v': 73,\n            'f': \"73\",\n        },\n{\n            'v': 1,\n            'f': \"1\",\n        },\n{\n            'v': 2,\n            'f': \"2\",\n        },\n{\n            'v': 0.62,\n            'f': \"0.62\",\n        },\n{\n            'v': 2.34,\n            'f': \"2.34\",\n        }],\n [{\n            'v': 74,\n            'f': \"74\",\n        },\n{\n            'v': 1,\n            'f': \"1\",\n        },\n{\n            'v': 3,\n            'f': \"3\",\n        },\n{\n            'v': 0.7,\n            'f': \"0.7\",\n        },\n{\n            'v': 2.63,\n            'f': \"2.63\",\n        }],\n [{\n            'v': 75,\n            'f': \"75\",\n        },\n{\n            'v': 2,\n            'f': \"2\",\n        },\n{\n            'v': 1,\n            'f': \"1\",\n        },\n{\n            'v': 0.6,\n            'f': \"0.6\",\n        },\n{\n            'v': 2.08,\n            'f': \"2.08\",\n        }],\n [{\n            'v': 76,\n            'f': \"76\",\n        },\n{\n            'v': 2,\n            'f': \"2\",\n        },\n{\n            'v': 2,\n            'f': \"2\",\n        },\n{\n            'v': 0.65,\n            'f': \"0.65\",\n        },\n{\n            'v': 2.16,\n            'f': \"2.16\",\n        }],\n [{\n            'v': 77,\n            'f': \"77\",\n        },\n{\n            'v': 2,\n            'f': \"2\",\n        },\n{\n            'v': 3,\n            'f': \"3\",\n        },\n{\n            'v': 0.78,\n            'f': \"0.78\",\n        },\n{\n            'v': 2.6,\n            'f': \"2.6\",\n        }],\n [{\n            'v': 78,\n            'f': \"78\",\n        },\n{\n            'v': 3,\n            'f': \"3\",\n        },\n{\n            'v': 1,\n            'f': \"1\",\n        },\n{\n            'v': 0.79,\n            'f': \"0.79\",\n        },\n{\n            'v': 2.39,\n            'f': \"2.39\",\n        }],\n [{\n            'v': 79,\n            'f': \"79\",\n        },\n{\n            'v': 3,\n            'f': \"3\",\n        },\n{\n            'v': 2,\n            'f': \"2\",\n        },\n{\n            'v': 0.87,\n            'f': \"0.87\",\n        },\n{\n            'v': 2.84,\n            'f': \"2.84\",\n        }],\n [{\n            'v': 80,\n            'f': \"80\",\n        },\n{\n            'v': 3,\n            'f': \"3\",\n        },\n{\n            'v': 3,\n            'f': \"3\",\n        },\n{\n            'v': 0.97,\n            'f': \"0.97\",\n        },\n{\n            'v': 3.28,\n            'f': \"3.28\",\n        }],\n [{\n            'v': 81,\n            'f': \"81\",\n        },\n{\n            'v': 1,\n            'f': \"1\",\n        },\n{\n            'v': 1,\n            'f': \"1\",\n        },\n{\n            'v': 0.47,\n            'f': \"0.47\",\n        },\n{\n            'v': 1.29,\n            'f': \"1.29\",\n        }],\n [{\n            'v': 82,\n            'f': \"82\",\n        },\n{\n            'v': 1,\n            'f': \"1\",\n        },\n{\n            'v': 2,\n            'f': \"2\",\n        },\n{\n            'v': 0.65,\n            'f': \"0.65\",\n        },\n{\n            'v': 1.45,\n            'f': \"1.45\",\n        }],\n [{\n            'v': 83,\n            'f': \"83\",\n        },\n{\n            'v': 1,\n            'f': \"1\",\n        },\n{\n            'v': 3,\n            'f': \"3\",\n        },\n{\n            'v': 0.71,\n            'f': \"0.71\",\n        },\n{\n            'v': 1.85,\n            'f': \"1.85\",\n        }],\n [{\n            'v': 84,\n            'f': \"84\",\n        },\n{\n            'v': 2,\n            'f': \"2\",\n        },\n{\n            'v': 1,\n            'f': \"1\",\n        },\n{\n            'v': 0.56,\n            'f': \"0.56\",\n        },\n{\n            'v': 1.22,\n            'f': \"1.22\",\n        }],\n [{\n            'v': 85,\n            'f': \"85\",\n        },\n{\n            'v': 2,\n            'f': \"2\",\n        },\n{\n            'v': 2,\n            'f': \"2\",\n        },\n{\n            'v': 0.8,\n            'f': \"0.8\",\n        },\n{\n            'v': 1.56,\n            'f': \"1.56\",\n        }],\n [{\n            'v': 86,\n            'f': \"86\",\n        },\n{\n            'v': 2,\n            'f': \"2\",\n        },\n{\n            'v': 3,\n            'f': \"3\",\n        },\n{\n            'v': 0.75,\n            'f': \"0.75\",\n        },\n{\n            'v': 2.04,\n            'f': \"2.04\",\n        }],\n [{\n            'v': 87,\n            'f': \"87\",\n        },\n{\n            'v': 3,\n            'f': \"3\",\n        },\n{\n            'v': 1,\n            'f': \"1\",\n        },\n{\n            'v': 0.73,\n            'f': \"0.73\",\n        },\n{\n            'v': 1.44,\n            'f': \"1.44\",\n        }],\n [{\n            'v': 88,\n            'f': \"88\",\n        },\n{\n            'v': 3,\n            'f': \"3\",\n        },\n{\n            'v': 2,\n            'f': \"2\",\n        },\n{\n            'v': 0.98,\n            'f': \"0.98\",\n        },\n{\n            'v': 2.01,\n            'f': \"2.01\",\n        }],\n [{\n            'v': 89,\n            'f': \"89\",\n        },\n{\n            'v': 3,\n            'f': \"3\",\n        },\n{\n            'v': 3,\n            'f': \"3\",\n        },\n{\n            'v': 0.95,\n            'f': \"0.95\",\n        },\n{\n            'v': 2.63,\n            'f': \"2.63\",\n        }],\n [{\n            'v': 90,\n            'f': \"90\",\n        },\n{\n            'v': 1,\n            'f': \"1\",\n        },\n{\n            'v': 1,\n            'f': \"1\",\n        },\n{\n            'v': 0.57,\n            'f': \"0.57\",\n        },\n{\n            'v': 2.34,\n            'f': \"2.34\",\n        }],\n [{\n            'v': 91,\n            'f': \"91\",\n        },\n{\n            'v': 1,\n            'f': \"1\",\n        },\n{\n            'v': 2,\n            'f': \"2\",\n        },\n{\n            'v': 0.51,\n            'f': \"0.51\",\n        },\n{\n            'v': 2.26,\n            'f': \"2.26\",\n        }],\n [{\n            'v': 92,\n            'f': \"92\",\n        },\n{\n            'v': 1,\n            'f': \"1\",\n        },\n{\n            'v': 3,\n            'f': \"3\",\n        },\n{\n            'v': 0.66,\n            'f': \"0.66\",\n        },\n{\n            'v': 2.42,\n            'f': \"2.42\",\n        }],\n [{\n            'v': 93,\n            'f': \"93\",\n        },\n{\n            'v': 2,\n            'f': \"2\",\n        },\n{\n            'v': 1,\n            'f': \"1\",\n        },\n{\n            'v': 0.64,\n            'f': \"0.64\",\n        },\n{\n            'v': 2.54,\n            'f': \"2.54\",\n        }],\n [{\n            'v': 94,\n            'f': \"94\",\n        },\n{\n            'v': 2,\n            'f': \"2\",\n        },\n{\n            'v': 2,\n            'f': \"2\",\n        },\n{\n            'v': 0.64,\n            'f': \"0.64\",\n        },\n{\n            'v': 2.51,\n            'f': \"2.51\",\n        }],\n [{\n            'v': 95,\n            'f': \"95\",\n        },\n{\n            'v': 2,\n            'f': \"2\",\n        },\n{\n            'v': 3,\n            'f': \"3\",\n        },\n{\n            'v': 0.73,\n            'f': \"0.73\",\n        },\n{\n            'v': 2.72,\n            'f': \"2.72\",\n        }],\n [{\n            'v': 96,\n            'f': \"96\",\n        },\n{\n            'v': 3,\n            'f': \"3\",\n        },\n{\n            'v': 1,\n            'f': \"1\",\n        },\n{\n            'v': 0.74,\n            'f': \"0.74\",\n        },\n{\n            'v': 2.46,\n            'f': \"2.46\",\n        }],\n [{\n            'v': 97,\n            'f': \"97\",\n        },\n{\n            'v': 3,\n            'f': \"3\",\n        },\n{\n            'v': 2,\n            'f': \"2\",\n        },\n{\n            'v': 0.8,\n            'f': \"0.8\",\n        },\n{\n            'v': 2.79,\n            'f': \"2.79\",\n        }],\n [{\n            'v': 98,\n            'f': \"98\",\n        },\n{\n            'v': 3,\n            'f': \"3\",\n        },\n{\n            'v': 3,\n            'f': \"3\",\n        },\n{\n            'v': 0.82,\n            'f': \"0.82\",\n        },\n{\n            'v': 2.75,\n            'f': \"2.75\",\n        }],\n [{\n            'v': 99,\n            'f': \"99\",\n        },\n{\n            'v': 1,\n            'f': \"1\",\n        },\n{\n            'v': 1,\n            'f': \"1\",\n        },\n{\n            'v': 0.57,\n            'f': \"0.57\",\n        },\n{\n            'v': 2.52,\n            'f': \"2.52\",\n        }],\n [{\n            'v': 100,\n            'f': \"100\",\n        },\n{\n            'v': 1,\n            'f': \"1\",\n        },\n{\n            'v': 2,\n            'f': \"2\",\n        },\n{\n            'v': 0.59,\n            'f': \"0.59\",\n        },\n{\n            'v': 2.78,\n            'f': \"2.78\",\n        }],\n [{\n            'v': 101,\n            'f': \"101\",\n        },\n{\n            'v': 1,\n            'f': \"1\",\n        },\n{\n            'v': 3,\n            'f': \"3\",\n        },\n{\n            'v': 0.55,\n            'f': \"0.55\",\n        },\n{\n            'v': 3.27,\n            'f': \"3.27\",\n        }],\n [{\n            'v': 102,\n            'f': \"102\",\n        },\n{\n            'v': 2,\n            'f': \"2\",\n        },\n{\n            'v': 1,\n            'f': \"1\",\n        },\n{\n            'v': 0.69,\n            'f': \"0.69\",\n        },\n{\n            'v': 2.62,\n            'f': \"2.62\",\n        }],\n [{\n            'v': 103,\n            'f': \"103\",\n        },\n{\n            'v': 2,\n            'f': \"2\",\n        },\n{\n            'v': 2,\n            'f': \"2\",\n        },\n{\n            'v': 0.71,\n            'f': \"0.71\",\n        },\n{\n            'v': 2.74,\n            'f': \"2.74\",\n        }],\n [{\n            'v': 104,\n            'f': \"104\",\n        },\n{\n            'v': 2,\n            'f': \"2\",\n        },\n{\n            'v': 3,\n            'f': \"3\",\n        },\n{\n            'v': 0.7,\n            'f': \"0.7\",\n        },\n{\n            'v': 3.08,\n            'f': \"3.08\",\n        }],\n [{\n            'v': 105,\n            'f': \"105\",\n        },\n{\n            'v': 3,\n            'f': \"3\",\n        },\n{\n            'v': 1,\n            'f': \"1\",\n        },\n{\n            'v': 0.81,\n            'f': \"0.81\",\n        },\n{\n            'v': 2.72,\n            'f': \"2.72\",\n        }],\n [{\n            'v': 106,\n            'f': \"106\",\n        },\n{\n            'v': 3,\n            'f': \"3\",\n        },\n{\n            'v': 2,\n            'f': \"2\",\n        },\n{\n            'v': 0.81,\n            'f': \"0.81\",\n        },\n{\n            'v': 2.74,\n            'f': \"2.74\",\n        }],\n [{\n            'v': 107,\n            'f': \"107\",\n        },\n{\n            'v': 3,\n            'f': \"3\",\n        },\n{\n            'v': 3,\n            'f': \"3\",\n        },\n{\n            'v': 0.85,\n            'f': \"0.85\",\n        },\n{\n            'v': 3.37,\n            'f': \"3.37\",\n        }],\n [{\n            'v': 108,\n            'f': \"108\",\n        },\n{\n            'v': 1,\n            'f': \"1\",\n        },\n{\n            'v': 1,\n            'f': \"1\",\n        },\n{\n            'v': 0.53,\n            'f': \"0.53\",\n        },\n{\n            'v': 2.84,\n            'f': \"2.84\",\n        }],\n [{\n            'v': 109,\n            'f': \"109\",\n        },\n{\n            'v': 1,\n            'f': \"1\",\n        },\n{\n            'v': 2,\n            'f': \"2\",\n        },\n{\n            'v': 0.6,\n            'f': \"0.6\",\n        },\n{\n            'v': 2.83,\n            'f': \"2.83\",\n        }],\n [{\n            'v': 110,\n            'f': \"110\",\n        },\n{\n            'v': 1,\n            'f': \"1\",\n        },\n{\n            'v': 3,\n            'f': \"3\",\n        },\n{\n            'v': 0.53,\n            'f': \"0.53\",\n        },\n{\n            'v': 2.85,\n            'f': \"2.85\",\n        }],\n [{\n            'v': 111,\n            'f': \"111\",\n        },\n{\n            'v': 2,\n            'f': \"2\",\n        },\n{\n            'v': 1,\n            'f': \"1\",\n        },\n{\n            'v': 0.55,\n            'f': \"0.55\",\n        },\n{\n            'v': 2.8,\n            'f': \"2.8\",\n        }],\n [{\n            'v': 112,\n            'f': \"112\",\n        },\n{\n            'v': 2,\n            'f': \"2\",\n        },\n{\n            'v': 2,\n            'f': \"2\",\n        },\n{\n            'v': 0.66,\n            'f': \"0.66\",\n        },\n{\n            'v': 2.91,\n            'f': \"2.91\",\n        }],\n [{\n            'v': 113,\n            'f': \"113\",\n        },\n{\n            'v': 2,\n            'f': \"2\",\n        },\n{\n            'v': 3,\n            'f': \"3\",\n        },\n{\n            'v': 0.52,\n            'f': \"0.52\",\n        },\n{\n            'v': 2.95,\n            'f': \"2.95\",\n        }],\n [{\n            'v': 114,\n            'f': \"114\",\n        },\n{\n            'v': 3,\n            'f': \"3\",\n        },\n{\n            'v': 1,\n            'f': \"1\",\n        },\n{\n            'v': 0.55,\n            'f': \"0.55\",\n        },\n{\n            'v': 2.95,\n            'f': \"2.95\",\n        }],\n [{\n            'v': 115,\n            'f': \"115\",\n        },\n{\n            'v': 3,\n            'f': \"3\",\n        },\n{\n            'v': 2,\n            'f': \"2\",\n        },\n{\n            'v': 0.6,\n            'f': \"0.6\",\n        },\n{\n            'v': 2.99,\n            'f': \"2.99\",\n        }],\n [{\n            'v': 116,\n            'f': \"116\",\n        },\n{\n            'v': 3,\n            'f': \"3\",\n        },\n{\n            'v': 3,\n            'f': \"3\",\n        },\n{\n            'v': 0.67,\n            'f': \"0.67\",\n        },\n{\n            'v': 3.02,\n            'f': \"3.02\",\n        }],\n [{\n            'v': 117,\n            'f': \"117\",\n        },\n{\n            'v': 1,\n            'f': \"1\",\n        },\n{\n            'v': 1,\n            'f': \"1\",\n        },\n{\n            'v': 0.57,\n            'f': \"0.57\",\n        },\n{\n            'v': 1.9,\n            'f': \"1.9\",\n        }],\n [{\n            'v': 118,\n            'f': \"118\",\n        },\n{\n            'v': 1,\n            'f': \"1\",\n        },\n{\n            'v': 2,\n            'f': \"2\",\n        },\n{\n            'v': 0.6,\n            'f': \"0.6\",\n        },\n{\n            'v': 2.04,\n            'f': \"2.04\",\n        }],\n [{\n            'v': 119,\n            'f': \"119\",\n        },\n{\n            'v': 1,\n            'f': \"1\",\n        },\n{\n            'v': 3,\n            'f': \"3\",\n        },\n{\n            'v': 0.64,\n            'f': \"0.64\",\n        },\n{\n            'v': 2.07,\n            'f': \"2.07\",\n        }],\n [{\n            'v': 120,\n            'f': \"120\",\n        },\n{\n            'v': 2,\n            'f': \"2\",\n        },\n{\n            'v': 1,\n            'f': \"1\",\n        },\n{\n            'v': 0.64,\n            'f': \"0.64\",\n        },\n{\n            'v': 1.89,\n            'f': \"1.89\",\n        }],\n [{\n            'v': 121,\n            'f': \"121\",\n        },\n{\n            'v': 2,\n            'f': \"2\",\n        },\n{\n            'v': 2,\n            'f': \"2\",\n        },\n{\n            'v': 0.6,\n            'f': \"0.6\",\n        },\n{\n            'v': 1.96,\n            'f': \"1.96\",\n        }],\n [{\n            'v': 122,\n            'f': \"122\",\n        },\n{\n            'v': 2,\n            'f': \"2\",\n        },\n{\n            'v': 3,\n            'f': \"3\",\n        },\n{\n            'v': 0.64,\n            'f': \"0.64\",\n        },\n{\n            'v': 2.08,\n            'f': \"2.08\",\n        }],\n [{\n            'v': 123,\n            'f': \"123\",\n        },\n{\n            'v': 3,\n            'f': \"3\",\n        },\n{\n            'v': 1,\n            'f': \"1\",\n        },\n{\n            'v': 0.74,\n            'f': \"0.74\",\n        },\n{\n            'v': 2.23,\n            'f': \"2.23\",\n        }],\n [{\n            'v': 124,\n            'f': \"124\",\n        },\n{\n            'v': 3,\n            'f': \"3\",\n        },\n{\n            'v': 2,\n            'f': \"2\",\n        },\n{\n            'v': 0.85,\n            'f': \"0.85\",\n        },\n{\n            'v': 2.25,\n            'f': \"2.25\",\n        }],\n [{\n            'v': 125,\n            'f': \"125\",\n        },\n{\n            'v': 3,\n            'f': \"3\",\n        },\n{\n            'v': 3,\n            'f': \"3\",\n        },\n{\n            'v': 0.86,\n            'f': \"0.86\",\n        },\n{\n            'v': 2.49,\n            'f': \"2.49\",\n        }],\n [{\n            'v': 126,\n            'f': \"126\",\n        },\n{\n            'v': 1,\n            'f': \"1\",\n        },\n{\n            'v': 1,\n            'f': \"1\",\n        },\n{\n            'v': 0.6,\n            'f': \"0.6\",\n        },\n{\n            'v': 1.08,\n            'f': \"1.08\",\n        }],\n [{\n            'v': 127,\n            'f': \"127\",\n        },\n{\n            'v': 1,\n            'f': \"1\",\n        },\n{\n            'v': 2,\n            'f': \"2\",\n        },\n{\n            'v': 0.6,\n            'f': \"0.6\",\n        },\n{\n            'v': 1.15,\n            'f': \"1.15\",\n        }],\n [{\n            'v': 128,\n            'f': \"128\",\n        },\n{\n            'v': 1,\n            'f': \"1\",\n        },\n{\n            'v': 3,\n            'f': \"3\",\n        },\n{\n            'v': 0.67,\n            'f': \"0.67\",\n        },\n{\n            'v': 1.27,\n            'f': \"1.27\",\n        }],\n [{\n            'v': 129,\n            'f': \"129\",\n        },\n{\n            'v': 2,\n            'f': \"2\",\n        },\n{\n            'v': 1,\n            'f': \"1\",\n        },\n{\n            'v': 0.58,\n            'f': \"0.58\",\n        },\n{\n            'v': 1.13,\n            'f': \"1.13\",\n        }],\n [{\n            'v': 130,\n            'f': \"130\",\n        },\n{\n            'v': 2,\n            'f': \"2\",\n        },\n{\n            'v': 2,\n            'f': \"2\",\n        },\n{\n            'v': 0.8,\n            'f': \"0.8\",\n        },\n{\n            'v': 1.3,\n            'f': \"1.3\",\n        }],\n [{\n            'v': 131,\n            'f': \"131\",\n        },\n{\n            'v': 2,\n            'f': \"2\",\n        },\n{\n            'v': 3,\n            'f': \"3\",\n        },\n{\n            'v': 0.8,\n            'f': \"0.8\",\n        },\n{\n            'v': 1.28,\n            'f': \"1.28\",\n        }],\n [{\n            'v': 132,\n            'f': \"132\",\n        },\n{\n            'v': 3,\n            'f': \"3\",\n        },\n{\n            'v': 1,\n            'f': \"1\",\n        },\n{\n            'v': 0.86,\n            'f': \"0.86\",\n        },\n{\n            'v': 1.43,\n            'f': \"1.43\",\n        }],\n [{\n            'v': 133,\n            'f': \"133\",\n        },\n{\n            'v': 3,\n            'f': \"3\",\n        },\n{\n            'v': 2,\n            'f': \"2\",\n        },\n{\n            'v': 0.91,\n            'f': \"0.91\",\n        },\n{\n            'v': 1.58,\n            'f': \"1.58\",\n        }],\n [{\n            'v': 134,\n            'f': \"134\",\n        },\n{\n            'v': 3,\n            'f': \"3\",\n        },\n{\n            'v': 3,\n            'f': \"3\",\n        },\n{\n            'v': 0.91,\n            'f': \"0.91\",\n        },\n{\n            'v': 1.67,\n            'f': \"1.67\",\n        }],\n [{\n            'v': 135,\n            'f': \"135\",\n        },\n{\n            'v': 1,\n            'f': \"1\",\n        },\n{\n            'v': 1,\n            'f': \"1\",\n        },\n{\n            'v': 0.59,\n            'f': \"0.59\",\n        },\n{\n            'v': 2.14,\n            'f': \"2.14\",\n        }],\n [{\n            'v': 136,\n            'f': \"136\",\n        },\n{\n            'v': 1,\n            'f': \"1\",\n        },\n{\n            'v': 2,\n            'f': \"2\",\n        },\n{\n            'v': 0.71,\n            'f': \"0.71\",\n        },\n{\n            'v': 2.21,\n            'f': \"2.21\",\n        }],\n [{\n            'v': 137,\n            'f': \"137\",\n        },\n{\n            'v': 1,\n            'f': \"1\",\n        },\n{\n            'v': 3,\n            'f': \"3\",\n        },\n{\n            'v': 0.72,\n            'f': \"0.72\",\n        },\n{\n            'v': 2.31,\n            'f': \"2.31\",\n        }],\n [{\n            'v': 138,\n            'f': \"138\",\n        },\n{\n            'v': 2,\n            'f': \"2\",\n        },\n{\n            'v': 1,\n            'f': \"1\",\n        },\n{\n            'v': 0.67,\n            'f': \"0.67\",\n        },\n{\n            'v': 2.21,\n            'f': \"2.21\",\n        }],\n [{\n            'v': 139,\n            'f': \"139\",\n        },\n{\n            'v': 2,\n            'f': \"2\",\n        },\n{\n            'v': 2,\n            'f': \"2\",\n        },\n{\n            'v': 0.86,\n            'f': \"0.86\",\n        },\n{\n            'v': 2.25,\n            'f': \"2.25\",\n        }],\n [{\n            'v': 140,\n            'f': \"140\",\n        },\n{\n            'v': 2,\n            'f': \"2\",\n        },\n{\n            'v': 3,\n            'f': \"3\",\n        },\n{\n            'v': 0.87,\n            'f': \"0.87\",\n        },\n{\n            'v': 2.5,\n            'f': \"2.5\",\n        }],\n [{\n            'v': 141,\n            'f': \"141\",\n        },\n{\n            'v': 3,\n            'f': \"3\",\n        },\n{\n            'v': 1,\n            'f': \"1\",\n        },\n{\n            'v': 0.79,\n            'f': \"0.79\",\n        },\n{\n            'v': 2.28,\n            'f': \"2.28\",\n        }],\n [{\n            'v': 142,\n            'f': \"142\",\n        },\n{\n            'v': 3,\n            'f': \"3\",\n        },\n{\n            'v': 2,\n            'f': \"2\",\n        },\n{\n            'v': 0.92,\n            'f': \"0.92\",\n        },\n{\n            'v': 2.53,\n            'f': \"2.53\",\n        }],\n [{\n            'v': 143,\n            'f': \"143\",\n        },\n{\n            'v': 3,\n            'f': \"3\",\n        },\n{\n            'v': 3,\n            'f': \"3\",\n        },\n{\n            'v': 0.95,\n            'f': \"0.95\",\n        },\n{\n            'v': 2.92,\n            'f': \"2.92\",\n        }],\n [{\n            'v': 144,\n            'f': \"144\",\n        },\n{\n            'v': 1,\n            'f': \"1\",\n        },\n{\n            'v': 1,\n            'f': \"1\",\n        },\n{\n            'v': 0.6,\n            'f': \"0.6\",\n        },\n{\n            'v': 2.28,\n            'f': \"2.28\",\n        }],\n [{\n            'v': 145,\n            'f': \"145\",\n        },\n{\n            'v': 1,\n            'f': \"1\",\n        },\n{\n            'v': 2,\n            'f': \"2\",\n        },\n{\n            'v': 0.57,\n            'f': \"0.57\",\n        },\n{\n            'v': 2.65,\n            'f': \"2.65\",\n        }],\n [{\n            'v': 146,\n            'f': \"146\",\n        },\n{\n            'v': 1,\n            'f': \"1\",\n        },\n{\n            'v': 3,\n            'f': \"3\",\n        },\n{\n            'v': 0.64,\n            'f': \"0.64\",\n        },\n{\n            'v': 2.54,\n            'f': \"2.54\",\n        }],\n [{\n            'v': 147,\n            'f': \"147\",\n        },\n{\n            'v': 2,\n            'f': \"2\",\n        },\n{\n            'v': 1,\n            'f': \"1\",\n        },\n{\n            'v': 0.49,\n            'f': \"0.49\",\n        },\n{\n            'v': 2.44,\n            'f': \"2.44\",\n        }],\n [{\n            'v': 148,\n            'f': \"148\",\n        },\n{\n            'v': 2,\n            'f': \"2\",\n        },\n{\n            'v': 2,\n            'f': \"2\",\n        },\n{\n            'v': 0.6,\n            'f': \"0.6\",\n        },\n{\n            'v': 2.38,\n            'f': \"2.38\",\n        }],\n [{\n            'v': 149,\n            'f': \"149\",\n        },\n{\n            'v': 2,\n            'f': \"2\",\n        },\n{\n            'v': 3,\n            'f': \"3\",\n        },\n{\n            'v': 0.72,\n            'f': \"0.72\",\n        },\n{\n            'v': 2.74,\n            'f': \"2.74\",\n        }],\n [{\n            'v': 150,\n            'f': \"150\",\n        },\n{\n            'v': 3,\n            'f': \"3\",\n        },\n{\n            'v': 1,\n            'f': \"1\",\n        },\n{\n            'v': 0.61,\n            'f': \"0.61\",\n        },\n{\n            'v': 2.32,\n            'f': \"2.32\",\n        }],\n [{\n            'v': 151,\n            'f': \"151\",\n        },\n{\n            'v': 3,\n            'f': \"3\",\n        },\n{\n            'v': 2,\n            'f': \"2\",\n        },\n{\n            'v': 0.75,\n            'f': \"0.75\",\n        },\n{\n            'v': 2.68,\n            'f': \"2.68\",\n        }],\n [{\n            'v': 152,\n            'f': \"152\",\n        },\n{\n            'v': 3,\n            'f': \"3\",\n        },\n{\n            'v': 3,\n            'f': \"3\",\n        },\n{\n            'v': 0.86,\n            'f': \"0.86\",\n        },\n{\n            'v': 2.75,\n            'f': \"2.75\",\n        }],\n [{\n            'v': 153,\n            'f': \"153\",\n        },\n{\n            'v': 1,\n            'f': \"1\",\n        },\n{\n            'v': 1,\n            'f': \"1\",\n        },\n{\n            'v': 0.49,\n            'f': \"0.49\",\n        },\n{\n            'v': 2.43,\n            'f': \"2.43\",\n        }],\n [{\n            'v': 154,\n            'f': \"154\",\n        },\n{\n            'v': 1,\n            'f': \"1\",\n        },\n{\n            'v': 2,\n            'f': \"2\",\n        },\n{\n            'v': 0.49,\n            'f': \"0.49\",\n        },\n{\n            'v': 2.47,\n            'f': \"2.47\",\n        }],\n [{\n            'v': 155,\n            'f': \"155\",\n        },\n{\n            'v': 1,\n            'f': \"1\",\n        },\n{\n            'v': 3,\n            'f': \"3\",\n        },\n{\n            'v': 0.56,\n            'f': \"0.56\",\n        },\n{\n            'v': 2.96,\n            'f': \"2.96\",\n        }],\n [{\n            'v': 156,\n            'f': \"156\",\n        },\n{\n            'v': 2,\n            'f': \"2\",\n        },\n{\n            'v': 1,\n            'f': \"1\",\n        },\n{\n            'v': 0.55,\n            'f': \"0.55\",\n        },\n{\n            'v': 2.26,\n            'f': \"2.26\",\n        }],\n [{\n            'v': 157,\n            'f': \"157\",\n        },\n{\n            'v': 2,\n            'f': \"2\",\n        },\n{\n            'v': 2,\n            'f': \"2\",\n        },\n{\n            'v': 0.57,\n            'f': \"0.57\",\n        },\n{\n            'v': 2.49,\n            'f': \"2.49\",\n        }],\n [{\n            'v': 158,\n            'f': \"158\",\n        },\n{\n            'v': 2,\n            'f': \"2\",\n        },\n{\n            'v': 3,\n            'f': \"3\",\n        },\n{\n            'v': 0.61,\n            'f': \"0.61\",\n        },\n{\n            'v': 2.83,\n            'f': \"2.83\",\n        }],\n [{\n            'v': 159,\n            'f': \"159\",\n        },\n{\n            'v': 3,\n            'f': \"3\",\n        },\n{\n            'v': 1,\n            'f': \"1\",\n        },\n{\n            'v': 0.62,\n            'f': \"0.62\",\n        },\n{\n            'v': 2.31,\n            'f': \"2.31\",\n        }],\n [{\n            'v': 160,\n            'f': \"160\",\n        },\n{\n            'v': 3,\n            'f': \"3\",\n        },\n{\n            'v': 2,\n            'f': \"2\",\n        },\n{\n            'v': 0.65,\n            'f': \"0.65\",\n        },\n{\n            'v': 2.65,\n            'f': \"2.65\",\n        }],\n [{\n            'v': 161,\n            'f': \"161\",\n        },\n{\n            'v': 3,\n            'f': \"3\",\n        },\n{\n            'v': 3,\n            'f': \"3\",\n        },\n{\n            'v': 0.71,\n            'f': \"0.71\",\n        },\n{\n            'v': 2.97,\n            'f': \"2.97\",\n        }],\n [{\n            'v': 162,\n            'f': \"162\",\n        },\n{\n            'v': 1,\n            'f': \"1\",\n        },\n{\n            'v': 1,\n            'f': \"1\",\n        },\n{\n            'v': 0.57,\n            'f': \"0.57\",\n        },\n{\n            'v': 1.9,\n            'f': \"1.9\",\n        }],\n [{\n            'v': 163,\n            'f': \"163\",\n        },\n{\n            'v': 1,\n            'f': \"1\",\n        },\n{\n            'v': 2,\n            'f': \"2\",\n        },\n{\n            'v': 0.64,\n            'f': \"0.64\",\n        },\n{\n            'v': 2.05,\n            'f': \"2.05\",\n        }],\n [{\n            'v': 164,\n            'f': \"164\",\n        },\n{\n            'v': 1,\n            'f': \"1\",\n        },\n{\n            'v': 3,\n            'f': \"3\",\n        },\n{\n            'v': 0.53,\n            'f': \"0.53\",\n        },\n{\n            'v': 2.27,\n            'f': \"2.27\",\n        }],\n [{\n            'v': 165,\n            'f': \"165\",\n        },\n{\n            'v': 2,\n            'f': \"2\",\n        },\n{\n            'v': 1,\n            'f': \"1\",\n        },\n{\n            'v': 0.67,\n            'f': \"0.67\",\n        },\n{\n            'v': 2.0,\n            'f': \"2.0\",\n        }],\n [{\n            'v': 166,\n            'f': \"166\",\n        },\n{\n            'v': 2,\n            'f': \"2\",\n        },\n{\n            'v': 2,\n            'f': \"2\",\n        },\n{\n            'v': 0.72,\n            'f': \"0.72\",\n        },\n{\n            'v': 2.04,\n            'f': \"2.04\",\n        }],\n [{\n            'v': 167,\n            'f': \"167\",\n        },\n{\n            'v': 2,\n            'f': \"2\",\n        },\n{\n            'v': 3,\n            'f': \"3\",\n        },\n{\n            'v': 0.68,\n            'f': \"0.68\",\n        },\n{\n            'v': 2.3,\n            'f': \"2.3\",\n        }],\n [{\n            'v': 168,\n            'f': \"168\",\n        },\n{\n            'v': 3,\n            'f': \"3\",\n        },\n{\n            'v': 1,\n            'f': \"1\",\n        },\n{\n            'v': 0.79,\n            'f': \"0.79\",\n        },\n{\n            'v': 2.15,\n            'f': \"2.15\",\n        }],\n [{\n            'v': 169,\n            'f': \"169\",\n        },\n{\n            'v': 3,\n            'f': \"3\",\n        },\n{\n            'v': 2,\n            'f': \"2\",\n        },\n{\n            'v': 0.79,\n            'f': \"0.79\",\n        },\n{\n            'v': 2.26,\n            'f': \"2.26\",\n        }],\n [{\n            'v': 170,\n            'f': \"170\",\n        },\n{\n            'v': 3,\n            'f': \"3\",\n        },\n{\n            'v': 3,\n            'f': \"3\",\n        },\n{\n            'v': 0.94,\n            'f': \"0.94\",\n        },\n{\n            'v': 2.72,\n            'f': \"2.72\",\n        }],\n [{\n            'v': 171,\n            'f': \"171\",\n        },\n{\n            'v': 1,\n            'f': \"1\",\n        },\n{\n            'v': 1,\n            'f': \"1\",\n        },\n{\n            'v': 0.69,\n            'f': \"0.69\",\n        },\n{\n            'v': 2.72,\n            'f': \"2.72\",\n        }],\n [{\n            'v': 172,\n            'f': \"172\",\n        },\n{\n            'v': 1,\n            'f': \"1\",\n        },\n{\n            'v': 2,\n            'f': \"2\",\n        },\n{\n            'v': 0.57,\n            'f': \"0.57\",\n        },\n{\n            'v': 2.53,\n            'f': \"2.53\",\n        }],\n [{\n            'v': 173,\n            'f': \"173\",\n        },\n{\n            'v': 1,\n            'f': \"1\",\n        },\n{\n            'v': 3,\n            'f': \"3\",\n        },\n{\n            'v': 0.61,\n            'f': \"0.61\",\n        },\n{\n            'v': 2.77,\n            'f': \"2.77\",\n        }],\n [{\n            'v': 174,\n            'f': \"174\",\n        },\n{\n            'v': 2,\n            'f': \"2\",\n        },\n{\n            'v': 1,\n            'f': \"1\",\n        },\n{\n            'v': 0.6,\n            'f': \"0.6\",\n        },\n{\n            'v': 2.61,\n            'f': \"2.61\",\n        }],\n [{\n            'v': 175,\n            'f': \"175\",\n        },\n{\n            'v': 2,\n            'f': \"2\",\n        },\n{\n            'v': 2,\n            'f': \"2\",\n        },\n{\n            'v': 0.58,\n            'f': \"0.58\",\n        },\n{\n            'v': 2.52,\n            'f': \"2.52\",\n        }],\n [{\n            'v': 176,\n            'f': \"176\",\n        },\n{\n            'v': 2,\n            'f': \"2\",\n        },\n{\n            'v': 3,\n            'f': \"3\",\n        },\n{\n            'v': 0.78,\n            'f': \"0.78\",\n        },\n{\n            'v': 2.73,\n            'f': \"2.73\",\n        }],\n [{\n            'v': 177,\n            'f': \"177\",\n        },\n{\n            'v': 3,\n            'f': \"3\",\n        },\n{\n            'v': 1,\n            'f': \"1\",\n        },\n{\n            'v': 0.7,\n            'f': \"0.7\",\n        },\n{\n            'v': 2.57,\n            'f': \"2.57\",\n        }],\n [{\n            'v': 178,\n            'f': \"178\",\n        },\n{\n            'v': 3,\n            'f': \"3\",\n        },\n{\n            'v': 2,\n            'f': \"2\",\n        },\n{\n            'v': 0.74,\n            'f': \"0.74\",\n        },\n{\n            'v': 2.56,\n            'f': \"2.56\",\n        }],\n [{\n            'v': 179,\n            'f': \"179\",\n        },\n{\n            'v': 3,\n            'f': \"3\",\n        },\n{\n            'v': 3,\n            'f': \"3\",\n        },\n{\n            'v': 0.89,\n            'f': \"0.89\",\n        },\n{\n            'v': 3.01,\n            'f': \"3.01\",\n        }],\n [{\n            'v': 180,\n            'f': \"180\",\n        },\n{\n            'v': 1,\n            'f': \"1\",\n        },\n{\n            'v': 1,\n            'f': \"1\",\n        },\n{\n            'v': 0.69,\n            'f': \"0.69\",\n        },\n{\n            'v': 1.49,\n            'f': \"1.49\",\n        }],\n [{\n            'v': 181,\n            'f': \"181\",\n        },\n{\n            'v': 1,\n            'f': \"1\",\n        },\n{\n            'v': 2,\n            'f': \"2\",\n        },\n{\n            'v': 0.69,\n            'f': \"0.69\",\n        },\n{\n            'v': 1.75,\n            'f': \"1.75\",\n        }],\n [{\n            'v': 182,\n            'f': \"182\",\n        },\n{\n            'v': 1,\n            'f': \"1\",\n        },\n{\n            'v': 3,\n            'f': \"3\",\n        },\n{\n            'v': 0.69,\n            'f': \"0.69\",\n        },\n{\n            'v': 2.18,\n            'f': \"2.18\",\n        }],\n [{\n            'v': 183,\n            'f': \"183\",\n        },\n{\n            'v': 2,\n            'f': \"2\",\n        },\n{\n            'v': 1,\n            'f': \"1\",\n        },\n{\n            'v': 0.53,\n            'f': \"0.53\",\n        },\n{\n            'v': 1.5,\n            'f': \"1.5\",\n        }],\n [{\n            'v': 184,\n            'f': \"184\",\n        },\n{\n            'v': 2,\n            'f': \"2\",\n        },\n{\n            'v': 2,\n            'f': \"2\",\n        },\n{\n            'v': 0.83,\n            'f': \"0.83\",\n        },\n{\n            'v': 1.78,\n            'f': \"1.78\",\n        }],\n [{\n            'v': 185,\n            'f': \"185\",\n        },\n{\n            'v': 2,\n            'f': \"2\",\n        },\n{\n            'v': 3,\n            'f': \"3\",\n        },\n{\n            'v': 0.86,\n            'f': \"0.86\",\n        },\n{\n            'v': 2.38,\n            'f': \"2.38\",\n        }],\n [{\n            'v': 186,\n            'f': \"186\",\n        },\n{\n            'v': 3,\n            'f': \"3\",\n        },\n{\n            'v': 1,\n            'f': \"1\",\n        },\n{\n            'v': 0.75,\n            'f': \"0.75\",\n        },\n{\n            'v': 1.59,\n            'f': \"1.59\",\n        }],\n [{\n            'v': 187,\n            'f': \"187\",\n        },\n{\n            'v': 3,\n            'f': \"3\",\n        },\n{\n            'v': 2,\n            'f': \"2\",\n        },\n{\n            'v': 0.92,\n            'f': \"0.92\",\n        },\n{\n            'v': 2.27,\n            'f': \"2.27\",\n        }],\n [{\n            'v': 188,\n            'f': \"188\",\n        },\n{\n            'v': 3,\n            'f': \"3\",\n        },\n{\n            'v': 3,\n            'f': \"3\",\n        },\n{\n            'v': 0.97,\n            'f': \"0.97\",\n        },\n{\n            'v': 2.83,\n            'f': \"2.83\",\n        }],\n [{\n            'v': 189,\n            'f': \"189\",\n        },\n{\n            'v': 1,\n            'f': \"1\",\n        },\n{\n            'v': 1,\n            'f': \"1\",\n        },\n{\n            'v': 0.47,\n            'f': \"0.47\",\n        },\n{\n            'v': 2.3,\n            'f': \"2.3\",\n        }],\n [{\n            'v': 190,\n            'f': \"190\",\n        },\n{\n            'v': 1,\n            'f': \"1\",\n        },\n{\n            'v': 2,\n            'f': \"2\",\n        },\n{\n            'v': 0.58,\n            'f': \"0.58\",\n        },\n{\n            'v': 2.72,\n            'f': \"2.72\",\n        }],\n [{\n            'v': 191,\n            'f': \"191\",\n        },\n{\n            'v': 1,\n            'f': \"1\",\n        },\n{\n            'v': 3,\n            'f': \"3\",\n        },\n{\n            'v': 0.56,\n            'f': \"0.56\",\n        },\n{\n            'v': 2.89,\n            'f': \"2.89\",\n        }],\n [{\n            'v': 192,\n            'f': \"192\",\n        },\n{\n            'v': 2,\n            'f': \"2\",\n        },\n{\n            'v': 1,\n            'f': \"1\",\n        },\n{\n            'v': 0.55,\n            'f': \"0.55\",\n        },\n{\n            'v': 1.88,\n            'f': \"1.88\",\n        }],\n [{\n            'v': 193,\n            'f': \"193\",\n        },\n{\n            'v': 2,\n            'f': \"2\",\n        },\n{\n            'v': 2,\n            'f': \"2\",\n        },\n{\n            'v': 0.71,\n            'f': \"0.71\",\n        },\n{\n            'v': 2.68,\n            'f': \"2.68\",\n        }],\n [{\n            'v': 194,\n            'f': \"194\",\n        },\n{\n            'v': 2,\n            'f': \"2\",\n        },\n{\n            'v': 3,\n            'f': \"3\",\n        },\n{\n            'v': 0.62,\n            'f': \"0.62\",\n        },\n{\n            'v': 2.87,\n            'f': \"2.87\",\n        }],\n [{\n            'v': 195,\n            'f': \"195\",\n        },\n{\n            'v': 3,\n            'f': \"3\",\n        },\n{\n            'v': 1,\n            'f': \"1\",\n        },\n{\n            'v': 0.64,\n            'f': \"0.64\",\n        },\n{\n            'v': 2.19,\n            'f': \"2.19\",\n        }],\n [{\n            'v': 196,\n            'f': \"196\",\n        },\n{\n            'v': 3,\n            'f': \"3\",\n        },\n{\n            'v': 2,\n            'f': \"2\",\n        },\n{\n            'v': 0.75,\n            'f': \"0.75\",\n        },\n{\n            'v': 2.91,\n            'f': \"2.91\",\n        }],\n [{\n            'v': 197,\n            'f': \"197\",\n        },\n{\n            'v': 3,\n            'f': \"3\",\n        },\n{\n            'v': 3,\n            'f': \"3\",\n        },\n{\n            'v': 0.78,\n            'f': \"0.78\",\n        },\n{\n            'v': 2.91,\n            'f': \"2.91\",\n        }],\n [{\n            'v': 198,\n            'f': \"198\",\n        },\n{\n            'v': 1,\n            'f': \"1\",\n        },\n{\n            'v': 1,\n            'f': \"1\",\n        },\n{\n            'v': 0.57,\n            'f': \"0.57\",\n        },\n{\n            'v': 2.31,\n            'f': \"2.31\",\n        }],\n [{\n            'v': 199,\n            'f': \"199\",\n        },\n{\n            'v': 1,\n            'f': \"1\",\n        },\n{\n            'v': 2,\n            'f': \"2\",\n        },\n{\n            'v': 0.61,\n            'f': \"0.61\",\n        },\n{\n            'v': 2.19,\n            'f': \"2.19\",\n        }],\n [{\n            'v': 200,\n            'f': \"200\",\n        },\n{\n            'v': 1,\n            'f': \"1\",\n        },\n{\n            'v': 3,\n            'f': \"3\",\n        },\n{\n            'v': 0.6,\n            'f': \"0.6\",\n        },\n{\n            'v': 2.41,\n            'f': \"2.41\",\n        }],\n [{\n            'v': 201,\n            'f': \"201\",\n        },\n{\n            'v': 2,\n            'f': \"2\",\n        },\n{\n            'v': 1,\n            'f': \"1\",\n        },\n{\n            'v': 0.6,\n            'f': \"0.6\",\n        },\n{\n            'v': 2.27,\n            'f': \"2.27\",\n        }],\n [{\n            'v': 202,\n            'f': \"202\",\n        },\n{\n            'v': 2,\n            'f': \"2\",\n        },\n{\n            'v': 2,\n            'f': \"2\",\n        },\n{\n            'v': 0.56,\n            'f': \"0.56\",\n        },\n{\n            'v': 2.35,\n            'f': \"2.35\",\n        }],\n [{\n            'v': 203,\n            'f': \"203\",\n        },\n{\n            'v': 2,\n            'f': \"2\",\n        },\n{\n            'v': 3,\n            'f': \"3\",\n        },\n{\n            'v': 0.77,\n            'f': \"0.77\",\n        },\n{\n            'v': 2.52,\n            'f': \"2.52\",\n        }],\n [{\n            'v': 204,\n            'f': \"204\",\n        },\n{\n            'v': 3,\n            'f': \"3\",\n        },\n{\n            'v': 1,\n            'f': \"1\",\n        },\n{\n            'v': 0.77,\n            'f': \"0.77\",\n        },\n{\n            'v': 2.23,\n            'f': \"2.23\",\n        }],\n [{\n            'v': 205,\n            'f': \"205\",\n        },\n{\n            'v': 3,\n            'f': \"3\",\n        },\n{\n            'v': 2,\n            'f': \"2\",\n        },\n{\n            'v': 0.71,\n            'f': \"0.71\",\n        },\n{\n            'v': 2.27,\n            'f': \"2.27\",\n        }],\n [{\n            'v': 206,\n            'f': \"206\",\n        },\n{\n            'v': 3,\n            'f': \"3\",\n        },\n{\n            'v': 3,\n            'f': \"3\",\n        },\n{\n            'v': 0.82,\n            'f': \"0.82\",\n        },\n{\n            'v': 2.27,\n            'f': \"2.27\",\n        }],\n [{\n            'v': 207,\n            'f': \"207\",\n        },\n{\n            'v': 1,\n            'f': \"1\",\n        },\n{\n            'v': 1,\n            'f': \"1\",\n        },\n{\n            'v': 0.58,\n            'f': \"0.58\",\n        },\n{\n            'v': 2.15,\n            'f': \"2.15\",\n        }],\n [{\n            'v': 208,\n            'f': \"208\",\n        },\n{\n            'v': 1,\n            'f': \"1\",\n        },\n{\n            'v': 2,\n            'f': \"2\",\n        },\n{\n            'v': 0.7,\n            'f': \"0.7\",\n        },\n{\n            'v': 2.47,\n            'f': \"2.47\",\n        }],\n [{\n            'v': 209,\n            'f': \"209\",\n        },\n{\n            'v': 1,\n            'f': \"1\",\n        },\n{\n            'v': 3,\n            'f': \"3\",\n        },\n{\n            'v': 0.72,\n            'f': \"0.72\",\n        },\n{\n            'v': 2.64,\n            'f': \"2.64\",\n        }],\n [{\n            'v': 210,\n            'f': \"210\",\n        },\n{\n            'v': 2,\n            'f': \"2\",\n        },\n{\n            'v': 1,\n            'f': \"1\",\n        },\n{\n            'v': 0.68,\n            'f': \"0.68\",\n        },\n{\n            'v': 2.24,\n            'f': \"2.24\",\n        }],\n [{\n            'v': 211,\n            'f': \"211\",\n        },\n{\n            'v': 2,\n            'f': \"2\",\n        },\n{\n            'v': 2,\n            'f': \"2\",\n        },\n{\n            'v': 0.8,\n            'f': \"0.8\",\n        },\n{\n            'v': 2.76,\n            'f': \"2.76\",\n        }],\n [{\n            'v': 212,\n            'f': \"212\",\n        },\n{\n            'v': 2,\n            'f': \"2\",\n        },\n{\n            'v': 3,\n            'f': \"3\",\n        },\n{\n            'v': 0.86,\n            'f': \"0.86\",\n        },\n{\n            'v': 2.93,\n            'f': \"2.93\",\n        }],\n [{\n            'v': 213,\n            'f': \"213\",\n        },\n{\n            'v': 3,\n            'f': \"3\",\n        },\n{\n            'v': 1,\n            'f': \"1\",\n        },\n{\n            'v': 0.86,\n            'f': \"0.86\",\n        },\n{\n            'v': 2.85,\n            'f': \"2.85\",\n        }],\n [{\n            'v': 214,\n            'f': \"214\",\n        },\n{\n            'v': 3,\n            'f': \"3\",\n        },\n{\n            'v': 2,\n            'f': \"2\",\n        },\n{\n            'v': 0.94,\n            'f': \"0.94\",\n        },\n{\n            'v': 3.13,\n            'f': \"3.13\",\n        }],\n [{\n            'v': 215,\n            'f': \"215\",\n        },\n{\n            'v': 3,\n            'f': \"3\",\n        },\n{\n            'v': 3,\n            'f': \"3\",\n        },\n{\n            'v': 0.99,\n            'f': \"0.99\",\n        },\n{\n            'v': 3.58,\n            'f': \"3.58\",\n        }],\n [{\n            'v': 216,\n            'f': \"216\",\n        },\n{\n            'v': 1,\n            'f': \"1\",\n        },\n{\n            'v': 1,\n            'f': \"1\",\n        },\n{\n            'v': 0.59,\n            'f': \"0.59\",\n        },\n{\n            'v': 2.08,\n            'f': \"2.08\",\n        }],\n [{\n            'v': 217,\n            'f': \"217\",\n        },\n{\n            'v': 1,\n            'f': \"1\",\n        },\n{\n            'v': 2,\n            'f': \"2\",\n        },\n{\n            'v': 0.58,\n            'f': \"0.58\",\n        },\n{\n            'v': 2.13,\n            'f': \"2.13\",\n        }],\n [{\n            'v': 218,\n            'f': \"218\",\n        },\n{\n            'v': 1,\n            'f': \"1\",\n        },\n{\n            'v': 3,\n            'f': \"3\",\n        },\n{\n            'v': 0.58,\n            'f': \"0.58\",\n        },\n{\n            'v': 2.38,\n            'f': \"2.38\",\n        }],\n [{\n            'v': 219,\n            'f': \"219\",\n        },\n{\n            'v': 2,\n            'f': \"2\",\n        },\n{\n            'v': 1,\n            'f': \"1\",\n        },\n{\n            'v': 0.49,\n            'f': \"0.49\",\n        },\n{\n            'v': 2.14,\n            'f': \"2.14\",\n        }],\n [{\n            'v': 220,\n            'f': \"220\",\n        },\n{\n            'v': 2,\n            'f': \"2\",\n        },\n{\n            'v': 2,\n            'f': \"2\",\n        },\n{\n            'v': 0.7,\n            'f': \"0.7\",\n        },\n{\n            'v': 2.4,\n            'f': \"2.4\",\n        }],\n [{\n            'v': 221,\n            'f': \"221\",\n        },\n{\n            'v': 2,\n            'f': \"2\",\n        },\n{\n            'v': 3,\n            'f': \"3\",\n        },\n{\n            'v': 0.6,\n            'f': \"0.6\",\n        },\n{\n            'v': 2.25,\n            'f': \"2.25\",\n        }],\n [{\n            'v': 222,\n            'f': \"222\",\n        },\n{\n            'v': 3,\n            'f': \"3\",\n        },\n{\n            'v': 1,\n            'f': \"1\",\n        },\n{\n            'v': 0.61,\n            'f': \"0.61\",\n        },\n{\n            'v': 2.08,\n            'f': \"2.08\",\n        }],\n [{\n            'v': 223,\n            'f': \"223\",\n        },\n{\n            'v': 3,\n            'f': \"3\",\n        },\n{\n            'v': 2,\n            'f': \"2\",\n        },\n{\n            'v': 0.76,\n            'f': \"0.76\",\n        },\n{\n            'v': 2.48,\n            'f': \"2.48\",\n        }],\n [{\n            'v': 224,\n            'f': \"224\",\n        },\n{\n            'v': 3,\n            'f': \"3\",\n        },\n{\n            'v': 3,\n            'f': \"3\",\n        },\n{\n            'v': 0.73,\n            'f': \"0.73\",\n        },\n{\n            'v': 2.49,\n            'f': \"2.49\",\n        }],\n [{\n            'v': 225,\n            'f': \"225\",\n        },\n{\n            'v': 1,\n            'f': \"1\",\n        },\n{\n            'v': 1,\n            'f': \"1\",\n        },\n{\n            'v': 0.55,\n            'f': \"0.55\",\n        },\n{\n            'v': 1.57,\n            'f': \"1.57\",\n        }],\n [{\n            'v': 226,\n            'f': \"226\",\n        },\n{\n            'v': 1,\n            'f': \"1\",\n        },\n{\n            'v': 2,\n            'f': \"2\",\n        },\n{\n            'v': 0.64,\n            'f': \"0.64\",\n        },\n{\n            'v': 1.7,\n            'f': \"1.7\",\n        }],\n [{\n            'v': 227,\n            'f': \"227\",\n        },\n{\n            'v': 1,\n            'f': \"1\",\n        },\n{\n            'v': 3,\n            'f': \"3\",\n        },\n{\n            'v': 0.64,\n            'f': \"0.64\",\n        },\n{\n            'v': 2.58,\n            'f': \"2.58\",\n        }],\n [{\n            'v': 228,\n            'f': \"228\",\n        },\n{\n            'v': 2,\n            'f': \"2\",\n        },\n{\n            'v': 1,\n            'f': \"1\",\n        },\n{\n            'v': 0.71,\n            'f': \"0.71\",\n        },\n{\n            'v': 1.6,\n            'f': \"1.6\",\n        }],\n [{\n            'v': 229,\n            'f': \"229\",\n        },\n{\n            'v': 2,\n            'f': \"2\",\n        },\n{\n            'v': 2,\n            'f': \"2\",\n        },\n{\n            'v': 0.65,\n            'f': \"0.65\",\n        },\n{\n            'v': 1.75,\n            'f': \"1.75\",\n        }],\n [{\n            'v': 230,\n            'f': \"230\",\n        },\n{\n            'v': 2,\n            'f': \"2\",\n        },\n{\n            'v': 3,\n            'f': \"3\",\n        },\n{\n            'v': 0.69,\n            'f': \"0.69\",\n        },\n{\n            'v': 2.55,\n            'f': \"2.55\",\n        }],\n [{\n            'v': 231,\n            'f': \"231\",\n        },\n{\n            'v': 3,\n            'f': \"3\",\n        },\n{\n            'v': 1,\n            'f': \"1\",\n        },\n{\n            'v': 0.78,\n            'f': \"0.78\",\n        },\n{\n            'v': 1.61,\n            'f': \"1.61\",\n        }],\n [{\n            'v': 232,\n            'f': \"232\",\n        },\n{\n            'v': 3,\n            'f': \"3\",\n        },\n{\n            'v': 2,\n            'f': \"2\",\n        },\n{\n            'v': 0.74,\n            'f': \"0.74\",\n        },\n{\n            'v': 1.86,\n            'f': \"1.86\",\n        }],\n [{\n            'v': 233,\n            'f': \"233\",\n        },\n{\n            'v': 3,\n            'f': \"3\",\n        },\n{\n            'v': 3,\n            'f': \"3\",\n        },\n{\n            'v': 0.87,\n            'f': \"0.87\",\n        },\n{\n            'v': 3.0,\n            'f': \"3.0\",\n        }],\n [{\n            'v': 234,\n            'f': \"234\",\n        },\n{\n            'v': 1,\n            'f': \"1\",\n        },\n{\n            'v': 1,\n            'f': \"1\",\n        },\n{\n            'v': 0.56,\n            'f': \"0.56\",\n        },\n{\n            'v': 2.3,\n            'f': \"2.3\",\n        }],\n [{\n            'v': 235,\n            'f': \"235\",\n        },\n{\n            'v': 1,\n            'f': \"1\",\n        },\n{\n            'v': 2,\n            'f': \"2\",\n        },\n{\n            'v': 0.64,\n            'f': \"0.64\",\n        },\n{\n            'v': 2.35,\n            'f': \"2.35\",\n        }],\n [{\n            'v': 236,\n            'f': \"236\",\n        },\n{\n            'v': 1,\n            'f': \"1\",\n        },\n{\n            'v': 3,\n            'f': \"3\",\n        },\n{\n            'v': 0.62,\n            'f': \"0.62\",\n        },\n{\n            'v': 2.41,\n            'f': \"2.41\",\n        }],\n [{\n            'v': 237,\n            'f': \"237\",\n        },\n{\n            'v': 2,\n            'f': \"2\",\n        },\n{\n            'v': 1,\n            'f': \"1\",\n        },\n{\n            'v': 0.65,\n            'f': \"0.65\",\n        },\n{\n            'v': 2.45,\n            'f': \"2.45\",\n        }],\n [{\n            'v': 238,\n            'f': \"238\",\n        },\n{\n            'v': 2,\n            'f': \"2\",\n        },\n{\n            'v': 2,\n            'f': \"2\",\n        },\n{\n            'v': 0.64,\n            'f': \"0.64\",\n        },\n{\n            'v': 2.26,\n            'f': \"2.26\",\n        }],\n [{\n            'v': 239,\n            'f': \"239\",\n        },\n{\n            'v': 2,\n            'f': \"2\",\n        },\n{\n            'v': 3,\n            'f': \"3\",\n        },\n{\n            'v': 0.67,\n            'f': \"0.67\",\n        },\n{\n            'v': 2.55,\n            'f': \"2.55\",\n        }],\n [{\n            'v': 240,\n            'f': \"240\",\n        },\n{\n            'v': 3,\n            'f': \"3\",\n        },\n{\n            'v': 1,\n            'f': \"1\",\n        },\n{\n            'v': 0.68,\n            'f': \"0.68\",\n        },\n{\n            'v': 2.35,\n            'f': \"2.35\",\n        }],\n [{\n            'v': 241,\n            'f': \"241\",\n        },\n{\n            'v': 3,\n            'f': \"3\",\n        },\n{\n            'v': 2,\n            'f': \"2\",\n        },\n{\n            'v': 0.75,\n            'f': \"0.75\",\n        },\n{\n            'v': 2.81,\n            'f': \"2.81\",\n        }],\n [{\n            'v': 242,\n            'f': \"242\",\n        },\n{\n            'v': 3,\n            'f': \"3\",\n        },\n{\n            'v': 3,\n            'f': \"3\",\n        },\n{\n            'v': 0.8,\n            'f': \"0.8\",\n        },\n{\n            'v': 2.99,\n            'f': \"2.99\",\n        }],\n [{\n            'v': 243,\n            'f': \"243\",\n        },\n{\n            'v': 1,\n            'f': \"1\",\n        },\n{\n            'v': 1,\n            'f': \"1\",\n        },\n{\n            'v': 0.57,\n            'f': \"0.57\",\n        },\n{\n            'v': 2.09,\n            'f': \"2.09\",\n        }],\n [{\n            'v': 244,\n            'f': \"244\",\n        },\n{\n            'v': 1,\n            'f': \"1\",\n        },\n{\n            'v': 2,\n            'f': \"2\",\n        },\n{\n            'v': 0.59,\n            'f': \"0.59\",\n        },\n{\n            'v': 2.41,\n            'f': \"2.41\",\n        }],\n [{\n            'v': 245,\n            'f': \"245\",\n        },\n{\n            'v': 1,\n            'f': \"1\",\n        },\n{\n            'v': 3,\n            'f': \"3\",\n        },\n{\n            'v': 0.58,\n            'f': \"0.58\",\n        },\n{\n            'v': 2.58,\n            'f': \"2.58\",\n        }],\n [{\n            'v': 246,\n            'f': \"246\",\n        },\n{\n            'v': 2,\n            'f': \"2\",\n        },\n{\n            'v': 1,\n            'f': \"1\",\n        },\n{\n            'v': 0.66,\n            'f': \"0.66\",\n        },\n{\n            'v': 2.15,\n            'f': \"2.15\",\n        }],\n [{\n            'v': 247,\n            'f': \"247\",\n        },\n{\n            'v': 2,\n            'f': \"2\",\n        },\n{\n            'v': 2,\n            'f': \"2\",\n        },\n{\n            'v': 0.59,\n            'f': \"0.59\",\n        },\n{\n            'v': 2.29,\n            'f': \"2.29\",\n        }],\n [{\n            'v': 248,\n            'f': \"248\",\n        },\n{\n            'v': 2,\n            'f': \"2\",\n        },\n{\n            'v': 3,\n            'f': \"3\",\n        },\n{\n            'v': 0.72,\n            'f': \"0.72\",\n        },\n{\n            'v': 2.58,\n            'f': \"2.58\",\n        }],\n [{\n            'v': 249,\n            'f': \"249\",\n        },\n{\n            'v': 3,\n            'f': \"3\",\n        },\n{\n            'v': 1,\n            'f': \"1\",\n        },\n{\n            'v': 0.7,\n            'f': \"0.7\",\n        },\n{\n            'v': 2.1,\n            'f': \"2.1\",\n        }],\n [{\n            'v': 250,\n            'f': \"250\",\n        },\n{\n            'v': 3,\n            'f': \"3\",\n        },\n{\n            'v': 2,\n            'f': \"2\",\n        },\n{\n            'v': 0.72,\n            'f': \"0.72\",\n        },\n{\n            'v': 2.22,\n            'f': \"2.22\",\n        }],\n [{\n            'v': 251,\n            'f': \"251\",\n        },\n{\n            'v': 3,\n            'f': \"3\",\n        },\n{\n            'v': 3,\n            'f': \"3\",\n        },\n{\n            'v': 0.85,\n            'f': \"0.85\",\n        },\n{\n            'v': 2.8,\n            'f': \"2.8\",\n        }],\n [{\n            'v': 252,\n            'f': \"252\",\n        },\n{\n            'v': 1,\n            'f': \"1\",\n        },\n{\n            'v': 1,\n            'f': \"1\",\n        },\n{\n            'v': 0.48,\n            'f': \"0.48\",\n        },\n{\n            'v': 1.45,\n            'f': \"1.45\",\n        }],\n [{\n            'v': 253,\n            'f': \"253\",\n        },\n{\n            'v': 1,\n            'f': \"1\",\n        },\n{\n            'v': 2,\n            'f': \"2\",\n        },\n{\n            'v': 0.7,\n            'f': \"0.7\",\n        },\n{\n            'v': 1.52,\n            'f': \"1.52\",\n        }],\n [{\n            'v': 254,\n            'f': \"254\",\n        },\n{\n            'v': 1,\n            'f': \"1\",\n        },\n{\n            'v': 3,\n            'f': \"3\",\n        },\n{\n            'v': 0.73,\n            'f': \"0.73\",\n        },\n{\n            'v': 1.95,\n            'f': \"1.95\",\n        }],\n [{\n            'v': 255,\n            'f': \"255\",\n        },\n{\n            'v': 2,\n            'f': \"2\",\n        },\n{\n            'v': 1,\n            'f': \"1\",\n        },\n{\n            'v': 0.53,\n            'f': \"0.53\",\n        },\n{\n            'v': 1.41,\n            'f': \"1.41\",\n        }],\n [{\n            'v': 256,\n            'f': \"256\",\n        },\n{\n            'v': 2,\n            'f': \"2\",\n        },\n{\n            'v': 2,\n            'f': \"2\",\n        },\n{\n            'v': 0.68,\n            'f': \"0.68\",\n        },\n{\n            'v': 1.68,\n            'f': \"1.68\",\n        }],\n [{\n            'v': 257,\n            'f': \"257\",\n        },\n{\n            'v': 2,\n            'f': \"2\",\n        },\n{\n            'v': 3,\n            'f': \"3\",\n        },\n{\n            'v': 0.85,\n            'f': \"0.85\",\n        },\n{\n            'v': 2.25,\n            'f': \"2.25\",\n        }],\n [{\n            'v': 258,\n            'f': \"258\",\n        },\n{\n            'v': 3,\n            'f': \"3\",\n        },\n{\n            'v': 1,\n            'f': \"1\",\n        },\n{\n            'v': 0.74,\n            'f': \"0.74\",\n        },\n{\n            'v': 1.62,\n            'f': \"1.62\",\n        }],\n [{\n            'v': 259,\n            'f': \"259\",\n        },\n{\n            'v': 3,\n            'f': \"3\",\n        },\n{\n            'v': 2,\n            'f': \"2\",\n        },\n{\n            'v': 0.91,\n            'f': \"0.91\",\n        },\n{\n            'v': 2.1,\n            'f': \"2.1\",\n        }],\n [{\n            'v': 260,\n            'f': \"260\",\n        },\n{\n            'v': 3,\n            'f': \"3\",\n        },\n{\n            'v': 3,\n            'f': \"3\",\n        },\n{\n            'v': 0.99,\n            'f': \"0.99\",\n        },\n{\n            'v': 3.17,\n            'f': \"3.17\",\n        }],\n [{\n            'v': 261,\n            'f': \"261\",\n        },\n{\n            'v': 1,\n            'f': \"1\",\n        },\n{\n            'v': 1,\n            'f': \"1\",\n        },\n{\n            'v': 0.56,\n            'f': \"0.56\",\n        },\n{\n            'v': 2.18,\n            'f': \"2.18\",\n        }],\n [{\n            'v': 262,\n            'f': \"262\",\n        },\n{\n            'v': 1,\n            'f': \"1\",\n        },\n{\n            'v': 2,\n            'f': \"2\",\n        },\n{\n            'v': 0.47,\n            'f': \"0.47\",\n        },\n{\n            'v': 2.53,\n            'f': \"2.53\",\n        }],\n [{\n            'v': 263,\n            'f': \"263\",\n        },\n{\n            'v': 1,\n            'f': \"1\",\n        },\n{\n            'v': 3,\n            'f': \"3\",\n        },\n{\n            'v': 0.55,\n            'f': \"0.55\",\n        },\n{\n            'v': 2.63,\n            'f': \"2.63\",\n        }],\n [{\n            'v': 264,\n            'f': \"264\",\n        },\n{\n            'v': 2,\n            'f': \"2\",\n        },\n{\n            'v': 1,\n            'f': \"1\",\n        },\n{\n            'v': 0.52,\n            'f': \"0.52\",\n        },\n{\n            'v': 2.23,\n            'f': \"2.23\",\n        }],\n [{\n            'v': 265,\n            'f': \"265\",\n        },\n{\n            'v': 2,\n            'f': \"2\",\n        },\n{\n            'v': 2,\n            'f': \"2\",\n        },\n{\n            'v': 0.57,\n            'f': \"0.57\",\n        },\n{\n            'v': 2.6,\n            'f': \"2.6\",\n        }],\n [{\n            'v': 266,\n            'f': \"266\",\n        },\n{\n            'v': 2,\n            'f': \"2\",\n        },\n{\n            'v': 3,\n            'f': \"3\",\n        },\n{\n            'v': 0.62,\n            'f': \"0.62\",\n        },\n{\n            'v': 2.73,\n            'f': \"2.73\",\n        }],\n [{\n            'v': 267,\n            'f': \"267\",\n        },\n{\n            'v': 3,\n            'f': \"3\",\n        },\n{\n            'v': 1,\n            'f': \"1\",\n        },\n{\n            'v': 0.49,\n            'f': \"0.49\",\n        },\n{\n            'v': 2.15,\n            'f': \"2.15\",\n        }],\n [{\n            'v': 268,\n            'f': \"268\",\n        },\n{\n            'v': 3,\n            'f': \"3\",\n        },\n{\n            'v': 2,\n            'f': \"2\",\n        },\n{\n            'v': 0.7,\n            'f': \"0.7\",\n        },\n{\n            'v': 2.58,\n            'f': \"2.58\",\n        }],\n [{\n            'v': 269,\n            'f': \"269\",\n        },\n{\n            'v': 3,\n            'f': \"3\",\n        },\n{\n            'v': 3,\n            'f': \"3\",\n        },\n{\n            'v': 0.71,\n            'f': \"0.71\",\n        },\n{\n            'v': 2.65,\n            'f': \"2.65\",\n        }],\n [{\n            'v': 270,\n            'f': \"270\",\n        },\n{\n            'v': 1,\n            'f': \"1\",\n        },\n{\n            'v': 1,\n            'f': \"1\",\n        },\n{\n            'v': 0.5,\n            'f': \"0.5\",\n        },\n{\n            'v': 1.57,\n            'f': \"1.57\",\n        }],\n [{\n            'v': 271,\n            'f': \"271\",\n        },\n{\n            'v': 1,\n            'f': \"1\",\n        },\n{\n            'v': 2,\n            'f': \"2\",\n        },\n{\n            'v': 0.49,\n            'f': \"0.49\",\n        },\n{\n            'v': 1.53,\n            'f': \"1.53\",\n        }],\n [{\n            'v': 272,\n            'f': \"272\",\n        },\n{\n            'v': 1,\n            'f': \"1\",\n        },\n{\n            'v': 3,\n            'f': \"3\",\n        },\n{\n            'v': 0.55,\n            'f': \"0.55\",\n        },\n{\n            'v': 1.78,\n            'f': \"1.78\",\n        }],\n [{\n            'v': 273,\n            'f': \"273\",\n        },\n{\n            'v': 2,\n            'f': \"2\",\n        },\n{\n            'v': 1,\n            'f': \"1\",\n        },\n{\n            'v': 0.63,\n            'f': \"0.63\",\n        },\n{\n            'v': 1.53,\n            'f': \"1.53\",\n        }],\n [{\n            'v': 274,\n            'f': \"274\",\n        },\n{\n            'v': 2,\n            'f': \"2\",\n        },\n{\n            'v': 2,\n            'f': \"2\",\n        },\n{\n            'v': 0.68,\n            'f': \"0.68\",\n        },\n{\n            'v': 1.59,\n            'f': \"1.59\",\n        }],\n [{\n            'v': 275,\n            'f': \"275\",\n        },\n{\n            'v': 2,\n            'f': \"2\",\n        },\n{\n            'v': 3,\n            'f': \"3\",\n        },\n{\n            'v': 0.63,\n            'f': \"0.63\",\n        },\n{\n            'v': 1.68,\n            'f': \"1.68\",\n        }],\n [{\n            'v': 276,\n            'f': \"276\",\n        },\n{\n            'v': 3,\n            'f': \"3\",\n        },\n{\n            'v': 1,\n            'f': \"1\",\n        },\n{\n            'v': 0.73,\n            'f': \"0.73\",\n        },\n{\n            'v': 1.64,\n            'f': \"1.64\",\n        }],\n [{\n            'v': 277,\n            'f': \"277\",\n        },\n{\n            'v': 3,\n            'f': \"3\",\n        },\n{\n            'v': 2,\n            'f': \"2\",\n        },\n{\n            'v': 0.81,\n            'f': \"0.81\",\n        },\n{\n            'v': 1.72,\n            'f': \"1.72\",\n        }],\n [{\n            'v': 278,\n            'f': \"278\",\n        },\n{\n            'v': 3,\n            'f': \"3\",\n        },\n{\n            'v': 3,\n            'f': \"3\",\n        },\n{\n            'v': 0.75,\n            'f': \"0.75\",\n        },\n{\n            'v': 1.91,\n            'f': \"1.91\",\n        }],\n [{\n            'v': 279,\n            'f': \"279\",\n        },\n{\n            'v': 1,\n            'f': \"1\",\n        },\n{\n            'v': 1,\n            'f': \"1\",\n        },\n{\n            'v': 0.48,\n            'f': \"0.48\",\n        },\n{\n            'v': 1.82,\n            'f': \"1.82\",\n        }],\n [{\n            'v': 280,\n            'f': \"280\",\n        },\n{\n            'v': 1,\n            'f': \"1\",\n        },\n{\n            'v': 2,\n            'f': \"2\",\n        },\n{\n            'v': 0.56,\n            'f': \"0.56\",\n        },\n{\n            'v': 2.05,\n            'f': \"2.05\",\n        }],\n [{\n            'v': 281,\n            'f': \"281\",\n        },\n{\n            'v': 1,\n            'f': \"1\",\n        },\n{\n            'v': 3,\n            'f': \"3\",\n        },\n{\n            'v': 0.62,\n            'f': \"0.62\",\n        },\n{\n            'v': 2.47,\n            'f': \"2.47\",\n        }],\n [{\n            'v': 282,\n            'f': \"282\",\n        },\n{\n            'v': 2,\n            'f': \"2\",\n        },\n{\n            'v': 1,\n            'f': \"1\",\n        },\n{\n            'v': 0.6,\n            'f': \"0.6\",\n        },\n{\n            'v': 1.86,\n            'f': \"1.86\",\n        }],\n [{\n            'v': 283,\n            'f': \"283\",\n        },\n{\n            'v': 2,\n            'f': \"2\",\n        },\n{\n            'v': 2,\n            'f': \"2\",\n        },\n{\n            'v': 0.62,\n            'f': \"0.62\",\n        },\n{\n            'v': 2.07,\n            'f': \"2.07\",\n        }],\n [{\n            'v': 284,\n            'f': \"284\",\n        },\n{\n            'v': 2,\n            'f': \"2\",\n        },\n{\n            'v': 3,\n            'f': \"3\",\n        },\n{\n            'v': 0.59,\n            'f': \"0.59\",\n        },\n{\n            'v': 2.3,\n            'f': \"2.3\",\n        }],\n [{\n            'v': 285,\n            'f': \"285\",\n        },\n{\n            'v': 3,\n            'f': \"3\",\n        },\n{\n            'v': 1,\n            'f': \"1\",\n        },\n{\n            'v': 0.58,\n            'f': \"0.58\",\n        },\n{\n            'v': 1.9,\n            'f': \"1.9\",\n        }],\n [{\n            'v': 286,\n            'f': \"286\",\n        },\n{\n            'v': 3,\n            'f': \"3\",\n        },\n{\n            'v': 2,\n            'f': \"2\",\n        },\n{\n            'v': 0.71,\n            'f': \"0.71\",\n        },\n{\n            'v': 2.09,\n            'f': \"2.09\",\n        }],\n [{\n            'v': 287,\n            'f': \"287\",\n        },\n{\n            'v': 3,\n            'f': \"3\",\n        },\n{\n            'v': 3,\n            'f': \"3\",\n        },\n{\n            'v': 0.73,\n            'f': \"0.73\",\n        },\n{\n            'v': 2.55,\n            'f': \"2.55\",\n        }],\n [{\n            'v': 288,\n            'f': \"288\",\n        },\n{\n            'v': 1,\n            'f': \"1\",\n        },\n{\n            'v': 1,\n            'f': \"1\",\n        },\n{\n            'v': 0.51,\n            'f': \"0.51\",\n        },\n{\n            'v': 1.53,\n            'f': \"1.53\",\n        }],\n [{\n            'v': 289,\n            'f': \"289\",\n        },\n{\n            'v': 1,\n            'f': \"1\",\n        },\n{\n            'v': 2,\n            'f': \"2\",\n        },\n{\n            'v': 0.63,\n            'f': \"0.63\",\n        },\n{\n            'v': 2.3,\n            'f': \"2.3\",\n        }],\n [{\n            'v': 290,\n            'f': \"290\",\n        },\n{\n            'v': 1,\n            'f': \"1\",\n        },\n{\n            'v': 3,\n            'f': \"3\",\n        },\n{\n            'v': 0.63,\n            'f': \"0.63\",\n        },\n{\n            'v': 2.64,\n            'f': \"2.64\",\n        }],\n [{\n            'v': 291,\n            'f': \"291\",\n        },\n{\n            'v': 2,\n            'f': \"2\",\n        },\n{\n            'v': 1,\n            'f': \"1\",\n        },\n{\n            'v': 0.63,\n            'f': \"0.63\",\n        },\n{\n            'v': 1.73,\n            'f': \"1.73\",\n        }],\n [{\n            'v': 292,\n            'f': \"292\",\n        },\n{\n            'v': 2,\n            'f': \"2\",\n        },\n{\n            'v': 2,\n            'f': \"2\",\n        },\n{\n            'v': 0.77,\n            'f': \"0.77\",\n        },\n{\n            'v': 2.44,\n            'f': \"2.44\",\n        }],\n [{\n            'v': 293,\n            'f': \"293\",\n        },\n{\n            'v': 2,\n            'f': \"2\",\n        },\n{\n            'v': 3,\n            'f': \"3\",\n        },\n{\n            'v': 0.79,\n            'f': \"0.79\",\n        },\n{\n            'v': 2.69,\n            'f': \"2.69\",\n        }],\n [{\n            'v': 294,\n            'f': \"294\",\n        },\n{\n            'v': 3,\n            'f': \"3\",\n        },\n{\n            'v': 1,\n            'f': \"1\",\n        },\n{\n            'v': 0.64,\n            'f': \"0.64\",\n        },\n{\n            'v': 1.68,\n            'f': \"1.68\",\n        }],\n [{\n            'v': 295,\n            'f': \"295\",\n        },\n{\n            'v': 3,\n            'f': \"3\",\n        },\n{\n            'v': 2,\n            'f': \"2\",\n        },\n{\n            'v': 0.79,\n            'f': \"0.79\",\n        },\n{\n            'v': 2.82,\n            'f': \"2.82\",\n        }],\n [{\n            'v': 296,\n            'f': \"296\",\n        },\n{\n            'v': 3,\n            'f': \"3\",\n        },\n{\n            'v': 3,\n            'f': \"3\",\n        },\n{\n            'v': 0.89,\n            'f': \"0.89\",\n        },\n{\n            'v': 3.37,\n            'f': \"3.37\",\n        }],\n [{\n            'v': 297,\n            'f': \"297\",\n        },\n{\n            'v': 1,\n            'f': \"1\",\n        },\n{\n            'v': 1,\n            'f': \"1\",\n        },\n{\n            'v': 0.49,\n            'f': \"0.49\",\n        },\n{\n            'v': 1.4,\n            'f': \"1.4\",\n        }],\n [{\n            'v': 298,\n            'f': \"298\",\n        },\n{\n            'v': 1,\n            'f': \"1\",\n        },\n{\n            'v': 2,\n            'f': \"2\",\n        },\n{\n            'v': 0.61,\n            'f': \"0.61\",\n        },\n{\n            'v': 1.97,\n            'f': \"1.97\",\n        }],\n [{\n            'v': 299,\n            'f': \"299\",\n        },\n{\n            'v': 1,\n            'f': \"1\",\n        },\n{\n            'v': 3,\n            'f': \"3\",\n        },\n{\n            'v': 0.67,\n            'f': \"0.67\",\n        },\n{\n            'v': 2.28,\n            'f': \"2.28\",\n        }],\n [{\n            'v': 300,\n            'f': \"300\",\n        },\n{\n            'v': 2,\n            'f': \"2\",\n        },\n{\n            'v': 1,\n            'f': \"1\",\n        },\n{\n            'v': 0.59,\n            'f': \"0.59\",\n        },\n{\n            'v': 1.56,\n            'f': \"1.56\",\n        }],\n [{\n            'v': 301,\n            'f': \"301\",\n        },\n{\n            'v': 2,\n            'f': \"2\",\n        },\n{\n            'v': 2,\n            'f': \"2\",\n        },\n{\n            'v': 0.67,\n            'f': \"0.67\",\n        },\n{\n            'v': 1.91,\n            'f': \"1.91\",\n        }],\n [{\n            'v': 302,\n            'f': \"302\",\n        },\n{\n            'v': 2,\n            'f': \"2\",\n        },\n{\n            'v': 3,\n            'f': \"3\",\n        },\n{\n            'v': 0.7,\n            'f': \"0.7\",\n        },\n{\n            'v': 2.25,\n            'f': \"2.25\",\n        }],\n [{\n            'v': 303,\n            'f': \"303\",\n        },\n{\n            'v': 3,\n            'f': \"3\",\n        },\n{\n            'v': 1,\n            'f': \"1\",\n        },\n{\n            'v': 0.76,\n            'f': \"0.76\",\n        },\n{\n            'v': 1.58,\n            'f': \"1.58\",\n        }],\n [{\n            'v': 304,\n            'f': \"304\",\n        },\n{\n            'v': 3,\n            'f': \"3\",\n        },\n{\n            'v': 2,\n            'f': \"2\",\n        },\n{\n            'v': 0.81,\n            'f': \"0.81\",\n        },\n{\n            'v': 2.09,\n            'f': \"2.09\",\n        }],\n [{\n            'v': 305,\n            'f': \"305\",\n        },\n{\n            'v': 3,\n            'f': \"3\",\n        },\n{\n            'v': 3,\n            'f': \"3\",\n        },\n{\n            'v': 0.93,\n            'f': \"0.93\",\n        },\n{\n            'v': 2.79,\n            'f': \"2.79\",\n        }],\n [{\n            'v': 306,\n            'f': \"306\",\n        },\n{\n            'v': 1,\n            'f': \"1\",\n        },\n{\n            'v': 1,\n            'f': \"1\",\n        },\n{\n            'v': 0.51,\n            'f': \"0.51\",\n        },\n{\n            'v': 2.48,\n            'f': \"2.48\",\n        }],\n [{\n            'v': 307,\n            'f': \"307\",\n        },\n{\n            'v': 1,\n            'f': \"1\",\n        },\n{\n            'v': 2,\n            'f': \"2\",\n        },\n{\n            'v': 0.54,\n            'f': \"0.54\",\n        },\n{\n            'v': 2.71,\n            'f': \"2.71\",\n        }],\n [{\n            'v': 308,\n            'f': \"308\",\n        },\n{\n            'v': 1,\n            'f': \"1\",\n        },\n{\n            'v': 3,\n            'f': \"3\",\n        },\n{\n            'v': 0.58,\n            'f': \"0.58\",\n        },\n{\n            'v': 3.38,\n            'f': \"3.38\",\n        }],\n [{\n            'v': 309,\n            'f': \"309\",\n        },\n{\n            'v': 2,\n            'f': \"2\",\n        },\n{\n            'v': 1,\n            'f': \"1\",\n        },\n{\n            'v': 0.62,\n            'f': \"0.62\",\n        },\n{\n            'v': 2.46,\n            'f': \"2.46\",\n        }],\n [{\n            'v': 310,\n            'f': \"310\",\n        },\n{\n            'v': 2,\n            'f': \"2\",\n        },\n{\n            'v': 2,\n            'f': \"2\",\n        },\n{\n            'v': 0.58,\n            'f': \"0.58\",\n        },\n{\n            'v': 2.83,\n            'f': \"2.83\",\n        }],\n [{\n            'v': 311,\n            'f': \"311\",\n        },\n{\n            'v': 2,\n            'f': \"2\",\n        },\n{\n            'v': 3,\n            'f': \"3\",\n        },\n{\n            'v': 0.66,\n            'f': \"0.66\",\n        },\n{\n            'v': 3.38,\n            'f': \"3.38\",\n        }],\n [{\n            'v': 312,\n            'f': \"312\",\n        },\n{\n            'v': 3,\n            'f': \"3\",\n        },\n{\n            'v': 1,\n            'f': \"1\",\n        },\n{\n            'v': 0.53,\n            'f': \"0.53\",\n        },\n{\n            'v': 2.35,\n            'f': \"2.35\",\n        }],\n [{\n            'v': 313,\n            'f': \"313\",\n        },\n{\n            'v': 3,\n            'f': \"3\",\n        },\n{\n            'v': 2,\n            'f': \"2\",\n        },\n{\n            'v': 0.75,\n            'f': \"0.75\",\n        },\n{\n            'v': 2.77,\n            'f': \"2.77\",\n        }],\n [{\n            'v': 314,\n            'f': \"314\",\n        },\n{\n            'v': 3,\n            'f': \"3\",\n        },\n{\n            'v': 3,\n            'f': \"3\",\n        },\n{\n            'v': 0.79,\n            'f': \"0.79\",\n        },\n{\n            'v': 3.49,\n            'f': \"3.49\",\n        }],\n [{\n            'v': 315,\n            'f': \"315\",\n        },\n{\n            'v': 1,\n            'f': \"1\",\n        },\n{\n            'v': 1,\n            'f': \"1\",\n        },\n{\n            'v': 0.62,\n            'f': \"0.62\",\n        },\n{\n            'v': 2.45,\n            'f': \"2.45\",\n        }],\n [{\n            'v': 316,\n            'f': \"316\",\n        },\n{\n            'v': 1,\n            'f': \"1\",\n        },\n{\n            'v': 2,\n            'f': \"2\",\n        },\n{\n            'v': 0.67,\n            'f': \"0.67\",\n        },\n{\n            'v': 2.57,\n            'f': \"2.57\",\n        }],\n [{\n            'v': 317,\n            'f': \"317\",\n        },\n{\n            'v': 1,\n            'f': \"1\",\n        },\n{\n            'v': 3,\n            'f': \"3\",\n        },\n{\n            'v': 0.57,\n            'f': \"0.57\",\n        },\n{\n            'v': 2.62,\n            'f': \"2.62\",\n        }],\n [{\n            'v': 318,\n            'f': \"318\",\n        },\n{\n            'v': 2,\n            'f': \"2\",\n        },\n{\n            'v': 1,\n            'f': \"1\",\n        },\n{\n            'v': 0.7,\n            'f': \"0.7\",\n        },\n{\n            'v': 2.51,\n            'f': \"2.51\",\n        }],\n [{\n            'v': 319,\n            'f': \"319\",\n        },\n{\n            'v': 2,\n            'f': \"2\",\n        },\n{\n            'v': 2,\n            'f': \"2\",\n        },\n{\n            'v': 0.73,\n            'f': \"0.73\",\n        },\n{\n            'v': 2.68,\n            'f': \"2.68\",\n        }],\n [{\n            'v': 320,\n            'f': \"320\",\n        },\n{\n            'v': 2,\n            'f': \"2\",\n        },\n{\n            'v': 3,\n            'f': \"3\",\n        },\n{\n            'v': 0.77,\n            'f': \"0.77\",\n        },\n{\n            'v': 2.73,\n            'f': \"2.73\",\n        }],\n [{\n            'v': 321,\n            'f': \"321\",\n        },\n{\n            'v': 3,\n            'f': \"3\",\n        },\n{\n            'v': 1,\n            'f': \"1\",\n        },\n{\n            'v': 0.81,\n            'f': \"0.81\",\n        },\n{\n            'v': 2.69,\n            'f': \"2.69\",\n        }],\n [{\n            'v': 322,\n            'f': \"322\",\n        },\n{\n            'v': 3,\n            'f': \"3\",\n        },\n{\n            'v': 2,\n            'f': \"2\",\n        },\n{\n            'v': 0.85,\n            'f': \"0.85\",\n        },\n{\n            'v': 2.95,\n            'f': \"2.95\",\n        }],\n [{\n            'v': 323,\n            'f': \"323\",\n        },\n{\n            'v': 3,\n            'f': \"3\",\n        },\n{\n            'v': 3,\n            'f': \"3\",\n        },\n{\n            'v': 0.89,\n            'f': \"0.89\",\n        },\n{\n            'v': 3.13,\n            'f': \"3.13\",\n        }],\n [{\n            'v': 324,\n            'f': \"324\",\n        },\n{\n            'v': 1,\n            'f': \"1\",\n        },\n{\n            'v': 1,\n            'f': \"1\",\n        },\n{\n            'v': 0.53,\n            'f': \"0.53\",\n        },\n{\n            'v': 2.06,\n            'f': \"2.06\",\n        }],\n [{\n            'v': 325,\n            'f': \"325\",\n        },\n{\n            'v': 1,\n            'f': \"1\",\n        },\n{\n            'v': 2,\n            'f': \"2\",\n        },\n{\n            'v': 0.59,\n            'f': \"0.59\",\n        },\n{\n            'v': 2.62,\n            'f': \"2.62\",\n        }],\n [{\n            'v': 326,\n            'f': \"326\",\n        },\n{\n            'v': 1,\n            'f': \"1\",\n        },\n{\n            'v': 3,\n            'f': \"3\",\n        },\n{\n            'v': 0.73,\n            'f': \"0.73\",\n        },\n{\n            'v': 2.77,\n            'f': \"2.77\",\n        }],\n [{\n            'v': 327,\n            'f': \"327\",\n        },\n{\n            'v': 2,\n            'f': \"2\",\n        },\n{\n            'v': 1,\n            'f': \"1\",\n        },\n{\n            'v': 0.56,\n            'f': \"0.56\",\n        },\n{\n            'v': 2.1,\n            'f': \"2.1\",\n        }],\n [{\n            'v': 328,\n            'f': \"328\",\n        },\n{\n            'v': 2,\n            'f': \"2\",\n        },\n{\n            'v': 2,\n            'f': \"2\",\n        },\n{\n            'v': 0.77,\n            'f': \"0.77\",\n        },\n{\n            'v': 2.83,\n            'f': \"2.83\",\n        }],\n [{\n            'v': 329,\n            'f': \"329\",\n        },\n{\n            'v': 2,\n            'f': \"2\",\n        },\n{\n            'v': 3,\n            'f': \"3\",\n        },\n{\n            'v': 0.85,\n            'f': \"0.85\",\n        },\n{\n            'v': 2.97,\n            'f': \"2.97\",\n        }],\n [{\n            'v': 330,\n            'f': \"330\",\n        },\n{\n            'v': 3,\n            'f': \"3\",\n        },\n{\n            'v': 1,\n            'f': \"1\",\n        },\n{\n            'v': 0.78,\n            'f': \"0.78\",\n        },\n{\n            'v': 2.17,\n            'f': \"2.17\",\n        }],\n [{\n            'v': 331,\n            'f': \"331\",\n        },\n{\n            'v': 3,\n            'f': \"3\",\n        },\n{\n            'v': 2,\n            'f': \"2\",\n        },\n{\n            'v': 0.91,\n            'f': \"0.91\",\n        },\n{\n            'v': 3.13,\n            'f': \"3.13\",\n        }],\n [{\n            'v': 332,\n            'f': \"332\",\n        },\n{\n            'v': 3,\n            'f': \"3\",\n        },\n{\n            'v': 3,\n            'f': \"3\",\n        },\n{\n            'v': 0.94,\n            'f': \"0.94\",\n        },\n{\n            'v': 3.37,\n            'f': \"3.37\",\n        }],\n [{\n            'v': 333,\n            'f': \"333\",\n        },\n{\n            'v': 1,\n            'f': \"1\",\n        },\n{\n            'v': 1,\n            'f': \"1\",\n        },\n{\n            'v': 0.48,\n            'f': \"0.48\",\n        },\n{\n            'v': 2.85,\n            'f': \"2.85\",\n        }],\n [{\n            'v': 334,\n            'f': \"334\",\n        },\n{\n            'v': 1,\n            'f': \"1\",\n        },\n{\n            'v': 2,\n            'f': \"2\",\n        },\n{\n            'v': 0.55,\n            'f': \"0.55\",\n        },\n{\n            'v': 2.82,\n            'f': \"2.82\",\n        }],\n [{\n            'v': 335,\n            'f': \"335\",\n        },\n{\n            'v': 1,\n            'f': \"1\",\n        },\n{\n            'v': 3,\n            'f': \"3\",\n        },\n{\n            'v': 0.53,\n            'f': \"0.53\",\n        },\n{\n            'v': 2.75,\n            'f': \"2.75\",\n        }],\n [{\n            'v': 336,\n            'f': \"336\",\n        },\n{\n            'v': 2,\n            'f': \"2\",\n        },\n{\n            'v': 1,\n            'f': \"1\",\n        },\n{\n            'v': 0.47,\n            'f': \"0.47\",\n        },\n{\n            'v': 2.73,\n            'f': \"2.73\",\n        }],\n [{\n            'v': 337,\n            'f': \"337\",\n        },\n{\n            'v': 2,\n            'f': \"2\",\n        },\n{\n            'v': 2,\n            'f': \"2\",\n        },\n{\n            'v': 0.53,\n            'f': \"0.53\",\n        },\n{\n            'v': 2.75,\n            'f': \"2.75\",\n        }],\n [{\n            'v': 338,\n            'f': \"338\",\n        },\n{\n            'v': 2,\n            'f': \"2\",\n        },\n{\n            'v': 3,\n            'f': \"3\",\n        },\n{\n            'v': 0.62,\n            'f': \"0.62\",\n        },\n{\n            'v': 2.72,\n            'f': \"2.72\",\n        }],\n [{\n            'v': 339,\n            'f': \"339\",\n        },\n{\n            'v': 3,\n            'f': \"3\",\n        },\n{\n            'v': 1,\n            'f': \"1\",\n        },\n{\n            'v': 0.51,\n            'f': \"0.51\",\n        },\n{\n            'v': 2.58,\n            'f': \"2.58\",\n        }],\n [{\n            'v': 340,\n            'f': \"340\",\n        },\n{\n            'v': 3,\n            'f': \"3\",\n        },\n{\n            'v': 2,\n            'f': \"2\",\n        },\n{\n            'v': 0.64,\n            'f': \"0.64\",\n        },\n{\n            'v': 2.74,\n            'f': \"2.74\",\n        }],\n [{\n            'v': 341,\n            'f': \"341\",\n        },\n{\n            'v': 3,\n            'f': \"3\",\n        },\n{\n            'v': 3,\n            'f': \"3\",\n        },\n{\n            'v': 0.61,\n            'f': \"0.61\",\n        },\n{\n            'v': 2.83,\n            'f': \"2.83\",\n        }],\n [{\n            'v': 342,\n            'f': \"342\",\n        },\n{\n            'v': 1,\n            'f': \"1\",\n        },\n{\n            'v': 1,\n            'f': \"1\",\n        },\n{\n            'v': 0.52,\n            'f': \"0.52\",\n        },\n{\n            'v': 2.19,\n            'f': \"2.19\",\n        }],\n [{\n            'v': 343,\n            'f': \"343\",\n        },\n{\n            'v': 1,\n            'f': \"1\",\n        },\n{\n            'v': 2,\n            'f': \"2\",\n        },\n{\n            'v': 0.6,\n            'f': \"0.6\",\n        },\n{\n            'v': 2.59,\n            'f': \"2.59\",\n        }],\n [{\n            'v': 344,\n            'f': \"344\",\n        },\n{\n            'v': 1,\n            'f': \"1\",\n        },\n{\n            'v': 3,\n            'f': \"3\",\n        },\n{\n            'v': 0.64,\n            'f': \"0.64\",\n        },\n{\n            'v': 2.76,\n            'f': \"2.76\",\n        }],\n [{\n            'v': 345,\n            'f': \"345\",\n        },\n{\n            'v': 2,\n            'f': \"2\",\n        },\n{\n            'v': 1,\n            'f': \"1\",\n        },\n{\n            'v': 0.66,\n            'f': \"0.66\",\n        },\n{\n            'v': 2.0,\n            'f': \"2.0\",\n        }],\n [{\n            'v': 346,\n            'f': \"346\",\n        },\n{\n            'v': 2,\n            'f': \"2\",\n        },\n{\n            'v': 2,\n            'f': \"2\",\n        },\n{\n            'v': 0.71,\n            'f': \"0.71\",\n        },\n{\n            'v': 2.57,\n            'f': \"2.57\",\n        }],\n [{\n            'v': 347,\n            'f': \"347\",\n        },\n{\n            'v': 2,\n            'f': \"2\",\n        },\n{\n            'v': 3,\n            'f': \"3\",\n        },\n{\n            'v': 0.71,\n            'f': \"0.71\",\n        },\n{\n            'v': 2.88,\n            'f': \"2.88\",\n        }],\n [{\n            'v': 348,\n            'f': \"348\",\n        },\n{\n            'v': 3,\n            'f': \"3\",\n        },\n{\n            'v': 1,\n            'f': \"1\",\n        },\n{\n            'v': 0.7,\n            'f': \"0.7\",\n        },\n{\n            'v': 2.32,\n            'f': \"2.32\",\n        }],\n [{\n            'v': 349,\n            'f': \"349\",\n        },\n{\n            'v': 3,\n            'f': \"3\",\n        },\n{\n            'v': 2,\n            'f': \"2\",\n        },\n{\n            'v': 0.83,\n            'f': \"0.83\",\n        },\n{\n            'v': 3.0,\n            'f': \"3.0\",\n        }],\n [{\n            'v': 350,\n            'f': \"350\",\n        },\n{\n            'v': 3,\n            'f': \"3\",\n        },\n{\n            'v': 3,\n            'f': \"3\",\n        },\n{\n            'v': 0.86,\n            'f': \"0.86\",\n        },\n{\n            'v': 3.12,\n            'f': \"3.12\",\n        }],\n [{\n            'v': 351,\n            'f': \"351\",\n        },\n{\n            'v': 1,\n            'f': \"1\",\n        },\n{\n            'v': 1,\n            'f': \"1\",\n        },\n{\n            'v': 0.63,\n            'f': \"0.63\",\n        },\n{\n            'v': 2.59,\n            'f': \"2.59\",\n        }],\n [{\n            'v': 352,\n            'f': \"352\",\n        },\n{\n            'v': 1,\n            'f': \"1\",\n        },\n{\n            'v': 2,\n            'f': \"2\",\n        },\n{\n            'v': 0.56,\n            'f': \"0.56\",\n        },\n{\n            'v': 2.68,\n            'f': \"2.68\",\n        }],\n [{\n            'v': 353,\n            'f': \"353\",\n        },\n{\n            'v': 1,\n            'f': \"1\",\n        },\n{\n            'v': 3,\n            'f': \"3\",\n        },\n{\n            'v': 0.57,\n            'f': \"0.57\",\n        },\n{\n            'v': 2.97,\n            'f': \"2.97\",\n        }],\n [{\n            'v': 354,\n            'f': \"354\",\n        },\n{\n            'v': 2,\n            'f': \"2\",\n        },\n{\n            'v': 1,\n            'f': \"1\",\n        },\n{\n            'v': 0.54,\n            'f': \"0.54\",\n        },\n{\n            'v': 2.83,\n            'f': \"2.83\",\n        }],\n [{\n            'v': 355,\n            'f': \"355\",\n        },\n{\n            'v': 2,\n            'f': \"2\",\n        },\n{\n            'v': 2,\n            'f': \"2\",\n        },\n{\n            'v': 0.58,\n            'f': \"0.58\",\n        },\n{\n            'v': 3.03,\n            'f': \"3.03\",\n        }],\n [{\n            'v': 356,\n            'f': \"356\",\n        },\n{\n            'v': 2,\n            'f': \"2\",\n        },\n{\n            'v': 3,\n            'f': \"3\",\n        },\n{\n            'v': 0.61,\n            'f': \"0.61\",\n        },\n{\n            'v': 2.72,\n            'f': \"2.72\",\n        }],\n [{\n            'v': 357,\n            'f': \"357\",\n        },\n{\n            'v': 3,\n            'f': \"3\",\n        },\n{\n            'v': 1,\n            'f': \"1\",\n        },\n{\n            'v': 0.62,\n            'f': \"0.62\",\n        },\n{\n            'v': 2.6,\n            'f': \"2.6\",\n        }],\n [{\n            'v': 358,\n            'f': \"358\",\n        },\n{\n            'v': 3,\n            'f': \"3\",\n        },\n{\n            'v': 2,\n            'f': \"2\",\n        },\n{\n            'v': 0.68,\n            'f': \"0.68\",\n        },\n{\n            'v': 2.81,\n            'f': \"2.81\",\n        }],\n [{\n            'v': 359,\n            'f': \"359\",\n        },\n{\n            'v': 3,\n            'f': \"3\",\n        },\n{\n            'v': 3,\n            'f': \"3\",\n        },\n{\n            'v': 0.73,\n            'f': \"0.73\",\n        },\n{\n            'v': 3.02,\n            'f': \"3.02\",\n        }],\n [{\n            'v': 360,\n            'f': \"360\",\n        },\n{\n            'v': 1,\n            'f': \"1\",\n        },\n{\n            'v': 1,\n            'f': \"1\",\n        },\n{\n            'v': 0.6,\n            'f': \"0.6\",\n        },\n{\n            'v': 2.22,\n            'f': \"2.22\",\n        }],\n [{\n            'v': 361,\n            'f': \"361\",\n        },\n{\n            'v': 1,\n            'f': \"1\",\n        },\n{\n            'v': 2,\n            'f': \"2\",\n        },\n{\n            'v': 0.52,\n            'f': \"0.52\",\n        },\n{\n            'v': 2.68,\n            'f': \"2.68\",\n        }],\n [{\n            'v': 362,\n            'f': \"362\",\n        },\n{\n            'v': 1,\n            'f': \"1\",\n        },\n{\n            'v': 3,\n            'f': \"3\",\n        },\n{\n            'v': 0.63,\n            'f': \"0.63\",\n        },\n{\n            'v': 2.98,\n            'f': \"2.98\",\n        }],\n [{\n            'v': 363,\n            'f': \"363\",\n        },\n{\n            'v': 2,\n            'f': \"2\",\n        },\n{\n            'v': 1,\n            'f': \"1\",\n        },\n{\n            'v': 0.54,\n            'f': \"0.54\",\n        },\n{\n            'v': 2.42,\n            'f': \"2.42\",\n        }],\n [{\n            'v': 364,\n            'f': \"364\",\n        },\n{\n            'v': 2,\n            'f': \"2\",\n        },\n{\n            'v': 2,\n            'f': \"2\",\n        },\n{\n            'v': 0.67,\n            'f': \"0.67\",\n        },\n{\n            'v': 2.62,\n            'f': \"2.62\",\n        }],\n [{\n            'v': 365,\n            'f': \"365\",\n        },\n{\n            'v': 2,\n            'f': \"2\",\n        },\n{\n            'v': 3,\n            'f': \"3\",\n        },\n{\n            'v': 0.59,\n            'f': \"0.59\",\n        },\n{\n            'v': 2.89,\n            'f': \"2.89\",\n        }],\n [{\n            'v': 366,\n            'f': \"366\",\n        },\n{\n            'v': 3,\n            'f': \"3\",\n        },\n{\n            'v': 1,\n            'f': \"1\",\n        },\n{\n            'v': 0.73,\n            'f': \"0.73\",\n        },\n{\n            'v': 2.51,\n            'f': \"2.51\",\n        }],\n [{\n            'v': 367,\n            'f': \"367\",\n        },\n{\n            'v': 3,\n            'f': \"3\",\n        },\n{\n            'v': 2,\n            'f': \"2\",\n        },\n{\n            'v': 0.86,\n            'f': \"0.86\",\n        },\n{\n            'v': 2.99,\n            'f': \"2.99\",\n        }],\n [{\n            'v': 368,\n            'f': \"368\",\n        },\n{\n            'v': 3,\n            'f': \"3\",\n        },\n{\n            'v': 3,\n            'f': \"3\",\n        },\n{\n            'v': 0.72,\n            'f': \"0.72\",\n        },\n{\n            'v': 3.27,\n            'f': \"3.27\",\n        }],\n [{\n            'v': 369,\n            'f': \"369\",\n        },\n{\n            'v': 1,\n            'f': \"1\",\n        },\n{\n            'v': 1,\n            'f': \"1\",\n        },\n{\n            'v': 0.62,\n            'f': \"0.62\",\n        },\n{\n            'v': 2.33,\n            'f': \"2.33\",\n        }],\n [{\n            'v': 370,\n            'f': \"370\",\n        },\n{\n            'v': 1,\n            'f': \"1\",\n        },\n{\n            'v': 2,\n            'f': \"2\",\n        },\n{\n            'v': 0.56,\n            'f': \"0.56\",\n        },\n{\n            'v': 2.52,\n            'f': \"2.52\",\n        }],\n [{\n            'v': 371,\n            'f': \"371\",\n        },\n{\n            'v': 1,\n            'f': \"1\",\n        },\n{\n            'v': 3,\n            'f': \"3\",\n        },\n{\n            'v': 0.63,\n            'f': \"0.63\",\n        },\n{\n            'v': 2.8,\n            'f': \"2.8\",\n        }],\n [{\n            'v': 372,\n            'f': \"372\",\n        },\n{\n            'v': 2,\n            'f': \"2\",\n        },\n{\n            'v': 1,\n            'f': \"1\",\n        },\n{\n            'v': 0.68,\n            'f': \"0.68\",\n        },\n{\n            'v': 2.38,\n            'f': \"2.38\",\n        }],\n [{\n            'v': 373,\n            'f': \"373\",\n        },\n{\n            'v': 2,\n            'f': \"2\",\n        },\n{\n            'v': 2,\n            'f': \"2\",\n        },\n{\n            'v': 0.74,\n            'f': \"0.74\",\n        },\n{\n            'v': 2.77,\n            'f': \"2.77\",\n        }],\n [{\n            'v': 374,\n            'f': \"374\",\n        },\n{\n            'v': 2,\n            'f': \"2\",\n        },\n{\n            'v': 3,\n            'f': \"3\",\n        },\n{\n            'v': 0.76,\n            'f': \"0.76\",\n        },\n{\n            'v': 2.95,\n            'f': \"2.95\",\n        }],\n [{\n            'v': 375,\n            'f': \"375\",\n        },\n{\n            'v': 3,\n            'f': \"3\",\n        },\n{\n            'v': 1,\n            'f': \"1\",\n        },\n{\n            'v': 0.77,\n            'f': \"0.77\",\n        },\n{\n            'v': 2.75,\n            'f': \"2.75\",\n        }],\n [{\n            'v': 376,\n            'f': \"376\",\n        },\n{\n            'v': 3,\n            'f': \"3\",\n        },\n{\n            'v': 2,\n            'f': \"2\",\n        },\n{\n            'v': 0.87,\n            'f': \"0.87\",\n        },\n{\n            'v': 2.94,\n            'f': \"2.94\",\n        }],\n [{\n            'v': 377,\n            'f': \"377\",\n        },\n{\n            'v': 3,\n            'f': \"3\",\n        },\n{\n            'v': 3,\n            'f': \"3\",\n        },\n{\n            'v': 0.89,\n            'f': \"0.89\",\n        },\n{\n            'v': 3.02,\n            'f': \"3.02\",\n        }],\n [{\n            'v': 378,\n            'f': \"378\",\n        },\n{\n            'v': 1,\n            'f': \"1\",\n        },\n{\n            'v': 1,\n            'f': \"1\",\n        },\n{\n            'v': 0.61,\n            'f': \"0.61\",\n        },\n{\n            'v': 2.8,\n            'f': \"2.8\",\n        }],\n [{\n            'v': 379,\n            'f': \"379\",\n        },\n{\n            'v': 1,\n            'f': \"1\",\n        },\n{\n            'v': 2,\n            'f': \"2\",\n        },\n{\n            'v': 0.58,\n            'f': \"0.58\",\n        },\n{\n            'v': 2.77,\n            'f': \"2.77\",\n        }],\n [{\n            'v': 380,\n            'f': \"380\",\n        },\n{\n            'v': 1,\n            'f': \"1\",\n        },\n{\n            'v': 3,\n            'f': \"3\",\n        },\n{\n            'v': 0.5,\n            'f': \"0.5\",\n        },\n{\n            'v': 2.99,\n            'f': \"2.99\",\n        }],\n [{\n            'v': 381,\n            'f': \"381\",\n        },\n{\n            'v': 2,\n            'f': \"2\",\n        },\n{\n            'v': 1,\n            'f': \"1\",\n        },\n{\n            'v': 0.51,\n            'f': \"0.51\",\n        },\n{\n            'v': 2.92,\n            'f': \"2.92\",\n        }],\n [{\n            'v': 382,\n            'f': \"382\",\n        },\n{\n            'v': 2,\n            'f': \"2\",\n        },\n{\n            'v': 2,\n            'f': \"2\",\n        },\n{\n            'v': 0.58,\n            'f': \"0.58\",\n        },\n{\n            'v': 2.83,\n            'f': \"2.83\",\n        }],\n [{\n            'v': 383,\n            'f': \"383\",\n        },\n{\n            'v': 2,\n            'f': \"2\",\n        },\n{\n            'v': 3,\n            'f': \"3\",\n        },\n{\n            'v': 0.55,\n            'f': \"0.55\",\n        },\n{\n            'v': 2.86,\n            'f': \"2.86\",\n        }],\n [{\n            'v': 384,\n            'f': \"384\",\n        },\n{\n            'v': 3,\n            'f': \"3\",\n        },\n{\n            'v': 1,\n            'f': \"1\",\n        },\n{\n            'v': 0.59,\n            'f': \"0.59\",\n        },\n{\n            'v': 2.82,\n            'f': \"2.82\",\n        }],\n [{\n            'v': 385,\n            'f': \"385\",\n        },\n{\n            'v': 3,\n            'f': \"3\",\n        },\n{\n            'v': 2,\n            'f': \"2\",\n        },\n{\n            'v': 0.7,\n            'f': \"0.7\",\n        },\n{\n            'v': 2.91,\n            'f': \"2.91\",\n        }],\n [{\n            'v': 386,\n            'f': \"386\",\n        },\n{\n            'v': 3,\n            'f': \"3\",\n        },\n{\n            'v': 3,\n            'f': \"3\",\n        },\n{\n            'v': 0.64,\n            'f': \"0.64\",\n        },\n{\n            'v': 2.96,\n            'f': \"2.96\",\n        }],\n [{\n            'v': 387,\n            'f': \"387\",\n        },\n{\n            'v': 1,\n            'f': \"1\",\n        },\n{\n            'v': 1,\n            'f': \"1\",\n        },\n{\n            'v': 0.51,\n            'f': \"0.51\",\n        },\n{\n            'v': 2.18,\n            'f': \"2.18\",\n        }],\n [{\n            'v': 388,\n            'f': \"388\",\n        },\n{\n            'v': 1,\n            'f': \"1\",\n        },\n{\n            'v': 2,\n            'f': \"2\",\n        },\n{\n            'v': 0.44,\n            'f': \"0.44\",\n        },\n{\n            'v': 2.27,\n            'f': \"2.27\",\n        }],\n [{\n            'v': 389,\n            'f': \"389\",\n        },\n{\n            'v': 1,\n            'f': \"1\",\n        },\n{\n            'v': 3,\n            'f': \"3\",\n        },\n{\n            'v': 0.52,\n            'f': \"0.52\",\n        },\n{\n            'v': 2.36,\n            'f': \"2.36\",\n        }],\n [{\n            'v': 390,\n            'f': \"390\",\n        },\n{\n            'v': 2,\n            'f': \"2\",\n        },\n{\n            'v': 1,\n            'f': \"1\",\n        },\n{\n            'v': 0.54,\n            'f': \"0.54\",\n        },\n{\n            'v': 2.04,\n            'f': \"2.04\",\n        }],\n [{\n            'v': 391,\n            'f': \"391\",\n        },\n{\n            'v': 2,\n            'f': \"2\",\n        },\n{\n            'v': 2,\n            'f': \"2\",\n        },\n{\n            'v': 0.5,\n            'f': \"0.5\",\n        },\n{\n            'v': 2.29,\n            'f': \"2.29\",\n        }],\n [{\n            'v': 392,\n            'f': \"392\",\n        },\n{\n            'v': 2,\n            'f': \"2\",\n        },\n{\n            'v': 3,\n            'f': \"3\",\n        },\n{\n            'v': 0.53,\n            'f': \"0.53\",\n        },\n{\n            'v': 2.58,\n            'f': \"2.58\",\n        }],\n [{\n            'v': 393,\n            'f': \"393\",\n        },\n{\n            'v': 3,\n            'f': \"3\",\n        },\n{\n            'v': 1,\n            'f': \"1\",\n        },\n{\n            'v': 0.69,\n            'f': \"0.69\",\n        },\n{\n            'v': 2.23,\n            'f': \"2.23\",\n        }],\n [{\n            'v': 394,\n            'f': \"394\",\n        },\n{\n            'v': 3,\n            'f': \"3\",\n        },\n{\n            'v': 2,\n            'f': \"2\",\n        },\n{\n            'v': 0.7,\n            'f': \"0.7\",\n        },\n{\n            'v': 2.4,\n            'f': \"2.4\",\n        }],\n [{\n            'v': 395,\n            'f': \"395\",\n        },\n{\n            'v': 3,\n            'f': \"3\",\n        },\n{\n            'v': 3,\n            'f': \"3\",\n        },\n{\n            'v': 0.66,\n            'f': \"0.66\",\n        },\n{\n            'v': 2.49,\n            'f': \"2.49\",\n        }],\n [{\n            'v': 396,\n            'f': \"396\",\n        },\n{\n            'v': 1,\n            'f': \"1\",\n        },\n{\n            'v': 1,\n            'f': \"1\",\n        },\n{\n            'v': 0.55,\n            'f': \"0.55\",\n        },\n{\n            'v': 2.7,\n            'f': \"2.7\",\n        }],\n [{\n            'v': 397,\n            'f': \"397\",\n        },\n{\n            'v': 1,\n            'f': \"1\",\n        },\n{\n            'v': 2,\n            'f': \"2\",\n        },\n{\n            'v': 0.57,\n            'f': \"0.57\",\n        },\n{\n            'v': 2.72,\n            'f': \"2.72\",\n        }],\n [{\n            'v': 398,\n            'f': \"398\",\n        },\n{\n            'v': 1,\n            'f': \"1\",\n        },\n{\n            'v': 3,\n            'f': \"3\",\n        },\n{\n            'v': 0.54,\n            'f': \"0.54\",\n        },\n{\n            'v': 2.65,\n            'f': \"2.65\",\n        }],\n [{\n            'v': 399,\n            'f': \"399\",\n        },\n{\n            'v': 2,\n            'f': \"2\",\n        },\n{\n            'v': 1,\n            'f': \"1\",\n        },\n{\n            'v': 0.46,\n            'f': \"0.46\",\n        },\n{\n            'v': 2.66,\n            'f': \"2.66\",\n        }],\n [{\n            'v': 400,\n            'f': \"400\",\n        },\n{\n            'v': 2,\n            'f': \"2\",\n        },\n{\n            'v': 2,\n            'f': \"2\",\n        },\n{\n            'v': 0.53,\n            'f': \"0.53\",\n        },\n{\n            'v': 2.81,\n            'f': \"2.81\",\n        }],\n [{\n            'v': 401,\n            'f': \"401\",\n        },\n{\n            'v': 2,\n            'f': \"2\",\n        },\n{\n            'v': 3,\n            'f': \"3\",\n        },\n{\n            'v': 0.68,\n            'f': \"0.68\",\n        },\n{\n            'v': 3.02,\n            'f': \"3.02\",\n        }],\n [{\n            'v': 402,\n            'f': \"402\",\n        },\n{\n            'v': 3,\n            'f': \"3\",\n        },\n{\n            'v': 1,\n            'f': \"1\",\n        },\n{\n            'v': 0.58,\n            'f': \"0.58\",\n        },\n{\n            'v': 2.84,\n            'f': \"2.84\",\n        }],\n [{\n            'v': 403,\n            'f': \"403\",\n        },\n{\n            'v': 3,\n            'f': \"3\",\n        },\n{\n            'v': 2,\n            'f': \"2\",\n        },\n{\n            'v': 0.59,\n            'f': \"0.59\",\n        },\n{\n            'v': 2.78,\n            'f': \"2.78\",\n        }],\n [{\n            'v': 404,\n            'f': \"404\",\n        },\n{\n            'v': 3,\n            'f': \"3\",\n        },\n{\n            'v': 3,\n            'f': \"3\",\n        },\n{\n            'v': 0.6,\n            'f': \"0.6\",\n        },\n{\n            'v': 2.66,\n            'f': \"2.66\",\n        }],\n [{\n            'v': 405,\n            'f': \"405\",\n        },\n{\n            'v': 1,\n            'f': \"1\",\n        },\n{\n            'v': 1,\n            'f': \"1\",\n        },\n{\n            'v': 0.51,\n            'f': \"0.51\",\n        },\n{\n            'v': 2.58,\n            'f': \"2.58\",\n        }],\n [{\n            'v': 406,\n            'f': \"406\",\n        },\n{\n            'v': 1,\n            'f': \"1\",\n        },\n{\n            'v': 2,\n            'f': \"2\",\n        },\n{\n            'v': 0.59,\n            'f': \"0.59\",\n        },\n{\n            'v': 2.72,\n            'f': \"2.72\",\n        }],\n [{\n            'v': 407,\n            'f': \"407\",\n        },\n{\n            'v': 1,\n            'f': \"1\",\n        },\n{\n            'v': 3,\n            'f': \"3\",\n        },\n{\n            'v': 0.54,\n            'f': \"0.54\",\n        },\n{\n            'v': 2.66,\n            'f': \"2.66\",\n        }],\n [{\n            'v': 408,\n            'f': \"408\",\n        },\n{\n            'v': 2,\n            'f': \"2\",\n        },\n{\n            'v': 1,\n            'f': \"1\",\n        },\n{\n            'v': 0.49,\n            'f': \"0.49\",\n        },\n{\n            'v': 2.7,\n            'f': \"2.7\",\n        }],\n [{\n            'v': 409,\n            'f': \"409\",\n        },\n{\n            'v': 2,\n            'f': \"2\",\n        },\n{\n            'v': 2,\n            'f': \"2\",\n        },\n{\n            'v': 0.67,\n            'f': \"0.67\",\n        },\n{\n            'v': 2.75,\n            'f': \"2.75\",\n        }],\n [{\n            'v': 410,\n            'f': \"410\",\n        },\n{\n            'v': 2,\n            'f': \"2\",\n        },\n{\n            'v': 3,\n            'f': \"3\",\n        },\n{\n            'v': 0.69,\n            'f': \"0.69\",\n        },\n{\n            'v': 2.71,\n            'f': \"2.71\",\n        }],\n [{\n            'v': 411,\n            'f': \"411\",\n        },\n{\n            'v': 3,\n            'f': \"3\",\n        },\n{\n            'v': 1,\n            'f': \"1\",\n        },\n{\n            'v': 0.68,\n            'f': \"0.68\",\n        },\n{\n            'v': 2.57,\n            'f': \"2.57\",\n        }],\n [{\n            'v': 412,\n            'f': \"412\",\n        },\n{\n            'v': 3,\n            'f': \"3\",\n        },\n{\n            'v': 2,\n            'f': \"2\",\n        },\n{\n            'v': 0.65,\n            'f': \"0.65\",\n        },\n{\n            'v': 2.7,\n            'f': \"2.7\",\n        }],\n [{\n            'v': 413,\n            'f': \"413\",\n        },\n{\n            'v': 3,\n            'f': \"3\",\n        },\n{\n            'v': 3,\n            'f': \"3\",\n        },\n{\n            'v': 0.72,\n            'f': \"0.72\",\n        },\n{\n            'v': 2.87,\n            'f': \"2.87\",\n        }],\n [{\n            'v': 414,\n            'f': \"414\",\n        },\n{\n            'v': 1,\n            'f': \"1\",\n        },\n{\n            'v': 1,\n            'f': \"1\",\n        },\n{\n            'v': 0.59,\n            'f': \"0.59\",\n        },\n{\n            'v': 1.33,\n            'f': \"1.33\",\n        }],\n [{\n            'v': 415,\n            'f': \"415\",\n        },\n{\n            'v': 1,\n            'f': \"1\",\n        },\n{\n            'v': 2,\n            'f': \"2\",\n        },\n{\n            'v': 0.65,\n            'f': \"0.65\",\n        },\n{\n            'v': 1.52,\n            'f': \"1.52\",\n        }],\n [{\n            'v': 416,\n            'f': \"416\",\n        },\n{\n            'v': 1,\n            'f': \"1\",\n        },\n{\n            'v': 3,\n            'f': \"3\",\n        },\n{\n            'v': 0.61,\n            'f': \"0.61\",\n        },\n{\n            'v': 1.75,\n            'f': \"1.75\",\n        }],\n [{\n            'v': 417,\n            'f': \"417\",\n        },\n{\n            'v': 2,\n            'f': \"2\",\n        },\n{\n            'v': 1,\n            'f': \"1\",\n        },\n{\n            'v': 0.5,\n            'f': \"0.5\",\n        },\n{\n            'v': 1.4,\n            'f': \"1.4\",\n        }],\n [{\n            'v': 418,\n            'f': \"418\",\n        },\n{\n            'v': 2,\n            'f': \"2\",\n        },\n{\n            'v': 2,\n            'f': \"2\",\n        },\n{\n            'v': 0.76,\n            'f': \"0.76\",\n        },\n{\n            'v': 1.64,\n            'f': \"1.64\",\n        }],\n [{\n            'v': 419,\n            'f': \"419\",\n        },\n{\n            'v': 2,\n            'f': \"2\",\n        },\n{\n            'v': 3,\n            'f': \"3\",\n        },\n{\n            'v': 0.78,\n            'f': \"0.78\",\n        },\n{\n            'v': 1.97,\n            'f': \"1.97\",\n        }],\n [{\n            'v': 420,\n            'f': \"420\",\n        },\n{\n            'v': 3,\n            'f': \"3\",\n        },\n{\n            'v': 1,\n            'f': \"1\",\n        },\n{\n            'v': 0.73,\n            'f': \"0.73\",\n        },\n{\n            'v': 1.57,\n            'f': \"1.57\",\n        }],\n [{\n            'v': 421,\n            'f': \"421\",\n        },\n{\n            'v': 3,\n            'f': \"3\",\n        },\n{\n            'v': 2,\n            'f': \"2\",\n        },\n{\n            'v': 0.94,\n            'f': \"0.94\",\n        },\n{\n            'v': 1.85,\n            'f': \"1.85\",\n        }],\n [{\n            'v': 422,\n            'f': \"422\",\n        },\n{\n            'v': 3,\n            'f': \"3\",\n        },\n{\n            'v': 3,\n            'f': \"3\",\n        },\n{\n            'v': 0.85,\n            'f': \"0.85\",\n        },\n{\n            'v': 2.14,\n            'f': \"2.14\",\n        }],\n [{\n            'v': 423,\n            'f': \"423\",\n        },\n{\n            'v': 1,\n            'f': \"1\",\n        },\n{\n            'v': 1,\n            'f': \"1\",\n        },\n{\n            'v': 0.58,\n            'f': \"0.58\",\n        },\n{\n            'v': 2.0,\n            'f': \"2.0\",\n        }],\n [{\n            'v': 424,\n            'f': \"424\",\n        },\n{\n            'v': 1,\n            'f': \"1\",\n        },\n{\n            'v': 2,\n            'f': \"2\",\n        },\n{\n            'v': 0.55,\n            'f': \"0.55\",\n        },\n{\n            'v': 2.06,\n            'f': \"2.06\",\n        }],\n [{\n            'v': 425,\n            'f': \"425\",\n        },\n{\n            'v': 1,\n            'f': \"1\",\n        },\n{\n            'v': 3,\n            'f': \"3\",\n        },\n{\n            'v': 0.58,\n            'f': \"0.58\",\n        },\n{\n            'v': 2.11,\n            'f': \"2.11\",\n        }],\n [{\n            'v': 426,\n            'f': \"426\",\n        },\n{\n            'v': 2,\n            'f': \"2\",\n        },\n{\n            'v': 1,\n            'f': \"1\",\n        },\n{\n            'v': 0.64,\n            'f': \"0.64\",\n        },\n{\n            'v': 2.18,\n            'f': \"2.18\",\n        }],\n [{\n            'v': 427,\n            'f': \"427\",\n        },\n{\n            'v': 2,\n            'f': \"2\",\n        },\n{\n            'v': 2,\n            'f': \"2\",\n        },\n{\n            'v': 0.67,\n            'f': \"0.67\",\n        },\n{\n            'v': 2.15,\n            'f': \"2.15\",\n        }],\n [{\n            'v': 428,\n            'f': \"428\",\n        },\n{\n            'v': 2,\n            'f': \"2\",\n        },\n{\n            'v': 3,\n            'f': \"3\",\n        },\n{\n            'v': 0.76,\n            'f': \"0.76\",\n        },\n{\n            'v': 2.39,\n            'f': \"2.39\",\n        }],\n [{\n            'v': 429,\n            'f': \"429\",\n        },\n{\n            'v': 3,\n            'f': \"3\",\n        },\n{\n            'v': 1,\n            'f': \"1\",\n        },\n{\n            'v': 0.68,\n            'f': \"0.68\",\n        },\n{\n            'v': 2.17,\n            'f': \"2.17\",\n        }],\n [{\n            'v': 430,\n            'f': \"430\",\n        },\n{\n            'v': 3,\n            'f': \"3\",\n        },\n{\n            'v': 2,\n            'f': \"2\",\n        },\n{\n            'v': 0.74,\n            'f': \"0.74\",\n        },\n{\n            'v': 2.11,\n            'f': \"2.11\",\n        }],\n [{\n            'v': 431,\n            'f': \"431\",\n        },\n{\n            'v': 3,\n            'f': \"3\",\n        },\n{\n            'v': 3,\n            'f': \"3\",\n        },\n{\n            'v': 0.83,\n            'f': \"0.83\",\n        },\n{\n            'v': 2.19,\n            'f': \"2.19\",\n        }],\n [{\n            'v': 432,\n            'f': \"432\",\n        },\n{\n            'v': 1,\n            'f': \"1\",\n        },\n{\n            'v': 1,\n            'f': \"1\",\n        },\n{\n            'v': 0.53,\n            'f': \"0.53\",\n        },\n{\n            'v': 2.19,\n            'f': \"2.19\",\n        }],\n [{\n            'v': 433,\n            'f': \"433\",\n        },\n{\n            'v': 1,\n            'f': \"1\",\n        },\n{\n            'v': 2,\n            'f': \"2\",\n        },\n{\n            'v': 0.6,\n            'f': \"0.6\",\n        },\n{\n            'v': 2.49,\n            'f': \"2.49\",\n        }],\n [{\n            'v': 434,\n            'f': \"434\",\n        },\n{\n            'v': 1,\n            'f': \"1\",\n        },\n{\n            'v': 3,\n            'f': \"3\",\n        },\n{\n            'v': 0.63,\n            'f': \"0.63\",\n        },\n{\n            'v': 2.68,\n            'f': \"2.68\",\n        }],\n [{\n            'v': 435,\n            'f': \"435\",\n        },\n{\n            'v': 2,\n            'f': \"2\",\n        },\n{\n            'v': 1,\n            'f': \"1\",\n        },\n{\n            'v': 0.6,\n            'f': \"0.6\",\n        },\n{\n            'v': 2.41,\n            'f': \"2.41\",\n        }],\n [{\n            'v': 436,\n            'f': \"436\",\n        },\n{\n            'v': 2,\n            'f': \"2\",\n        },\n{\n            'v': 2,\n            'f': \"2\",\n        },\n{\n            'v': 0.65,\n            'f': \"0.65\",\n        },\n{\n            'v': 2.56,\n            'f': \"2.56\",\n        }],\n [{\n            'v': 437,\n            'f': \"437\",\n        },\n{\n            'v': 2,\n            'f': \"2\",\n        },\n{\n            'v': 3,\n            'f': \"3\",\n        },\n{\n            'v': 0.71,\n            'f': \"0.71\",\n        },\n{\n            'v': 2.7,\n            'f': \"2.7\",\n        }],\n [{\n            'v': 438,\n            'f': \"438\",\n        },\n{\n            'v': 3,\n            'f': \"3\",\n        },\n{\n            'v': 1,\n            'f': \"1\",\n        },\n{\n            'v': 0.66,\n            'f': \"0.66\",\n        },\n{\n            'v': 2.29,\n            'f': \"2.29\",\n        }],\n [{\n            'v': 439,\n            'f': \"439\",\n        },\n{\n            'v': 3,\n            'f': \"3\",\n        },\n{\n            'v': 2,\n            'f': \"2\",\n        },\n{\n            'v': 0.77,\n            'f': \"0.77\",\n        },\n{\n            'v': 2.65,\n            'f': \"2.65\",\n        }],\n [{\n            'v': 440,\n            'f': \"440\",\n        },\n{\n            'v': 3,\n            'f': \"3\",\n        },\n{\n            'v': 3,\n            'f': \"3\",\n        },\n{\n            'v': 0.81,\n            'f': \"0.81\",\n        },\n{\n            'v': 2.99,\n            'f': \"2.99\",\n        }],\n [{\n            'v': 441,\n            'f': \"441\",\n        },\n{\n            'v': 1,\n            'f': \"1\",\n        },\n{\n            'v': 1,\n            'f': \"1\",\n        },\n{\n            'v': 0.57,\n            'f': \"0.57\",\n        },\n{\n            'v': 1.09,\n            'f': \"1.09\",\n        }],\n [{\n            'v': 442,\n            'f': \"442\",\n        },\n{\n            'v': 1,\n            'f': \"1\",\n        },\n{\n            'v': 2,\n            'f': \"2\",\n        },\n{\n            'v': 0.58,\n            'f': \"0.58\",\n        },\n{\n            'v': 1.23,\n            'f': \"1.23\",\n        }],\n [{\n            'v': 443,\n            'f': \"443\",\n        },\n{\n            'v': 1,\n            'f': \"1\",\n        },\n{\n            'v': 3,\n            'f': \"3\",\n        },\n{\n            'v': 0.64,\n            'f': \"0.64\",\n        },\n{\n            'v': 1.44,\n            'f': \"1.44\",\n        }],\n [{\n            'v': 444,\n            'f': \"444\",\n        },\n{\n            'v': 2,\n            'f': \"2\",\n        },\n{\n            'v': 1,\n            'f': \"1\",\n        },\n{\n            'v': 0.59,\n            'f': \"0.59\",\n        },\n{\n            'v': 1.09,\n            'f': \"1.09\",\n        }],\n [{\n            'v': 445,\n            'f': \"445\",\n        },\n{\n            'v': 2,\n            'f': \"2\",\n        },\n{\n            'v': 2,\n            'f': \"2\",\n        },\n{\n            'v': 0.79,\n            'f': \"0.79\",\n        },\n{\n            'v': 1.35,\n            'f': \"1.35\",\n        }],\n [{\n            'v': 446,\n            'f': \"446\",\n        },\n{\n            'v': 2,\n            'f': \"2\",\n        },\n{\n            'v': 3,\n            'f': \"3\",\n        },\n{\n            'v': 0.78,\n            'f': \"0.78\",\n        },\n{\n            'v': 1.57,\n            'f': \"1.57\",\n        }],\n [{\n            'v': 447,\n            'f': \"447\",\n        },\n{\n            'v': 3,\n            'f': \"3\",\n        },\n{\n            'v': 1,\n            'f': \"1\",\n        },\n{\n            'v': 0.64,\n            'f': \"0.64\",\n        },\n{\n            'v': 1.23,\n            'f': \"1.23\",\n        }],\n [{\n            'v': 448,\n            'f': \"448\",\n        },\n{\n            'v': 3,\n            'f': \"3\",\n        },\n{\n            'v': 2,\n            'f': \"2\",\n        },\n{\n            'v': 0.86,\n            'f': \"0.86\",\n        },\n{\n            'v': 1.54,\n            'f': \"1.54\",\n        }],\n [{\n            'v': 449,\n            'f': \"449\",\n        },\n{\n            'v': 3,\n            'f': \"3\",\n        },\n{\n            'v': 3,\n            'f': \"3\",\n        },\n{\n            'v': 0.93,\n            'f': \"0.93\",\n        },\n{\n            'v': 1.88,\n            'f': \"1.88\",\n        }],\n [{\n            'v': 450,\n            'f': \"450\",\n        },\n{\n            'v': 1,\n            'f': \"1\",\n        },\n{\n            'v': 1,\n            'f': \"1\",\n        },\n{\n            'v': 0.55,\n            'f': \"0.55\",\n        },\n{\n            'v': 2.19,\n            'f': \"2.19\",\n        }],\n [{\n            'v': 451,\n            'f': \"451\",\n        },\n{\n            'v': 1,\n            'f': \"1\",\n        },\n{\n            'v': 2,\n            'f': \"2\",\n        },\n{\n            'v': 0.5,\n            'f': \"0.5\",\n        },\n{\n            'v': 2.81,\n            'f': \"2.81\",\n        }],\n [{\n            'v': 452,\n            'f': \"452\",\n        },\n{\n            'v': 1,\n            'f': \"1\",\n        },\n{\n            'v': 3,\n            'f': \"3\",\n        },\n{\n            'v': 0.43,\n            'f': \"0.43\",\n        },\n{\n            'v': 2.98,\n            'f': \"2.98\",\n        }],\n [{\n            'v': 453,\n            'f': \"453\",\n        },\n{\n            'v': 2,\n            'f': \"2\",\n        },\n{\n            'v': 1,\n            'f': \"1\",\n        },\n{\n            'v': 0.55,\n            'f': \"0.55\",\n        },\n{\n            'v': 2.19,\n            'f': \"2.19\",\n        }],\n [{\n            'v': 454,\n            'f': \"454\",\n        },\n{\n            'v': 2,\n            'f': \"2\",\n        },\n{\n            'v': 2,\n            'f': \"2\",\n        },\n{\n            'v': 0.65,\n            'f': \"0.65\",\n        },\n{\n            'v': 2.59,\n            'f': \"2.59\",\n        }],\n [{\n            'v': 455,\n            'f': \"455\",\n        },\n{\n            'v': 2,\n            'f': \"2\",\n        },\n{\n            'v': 3,\n            'f': \"3\",\n        },\n{\n            'v': 0.65,\n            'f': \"0.65\",\n        },\n{\n            'v': 3.04,\n            'f': \"3.04\",\n        }],\n [{\n            'v': 456,\n            'f': \"456\",\n        },\n{\n            'v': 3,\n            'f': \"3\",\n        },\n{\n            'v': 1,\n            'f': \"1\",\n        },\n{\n            'v': 0.57,\n            'f': \"0.57\",\n        },\n{\n            'v': 2.36,\n            'f': \"2.36\",\n        }],\n [{\n            'v': 457,\n            'f': \"457\",\n        },\n{\n            'v': 3,\n            'f': \"3\",\n        },\n{\n            'v': 2,\n            'f': \"2\",\n        },\n{\n            'v': 0.68,\n            'f': \"0.68\",\n        },\n{\n            'v': 2.87,\n            'f': \"2.87\",\n        }],\n [{\n            'v': 458,\n            'f': \"458\",\n        },\n{\n            'v': 3,\n            'f': \"3\",\n        },\n{\n            'v': 3,\n            'f': \"3\",\n        },\n{\n            'v': 0.68,\n            'f': \"0.68\",\n        },\n{\n            'v': 3.1,\n            'f': \"3.1\",\n        }],\n [{\n            'v': 459,\n            'f': \"459\",\n        },\n{\n            'v': 1,\n            'f': \"1\",\n        },\n{\n            'v': 1,\n            'f': \"1\",\n        },\n{\n            'v': 0.51,\n            'f': \"0.51\",\n        },\n{\n            'v': 1.41,\n            'f': \"1.41\",\n        }],\n [{\n            'v': 460,\n            'f': \"460\",\n        },\n{\n            'v': 1,\n            'f': \"1\",\n        },\n{\n            'v': 2,\n            'f': \"2\",\n        },\n{\n            'v': 0.46,\n            'f': \"0.46\",\n        },\n{\n            'v': 1.94,\n            'f': \"1.94\",\n        }],\n [{\n            'v': 461,\n            'f': \"461\",\n        },\n{\n            'v': 1,\n            'f': \"1\",\n        },\n{\n            'v': 3,\n            'f': \"3\",\n        },\n{\n            'v': 0.5,\n            'f': \"0.5\",\n        },\n{\n            'v': 2.68,\n            'f': \"2.68\",\n        }],\n [{\n            'v': 462,\n            'f': \"462\",\n        },\n{\n            'v': 2,\n            'f': \"2\",\n        },\n{\n            'v': 1,\n            'f': \"1\",\n        },\n{\n            'v': 0.59,\n            'f': \"0.59\",\n        },\n{\n            'v': 1.48,\n            'f': \"1.48\",\n        }],\n [{\n            'v': 463,\n            'f': \"463\",\n        },\n{\n            'v': 2,\n            'f': \"2\",\n        },\n{\n            'v': 2,\n            'f': \"2\",\n        },\n{\n            'v': 0.52,\n            'f': \"0.52\",\n        },\n{\n            'v': 2.11,\n            'f': \"2.11\",\n        }],\n [{\n            'v': 464,\n            'f': \"464\",\n        },\n{\n            'v': 2,\n            'f': \"2\",\n        },\n{\n            'v': 3,\n            'f': \"3\",\n        },\n{\n            'v': 0.67,\n            'f': \"0.67\",\n        },\n{\n            'v': 2.56,\n            'f': \"2.56\",\n        }],\n [{\n            'v': 465,\n            'f': \"465\",\n        },\n{\n            'v': 3,\n            'f': \"3\",\n        },\n{\n            'v': 1,\n            'f': \"1\",\n        },\n{\n            'v': 0.54,\n            'f': \"0.54\",\n        },\n{\n            'v': 1.47,\n            'f': \"1.47\",\n        }],\n [{\n            'v': 466,\n            'f': \"466\",\n        },\n{\n            'v': 3,\n            'f': \"3\",\n        },\n{\n            'v': 2,\n            'f': \"2\",\n        },\n{\n            'v': 0.65,\n            'f': \"0.65\",\n        },\n{\n            'v': 2.01,\n            'f': \"2.01\",\n        }],\n [{\n            'v': 467,\n            'f': \"467\",\n        },\n{\n            'v': 3,\n            'f': \"3\",\n        },\n{\n            'v': 3,\n            'f': \"3\",\n        },\n{\n            'v': 0.79,\n            'f': \"0.79\",\n        },\n{\n            'v': 2.59,\n            'f': \"2.59\",\n        }],\n [{\n            'v': 468,\n            'f': \"468\",\n        },\n{\n            'v': 1,\n            'f': \"1\",\n        },\n{\n            'v': 1,\n            'f': \"1\",\n        },\n{\n            'v': 0.53,\n            'f': \"0.53\",\n        },\n{\n            'v': 2.89,\n            'f': \"2.89\",\n        }],\n [{\n            'v': 469,\n            'f': \"469\",\n        },\n{\n            'v': 1,\n            'f': \"1\",\n        },\n{\n            'v': 2,\n            'f': \"2\",\n        },\n{\n            'v': 0.61,\n            'f': \"0.61\",\n        },\n{\n            'v': 3.0,\n            'f': \"3.0\",\n        }],\n [{\n            'v': 470,\n            'f': \"470\",\n        },\n{\n            'v': 1,\n            'f': \"1\",\n        },\n{\n            'v': 3,\n            'f': \"3\",\n        },\n{\n            'v': 0.66,\n            'f': \"0.66\",\n        },\n{\n            'v': 3.15,\n            'f': \"3.15\",\n        }],\n [{\n            'v': 471,\n            'f': \"471\",\n        },\n{\n            'v': 2,\n            'f': \"2\",\n        },\n{\n            'v': 1,\n            'f': \"1\",\n        },\n{\n            'v': 0.69,\n            'f': \"0.69\",\n        },\n{\n            'v': 2.87,\n            'f': \"2.87\",\n        }],\n [{\n            'v': 472,\n            'f': \"472\",\n        },\n{\n            'v': 2,\n            'f': \"2\",\n        },\n{\n            'v': 2,\n            'f': \"2\",\n        },\n{\n            'v': 0.72,\n            'f': \"0.72\",\n        },\n{\n            'v': 3.04,\n            'f': \"3.04\",\n        }],\n [{\n            'v': 473,\n            'f': \"473\",\n        },\n{\n            'v': 2,\n            'f': \"2\",\n        },\n{\n            'v': 3,\n            'f': \"3\",\n        },\n{\n            'v': 0.83,\n            'f': \"0.83\",\n        },\n{\n            'v': 3.33,\n            'f': \"3.33\",\n        }],\n [{\n            'v': 474,\n            'f': \"474\",\n        },\n{\n            'v': 3,\n            'f': \"3\",\n        },\n{\n            'v': 1,\n            'f': \"1\",\n        },\n{\n            'v': 0.83,\n            'f': \"0.83\",\n        },\n{\n            'v': 3.04,\n            'f': \"3.04\",\n        }],\n [{\n            'v': 475,\n            'f': \"475\",\n        },\n{\n            'v': 3,\n            'f': \"3\",\n        },\n{\n            'v': 2,\n            'f': \"2\",\n        },\n{\n            'v': 0.92,\n            'f': \"0.92\",\n        },\n{\n            'v': 3.27,\n            'f': \"3.27\",\n        }],\n [{\n            'v': 476,\n            'f': \"476\",\n        },\n{\n            'v': 3,\n            'f': \"3\",\n        },\n{\n            'v': 3,\n            'f': \"3\",\n        },\n{\n            'v': 0.95,\n            'f': \"0.95\",\n        },\n{\n            'v': 3.51,\n            'f': \"3.51\",\n        }],\n [{\n            'v': 477,\n            'f': \"477\",\n        },\n{\n            'v': 1,\n            'f': \"1\",\n        },\n{\n            'v': 1,\n            'f': \"1\",\n        },\n{\n            'v': 0.63,\n            'f': \"0.63\",\n        },\n{\n            'v': 1.56,\n            'f': \"1.56\",\n        }],\n [{\n            'v': 478,\n            'f': \"478\",\n        },\n{\n            'v': 1,\n            'f': \"1\",\n        },\n{\n            'v': 2,\n            'f': \"2\",\n        },\n{\n            'v': 0.59,\n            'f': \"0.59\",\n        },\n{\n            'v': 1.71,\n            'f': \"1.71\",\n        }],\n [{\n            'v': 479,\n            'f': \"479\",\n        },\n{\n            'v': 1,\n            'f': \"1\",\n        },\n{\n            'v': 3,\n            'f': \"3\",\n        },\n{\n            'v': 0.65,\n            'f': \"0.65\",\n        },\n{\n            'v': 2.34,\n            'f': \"2.34\",\n        }],\n [{\n            'v': 480,\n            'f': \"480\",\n        },\n{\n            'v': 2,\n            'f': \"2\",\n        },\n{\n            'v': 1,\n            'f': \"1\",\n        },\n{\n            'v': 0.62,\n            'f': \"0.62\",\n        },\n{\n            'v': 1.55,\n            'f': \"1.55\",\n        }],\n [{\n            'v': 481,\n            'f': \"481\",\n        },\n{\n            'v': 2,\n            'f': \"2\",\n        },\n{\n            'v': 2,\n            'f': \"2\",\n        },\n{\n            'v': 0.68,\n            'f': \"0.68\",\n        },\n{\n            'v': 1.61,\n            'f': \"1.61\",\n        }],\n [{\n            'v': 482,\n            'f': \"482\",\n        },\n{\n            'v': 2,\n            'f': \"2\",\n        },\n{\n            'v': 3,\n            'f': \"3\",\n        },\n{\n            'v': 0.74,\n            'f': \"0.74\",\n        },\n{\n            'v': 2.66,\n            'f': \"2.66\",\n        }],\n [{\n            'v': 483,\n            'f': \"483\",\n        },\n{\n            'v': 3,\n            'f': \"3\",\n        },\n{\n            'v': 1,\n            'f': \"1\",\n        },\n{\n            'v': 0.66,\n            'f': \"0.66\",\n        },\n{\n            'v': 1.79,\n            'f': \"1.79\",\n        }],\n [{\n            'v': 484,\n            'f': \"484\",\n        },\n{\n            'v': 3,\n            'f': \"3\",\n        },\n{\n            'v': 2,\n            'f': \"2\",\n        },\n{\n            'v': 0.74,\n            'f': \"0.74\",\n        },\n{\n            'v': 2.03,\n            'f': \"2.03\",\n        }],\n [{\n            'v': 485,\n            'f': \"485\",\n        },\n{\n            'v': 3,\n            'f': \"3\",\n        },\n{\n            'v': 3,\n            'f': \"3\",\n        },\n{\n            'v': 0.86,\n            'f': \"0.86\",\n        },\n{\n            'v': 2.68,\n            'f': \"2.68\",\n        }],\n [{\n            'v': 486,\n            'f': \"486\",\n        },\n{\n            'v': 1,\n            'f': \"1\",\n        },\n{\n            'v': 1,\n            'f': \"1\",\n        },\n{\n            'v': 0.5,\n            'f': \"0.5\",\n        },\n{\n            'v': 1.74,\n            'f': \"1.74\",\n        }],\n [{\n            'v': 487,\n            'f': \"487\",\n        },\n{\n            'v': 1,\n            'f': \"1\",\n        },\n{\n            'v': 2,\n            'f': \"2\",\n        },\n{\n            'v': 0.6,\n            'f': \"0.6\",\n        },\n{\n            'v': 1.83,\n            'f': \"1.83\",\n        }],\n [{\n            'v': 488,\n            'f': \"488\",\n        },\n{\n            'v': 1,\n            'f': \"1\",\n        },\n{\n            'v': 3,\n            'f': \"3\",\n        },\n{\n            'v': 0.64,\n            'f': \"0.64\",\n        },\n{\n            'v': 1.78,\n            'f': \"1.78\",\n        }],\n [{\n            'v': 489,\n            'f': \"489\",\n        },\n{\n            'v': 2,\n            'f': \"2\",\n        },\n{\n            'v': 1,\n            'f': \"1\",\n        },\n{\n            'v': 0.5,\n            'f': \"0.5\",\n        },\n{\n            'v': 1.76,\n            'f': \"1.76\",\n        }],\n [{\n            'v': 490,\n            'f': \"490\",\n        },\n{\n            'v': 2,\n            'f': \"2\",\n        },\n{\n            'v': 2,\n            'f': \"2\",\n        },\n{\n            'v': 0.66,\n            'f': \"0.66\",\n        },\n{\n            'v': 1.81,\n            'f': \"1.81\",\n        }],\n [{\n            'v': 491,\n            'f': \"491\",\n        },\n{\n            'v': 2,\n            'f': \"2\",\n        },\n{\n            'v': 3,\n            'f': \"3\",\n        },\n{\n            'v': 0.82,\n            'f': \"0.82\",\n        },\n{\n            'v': 1.9,\n            'f': \"1.9\",\n        }],\n [{\n            'v': 492,\n            'f': \"492\",\n        },\n{\n            'v': 3,\n            'f': \"3\",\n        },\n{\n            'v': 1,\n            'f': \"1\",\n        },\n{\n            'v': 0.67,\n            'f': \"0.67\",\n        },\n{\n            'v': 1.86,\n            'f': \"1.86\",\n        }],\n [{\n            'v': 493,\n            'f': \"493\",\n        },\n{\n            'v': 3,\n            'f': \"3\",\n        },\n{\n            'v': 2,\n            'f': \"2\",\n        },\n{\n            'v': 0.9,\n            'f': \"0.9\",\n        },\n{\n            'v': 1.99,\n            'f': \"1.99\",\n        }],\n [{\n            'v': 494,\n            'f': \"494\",\n        },\n{\n            'v': 3,\n            'f': \"3\",\n        },\n{\n            'v': 3,\n            'f': \"3\",\n        },\n{\n            'v': 0.85,\n            'f': \"0.85\",\n        },\n{\n            'v': 2.18,\n            'f': \"2.18\",\n        }]],\n        columns: [[\"number\", \"index\"], [\"number\", \"Tilt\"], [\"number\", \"Contrast\"], [\"number\", \"Accuracy\"], [\"number\", \"Confidence\"]],\n        columnOptions: [{\"width\": \"1px\", \"className\": \"index_column\"}],\n        rowsPerPage: 25,\n        helpUrl: \"https://colab.research.google.com/notebooks/data_table.ipynb\",\n        suppressOutputScrolling: true,\n        minimumWidth: undefined,\n      });\n    ",
            "text/html": [
              "\n",
              "  <div id=\"df-b8c08bd1-0476-4cb7-9faf-ed7a4b6878ba\">\n",
              "    <div class=\"colab-df-container\">\n",
              "      <div>\n",
              "<style scoped>\n",
              "    .dataframe tbody tr th:only-of-type {\n",
              "        vertical-align: middle;\n",
              "    }\n",
              "\n",
              "    .dataframe tbody tr th {\n",
              "        vertical-align: top;\n",
              "    }\n",
              "\n",
              "    .dataframe thead th {\n",
              "        text-align: right;\n",
              "    }\n",
              "</style>\n",
              "<table border=\"1\" class=\"dataframe\">\n",
              "  <thead>\n",
              "    <tr style=\"text-align: right;\">\n",
              "      <th></th>\n",
              "      <th>Tilt</th>\n",
              "      <th>Contrast</th>\n",
              "      <th>Accuracy</th>\n",
              "      <th>Confidence</th>\n",
              "    </tr>\n",
              "  </thead>\n",
              "  <tbody>\n",
              "    <tr>\n",
              "      <th>0</th>\n",
              "      <td>1</td>\n",
              "      <td>1</td>\n",
              "      <td>0.64</td>\n",
              "      <td>1.90</td>\n",
              "    </tr>\n",
              "    <tr>\n",
              "      <th>1</th>\n",
              "      <td>1</td>\n",
              "      <td>2</td>\n",
              "      <td>0.69</td>\n",
              "      <td>1.87</td>\n",
              "    </tr>\n",
              "    <tr>\n",
              "      <th>2</th>\n",
              "      <td>1</td>\n",
              "      <td>3</td>\n",
              "      <td>0.70</td>\n",
              "      <td>2.18</td>\n",
              "    </tr>\n",
              "    <tr>\n",
              "      <th>3</th>\n",
              "      <td>2</td>\n",
              "      <td>1</td>\n",
              "      <td>0.65</td>\n",
              "      <td>1.94</td>\n",
              "    </tr>\n",
              "    <tr>\n",
              "      <th>4</th>\n",
              "      <td>2</td>\n",
              "      <td>2</td>\n",
              "      <td>0.79</td>\n",
              "      <td>1.95</td>\n",
              "    </tr>\n",
              "    <tr>\n",
              "      <th>...</th>\n",
              "      <td>...</td>\n",
              "      <td>...</td>\n",
              "      <td>...</td>\n",
              "      <td>...</td>\n",
              "    </tr>\n",
              "    <tr>\n",
              "      <th>490</th>\n",
              "      <td>2</td>\n",
              "      <td>2</td>\n",
              "      <td>0.66</td>\n",
              "      <td>1.81</td>\n",
              "    </tr>\n",
              "    <tr>\n",
              "      <th>491</th>\n",
              "      <td>2</td>\n",
              "      <td>3</td>\n",
              "      <td>0.82</td>\n",
              "      <td>1.90</td>\n",
              "    </tr>\n",
              "    <tr>\n",
              "      <th>492</th>\n",
              "      <td>3</td>\n",
              "      <td>1</td>\n",
              "      <td>0.67</td>\n",
              "      <td>1.86</td>\n",
              "    </tr>\n",
              "    <tr>\n",
              "      <th>493</th>\n",
              "      <td>3</td>\n",
              "      <td>2</td>\n",
              "      <td>0.90</td>\n",
              "      <td>1.99</td>\n",
              "    </tr>\n",
              "    <tr>\n",
              "      <th>494</th>\n",
              "      <td>3</td>\n",
              "      <td>3</td>\n",
              "      <td>0.85</td>\n",
              "      <td>2.18</td>\n",
              "    </tr>\n",
              "  </tbody>\n",
              "</table>\n",
              "<p>495 rows × 4 columns</p>\n",
              "</div>\n",
              "      <button class=\"colab-df-convert\" onclick=\"convertToInteractive('df-b8c08bd1-0476-4cb7-9faf-ed7a4b6878ba')\"\n",
              "              title=\"Convert this dataframe to an interactive table.\"\n",
              "              style=\"display:none;\">\n",
              "        \n",
              "  <svg xmlns=\"http://www.w3.org/2000/svg\" height=\"24px\"viewBox=\"0 0 24 24\"\n",
              "       width=\"24px\">\n",
              "    <path d=\"M0 0h24v24H0V0z\" fill=\"none\"/>\n",
              "    <path d=\"M18.56 5.44l.94 2.06.94-2.06 2.06-.94-2.06-.94-.94-2.06-.94 2.06-2.06.94zm-11 1L8.5 8.5l.94-2.06 2.06-.94-2.06-.94L8.5 2.5l-.94 2.06-2.06.94zm10 10l.94 2.06.94-2.06 2.06-.94-2.06-.94-.94-2.06-.94 2.06-2.06.94z\"/><path d=\"M17.41 7.96l-1.37-1.37c-.4-.4-.92-.59-1.43-.59-.52 0-1.04.2-1.43.59L10.3 9.45l-7.72 7.72c-.78.78-.78 2.05 0 2.83L4 21.41c.39.39.9.59 1.41.59.51 0 1.02-.2 1.41-.59l7.78-7.78 2.81-2.81c.8-.78.8-2.07 0-2.86zM5.41 20L4 18.59l7.72-7.72 1.47 1.35L5.41 20z\"/>\n",
              "  </svg>\n",
              "      </button>\n",
              "      \n",
              "  <style>\n",
              "    .colab-df-container {\n",
              "      display:flex;\n",
              "      flex-wrap:wrap;\n",
              "      gap: 12px;\n",
              "    }\n",
              "\n",
              "    .colab-df-convert {\n",
              "      background-color: #E8F0FE;\n",
              "      border: none;\n",
              "      border-radius: 50%;\n",
              "      cursor: pointer;\n",
              "      display: none;\n",
              "      fill: #1967D2;\n",
              "      height: 32px;\n",
              "      padding: 0 0 0 0;\n",
              "      width: 32px;\n",
              "    }\n",
              "\n",
              "    .colab-df-convert:hover {\n",
              "      background-color: #E2EBFA;\n",
              "      box-shadow: 0px 1px 2px rgba(60, 64, 67, 0.3), 0px 1px 3px 1px rgba(60, 64, 67, 0.15);\n",
              "      fill: #174EA6;\n",
              "    }\n",
              "\n",
              "    [theme=dark] .colab-df-convert {\n",
              "      background-color: #3B4455;\n",
              "      fill: #D2E3FC;\n",
              "    }\n",
              "\n",
              "    [theme=dark] .colab-df-convert:hover {\n",
              "      background-color: #434B5C;\n",
              "      box-shadow: 0px 1px 3px 1px rgba(0, 0, 0, 0.15);\n",
              "      filter: drop-shadow(0px 1px 2px rgba(0, 0, 0, 0.3));\n",
              "      fill: #FFFFFF;\n",
              "    }\n",
              "  </style>\n",
              "\n",
              "      <script>\n",
              "        const buttonEl =\n",
              "          document.querySelector('#df-b8c08bd1-0476-4cb7-9faf-ed7a4b6878ba button.colab-df-convert');\n",
              "        buttonEl.style.display =\n",
              "          google.colab.kernel.accessAllowed ? 'block' : 'none';\n",
              "\n",
              "        async function convertToInteractive(key) {\n",
              "          const element = document.querySelector('#df-b8c08bd1-0476-4cb7-9faf-ed7a4b6878ba');\n",
              "          const dataTable =\n",
              "            await google.colab.kernel.invokeFunction('convertToInteractive',\n",
              "                                                     [key], {});\n",
              "          if (!dataTable) return;\n",
              "\n",
              "          const docLinkHtml = 'Like what you see? Visit the ' +\n",
              "            '<a target=\"_blank\" href=https://colab.research.google.com/notebooks/data_table.ipynb>data table notebook</a>'\n",
              "            + ' to learn more about interactive tables.';\n",
              "          element.innerHTML = '';\n",
              "          dataTable['output_type'] = 'display_data';\n",
              "          await google.colab.output.renderOutput(dataTable, element);\n",
              "          const docLink = document.createElement('div');\n",
              "          docLink.innerHTML = docLinkHtml;\n",
              "          element.appendChild(docLink);\n",
              "        }\n",
              "      </script>\n",
              "    </div>\n",
              "  </div>\n",
              "  "
            ],
            "text/plain": [
              "     Tilt  Contrast  Accuracy  Confidence\n",
              "0       1         1      0.64        1.90\n",
              "1       1         2      0.69        1.87\n",
              "2       1         3      0.70        2.18\n",
              "3       2         1      0.65        1.94\n",
              "4       2         2      0.79        1.95\n",
              "..    ...       ...       ...         ...\n",
              "490     2         2      0.66        1.81\n",
              "491     2         3      0.82        1.90\n",
              "492     3         1      0.67        1.86\n",
              "493     3         2      0.90        1.99\n",
              "494     3         3      0.85        2.18\n",
              "\n",
              "[495 rows x 4 columns]"
            ]
          },
          "metadata": {},
          "execution_count": 10
        }
      ]
    },
    {
      "cell_type": "markdown",
      "source": [
        "Confirm that the third subject's data displays in dataframe."
      ],
      "metadata": {
        "id": "UP0dJvCKwmLw"
      }
    },
    {
      "cell_type": "code",
      "source": [
        "df_beh[18:27] #subject 3 (every 9)"
      ],
      "metadata": {
        "colab": {
          "base_uri": "https://localhost:8080/",
          "height": 284
        },
        "id": "9ZJ-Kgs5wGwU",
        "outputId": "0ff38cc8-5794-42d6-ba21-aa45f47aad71"
      },
      "execution_count": 11,
      "outputs": [
        {
          "output_type": "execute_result",
          "data": {
            "application/vnd.google.colaboratory.module+javascript": "\n      import \"https://ssl.gstatic.com/colaboratory/data_table/a6224c040fa35dcf/data_table.js\";\n\n      window.createDataTable({\n        data: [[{\n            'v': 18,\n            'f': \"18\",\n        },\n{\n            'v': 1,\n            'f': \"1\",\n        },\n{\n            'v': 1,\n            'f': \"1\",\n        },\n{\n            'v': 0.54,\n            'f': \"0.54\",\n        },\n{\n            'v': 1.32,\n            'f': \"1.32\",\n        }],\n [{\n            'v': 19,\n            'f': \"19\",\n        },\n{\n            'v': 1,\n            'f': \"1\",\n        },\n{\n            'v': 2,\n            'f': \"2\",\n        },\n{\n            'v': 0.57,\n            'f': \"0.57\",\n        },\n{\n            'v': 1.44,\n            'f': \"1.44\",\n        }],\n [{\n            'v': 20,\n            'f': \"20\",\n        },\n{\n            'v': 1,\n            'f': \"1\",\n        },\n{\n            'v': 3,\n            'f': \"3\",\n        },\n{\n            'v': 0.67,\n            'f': \"0.67\",\n        },\n{\n            'v': 1.68,\n            'f': \"1.68\",\n        }],\n [{\n            'v': 21,\n            'f': \"21\",\n        },\n{\n            'v': 2,\n            'f': \"2\",\n        },\n{\n            'v': 1,\n            'f': \"1\",\n        },\n{\n            'v': 0.6,\n            'f': \"0.6\",\n        },\n{\n            'v': 1.29,\n            'f': \"1.29\",\n        }],\n [{\n            'v': 22,\n            'f': \"22\",\n        },\n{\n            'v': 2,\n            'f': \"2\",\n        },\n{\n            'v': 2,\n            'f': \"2\",\n        },\n{\n            'v': 0.66,\n            'f': \"0.66\",\n        },\n{\n            'v': 1.51,\n            'f': \"1.51\",\n        }],\n [{\n            'v': 23,\n            'f': \"23\",\n        },\n{\n            'v': 2,\n            'f': \"2\",\n        },\n{\n            'v': 3,\n            'f': \"3\",\n        },\n{\n            'v': 0.77,\n            'f': \"0.77\",\n        },\n{\n            'v': 1.73,\n            'f': \"1.73\",\n        }],\n [{\n            'v': 24,\n            'f': \"24\",\n        },\n{\n            'v': 3,\n            'f': \"3\",\n        },\n{\n            'v': 1,\n            'f': \"1\",\n        },\n{\n            'v': 0.78,\n            'f': \"0.78\",\n        },\n{\n            'v': 1.44,\n            'f': \"1.44\",\n        }],\n [{\n            'v': 25,\n            'f': \"25\",\n        },\n{\n            'v': 3,\n            'f': \"3\",\n        },\n{\n            'v': 2,\n            'f': \"2\",\n        },\n{\n            'v': 0.85,\n            'f': \"0.85\",\n        },\n{\n            'v': 1.64,\n            'f': \"1.64\",\n        }],\n [{\n            'v': 26,\n            'f': \"26\",\n        },\n{\n            'v': 3,\n            'f': \"3\",\n        },\n{\n            'v': 3,\n            'f': \"3\",\n        },\n{\n            'v': 0.9,\n            'f': \"0.9\",\n        },\n{\n            'v': 2.05,\n            'f': \"2.05\",\n        }]],\n        columns: [[\"number\", \"index\"], [\"number\", \"Tilt\"], [\"number\", \"Contrast\"], [\"number\", \"Accuracy\"], [\"number\", \"Confidence\"]],\n        columnOptions: [{\"width\": \"1px\", \"className\": \"index_column\"}],\n        rowsPerPage: 25,\n        helpUrl: \"https://colab.research.google.com/notebooks/data_table.ipynb\",\n        suppressOutputScrolling: true,\n        minimumWidth: undefined,\n      });\n    ",
            "text/html": [
              "\n",
              "  <div id=\"df-05e7573a-2a24-43b9-b92d-3ad0ff6f1598\">\n",
              "    <div class=\"colab-df-container\">\n",
              "      <div>\n",
              "<style scoped>\n",
              "    .dataframe tbody tr th:only-of-type {\n",
              "        vertical-align: middle;\n",
              "    }\n",
              "\n",
              "    .dataframe tbody tr th {\n",
              "        vertical-align: top;\n",
              "    }\n",
              "\n",
              "    .dataframe thead th {\n",
              "        text-align: right;\n",
              "    }\n",
              "</style>\n",
              "<table border=\"1\" class=\"dataframe\">\n",
              "  <thead>\n",
              "    <tr style=\"text-align: right;\">\n",
              "      <th></th>\n",
              "      <th>Tilt</th>\n",
              "      <th>Contrast</th>\n",
              "      <th>Accuracy</th>\n",
              "      <th>Confidence</th>\n",
              "    </tr>\n",
              "  </thead>\n",
              "  <tbody>\n",
              "    <tr>\n",
              "      <th>18</th>\n",
              "      <td>1</td>\n",
              "      <td>1</td>\n",
              "      <td>0.54</td>\n",
              "      <td>1.32</td>\n",
              "    </tr>\n",
              "    <tr>\n",
              "      <th>19</th>\n",
              "      <td>1</td>\n",
              "      <td>2</td>\n",
              "      <td>0.57</td>\n",
              "      <td>1.44</td>\n",
              "    </tr>\n",
              "    <tr>\n",
              "      <th>20</th>\n",
              "      <td>1</td>\n",
              "      <td>3</td>\n",
              "      <td>0.67</td>\n",
              "      <td>1.68</td>\n",
              "    </tr>\n",
              "    <tr>\n",
              "      <th>21</th>\n",
              "      <td>2</td>\n",
              "      <td>1</td>\n",
              "      <td>0.60</td>\n",
              "      <td>1.29</td>\n",
              "    </tr>\n",
              "    <tr>\n",
              "      <th>22</th>\n",
              "      <td>2</td>\n",
              "      <td>2</td>\n",
              "      <td>0.66</td>\n",
              "      <td>1.51</td>\n",
              "    </tr>\n",
              "    <tr>\n",
              "      <th>23</th>\n",
              "      <td>2</td>\n",
              "      <td>3</td>\n",
              "      <td>0.77</td>\n",
              "      <td>1.73</td>\n",
              "    </tr>\n",
              "    <tr>\n",
              "      <th>24</th>\n",
              "      <td>3</td>\n",
              "      <td>1</td>\n",
              "      <td>0.78</td>\n",
              "      <td>1.44</td>\n",
              "    </tr>\n",
              "    <tr>\n",
              "      <th>25</th>\n",
              "      <td>3</td>\n",
              "      <td>2</td>\n",
              "      <td>0.85</td>\n",
              "      <td>1.64</td>\n",
              "    </tr>\n",
              "    <tr>\n",
              "      <th>26</th>\n",
              "      <td>3</td>\n",
              "      <td>3</td>\n",
              "      <td>0.90</td>\n",
              "      <td>2.05</td>\n",
              "    </tr>\n",
              "  </tbody>\n",
              "</table>\n",
              "</div>\n",
              "      <button class=\"colab-df-convert\" onclick=\"convertToInteractive('df-05e7573a-2a24-43b9-b92d-3ad0ff6f1598')\"\n",
              "              title=\"Convert this dataframe to an interactive table.\"\n",
              "              style=\"display:none;\">\n",
              "        \n",
              "  <svg xmlns=\"http://www.w3.org/2000/svg\" height=\"24px\"viewBox=\"0 0 24 24\"\n",
              "       width=\"24px\">\n",
              "    <path d=\"M0 0h24v24H0V0z\" fill=\"none\"/>\n",
              "    <path d=\"M18.56 5.44l.94 2.06.94-2.06 2.06-.94-2.06-.94-.94-2.06-.94 2.06-2.06.94zm-11 1L8.5 8.5l.94-2.06 2.06-.94-2.06-.94L8.5 2.5l-.94 2.06-2.06.94zm10 10l.94 2.06.94-2.06 2.06-.94-2.06-.94-.94-2.06-.94 2.06-2.06.94z\"/><path d=\"M17.41 7.96l-1.37-1.37c-.4-.4-.92-.59-1.43-.59-.52 0-1.04.2-1.43.59L10.3 9.45l-7.72 7.72c-.78.78-.78 2.05 0 2.83L4 21.41c.39.39.9.59 1.41.59.51 0 1.02-.2 1.41-.59l7.78-7.78 2.81-2.81c.8-.78.8-2.07 0-2.86zM5.41 20L4 18.59l7.72-7.72 1.47 1.35L5.41 20z\"/>\n",
              "  </svg>\n",
              "      </button>\n",
              "      \n",
              "  <style>\n",
              "    .colab-df-container {\n",
              "      display:flex;\n",
              "      flex-wrap:wrap;\n",
              "      gap: 12px;\n",
              "    }\n",
              "\n",
              "    .colab-df-convert {\n",
              "      background-color: #E8F0FE;\n",
              "      border: none;\n",
              "      border-radius: 50%;\n",
              "      cursor: pointer;\n",
              "      display: none;\n",
              "      fill: #1967D2;\n",
              "      height: 32px;\n",
              "      padding: 0 0 0 0;\n",
              "      width: 32px;\n",
              "    }\n",
              "\n",
              "    .colab-df-convert:hover {\n",
              "      background-color: #E2EBFA;\n",
              "      box-shadow: 0px 1px 2px rgba(60, 64, 67, 0.3), 0px 1px 3px 1px rgba(60, 64, 67, 0.15);\n",
              "      fill: #174EA6;\n",
              "    }\n",
              "\n",
              "    [theme=dark] .colab-df-convert {\n",
              "      background-color: #3B4455;\n",
              "      fill: #D2E3FC;\n",
              "    }\n",
              "\n",
              "    [theme=dark] .colab-df-convert:hover {\n",
              "      background-color: #434B5C;\n",
              "      box-shadow: 0px 1px 3px 1px rgba(0, 0, 0, 0.15);\n",
              "      filter: drop-shadow(0px 1px 2px rgba(0, 0, 0, 0.3));\n",
              "      fill: #FFFFFF;\n",
              "    }\n",
              "  </style>\n",
              "\n",
              "      <script>\n",
              "        const buttonEl =\n",
              "          document.querySelector('#df-05e7573a-2a24-43b9-b92d-3ad0ff6f1598 button.colab-df-convert');\n",
              "        buttonEl.style.display =\n",
              "          google.colab.kernel.accessAllowed ? 'block' : 'none';\n",
              "\n",
              "        async function convertToInteractive(key) {\n",
              "          const element = document.querySelector('#df-05e7573a-2a24-43b9-b92d-3ad0ff6f1598');\n",
              "          const dataTable =\n",
              "            await google.colab.kernel.invokeFunction('convertToInteractive',\n",
              "                                                     [key], {});\n",
              "          if (!dataTable) return;\n",
              "\n",
              "          const docLinkHtml = 'Like what you see? Visit the ' +\n",
              "            '<a target=\"_blank\" href=https://colab.research.google.com/notebooks/data_table.ipynb>data table notebook</a>'\n",
              "            + ' to learn more about interactive tables.';\n",
              "          element.innerHTML = '';\n",
              "          dataTable['output_type'] = 'display_data';\n",
              "          await google.colab.output.renderOutput(dataTable, element);\n",
              "          const docLink = document.createElement('div');\n",
              "          docLink.innerHTML = docLinkHtml;\n",
              "          element.appendChild(docLink);\n",
              "        }\n",
              "      </script>\n",
              "    </div>\n",
              "  </div>\n",
              "  "
            ],
            "text/plain": [
              "    Tilt  Contrast  Accuracy  Confidence\n",
              "18     1         1      0.54        1.32\n",
              "19     1         2      0.57        1.44\n",
              "20     1         3      0.67        1.68\n",
              "21     2         1      0.60        1.29\n",
              "22     2         2      0.66        1.51\n",
              "23     2         3      0.77        1.73\n",
              "24     3         1      0.78        1.44\n",
              "25     3         2      0.85        1.64\n",
              "26     3         3      0.90        2.05"
            ]
          },
          "metadata": {},
          "execution_count": 11
        }
      ]
    },
    {
      "cell_type": "code",
      "source": [
        "print(accuracy[2,:,:])\n",
        "print(confidence[2,:,:])"
      ],
      "metadata": {
        "colab": {
          "base_uri": "https://localhost:8080/"
        },
        "id": "1Q9Ho7QHv9L_",
        "outputId": "d201c92e-ecda-4ce1-d830-e646ecc687b7"
      },
      "execution_count": 10,
      "outputs": [
        {
          "output_type": "stream",
          "name": "stdout",
          "text": [
            "[[0.54 0.57 0.67]\n",
            " [0.6  0.66 0.77]\n",
            " [0.78 0.85 0.9 ]]\n",
            "[[1.32 1.44 1.68]\n",
            " [1.29 1.51 1.73]\n",
            " [1.44 1.64 2.05]]\n"
          ]
        }
      ]
    },
    {
      "cell_type": "markdown",
      "source": [
        "This looks good."
      ],
      "metadata": {
        "id": "c77NML3bwzhP"
      }
    },
    {
      "cell_type": "markdown",
      "source": [
        "Now, make a new dataframe for figure 1d calculating the difference in accuracy across tilts between contrasts 3 and 1, difference in accuracy across contrasts between tilts 3 and 1, difference in confidence across tilts between contrasts 3 and 1, and difference in confidence across contrasts between tilts 3 and 1."
      ],
      "metadata": {
        "id": "yXdO3lS6kg51"
      }
    },
    {
      "cell_type": "code",
      "source": [
        "avg_acc_x_tilts = accuracy.mean(axis=1) #avg acc across tilts\n",
        "avg_acc_x_contrasts = accuracy.mean(axis=2) #avg acc across contrasts\n",
        "avg_conf_x_tilts = confidence.mean(axis=1) #avg conf across tilts\n",
        "avg_conf_x_contrasts = accuracy.mean(axis=2) #avg conf across contrasts\n",
        "df_fig1d = pd.DataFrame(columns=['Acc diff x tilts','Acc diff x contrasts',\n",
        "                                 'Conf diff x tilts','Conf diff x contrasts']) #initialize dataframe\n",
        "df_fig1d['Acc diff x tilts'] = np.abs(avg_acc_x_tilts[:,2] - avg_acc_x_tilts[:,0])\n",
        "df_fig1d['Acc diff x contrasts'] = np.abs(avg_acc_x_contrasts[:,2] - avg_acc_x_contrasts[:,0])\n",
        "df_fig1d['Conf diff x tilts'] = np.abs(avg_conf_x_tilts[:,2] - avg_conf_x_tilts[:,0])\n",
        "df_fig1d['Conf diff x contrasts'] = np.abs(avg_conf_x_contrasts[:,2] - avg_conf_x_contrasts[:,0])\n",
        "df_fig1d"
      ],
      "metadata": {
        "colab": {
          "base_uri": "https://localhost:8080/",
          "height": 637
        },
        "id": "p-OxAaKIfvfZ",
        "outputId": "fff65bb6-d9dc-406b-8d75-e2728f398510"
      },
      "execution_count": 12,
      "outputs": [
        {
          "output_type": "execute_result",
          "data": {
            "application/vnd.google.colaboratory.module+javascript": "\n      import \"https://ssl.gstatic.com/colaboratory/data_table/a6224c040fa35dcf/data_table.js\";\n\n      window.createDataTable({\n        data: [[{\n            'v': 0,\n            'f': \"0\",\n        },\n{\n            'v': 0.1200000000000001,\n            'f': \"0.1200000000000001\",\n        },\n{\n            'v': 0.2366666666666667,\n            'f': \"0.2366666666666667\",\n        },\n{\n            'v': 0.5766666666666667,\n            'f': \"0.5766666666666667\",\n        },\n{\n            'v': 0.2366666666666667,\n            'f': \"0.2366666666666667\",\n        }],\n [{\n            'v': 1,\n            'f': \"1\",\n        },\n{\n            'v': 0.01333333333333342,\n            'f': \"0.01333333333333342\",\n        },\n{\n            'v': 0.18333333333333335,\n            'f': \"0.18333333333333335\",\n        },\n{\n            'v': 0.9166666666666672,\n            'f': \"0.9166666666666672\",\n        },\n{\n            'v': 0.18333333333333335,\n            'f': \"0.18333333333333335\",\n        }],\n [{\n            'v': 2,\n            'f': \"2\",\n        },\n{\n            'v': 0.1399999999999999,\n            'f': \"0.1399999999999999\",\n        },\n{\n            'v': 0.25,\n            'f': \"0.25\",\n        },\n{\n            'v': 0.46999999999999975,\n            'f': \"0.46999999999999975\",\n        },\n{\n            'v': 0.25,\n            'f': \"0.25\",\n        }],\n [{\n            'v': 3,\n            'f': \"3\",\n        },\n{\n            'v': 0.0,\n            'f': \"0.0\",\n        },\n{\n            'v': 0.20666666666666667,\n            'f': \"0.20666666666666667\",\n        },\n{\n            'v': 0.05333333333333323,\n            'f': \"0.05333333333333323\",\n        },\n{\n            'v': 0.20666666666666667,\n            'f': \"0.20666666666666667\",\n        }],\n [{\n            'v': 4,\n            'f': \"4\",\n        },\n{\n            'v': 0.06666666666666665,\n            'f': \"0.06666666666666665\",\n        },\n{\n            'v': 0.07333333333333336,\n            'f': \"0.07333333333333336\",\n        },\n{\n            'v': 0.32666666666666666,\n            'f': \"0.32666666666666666\",\n        },\n{\n            'v': 0.07333333333333336,\n            'f': \"0.07333333333333336\",\n        }],\n [{\n            'v': 5,\n            'f': \"5\",\n        },\n{\n            'v': 0.13000000000000012,\n            'f': \"0.13000000000000012\",\n        },\n{\n            'v': 0.2466666666666666,\n            'f': \"0.2466666666666666\",\n        },\n{\n            'v': 0.06333333333333346,\n            'f': \"0.06333333333333346\",\n        },\n{\n            'v': 0.2466666666666666,\n            'f': \"0.2466666666666666\",\n        }],\n [{\n            'v': 6,\n            'f': \"6\",\n        },\n{\n            'v': 0.013333333333333308,\n            'f': \"0.013333333333333308\",\n        },\n{\n            'v': 0.17666666666666664,\n            'f': \"0.17666666666666664\",\n        },\n{\n            'v': 0.33333333333333304,\n            'f': \"0.33333333333333304\",\n        },\n{\n            'v': 0.17666666666666664,\n            'f': \"0.17666666666666664\",\n        }],\n [{\n            'v': 7,\n            'f': \"7\",\n        },\n{\n            'v': 0.1333333333333332,\n            'f': \"0.1333333333333332\",\n        },\n{\n            'v': 0.18999999999999984,\n            'f': \"0.18999999999999984\",\n        },\n{\n            'v': 0.5133333333333332,\n            'f': \"0.5133333333333332\",\n        },\n{\n            'v': 0.18999999999999984,\n            'f': \"0.18999999999999984\",\n        }],\n [{\n            'v': 8,\n            'f': \"8\",\n        },\n{\n            'v': 0.16000000000000014,\n            'f': \"0.16000000000000014\",\n        },\n{\n            'v': 0.2433333333333333,\n            'f': \"0.2433333333333333\",\n        },\n{\n            'v': 0.6799999999999997,\n            'f': \"0.6799999999999997\",\n        },\n{\n            'v': 0.2433333333333333,\n            'f': \"0.2433333333333333\",\n        }],\n [{\n            'v': 9,\n            'f': \"9\",\n        },\n{\n            'v': 0.21666666666666667,\n            'f': \"0.21666666666666667\",\n        },\n{\n            'v': 0.2766666666666667,\n            'f': \"0.2766666666666667\",\n        },\n{\n            'v': 0.8566666666666667,\n            'f': \"0.8566666666666667\",\n        },\n{\n            'v': 0.2766666666666667,\n            'f': \"0.2766666666666667\",\n        }],\n [{\n            'v': 10,\n            'f': \"10\",\n        },\n{\n            'v': 0.08666666666666667,\n            'f': \"0.08666666666666667\",\n        },\n{\n            'v': 0.20666666666666655,\n            'f': \"0.20666666666666655\",\n        },\n{\n            'v': 0.18333333333333357,\n            'f': \"0.18333333333333357\",\n        },\n{\n            'v': 0.20666666666666655,\n            'f': \"0.20666666666666655\",\n        }],\n [{\n            'v': 11,\n            'f': \"11\",\n        },\n{\n            'v': 0.01000000000000012,\n            'f': \"0.01000000000000012\",\n        },\n{\n            'v': 0.2533333333333334,\n            'f': \"0.2533333333333334\",\n        },\n{\n            'v': 0.6199999999999992,\n            'f': \"0.6199999999999992\",\n        },\n{\n            'v': 0.2533333333333334,\n            'f': \"0.2533333333333334\",\n        }],\n [{\n            'v': 12,\n            'f': \"12\",\n        },\n{\n            'v': 0.030000000000000027,\n            'f': \"0.030000000000000027\",\n        },\n{\n            'v': 0.05333333333333323,\n            'f': \"0.05333333333333323\",\n        },\n{\n            'v': 0.07666666666666666,\n            'f': \"0.07666666666666666\",\n        },\n{\n            'v': 0.05333333333333323,\n            'f': \"0.05333333333333323\",\n        }],\n [{\n            'v': 13,\n            'f': \"13\",\n        },\n{\n            'v': 0.06333333333333335,\n            'f': \"0.06333333333333335\",\n        },\n{\n            'v': 0.21333333333333315,\n            'f': \"0.21333333333333315\",\n        },\n{\n            'v': 0.206666666666667,\n            'f': \"0.206666666666667\",\n        },\n{\n            'v': 0.21333333333333315,\n            'f': \"0.21333333333333315\",\n        }],\n [{\n            'v': 14,\n            'f': \"14\",\n        },\n{\n            'v': 0.1133333333333334,\n            'f': \"0.1133333333333334\",\n        },\n{\n            'v': 0.27,\n            'f': \"0.27\",\n        },\n{\n            'v': 0.19333333333333336,\n            'f': \"0.19333333333333336\",\n        },\n{\n            'v': 0.27,\n            'f': \"0.27\",\n        }],\n [{\n            'v': 15,\n            'f': \"15\",\n        },\n{\n            'v': 0.16333333333333344,\n            'f': \"0.16333333333333344\",\n        },\n{\n            'v': 0.21333333333333349,\n            'f': \"0.21333333333333349\",\n        },\n{\n            'v': 0.36666666666666714,\n            'f': \"0.36666666666666714\",\n        },\n{\n            'v': 0.21333333333333349,\n            'f': \"0.21333333333333349\",\n        }],\n [{\n            'v': 16,\n            'f': \"16\",\n        },\n{\n            'v': 0.17333333333333334,\n            'f': \"0.17333333333333334\",\n        },\n{\n            'v': 0.1366666666666665,\n            'f': \"0.1366666666666665\",\n        },\n{\n            'v': 0.33000000000000096,\n            'f': \"0.33000000000000096\",\n        },\n{\n            'v': 0.1366666666666665,\n            'f': \"0.1366666666666665\",\n        }],\n [{\n            'v': 17,\n            'f': \"17\",\n        },\n{\n            'v': 0.07333333333333325,\n            'f': \"0.07333333333333325\",\n        },\n{\n            'v': 0.14666666666666672,\n            'f': \"0.14666666666666672\",\n        },\n{\n            'v': 0.5866666666666664,\n            'f': \"0.5866666666666664\",\n        },\n{\n            'v': 0.14666666666666672,\n            'f': \"0.14666666666666672\",\n        }],\n [{\n            'v': 18,\n            'f': \"18\",\n        },\n{\n            'v': 0.039999999999999925,\n            'f': \"0.039999999999999925\",\n        },\n{\n            'v': 0.26,\n            'f': \"0.26\",\n        },\n{\n            'v': 0.41333333333333355,\n            'f': \"0.41333333333333355\",\n        },\n{\n            'v': 0.26,\n            'f': \"0.26\",\n        }],\n [{\n            'v': 19,\n            'f': \"19\",\n        },\n{\n            'v': 0.09666666666666679,\n            'f': \"0.09666666666666679\",\n        },\n{\n            'v': 0.15333333333333354,\n            'f': \"0.15333333333333354\",\n        },\n{\n            'v': 0.20333333333333314,\n            'f': \"0.20333333333333314\",\n        },\n{\n            'v': 0.15333333333333354,\n            'f': \"0.15333333333333354\",\n        }],\n [{\n            'v': 20,\n            'f': \"20\",\n        },\n{\n            'v': 0.18333333333333324,\n            'f': \"0.18333333333333324\",\n        },\n{\n            'v': 0.18999999999999995,\n            'f': \"0.18999999999999995\",\n        },\n{\n            'v': 0.9366666666666668,\n            'f': \"0.9366666666666668\",\n        },\n{\n            'v': 0.18999999999999995,\n            'f': \"0.18999999999999995\",\n        }],\n [{\n            'v': 21,\n            'f': \"21\",\n        },\n{\n            'v': 0.10000000000000009,\n            'f': \"0.10000000000000009\",\n        },\n{\n            'v': 0.18666666666666665,\n            'f': \"0.18666666666666665\",\n        },\n{\n            'v': 0.766666666666667,\n            'f': \"0.766666666666667\",\n        },\n{\n            'v': 0.18666666666666665,\n            'f': \"0.18666666666666665\",\n        }],\n [{\n            'v': 22,\n            'f': \"22\",\n        },\n{\n            'v': 0.08333333333333337,\n            'f': \"0.08333333333333337\",\n        },\n{\n            'v': 0.17333333333333334,\n            'f': \"0.17333333333333334\",\n        },\n{\n            'v': 0.1299999999999999,\n            'f': \"0.1299999999999999\",\n        },\n{\n            'v': 0.17333333333333334,\n            'f': \"0.17333333333333334\",\n        }],\n [{\n            'v': 23,\n            'f': \"23\",\n        },\n{\n            'v': 0.15000000000000013,\n            'f': \"0.15000000000000013\",\n        },\n{\n            'v': 0.2633333333333334,\n            'f': \"0.2633333333333334\",\n        },\n{\n            'v': 0.6366666666666667,\n            'f': \"0.6366666666666667\",\n        },\n{\n            'v': 0.2633333333333334,\n            'f': \"0.2633333333333334\",\n        }],\n [{\n            'v': 24,\n            'f': \"24\",\n        },\n{\n            'v': 0.07333333333333325,\n            'f': \"0.07333333333333325\",\n        },\n{\n            'v': 0.1166666666666667,\n            'f': \"0.1166666666666667\",\n        },\n{\n            'v': 0.27333333333333343,\n            'f': \"0.27333333333333343\",\n        },\n{\n            'v': 0.1166666666666667,\n            'f': \"0.1166666666666667\",\n        }],\n [{\n            'v': 25,\n            'f': \"25\",\n        },\n{\n            'v': 0.053333333333333344,\n            'f': \"0.053333333333333344\",\n        },\n{\n            'v': 0.18666666666666676,\n            'f': \"0.18666666666666676\",\n        },\n{\n            'v': 1.116666666666666,\n            'f': \"1.116666666666666\",\n        },\n{\n            'v': 0.18666666666666676,\n            'f': \"0.18666666666666676\",\n        }],\n [{\n            'v': 26,\n            'f': \"26\",\n        },\n{\n            'v': 0.06666666666666665,\n            'f': \"0.06666666666666665\",\n        },\n{\n            'v': 0.13666666666666671,\n            'f': \"0.13666666666666671\",\n        },\n{\n            'v': 0.2833333333333332,\n            'f': \"0.2833333333333332\",\n        },\n{\n            'v': 0.13666666666666671,\n            'f': \"0.13666666666666671\",\n        }],\n [{\n            'v': 27,\n            'f': \"27\",\n        },\n{\n            'v': 0.07333333333333336,\n            'f': \"0.07333333333333336\",\n        },\n{\n            'v': 0.17666666666666675,\n            'f': \"0.17666666666666675\",\n        },\n{\n            'v': 0.54,\n            'f': \"0.54\",\n        },\n{\n            'v': 0.17666666666666675,\n            'f': \"0.17666666666666675\",\n        }],\n [{\n            'v': 28,\n            'f': \"28\",\n        },\n{\n            'v': 0.27333333333333343,\n            'f': \"0.27333333333333343\",\n        },\n{\n            'v': 0.2433333333333333,\n            'f': \"0.2433333333333333\",\n        },\n{\n            'v': 0.9633333333333332,\n            'f': \"0.9633333333333332\",\n        },\n{\n            'v': 0.2433333333333333,\n            'f': \"0.2433333333333333\",\n        }],\n [{\n            'v': 29,\n            'f': \"29\",\n        },\n{\n            'v': 0.10333333333333328,\n            'f': \"0.10333333333333328\",\n        },\n{\n            'v': 0.10666666666666658,\n            'f': \"0.10666666666666658\",\n        },\n{\n            'v': 0.48333333333333295,\n            'f': \"0.48333333333333295\",\n        },\n{\n            'v': 0.10666666666666658,\n            'f': \"0.10666666666666658\",\n        }],\n [{\n            'v': 30,\n            'f': \"30\",\n        },\n{\n            'v': 0.023333333333333428,\n            'f': \"0.023333333333333428\",\n        },\n{\n            'v': 0.25,\n            'f': \"0.25\",\n        },\n{\n            'v': 0.20999999999999996,\n            'f': \"0.20999999999999996\",\n        },\n{\n            'v': 0.25,\n            'f': \"0.25\",\n        }],\n [{\n            'v': 31,\n            'f': \"31\",\n        },\n{\n            'v': 0.09333333333333327,\n            'f': \"0.09333333333333327\",\n        },\n{\n            'v': 0.12,\n            'f': \"0.12\",\n        },\n{\n            'v': 0.5799999999999998,\n            'f': \"0.5799999999999998\",\n        },\n{\n            'v': 0.12,\n            'f': \"0.12\",\n        }],\n [{\n            'v': 32,\n            'f': \"32\",\n        },\n{\n            'v': 0.17666666666666664,\n            'f': \"0.17666666666666664\",\n        },\n{\n            'v': 0.18333333333333346,\n            'f': \"0.18333333333333346\",\n        },\n{\n            'v': 1.2533333333333334,\n            'f': \"1.2533333333333334\",\n        },\n{\n            'v': 0.18333333333333346,\n            'f': \"0.18333333333333346\",\n        }],\n [{\n            'v': 33,\n            'f': \"33\",\n        },\n{\n            'v': 0.15333333333333332,\n            'f': \"0.15333333333333332\",\n        },\n{\n            'v': 0.2433333333333334,\n            'f': \"0.2433333333333334\",\n        },\n{\n            'v': 0.9266666666666665,\n            'f': \"0.9266666666666665\",\n        },\n{\n            'v': 0.2433333333333334,\n            'f': \"0.2433333333333334\",\n        }],\n [{\n            'v': 34,\n            'f': \"34\",\n        },\n{\n            'v': 0.1233333333333334,\n            'f': \"0.1233333333333334\",\n        },\n{\n            'v': 0.14666666666666672,\n            'f': \"0.14666666666666672\",\n        },\n{\n            'v': 0.9866666666666668,\n            'f': \"0.9866666666666668\",\n        },\n{\n            'v': 0.14666666666666672,\n            'f': \"0.14666666666666672\",\n        }],\n [{\n            'v': 35,\n            'f': \"35\",\n        },\n{\n            'v': 0.033333333333333326,\n            'f': \"0.033333333333333326\",\n        },\n{\n            'v': 0.2300000000000001,\n            'f': \"0.2300000000000001\",\n        },\n{\n            'v': 0.2766666666666664,\n            'f': \"0.2766666666666664\",\n        },\n{\n            'v': 0.2300000000000001,\n            'f': \"0.2300000000000001\",\n        }],\n [{\n            'v': 36,\n            'f': \"36\",\n        },\n{\n            'v': 0.21666666666666656,\n            'f': \"0.21666666666666656\",\n        },\n{\n            'v': 0.2599999999999999,\n            'f': \"0.2599999999999999\",\n        },\n{\n            'v': 0.9266666666666667,\n            'f': \"0.9266666666666667\",\n        },\n{\n            'v': 0.2599999999999999,\n            'f': \"0.2599999999999999\",\n        }],\n [{\n            'v': 37,\n            'f': \"37\",\n        },\n{\n            'v': 0.09999999999999992,\n            'f': \"0.09999999999999992\",\n        },\n{\n            'v': 0.06666666666666654,\n            'f': \"0.06666666666666654\",\n        },\n{\n            'v': 0.046666666666666856,\n            'f': \"0.046666666666666856\",\n        },\n{\n            'v': 0.06666666666666654,\n            'f': \"0.06666666666666654\",\n        }],\n [{\n            'v': 38,\n            'f': \"38\",\n        },\n{\n            'v': 0.10999999999999999,\n            'f': \"0.10999999999999999\",\n        },\n{\n            'v': 0.20999999999999974,\n            'f': \"0.20999999999999974\",\n        },\n{\n            'v': 0.75,\n            'f': \"0.75\",\n        },\n{\n            'v': 0.20999999999999974,\n            'f': \"0.20999999999999974\",\n        }],\n [{\n            'v': 39,\n            'f': \"39\",\n        },\n{\n            'v': 0.039999999999999925,\n            'f': \"0.039999999999999925\",\n        },\n{\n            'v': 0.09000000000000019,\n            'f': \"0.09000000000000019\",\n        },\n{\n            'v': 0.23000000000000043,\n            'f': \"0.23000000000000043\",\n        },\n{\n            'v': 0.09000000000000019,\n            'f': \"0.09000000000000019\",\n        }],\n [{\n            'v': 40,\n            'f': \"40\",\n        },\n{\n            'v': 0.023333333333333206,\n            'f': \"0.023333333333333206\",\n        },\n{\n            'v': 0.18666666666666654,\n            'f': \"0.18666666666666654\",\n        },\n{\n            'v': 0.6633333333333336,\n            'f': \"0.6633333333333336\",\n        },\n{\n            'v': 0.18666666666666654,\n            'f': \"0.18666666666666654\",\n        }],\n [{\n            'v': 41,\n            'f': \"41\",\n        },\n{\n            'v': 0.07000000000000006,\n            'f': \"0.07000000000000006\",\n        },\n{\n            'v': 0.24,\n            'f': \"0.24\",\n        },\n{\n            'v': 0.43666666666666654,\n            'f': \"0.43666666666666654\",\n        },\n{\n            'v': 0.24,\n            'f': \"0.24\",\n        }],\n [{\n            'v': 42,\n            'f': \"42\",\n        },\n{\n            'v': 0.006666666666666599,\n            'f': \"0.006666666666666599\",\n        },\n{\n            'v': 0.08000000000000007,\n            'f': \"0.08000000000000007\",\n        },\n{\n            'v': 0.08999999999999986,\n            'f': \"0.08999999999999986\",\n        },\n{\n            'v': 0.08000000000000007,\n            'f': \"0.08000000000000007\",\n        }],\n [{\n            'v': 43,\n            'f': \"43\",\n        },\n{\n            'v': 0.010000000000000009,\n            'f': \"0.010000000000000009\",\n        },\n{\n            'v': 0.19333333333333325,\n            'f': \"0.19333333333333325\",\n        },\n{\n            'v': 0.3266666666666662,\n            'f': \"0.3266666666666662\",\n        },\n{\n            'v': 0.19333333333333325,\n            'f': \"0.19333333333333325\",\n        }],\n [{\n            'v': 44,\n            'f': \"44\",\n        },\n{\n            'v': 0.07666666666666688,\n            'f': \"0.07666666666666688\",\n        },\n{\n            'v': 0.036666666666666625,\n            'f': \"0.036666666666666625\",\n        },\n{\n            'v': 0.04333333333333389,\n            'f': \"0.04333333333333389\",\n        },\n{\n            'v': 0.036666666666666625,\n            'f': \"0.036666666666666625\",\n        }],\n [{\n            'v': 45,\n            'f': \"45\",\n        },\n{\n            'v': 0.08999999999999997,\n            'f': \"0.08999999999999997\",\n        },\n{\n            'v': 0.1366666666666665,\n            'f': \"0.1366666666666665\",\n        },\n{\n            'v': 0.1299999999999999,\n            'f': \"0.1299999999999999\",\n        },\n{\n            'v': 0.1366666666666665,\n            'f': \"0.1366666666666665\",\n        }],\n [{\n            'v': 46,\n            'f': \"46\",\n        },\n{\n            'v': 0.14000000000000012,\n            'f': \"0.14000000000000012\",\n        },\n{\n            'v': 0.22333333333333327,\n            'f': \"0.22333333333333327\",\n        },\n{\n            'v': 0.5199999999999998,\n            'f': \"0.5199999999999998\",\n        },\n{\n            'v': 0.22333333333333327,\n            'f': \"0.22333333333333327\",\n        }],\n [{\n            'v': 47,\n            'f': \"47\",\n        },\n{\n            'v': 0.08999999999999997,\n            'f': \"0.08999999999999997\",\n        },\n{\n            'v': 0.18000000000000005,\n            'f': \"0.18000000000000005\",\n        },\n{\n            'v': 0.11333333333333329,\n            'f': \"0.11333333333333329\",\n        },\n{\n            'v': 0.18000000000000005,\n            'f': \"0.18000000000000005\",\n        }],\n [{\n            'v': 48,\n            'f': \"48\",\n        },\n{\n            'v': 0.12,\n            'f': \"0.12\",\n        },\n{\n            'v': 0.16000000000000014,\n            'f': \"0.16000000000000014\",\n        },\n{\n            'v': 0.49333333333333407,\n            'f': \"0.49333333333333407\",\n        },\n{\n            'v': 0.16000000000000014,\n            'f': \"0.16000000000000014\",\n        }],\n [{\n            'v': 49,\n            'f': \"49\",\n        },\n{\n            'v': 0.18333333333333335,\n            'f': \"0.18333333333333335\",\n        },\n{\n            'v': 0.21333333333333337,\n            'f': \"0.21333333333333337\",\n        },\n{\n            'v': 0.4933333333333332,\n            'f': \"0.4933333333333332\",\n        },\n{\n            'v': 0.21333333333333337,\n            'f': \"0.21333333333333337\",\n        }],\n [{\n            'v': 50,\n            'f': \"50\",\n        },\n{\n            'v': 0.030000000000000138,\n            'f': \"0.030000000000000138\",\n        },\n{\n            'v': 0.15000000000000008,\n            'f': \"0.15000000000000008\",\n        },\n{\n            'v': 0.793333333333333,\n            'f': \"0.793333333333333\",\n        },\n{\n            'v': 0.15000000000000008,\n            'f': \"0.15000000000000008\",\n        }],\n [{\n            'v': 51,\n            'f': \"51\",\n        },\n{\n            'v': 0.10666666666666658,\n            'f': \"0.10666666666666658\",\n        },\n{\n            'v': 0.17000000000000004,\n            'f': \"0.17000000000000004\",\n        },\n{\n            'v': 1.1566666666666667,\n            'f': \"1.1566666666666667\",\n        },\n{\n            'v': 0.17000000000000004,\n            'f': \"0.17000000000000004\",\n        }],\n [{\n            'v': 52,\n            'f': \"52\",\n        },\n{\n            'v': 0.13000000000000012,\n            'f': \"0.13000000000000012\",\n        },\n{\n            'v': 0.29999999999999993,\n            'f': \"0.29999999999999993\",\n        },\n{\n            'v': 0.3966666666666665,\n            'f': \"0.3966666666666665\",\n        },\n{\n            'v': 0.29999999999999993,\n            'f': \"0.29999999999999993\",\n        }],\n [{\n            'v': 53,\n            'f': \"53\",\n        },\n{\n            'v': 0.11333333333333329,\n            'f': \"0.11333333333333329\",\n        },\n{\n            'v': 0.1299999999999999,\n            'f': \"0.1299999999999999\",\n        },\n{\n            'v': 0.9266666666666665,\n            'f': \"0.9266666666666665\",\n        },\n{\n            'v': 0.1299999999999999,\n            'f': \"0.1299999999999999\",\n        }],\n [{\n            'v': 54,\n            'f': \"54\",\n        },\n{\n            'v': 0.21333333333333337,\n            'f': \"0.21333333333333337\",\n        },\n{\n            'v': 0.22666666666666657,\n            'f': \"0.22666666666666657\",\n        },\n{\n            'v': 0.1666666666666663,\n            'f': \"0.1666666666666663\",\n        },\n{\n            'v': 0.22666666666666657,\n            'f': \"0.22666666666666657\",\n        }]],\n        columns: [[\"number\", \"index\"], [\"number\", \"Acc diff x tilts\"], [\"number\", \"Acc diff x contrasts\"], [\"number\", \"Conf diff x tilts\"], [\"number\", \"Conf diff x contrasts\"]],\n        columnOptions: [{\"width\": \"1px\", \"className\": \"index_column\"}],\n        rowsPerPage: 25,\n        helpUrl: \"https://colab.research.google.com/notebooks/data_table.ipynb\",\n        suppressOutputScrolling: true,\n        minimumWidth: undefined,\n      });\n    ",
            "text/html": [
              "\n",
              "  <div id=\"df-c7b987ca-c1f6-4ebd-9148-972892408d07\">\n",
              "    <div class=\"colab-df-container\">\n",
              "      <div>\n",
              "<style scoped>\n",
              "    .dataframe tbody tr th:only-of-type {\n",
              "        vertical-align: middle;\n",
              "    }\n",
              "\n",
              "    .dataframe tbody tr th {\n",
              "        vertical-align: top;\n",
              "    }\n",
              "\n",
              "    .dataframe thead th {\n",
              "        text-align: right;\n",
              "    }\n",
              "</style>\n",
              "<table border=\"1\" class=\"dataframe\">\n",
              "  <thead>\n",
              "    <tr style=\"text-align: right;\">\n",
              "      <th></th>\n",
              "      <th>Acc diff x tilts</th>\n",
              "      <th>Acc diff x contrasts</th>\n",
              "      <th>Conf diff x tilts</th>\n",
              "      <th>Conf diff x contrasts</th>\n",
              "    </tr>\n",
              "  </thead>\n",
              "  <tbody>\n",
              "    <tr>\n",
              "      <th>0</th>\n",
              "      <td>0.120000</td>\n",
              "      <td>0.236667</td>\n",
              "      <td>0.576667</td>\n",
              "      <td>0.236667</td>\n",
              "    </tr>\n",
              "    <tr>\n",
              "      <th>1</th>\n",
              "      <td>0.013333</td>\n",
              "      <td>0.183333</td>\n",
              "      <td>0.916667</td>\n",
              "      <td>0.183333</td>\n",
              "    </tr>\n",
              "    <tr>\n",
              "      <th>2</th>\n",
              "      <td>0.140000</td>\n",
              "      <td>0.250000</td>\n",
              "      <td>0.470000</td>\n",
              "      <td>0.250000</td>\n",
              "    </tr>\n",
              "    <tr>\n",
              "      <th>3</th>\n",
              "      <td>0.000000</td>\n",
              "      <td>0.206667</td>\n",
              "      <td>0.053333</td>\n",
              "      <td>0.206667</td>\n",
              "    </tr>\n",
              "    <tr>\n",
              "      <th>4</th>\n",
              "      <td>0.066667</td>\n",
              "      <td>0.073333</td>\n",
              "      <td>0.326667</td>\n",
              "      <td>0.073333</td>\n",
              "    </tr>\n",
              "    <tr>\n",
              "      <th>5</th>\n",
              "      <td>0.130000</td>\n",
              "      <td>0.246667</td>\n",
              "      <td>0.063333</td>\n",
              "      <td>0.246667</td>\n",
              "    </tr>\n",
              "    <tr>\n",
              "      <th>6</th>\n",
              "      <td>0.013333</td>\n",
              "      <td>0.176667</td>\n",
              "      <td>0.333333</td>\n",
              "      <td>0.176667</td>\n",
              "    </tr>\n",
              "    <tr>\n",
              "      <th>7</th>\n",
              "      <td>0.133333</td>\n",
              "      <td>0.190000</td>\n",
              "      <td>0.513333</td>\n",
              "      <td>0.190000</td>\n",
              "    </tr>\n",
              "    <tr>\n",
              "      <th>8</th>\n",
              "      <td>0.160000</td>\n",
              "      <td>0.243333</td>\n",
              "      <td>0.680000</td>\n",
              "      <td>0.243333</td>\n",
              "    </tr>\n",
              "    <tr>\n",
              "      <th>9</th>\n",
              "      <td>0.216667</td>\n",
              "      <td>0.276667</td>\n",
              "      <td>0.856667</td>\n",
              "      <td>0.276667</td>\n",
              "    </tr>\n",
              "    <tr>\n",
              "      <th>10</th>\n",
              "      <td>0.086667</td>\n",
              "      <td>0.206667</td>\n",
              "      <td>0.183333</td>\n",
              "      <td>0.206667</td>\n",
              "    </tr>\n",
              "    <tr>\n",
              "      <th>11</th>\n",
              "      <td>0.010000</td>\n",
              "      <td>0.253333</td>\n",
              "      <td>0.620000</td>\n",
              "      <td>0.253333</td>\n",
              "    </tr>\n",
              "    <tr>\n",
              "      <th>12</th>\n",
              "      <td>0.030000</td>\n",
              "      <td>0.053333</td>\n",
              "      <td>0.076667</td>\n",
              "      <td>0.053333</td>\n",
              "    </tr>\n",
              "    <tr>\n",
              "      <th>13</th>\n",
              "      <td>0.063333</td>\n",
              "      <td>0.213333</td>\n",
              "      <td>0.206667</td>\n",
              "      <td>0.213333</td>\n",
              "    </tr>\n",
              "    <tr>\n",
              "      <th>14</th>\n",
              "      <td>0.113333</td>\n",
              "      <td>0.270000</td>\n",
              "      <td>0.193333</td>\n",
              "      <td>0.270000</td>\n",
              "    </tr>\n",
              "    <tr>\n",
              "      <th>15</th>\n",
              "      <td>0.163333</td>\n",
              "      <td>0.213333</td>\n",
              "      <td>0.366667</td>\n",
              "      <td>0.213333</td>\n",
              "    </tr>\n",
              "    <tr>\n",
              "      <th>16</th>\n",
              "      <td>0.173333</td>\n",
              "      <td>0.136667</td>\n",
              "      <td>0.330000</td>\n",
              "      <td>0.136667</td>\n",
              "    </tr>\n",
              "    <tr>\n",
              "      <th>17</th>\n",
              "      <td>0.073333</td>\n",
              "      <td>0.146667</td>\n",
              "      <td>0.586667</td>\n",
              "      <td>0.146667</td>\n",
              "    </tr>\n",
              "    <tr>\n",
              "      <th>18</th>\n",
              "      <td>0.040000</td>\n",
              "      <td>0.260000</td>\n",
              "      <td>0.413333</td>\n",
              "      <td>0.260000</td>\n",
              "    </tr>\n",
              "    <tr>\n",
              "      <th>19</th>\n",
              "      <td>0.096667</td>\n",
              "      <td>0.153333</td>\n",
              "      <td>0.203333</td>\n",
              "      <td>0.153333</td>\n",
              "    </tr>\n",
              "    <tr>\n",
              "      <th>20</th>\n",
              "      <td>0.183333</td>\n",
              "      <td>0.190000</td>\n",
              "      <td>0.936667</td>\n",
              "      <td>0.190000</td>\n",
              "    </tr>\n",
              "    <tr>\n",
              "      <th>21</th>\n",
              "      <td>0.100000</td>\n",
              "      <td>0.186667</td>\n",
              "      <td>0.766667</td>\n",
              "      <td>0.186667</td>\n",
              "    </tr>\n",
              "    <tr>\n",
              "      <th>22</th>\n",
              "      <td>0.083333</td>\n",
              "      <td>0.173333</td>\n",
              "      <td>0.130000</td>\n",
              "      <td>0.173333</td>\n",
              "    </tr>\n",
              "    <tr>\n",
              "      <th>23</th>\n",
              "      <td>0.150000</td>\n",
              "      <td>0.263333</td>\n",
              "      <td>0.636667</td>\n",
              "      <td>0.263333</td>\n",
              "    </tr>\n",
              "    <tr>\n",
              "      <th>24</th>\n",
              "      <td>0.073333</td>\n",
              "      <td>0.116667</td>\n",
              "      <td>0.273333</td>\n",
              "      <td>0.116667</td>\n",
              "    </tr>\n",
              "    <tr>\n",
              "      <th>25</th>\n",
              "      <td>0.053333</td>\n",
              "      <td>0.186667</td>\n",
              "      <td>1.116667</td>\n",
              "      <td>0.186667</td>\n",
              "    </tr>\n",
              "    <tr>\n",
              "      <th>26</th>\n",
              "      <td>0.066667</td>\n",
              "      <td>0.136667</td>\n",
              "      <td>0.283333</td>\n",
              "      <td>0.136667</td>\n",
              "    </tr>\n",
              "    <tr>\n",
              "      <th>27</th>\n",
              "      <td>0.073333</td>\n",
              "      <td>0.176667</td>\n",
              "      <td>0.540000</td>\n",
              "      <td>0.176667</td>\n",
              "    </tr>\n",
              "    <tr>\n",
              "      <th>28</th>\n",
              "      <td>0.273333</td>\n",
              "      <td>0.243333</td>\n",
              "      <td>0.963333</td>\n",
              "      <td>0.243333</td>\n",
              "    </tr>\n",
              "    <tr>\n",
              "      <th>29</th>\n",
              "      <td>0.103333</td>\n",
              "      <td>0.106667</td>\n",
              "      <td>0.483333</td>\n",
              "      <td>0.106667</td>\n",
              "    </tr>\n",
              "    <tr>\n",
              "      <th>30</th>\n",
              "      <td>0.023333</td>\n",
              "      <td>0.250000</td>\n",
              "      <td>0.210000</td>\n",
              "      <td>0.250000</td>\n",
              "    </tr>\n",
              "    <tr>\n",
              "      <th>31</th>\n",
              "      <td>0.093333</td>\n",
              "      <td>0.120000</td>\n",
              "      <td>0.580000</td>\n",
              "      <td>0.120000</td>\n",
              "    </tr>\n",
              "    <tr>\n",
              "      <th>32</th>\n",
              "      <td>0.176667</td>\n",
              "      <td>0.183333</td>\n",
              "      <td>1.253333</td>\n",
              "      <td>0.183333</td>\n",
              "    </tr>\n",
              "    <tr>\n",
              "      <th>33</th>\n",
              "      <td>0.153333</td>\n",
              "      <td>0.243333</td>\n",
              "      <td>0.926667</td>\n",
              "      <td>0.243333</td>\n",
              "    </tr>\n",
              "    <tr>\n",
              "      <th>34</th>\n",
              "      <td>0.123333</td>\n",
              "      <td>0.146667</td>\n",
              "      <td>0.986667</td>\n",
              "      <td>0.146667</td>\n",
              "    </tr>\n",
              "    <tr>\n",
              "      <th>35</th>\n",
              "      <td>0.033333</td>\n",
              "      <td>0.230000</td>\n",
              "      <td>0.276667</td>\n",
              "      <td>0.230000</td>\n",
              "    </tr>\n",
              "    <tr>\n",
              "      <th>36</th>\n",
              "      <td>0.216667</td>\n",
              "      <td>0.260000</td>\n",
              "      <td>0.926667</td>\n",
              "      <td>0.260000</td>\n",
              "    </tr>\n",
              "    <tr>\n",
              "      <th>37</th>\n",
              "      <td>0.100000</td>\n",
              "      <td>0.066667</td>\n",
              "      <td>0.046667</td>\n",
              "      <td>0.066667</td>\n",
              "    </tr>\n",
              "    <tr>\n",
              "      <th>38</th>\n",
              "      <td>0.110000</td>\n",
              "      <td>0.210000</td>\n",
              "      <td>0.750000</td>\n",
              "      <td>0.210000</td>\n",
              "    </tr>\n",
              "    <tr>\n",
              "      <th>39</th>\n",
              "      <td>0.040000</td>\n",
              "      <td>0.090000</td>\n",
              "      <td>0.230000</td>\n",
              "      <td>0.090000</td>\n",
              "    </tr>\n",
              "    <tr>\n",
              "      <th>40</th>\n",
              "      <td>0.023333</td>\n",
              "      <td>0.186667</td>\n",
              "      <td>0.663333</td>\n",
              "      <td>0.186667</td>\n",
              "    </tr>\n",
              "    <tr>\n",
              "      <th>41</th>\n",
              "      <td>0.070000</td>\n",
              "      <td>0.240000</td>\n",
              "      <td>0.436667</td>\n",
              "      <td>0.240000</td>\n",
              "    </tr>\n",
              "    <tr>\n",
              "      <th>42</th>\n",
              "      <td>0.006667</td>\n",
              "      <td>0.080000</td>\n",
              "      <td>0.090000</td>\n",
              "      <td>0.080000</td>\n",
              "    </tr>\n",
              "    <tr>\n",
              "      <th>43</th>\n",
              "      <td>0.010000</td>\n",
              "      <td>0.193333</td>\n",
              "      <td>0.326667</td>\n",
              "      <td>0.193333</td>\n",
              "    </tr>\n",
              "    <tr>\n",
              "      <th>44</th>\n",
              "      <td>0.076667</td>\n",
              "      <td>0.036667</td>\n",
              "      <td>0.043333</td>\n",
              "      <td>0.036667</td>\n",
              "    </tr>\n",
              "    <tr>\n",
              "      <th>45</th>\n",
              "      <td>0.090000</td>\n",
              "      <td>0.136667</td>\n",
              "      <td>0.130000</td>\n",
              "      <td>0.136667</td>\n",
              "    </tr>\n",
              "    <tr>\n",
              "      <th>46</th>\n",
              "      <td>0.140000</td>\n",
              "      <td>0.223333</td>\n",
              "      <td>0.520000</td>\n",
              "      <td>0.223333</td>\n",
              "    </tr>\n",
              "    <tr>\n",
              "      <th>47</th>\n",
              "      <td>0.090000</td>\n",
              "      <td>0.180000</td>\n",
              "      <td>0.113333</td>\n",
              "      <td>0.180000</td>\n",
              "    </tr>\n",
              "    <tr>\n",
              "      <th>48</th>\n",
              "      <td>0.120000</td>\n",
              "      <td>0.160000</td>\n",
              "      <td>0.493333</td>\n",
              "      <td>0.160000</td>\n",
              "    </tr>\n",
              "    <tr>\n",
              "      <th>49</th>\n",
              "      <td>0.183333</td>\n",
              "      <td>0.213333</td>\n",
              "      <td>0.493333</td>\n",
              "      <td>0.213333</td>\n",
              "    </tr>\n",
              "    <tr>\n",
              "      <th>50</th>\n",
              "      <td>0.030000</td>\n",
              "      <td>0.150000</td>\n",
              "      <td>0.793333</td>\n",
              "      <td>0.150000</td>\n",
              "    </tr>\n",
              "    <tr>\n",
              "      <th>51</th>\n",
              "      <td>0.106667</td>\n",
              "      <td>0.170000</td>\n",
              "      <td>1.156667</td>\n",
              "      <td>0.170000</td>\n",
              "    </tr>\n",
              "    <tr>\n",
              "      <th>52</th>\n",
              "      <td>0.130000</td>\n",
              "      <td>0.300000</td>\n",
              "      <td>0.396667</td>\n",
              "      <td>0.300000</td>\n",
              "    </tr>\n",
              "    <tr>\n",
              "      <th>53</th>\n",
              "      <td>0.113333</td>\n",
              "      <td>0.130000</td>\n",
              "      <td>0.926667</td>\n",
              "      <td>0.130000</td>\n",
              "    </tr>\n",
              "    <tr>\n",
              "      <th>54</th>\n",
              "      <td>0.213333</td>\n",
              "      <td>0.226667</td>\n",
              "      <td>0.166667</td>\n",
              "      <td>0.226667</td>\n",
              "    </tr>\n",
              "  </tbody>\n",
              "</table>\n",
              "</div>\n",
              "      <button class=\"colab-df-convert\" onclick=\"convertToInteractive('df-c7b987ca-c1f6-4ebd-9148-972892408d07')\"\n",
              "              title=\"Convert this dataframe to an interactive table.\"\n",
              "              style=\"display:none;\">\n",
              "        \n",
              "  <svg xmlns=\"http://www.w3.org/2000/svg\" height=\"24px\"viewBox=\"0 0 24 24\"\n",
              "       width=\"24px\">\n",
              "    <path d=\"M0 0h24v24H0V0z\" fill=\"none\"/>\n",
              "    <path d=\"M18.56 5.44l.94 2.06.94-2.06 2.06-.94-2.06-.94-.94-2.06-.94 2.06-2.06.94zm-11 1L8.5 8.5l.94-2.06 2.06-.94-2.06-.94L8.5 2.5l-.94 2.06-2.06.94zm10 10l.94 2.06.94-2.06 2.06-.94-2.06-.94-.94-2.06-.94 2.06-2.06.94z\"/><path d=\"M17.41 7.96l-1.37-1.37c-.4-.4-.92-.59-1.43-.59-.52 0-1.04.2-1.43.59L10.3 9.45l-7.72 7.72c-.78.78-.78 2.05 0 2.83L4 21.41c.39.39.9.59 1.41.59.51 0 1.02-.2 1.41-.59l7.78-7.78 2.81-2.81c.8-.78.8-2.07 0-2.86zM5.41 20L4 18.59l7.72-7.72 1.47 1.35L5.41 20z\"/>\n",
              "  </svg>\n",
              "      </button>\n",
              "      \n",
              "  <style>\n",
              "    .colab-df-container {\n",
              "      display:flex;\n",
              "      flex-wrap:wrap;\n",
              "      gap: 12px;\n",
              "    }\n",
              "\n",
              "    .colab-df-convert {\n",
              "      background-color: #E8F0FE;\n",
              "      border: none;\n",
              "      border-radius: 50%;\n",
              "      cursor: pointer;\n",
              "      display: none;\n",
              "      fill: #1967D2;\n",
              "      height: 32px;\n",
              "      padding: 0 0 0 0;\n",
              "      width: 32px;\n",
              "    }\n",
              "\n",
              "    .colab-df-convert:hover {\n",
              "      background-color: #E2EBFA;\n",
              "      box-shadow: 0px 1px 2px rgba(60, 64, 67, 0.3), 0px 1px 3px 1px rgba(60, 64, 67, 0.15);\n",
              "      fill: #174EA6;\n",
              "    }\n",
              "\n",
              "    [theme=dark] .colab-df-convert {\n",
              "      background-color: #3B4455;\n",
              "      fill: #D2E3FC;\n",
              "    }\n",
              "\n",
              "    [theme=dark] .colab-df-convert:hover {\n",
              "      background-color: #434B5C;\n",
              "      box-shadow: 0px 1px 3px 1px rgba(0, 0, 0, 0.15);\n",
              "      filter: drop-shadow(0px 1px 2px rgba(0, 0, 0, 0.3));\n",
              "      fill: #FFFFFF;\n",
              "    }\n",
              "  </style>\n",
              "\n",
              "      <script>\n",
              "        const buttonEl =\n",
              "          document.querySelector('#df-c7b987ca-c1f6-4ebd-9148-972892408d07 button.colab-df-convert');\n",
              "        buttonEl.style.display =\n",
              "          google.colab.kernel.accessAllowed ? 'block' : 'none';\n",
              "\n",
              "        async function convertToInteractive(key) {\n",
              "          const element = document.querySelector('#df-c7b987ca-c1f6-4ebd-9148-972892408d07');\n",
              "          const dataTable =\n",
              "            await google.colab.kernel.invokeFunction('convertToInteractive',\n",
              "                                                     [key], {});\n",
              "          if (!dataTable) return;\n",
              "\n",
              "          const docLinkHtml = 'Like what you see? Visit the ' +\n",
              "            '<a target=\"_blank\" href=https://colab.research.google.com/notebooks/data_table.ipynb>data table notebook</a>'\n",
              "            + ' to learn more about interactive tables.';\n",
              "          element.innerHTML = '';\n",
              "          dataTable['output_type'] = 'display_data';\n",
              "          await google.colab.output.renderOutput(dataTable, element);\n",
              "          const docLink = document.createElement('div');\n",
              "          docLink.innerHTML = docLinkHtml;\n",
              "          element.appendChild(docLink);\n",
              "        }\n",
              "      </script>\n",
              "    </div>\n",
              "  </div>\n",
              "  "
            ],
            "text/plain": [
              "    Acc diff x tilts  ...  Conf diff x contrasts\n",
              "0           0.120000  ...               0.236667\n",
              "1           0.013333  ...               0.183333\n",
              "2           0.140000  ...               0.250000\n",
              "3           0.000000  ...               0.206667\n",
              "4           0.066667  ...               0.073333\n",
              "5           0.130000  ...               0.246667\n",
              "6           0.013333  ...               0.176667\n",
              "7           0.133333  ...               0.190000\n",
              "8           0.160000  ...               0.243333\n",
              "9           0.216667  ...               0.276667\n",
              "10          0.086667  ...               0.206667\n",
              "11          0.010000  ...               0.253333\n",
              "12          0.030000  ...               0.053333\n",
              "13          0.063333  ...               0.213333\n",
              "14          0.113333  ...               0.270000\n",
              "15          0.163333  ...               0.213333\n",
              "16          0.173333  ...               0.136667\n",
              "17          0.073333  ...               0.146667\n",
              "18          0.040000  ...               0.260000\n",
              "19          0.096667  ...               0.153333\n",
              "20          0.183333  ...               0.190000\n",
              "21          0.100000  ...               0.186667\n",
              "22          0.083333  ...               0.173333\n",
              "23          0.150000  ...               0.263333\n",
              "24          0.073333  ...               0.116667\n",
              "25          0.053333  ...               0.186667\n",
              "26          0.066667  ...               0.136667\n",
              "27          0.073333  ...               0.176667\n",
              "28          0.273333  ...               0.243333\n",
              "29          0.103333  ...               0.106667\n",
              "30          0.023333  ...               0.250000\n",
              "31          0.093333  ...               0.120000\n",
              "32          0.176667  ...               0.183333\n",
              "33          0.153333  ...               0.243333\n",
              "34          0.123333  ...               0.146667\n",
              "35          0.033333  ...               0.230000\n",
              "36          0.216667  ...               0.260000\n",
              "37          0.100000  ...               0.066667\n",
              "38          0.110000  ...               0.210000\n",
              "39          0.040000  ...               0.090000\n",
              "40          0.023333  ...               0.186667\n",
              "41          0.070000  ...               0.240000\n",
              "42          0.006667  ...               0.080000\n",
              "43          0.010000  ...               0.193333\n",
              "44          0.076667  ...               0.036667\n",
              "45          0.090000  ...               0.136667\n",
              "46          0.140000  ...               0.223333\n",
              "47          0.090000  ...               0.180000\n",
              "48          0.120000  ...               0.160000\n",
              "49          0.183333  ...               0.213333\n",
              "50          0.030000  ...               0.150000\n",
              "51          0.106667  ...               0.170000\n",
              "52          0.130000  ...               0.300000\n",
              "53          0.113333  ...               0.130000\n",
              "54          0.213333  ...               0.226667\n",
              "\n",
              "[55 rows x 4 columns]"
            ]
          },
          "metadata": {},
          "execution_count": 12
        }
      ]
    },
    {
      "cell_type": "markdown",
      "source": [
        "should be 9 different arrays ([tilt,contrast] combinations) of length 55 (55 subjects):"
      ],
      "metadata": {
        "id": "ckRbarBFs4qi"
      }
    },
    {
      "cell_type": "code",
      "source": [
        "grouped = df_beh.groupby(['Tilt','Contrast'])\n",
        "for name,group in grouped:\n",
        "   print(name)\n",
        "   print(group.shape)   "
      ],
      "metadata": {
        "id": "KauEmck4sUiS",
        "outputId": "9c56664b-7ac0-492b-c292-c5eb0fa8aca0",
        "colab": {
          "base_uri": "https://localhost:8080/"
        }
      },
      "execution_count": 15,
      "outputs": [
        {
          "output_type": "stream",
          "name": "stdout",
          "text": [
            "(1, 1)\n",
            "(55, 4)\n",
            "(1, 2)\n",
            "(55, 4)\n",
            "(1, 3)\n",
            "(55, 4)\n",
            "(2, 1)\n",
            "(55, 4)\n",
            "(2, 2)\n",
            "(55, 4)\n",
            "(2, 3)\n",
            "(55, 4)\n",
            "(3, 1)\n",
            "(55, 4)\n",
            "(3, 2)\n",
            "(55, 4)\n",
            "(3, 3)\n",
            "(55, 4)\n"
          ]
        }
      ]
    },
    {
      "cell_type": "code",
      "source": [
        "grouped['Accuracy'].agg(np.mean)"
      ],
      "metadata": {
        "id": "VkLVVI3htmr1",
        "outputId": "fae65471-8a6f-4d2f-a856-81754cd0fbad",
        "colab": {
          "base_uri": "https://localhost:8080/"
        }
      },
      "execution_count": 16,
      "outputs": [
        {
          "output_type": "execute_result",
          "data": {
            "text/plain": [
              "Tilt  Contrast\n",
              "1     1           0.558909\n",
              "      2           0.587818\n",
              "      3           0.609091\n",
              "2     1           0.589455\n",
              "      2           0.667091\n",
              "      3           0.708727\n",
              "3     1           0.698909\n",
              "      2           0.786727\n",
              "      3           0.826364\n",
              "Name: Accuracy, dtype: float64"
            ]
          },
          "metadata": {},
          "execution_count": 16
        }
      ]
    },
    {
      "cell_type": "markdown",
      "source": [
        "Group by tilt & contrast and calculate the standard error of the mean for all 55 subjects' confidence and accuracy scores."
      ],
      "metadata": {
        "id": "lEmZmwh3u-V4"
      }
    },
    {
      "cell_type": "code",
      "source": [
        "grouped = df_beh.groupby(['Tilt','Contrast'])\n",
        "sem_conf = grouped['Confidence'].agg(sem)\n",
        "sem_acc = grouped['Accuracy'].agg(sem)"
      ],
      "metadata": {
        "id": "K92e5I2yu6Uk"
      },
      "execution_count": 17,
      "outputs": []
    },
    {
      "cell_type": "code",
      "source": [
        "sem_conf"
      ],
      "metadata": {
        "id": "OrAAQ6HNy_Qi",
        "outputId": "c7967406-4ecc-4a08-cafc-e96d82d285d1",
        "colab": {
          "base_uri": "https://localhost:8080/"
        }
      },
      "execution_count": 18,
      "outputs": [
        {
          "output_type": "execute_result",
          "data": {
            "text/plain": [
              "Tilt  Contrast\n",
              "1     1           0.064195\n",
              "      2           0.062081\n",
              "      3           0.059975\n",
              "2     1           0.064704\n",
              "      2           0.062115\n",
              "      3           0.056786\n",
              "3     1           0.062264\n",
              "      2           0.058879\n",
              "      3           0.057765\n",
              "Name: Confidence, dtype: float64"
            ]
          },
          "metadata": {},
          "execution_count": 18
        }
      ]
    },
    {
      "cell_type": "code",
      "source": [
        "sem_conf.iloc[8]"
      ],
      "metadata": {
        "id": "J1SMDj9Axtfh",
        "outputId": "5c7dc3bd-bd6c-4e93-ca26-4c9672e47d06",
        "colab": {
          "base_uri": "https://localhost:8080/"
        }
      },
      "execution_count": 19,
      "outputs": [
        {
          "output_type": "execute_result",
          "data": {
            "text/plain": [
              "0.0577649947008966"
            ]
          },
          "metadata": {},
          "execution_count": 19
        }
      ]
    },
    {
      "cell_type": "code",
      "source": [
        "sem_acc.iloc[8]"
      ],
      "metadata": {
        "id": "KnOgce6v0mRN",
        "outputId": "af9d778d-1b7b-4bb9-f0eb-637bfbabf4a0",
        "colab": {
          "base_uri": "https://localhost:8080/"
        }
      },
      "execution_count": 20,
      "outputs": [
        {
          "output_type": "execute_result",
          "data": {
            "text/plain": [
              "0.014061825095187759"
            ]
          },
          "metadata": {},
          "execution_count": 20
        }
      ]
    },
    {
      "cell_type": "markdown",
      "source": [
        "Setup all the plotting helper functions."
      ],
      "metadata": {
        "id": "SC-Bk-hhnYwy"
      }
    },
    {
      "cell_type": "code",
      "source": [
        "def show_sem(axs, err_b): #get sem for fig 1a-c plots\n",
        "  y_measurement = []\n",
        "  for idx,p in enumerate(axs.patches):    \n",
        "    _x = p.get_x() + p.get_width() / 2\n",
        "    _y = p.get_y() + p.get_height()\n",
        "    axs.errorbar(_x, _y, yerr=err_b.iloc[idx], color=\"k\")\n",
        "    y_measurement.append(_y)\n",
        "  return y_measurement\n",
        "def draw_fig1a(df_beh, sem_acc, ax1):\n",
        "  fig1a = sns.barplot(data=df_beh, x=\"Tilt\", y=\"Accuracy\", \n",
        "                hue=\"Contrast\", palette=\"pastel\", ci=None, ax=ax1)\n",
        "  ax1.set_ylim(0.5,1), ax1.set_xlabel('Magnitude of tilt')\n",
        "  mean_acc = show_sem(ax1, sem_acc)\n",
        "  return mean_acc\n",
        "def draw_fig1b(df_beh, sem_conf, ax2):\n",
        "  fig1b = sns.barplot(data=df_beh, x=\"Tilt\", y=\"Confidence\", \n",
        "                hue=\"Contrast\", palette=\"pastel\", ci=None, ax=ax2)\n",
        "  ax2.set_ylim(1.5,3.5), ax2.set_xlabel('Magnitude of tilt')\n",
        "  mean_conf = show_sem(ax2, sem_conf)\n",
        "  return mean_conf\n",
        "def draw_fig1c(ax1, ax2, mean_acc, mean_conf):\n",
        "  fig1c_x = [mean_acc[6], mean_acc[4], mean_acc[2]]\n",
        "  fig1c_y = [mean_conf[6], mean_conf[4], mean_conf[2]]\n",
        "  colors_1c = [plt.cm.Set3(0), plt.cm.Set3(3), plt.cm.Set3(4)]\n",
        "  for idx, color in enumerate(['Contrast 3 Tilt 1', 'Contrast 2 Tilt 2', \n",
        "                             'Contrast 1 Tilt 3']):\n",
        "    ax3.scatter(fig1c_x[idx], fig1c_y[idx], color=colors_1c[idx], label=color,\n",
        "               marker='d', linewidths=5)\n",
        "  ax3.legend()\n",
        "  ax3.errorbar(fig1c_x, fig1c_y, xerr=np.array(sem_acc.iloc[[6, 4, 2]]), \n",
        "             yerr=np.array(sem_conf.iloc[[6, 4, 2]]), color=\"k\", \n",
        "             linestyle='None', elinewidth=0.5)\n",
        "  ax3.set_ylim(2,2.8), ax3.set_xlim(0.58,0.72)\n",
        "  ax3.set_xlabel('Accuracy'), ax3.set_ylabel('Confidence') \n",
        "def draw_fig1d(df_fig1d, ax4):\n",
        "  ax4.set_xlabel(r'$\\Delta$Accuracy & $\\Delta$Confidence') \n",
        "  ax4.set_ylabel('Accuracy') \n",
        "  tilt_acc_diff = df_fig1d['Acc diff x contrasts'].mean()\n",
        "  cont_acc_diff = df_fig1d['Acc diff x tilts'].mean()\n",
        "  left = [tilt_acc_diff,cont_acc_diff]\n",
        "  colors_1d=[plt.cm.Set3(5), plt.cm.Set3(2)]\n",
        "  tilt_conf_diff = df_fig1d['Conf diff x contrasts'].mean()\n",
        "  cont_conf_diff = df_fig1d['Conf diff x tilts'].mean()\n",
        "  for idx, label in enumerate(['Tilt', 'Contrast']):\n",
        "    ax4.bar(idx, left[idx], width=-0.8, align='edge', color=colors_1d[idx], \n",
        "            label=label) \n",
        "  #ax4.set_xticklabels([r'$\\Delta$Accuracy',])\n",
        "  ax4.set_xticklabels([])\n",
        "  ax4.tick_params(axis='x', bottom=False)\n",
        "  ax4.set_frame_on(False)\n",
        "  ax4.legend(loc=9) \n",
        "  # Adding Twin Axes\n",
        "  ax5 = ax4.twinx() \n",
        "  #ax5.set_xlabel(r'$\\Delta$ Confidence', loc='right') \n",
        "  ax5.set_ylabel('Confidence') \n",
        "  ax5.bar([3,4], [tilt_conf_diff,cont_conf_diff], width=0.8, align='edge',\n",
        "          color=[plt.cm.Set3(5), plt.cm.Set3(2)], label='Contrast') \n",
        "  ax5.set_frame_on(False)\n",
        "  #ax5.tick_params(axis='x',bottom=False) \n",
        "  #ax5.set_xticklabels([r'$\\Delta$ Confidence',])\n",
        "  ax5.set_xticklabels([])"
      ],
      "metadata": {
        "id": "KQ7ubDfSlzK-"
      },
      "execution_count": 143,
      "outputs": []
    },
    {
      "cell_type": "code",
      "source": [
        "df_fig1d['Acc diff x contrasts'].sem()"
      ],
      "metadata": {
        "id": "obUNRlkOx9Zo",
        "outputId": "65bc346c-80b2-4062-dc5b-8ec1383f6207",
        "colab": {
          "base_uri": "https://localhost:8080/"
        }
      },
      "execution_count": 141,
      "outputs": [
        {
          "output_type": "execute_result",
          "data": {
            "text/plain": [
              "0.008320862007621319"
            ]
          },
          "metadata": {},
          "execution_count": 141
        }
      ]
    },
    {
      "cell_type": "markdown",
      "source": [
        "Draw the plots."
      ],
      "metadata": {
        "id": "VaVQu1upnc6T"
      }
    },
    {
      "cell_type": "code",
      "source": [
        "#sns.set_theme(style=\"whitegrid\")\n",
        "matplotlib.rc_file_defaults() #reset defaults\n",
        "fig, ((ax1, ax2), (ax3, ax4)) = plt.subplots(2, 2, figsize=(20,10)) #set up canvas\n",
        "sns.despine(fig, left=True, bottom=True)\n",
        "mean_acc = draw_fig1a(df_beh, sem_acc, ax1)\n",
        "mean_conf = draw_fig1b(df_beh, sem_conf, ax2)\n",
        "draw_fig1c(ax1, ax2, mean_acc, mean_conf)\n",
        "draw_fig1d(df_fig1d, ax4)\n",
        "#plt.tight_layout()\n",
        "#plt.savefig('conf_acc_van3.png', transparent=True, dpi=300)"
      ],
      "metadata": {
        "id": "1n7Pxq7EY2-F",
        "outputId": "a58e04d6-fec1-425f-9e0a-17f71f9e464e",
        "colab": {
          "base_uri": "https://localhost:8080/",
          "height": 855
        }
      },
      "execution_count": 144,
      "outputs": [
        {
          "output_type": "display_data",
          "data": {
            "image/png": "[encoded data removed]",
            "text/plain": [
              "<Figure size 2000x1000 with 5 Axes>"
            ]
          },
          "metadata": {}
        }
      ]
    },
    {
      "cell_type": "markdown",
      "source": [
        "#STOPPED HERE, WORK ON DRAW_FIG1D FUNCTION NEXT, ADD SEM"
      ],
      "metadata": {
        "id": "ZTwwgABh2rI5"
      }
    },
    {
      "cell_type": "markdown",
      "source": [
        "Set the NaN indices for behavior results."
      ],
      "metadata": {
        "id": "ARLjTwmGX57_"
      }
    },
    {
      "cell_type": "code",
      "source": [
        "print(df_cif['Tilt'])\n",
        "print(df_van3['Tilt'])\n",
        "print(df_vgg['Tilt'])"
      ],
      "metadata": {
        "colab": {
          "base_uri": "https://localhost:8080/"
        },
        "id": "Tpf5n74XXo0A",
        "outputId": "cfa246c8-9894-4bc8-c50f-62368b389d5d"
      },
      "execution_count": null,
      "outputs": [
        {
          "output_type": "stream",
          "name": "stdout",
          "text": [
            "0     0.1\n",
            "1     NaN\n",
            "2     NaN\n",
            "3     0.2\n",
            "4     NaN\n",
            "5     NaN\n",
            "6     0.4\n",
            "7     NaN\n",
            "8     NaN\n",
            "9     0.8\n",
            "10    NaN\n",
            "11    NaN\n",
            "12    1.6\n",
            "13    NaN\n",
            "14    NaN\n",
            "15    3.2\n",
            "16    NaN\n",
            "17    NaN\n",
            "Name: Tilt, dtype: float64\n",
            "0     0.1\n",
            "1     NaN\n",
            "2     NaN\n",
            "3     0.2\n",
            "4     NaN\n",
            "5     NaN\n",
            "6     0.4\n",
            "7     NaN\n",
            "8     NaN\n",
            "9     0.8\n",
            "10    NaN\n",
            "11    NaN\n",
            "12    1.6\n",
            "13    NaN\n",
            "14    NaN\n",
            "15    3.2\n",
            "16    NaN\n",
            "17    NaN\n",
            "Name: Tilt, dtype: float64\n",
            "0     0.1\n",
            "1     NaN\n",
            "2     NaN\n",
            "3     0.2\n",
            "4     NaN\n",
            "5     NaN\n",
            "6     0.4\n",
            "7     NaN\n",
            "8     NaN\n",
            "9     0.8\n",
            "10    NaN\n",
            "11    NaN\n",
            "12    1.6\n",
            "13    NaN\n",
            "14    NaN\n",
            "15    3.2\n",
            "16    NaN\n",
            "17    NaN\n",
            "Name: Tilt, dtype: float64\n"
          ]
        }
      ]
    },
    {
      "cell_type": "markdown",
      "source": [
        "Set the NaN indices for model results."
      ],
      "metadata": {
        "id": "lEkTBv6ZX-74"
      }
    },
    {
      "cell_type": "code",
      "source": [
        "df_nanidx_mod = [1,2,4,5,7,8,10,11,13,14,16,17]"
      ],
      "metadata": {
        "id": "MjKoy26PX34x"
      },
      "execution_count": null,
      "outputs": []
    },
    {
      "cell_type": "markdown",
      "source": [
        "Remove all the NaNs."
      ],
      "metadata": {
        "id": "-fC3oRMOYzxY"
      }
    },
    {
      "cell_type": "code",
      "source": [
        "df_beh.loc[df_nanidx,'Tilt'] = [1.0,1.0,2.0,2.0,3.0,3.0]\n",
        "df_cif.loc[df_nanidx_mod,'Tilt'] = [0.1,0.1,0.2,0.2,0.4,0.4,0.8,0.8,1.6,1.6,3.2,3.2]\n",
        "df_van3.loc[df_nanidx_mod,'Tilt'] = [0.1,0.1,0.2,0.2,0.4,0.4,0.8,0.8,1.6,1.6,3.2,3.2]\n",
        "df_vgg.loc[df_nanidx_mod,'Tilt'] = [0.1,0.1,0.2,0.2,0.4,0.4,0.8,0.8,1.6,1.6,3.2,3.2]"
      ],
      "metadata": {
        "id": "-OJ7PZ9DWbgK"
      },
      "execution_count": null,
      "outputs": []
    },
    {
      "cell_type": "code",
      "source": [
        "print(df_beh['Tilt'])\n",
        "print(df_vgg['Tilt'])"
      ],
      "metadata": {
        "colab": {
          "base_uri": "https://localhost:8080/"
        },
        "id": "dcFEMYSZTI6L",
        "outputId": "09755328-9e37-4a68-e988-1ca8ade23ee9"
      },
      "execution_count": null,
      "outputs": [
        {
          "output_type": "stream",
          "name": "stdout",
          "text": [
            "0    1.0\n",
            "1    1.0\n",
            "2    1.0\n",
            "3    2.0\n",
            "4    2.0\n",
            "5    2.0\n",
            "6    3.0\n",
            "7    3.0\n",
            "8    3.0\n",
            "Name: Tilt, dtype: float64\n",
            "0     0.1\n",
            "1     0.1\n",
            "2     0.1\n",
            "3     0.2\n",
            "4     0.2\n",
            "5     0.2\n",
            "6     0.4\n",
            "7     0.4\n",
            "8     0.4\n",
            "9     0.8\n",
            "10    0.8\n",
            "11    0.8\n",
            "12    1.6\n",
            "13    1.6\n",
            "14    1.6\n",
            "15    3.2\n",
            "16    3.2\n",
            "17    3.2\n",
            "Name: Tilt, dtype: float64\n"
          ]
        }
      ]
    },
    {
      "cell_type": "code",
      "metadata": {
        "colab": {
          "base_uri": "https://localhost:8080/",
          "height": 206
        },
        "id": "nM0hwzN7m1Bs",
        "outputId": "1524e364-0f56-407e-94be-3163df8e7488"
      },
      "source": [
        "df_cif.head()"
      ],
      "execution_count": null,
      "outputs": [
        {
          "output_type": "execute_result",
          "data": {
            "text/html": [
              "<div>\n",
              "<style scoped>\n",
              "    .dataframe tbody tr th:only-of-type {\n",
              "        vertical-align: middle;\n",
              "    }\n",
              "\n",
              "    .dataframe tbody tr th {\n",
              "        vertical-align: top;\n",
              "    }\n",
              "\n",
              "    .dataframe thead th {\n",
              "        text-align: right;\n",
              "    }\n",
              "</style>\n",
              "<table border=\"1\" class=\"dataframe\">\n",
              "  <thead>\n",
              "    <tr style=\"text-align: right;\">\n",
              "      <th></th>\n",
              "      <th>Tilt</th>\n",
              "      <th>Contrast</th>\n",
              "      <th>Accuracy</th>\n",
              "      <th>Confidence</th>\n",
              "    </tr>\n",
              "  </thead>\n",
              "  <tbody>\n",
              "    <tr>\n",
              "      <th>0</th>\n",
              "      <td>0.1</td>\n",
              "      <td>0.30</td>\n",
              "      <td>0.520</td>\n",
              "      <td>0.688855</td>\n",
              "    </tr>\n",
              "    <tr>\n",
              "      <th>1</th>\n",
              "      <td>0.1</td>\n",
              "      <td>0.45</td>\n",
              "      <td>0.511</td>\n",
              "      <td>0.683615</td>\n",
              "    </tr>\n",
              "    <tr>\n",
              "      <th>2</th>\n",
              "      <td>0.1</td>\n",
              "      <td>1.00</td>\n",
              "      <td>0.526</td>\n",
              "      <td>0.742383</td>\n",
              "    </tr>\n",
              "    <tr>\n",
              "      <th>3</th>\n",
              "      <td>0.2</td>\n",
              "      <td>0.30</td>\n",
              "      <td>0.497</td>\n",
              "      <td>0.696570</td>\n",
              "    </tr>\n",
              "    <tr>\n",
              "      <th>4</th>\n",
              "      <td>0.2</td>\n",
              "      <td>0.45</td>\n",
              "      <td>0.503</td>\n",
              "      <td>0.697424</td>\n",
              "    </tr>\n",
              "  </tbody>\n",
              "</table>\n",
              "</div>"
            ],
            "text/plain": [
              "   Tilt  Contrast  Accuracy  Confidence\n",
              "0   0.1      0.30     0.520    0.688855\n",
              "1   0.1      0.45     0.511    0.683615\n",
              "2   0.1      1.00     0.526    0.742383\n",
              "3   0.2      0.30     0.497    0.696570\n",
              "4   0.2      0.45     0.503    0.697424"
            ]
          },
          "metadata": {},
          "execution_count": 36
        }
      ]
    },
    {
      "cell_type": "markdown",
      "source": [
        "# STOPPED HERE: NEED RAW DATA FOR CONF INT. LOAD MAT FILE"
      ],
      "metadata": {
        "id": "ODrNUaoHe5a0"
      }
    },
    {
      "cell_type": "markdown",
      "source": [
        "## 2: Extract confidence and accuracy"
      ],
      "metadata": {
        "id": "LmsLA2oQtJMz"
      }
    },
    {
      "cell_type": "code",
      "metadata": {
        "id": "-M8Kn9B3oPlW"
      },
      "source": [
        "accuracy = results['accuracy']"
      ],
      "execution_count": null,
      "outputs": []
    },
    {
      "cell_type": "markdown",
      "metadata": {
        "id": "brV0fXC5dPJ3"
      },
      "source": [
        "Let's check the first subject's accuracy for all 9 tilt x contrast combinations."
      ]
    },
    {
      "cell_type": "code",
      "metadata": {
        "colab": {
          "base_uri": "https://localhost:8080/"
        },
        "id": "HjEkcqUFolOi",
        "outputId": "d4d7fb29-8a27-4edb-f5be-f35b302d59d7"
      },
      "source": [
        "accuracy[0] "
      ],
      "execution_count": null,
      "outputs": [
        {
          "output_type": "execute_result",
          "data": {
            "text/plain": [
              "array([[0.64, 0.69, 0.7 ],\n",
              "       [0.65, 0.79, 0.84],\n",
              "       [0.84, 0.95, 0.95]])"
            ]
          },
          "metadata": {},
          "execution_count": 7
        }
      ]
    },
    {
      "cell_type": "markdown",
      "source": [
        "Now, let's average over all subjects to find the mean accuracy for each tilt x contrast condition."
      ],
      "metadata": {
        "id": "T0kZOX7U4Rh4"
      }
    },
    {
      "cell_type": "code",
      "metadata": {
        "colab": {
          "base_uri": "https://localhost:8080/"
        },
        "id": "4OLN9-NnmgP8",
        "outputId": "86038c8d-9d22-4b58-889f-0687c7a4a95d"
      },
      "source": [
        "avg_acc = np.average(accuracy, axis=0)\n",
        "avg_acc"
      ],
      "execution_count": null,
      "outputs": [
        {
          "output_type": "execute_result",
          "data": {
            "text/plain": [
              "array([[0.55890909, 0.58781818, 0.60909091],\n",
              "       [0.58945455, 0.66709091, 0.70872727],\n",
              "       [0.69890909, 0.78672727, 0.82636364]])"
            ]
          },
          "metadata": {},
          "execution_count": 8
        }
      ]
    },
    {
      "cell_type": "markdown",
      "source": [
        "Do the same for confidence."
      ],
      "metadata": {
        "id": "pcAsN7g044m-"
      }
    },
    {
      "cell_type": "code",
      "source": [
        "avg_conf = np.average(results['confidence'], axis=0)\n",
        "avg_conf"
      ],
      "metadata": {
        "id": "mhEDZvBC46aB",
        "outputId": "495a11e0-c7cc-453a-fbcc-b67635594c51",
        "colab": {
          "base_uri": "https://localhost:8080/"
        }
      },
      "execution_count": null,
      "outputs": [
        {
          "output_type": "execute_result",
          "data": {
            "text/plain": [
              "array([[2.05836364, 2.25127273, 2.46509091],\n",
              "       [2.08072727, 2.29509091, 2.53545455],\n",
              "       [2.17872727, 2.48781818, 2.792     ]])"
            ]
          },
          "metadata": {},
          "execution_count": 9
        }
      ]
    },
    {
      "cell_type": "code",
      "source": [
        "avg_acc.flatten() #unroll avg acc matrix"
      ],
      "metadata": {
        "id": "keBzmenK5pw-",
        "outputId": "e5c5daeb-45a5-41e6-8165-d2de8ff3012d",
        "colab": {
          "base_uri": "https://localhost:8080/"
        }
      },
      "execution_count": null,
      "outputs": [
        {
          "output_type": "execute_result",
          "data": {
            "text/plain": [
              "array([0.55890909, 0.58781818, 0.60909091, 0.58945455, 0.66709091,\n",
              "       0.70872727, 0.69890909, 0.78672727, 0.82636364])"
            ]
          },
          "metadata": {},
          "execution_count": 10
        }
      ]
    },
    {
      "cell_type": "markdown",
      "source": [
        "## 3: Create dataframe of results and save to Excel"
      ],
      "metadata": {
        "id": "KoYAimzJtPL4"
      }
    },
    {
      "cell_type": "markdown",
      "source": [
        "Create a dataframe containing all average results with tilt x contrast assignments."
      ],
      "metadata": {
        "id": "rX4lw5ObsJPa"
      }
    },
    {
      "cell_type": "code",
      "source": [
        "df_results = pd.DataFrame({'Accuracy':avg_acc.flatten(),\n",
        "                           'Confidence':avg_conf.flatten()})\n",
        "df_results = df_results.assign(Tilt = [1, 1, 1, 2, 2, 2, 3, 3, 3],\n",
        "                         Contrast = [1, 2, 3, 1, 2, 3, 1, 2, 3])"
      ],
      "metadata": {
        "id": "a22zfw4X5Kee"
      },
      "execution_count": null,
      "outputs": []
    },
    {
      "cell_type": "code",
      "source": [
        "df_results"
      ],
      "metadata": {
        "id": "tWCcSJwirbgZ",
        "outputId": "bf9623ea-8a82-40a9-d1b7-971971476d71",
        "colab": {
          "base_uri": "https://localhost:8080/",
          "height": 332
        }
      },
      "execution_count": null,
      "outputs": [
        {
          "output_type": "execute_result",
          "data": {
            "text/html": [
              "<div>\n",
              "<style scoped>\n",
              "    .dataframe tbody tr th:only-of-type {\n",
              "        vertical-align: middle;\n",
              "    }\n",
              "\n",
              "    .dataframe tbody tr th {\n",
              "        vertical-align: top;\n",
              "    }\n",
              "\n",
              "    .dataframe thead th {\n",
              "        text-align: right;\n",
              "    }\n",
              "</style>\n",
              "<table border=\"1\" class=\"dataframe\">\n",
              "  <thead>\n",
              "    <tr style=\"text-align: right;\">\n",
              "      <th></th>\n",
              "      <th>Accuracy</th>\n",
              "      <th>Confidence</th>\n",
              "      <th>Tilt</th>\n",
              "      <th>Contrast</th>\n",
              "    </tr>\n",
              "  </thead>\n",
              "  <tbody>\n",
              "    <tr>\n",
              "      <th>0</th>\n",
              "      <td>0.558909</td>\n",
              "      <td>2.058364</td>\n",
              "      <td>1</td>\n",
              "      <td>1</td>\n",
              "    </tr>\n",
              "    <tr>\n",
              "      <th>1</th>\n",
              "      <td>0.587818</td>\n",
              "      <td>2.251273</td>\n",
              "      <td>1</td>\n",
              "      <td>2</td>\n",
              "    </tr>\n",
              "    <tr>\n",
              "      <th>2</th>\n",
              "      <td>0.609091</td>\n",
              "      <td>2.465091</td>\n",
              "      <td>1</td>\n",
              "      <td>3</td>\n",
              "    </tr>\n",
              "    <tr>\n",
              "      <th>3</th>\n",
              "      <td>0.589455</td>\n",
              "      <td>2.080727</td>\n",
              "      <td>2</td>\n",
              "      <td>1</td>\n",
              "    </tr>\n",
              "    <tr>\n",
              "      <th>4</th>\n",
              "      <td>0.667091</td>\n",
              "      <td>2.295091</td>\n",
              "      <td>2</td>\n",
              "      <td>2</td>\n",
              "    </tr>\n",
              "    <tr>\n",
              "      <th>5</th>\n",
              "      <td>0.708727</td>\n",
              "      <td>2.535455</td>\n",
              "      <td>2</td>\n",
              "      <td>3</td>\n",
              "    </tr>\n",
              "    <tr>\n",
              "      <th>6</th>\n",
              "      <td>0.698909</td>\n",
              "      <td>2.178727</td>\n",
              "      <td>3</td>\n",
              "      <td>1</td>\n",
              "    </tr>\n",
              "    <tr>\n",
              "      <th>7</th>\n",
              "      <td>0.786727</td>\n",
              "      <td>2.487818</td>\n",
              "      <td>3</td>\n",
              "      <td>2</td>\n",
              "    </tr>\n",
              "    <tr>\n",
              "      <th>8</th>\n",
              "      <td>0.826364</td>\n",
              "      <td>2.792000</td>\n",
              "      <td>3</td>\n",
              "      <td>3</td>\n",
              "    </tr>\n",
              "  </tbody>\n",
              "</table>\n",
              "</div>"
            ],
            "text/plain": [
              "   Accuracy  Confidence  Tilt  Contrast\n",
              "0  0.558909    2.058364     1         1\n",
              "1  0.587818    2.251273     1         2\n",
              "2  0.609091    2.465091     1         3\n",
              "3  0.589455    2.080727     2         1\n",
              "4  0.667091    2.295091     2         2\n",
              "5  0.708727    2.535455     2         3\n",
              "6  0.698909    2.178727     3         1\n",
              "7  0.786727    2.487818     3         2\n",
              "8  0.826364    2.792000     3         3"
            ]
          },
          "metadata": {},
          "execution_count": 16
        }
      ]
    },
    {
      "cell_type": "markdown",
      "source": [
        "Group the results by tilt and contrast for a clearer visualization."
      ],
      "metadata": {
        "id": "WdgZNZaSsWuS"
      }
    },
    {
      "cell_type": "code",
      "source": [
        "df_results_groupbyta = df_results.reset_index().set_index(['Tilt','Contrast'])\n",
        "del df_results_groupbyta['index']\n",
        "df_results_groupbyta"
      ],
      "metadata": {
        "id": "sMOQ7x4qrsBn",
        "outputId": "0baeaa59-ecd7-4158-dd7f-ec951a5801a7",
        "colab": {
          "base_uri": "https://localhost:8080/",
          "height": 363
        }
      },
      "execution_count": null,
      "outputs": [
        {
          "output_type": "execute_result",
          "data": {
            "text/html": [
              "<div>\n",
              "<style scoped>\n",
              "    .dataframe tbody tr th:only-of-type {\n",
              "        vertical-align: middle;\n",
              "    }\n",
              "\n",
              "    .dataframe tbody tr th {\n",
              "        vertical-align: top;\n",
              "    }\n",
              "\n",
              "    .dataframe thead th {\n",
              "        text-align: right;\n",
              "    }\n",
              "</style>\n",
              "<table border=\"1\" class=\"dataframe\">\n",
              "  <thead>\n",
              "    <tr style=\"text-align: right;\">\n",
              "      <th></th>\n",
              "      <th></th>\n",
              "      <th>Accuracy</th>\n",
              "      <th>Confidence</th>\n",
              "    </tr>\n",
              "    <tr>\n",
              "      <th>Tilt</th>\n",
              "      <th>Contrast</th>\n",
              "      <th></th>\n",
              "      <th></th>\n",
              "    </tr>\n",
              "  </thead>\n",
              "  <tbody>\n",
              "    <tr>\n",
              "      <th rowspan=\"3\" valign=\"top\">1</th>\n",
              "      <th>1</th>\n",
              "      <td>0.558909</td>\n",
              "      <td>2.058364</td>\n",
              "    </tr>\n",
              "    <tr>\n",
              "      <th>2</th>\n",
              "      <td>0.587818</td>\n",
              "      <td>2.251273</td>\n",
              "    </tr>\n",
              "    <tr>\n",
              "      <th>3</th>\n",
              "      <td>0.609091</td>\n",
              "      <td>2.465091</td>\n",
              "    </tr>\n",
              "    <tr>\n",
              "      <th rowspan=\"3\" valign=\"top\">2</th>\n",
              "      <th>1</th>\n",
              "      <td>0.589455</td>\n",
              "      <td>2.080727</td>\n",
              "    </tr>\n",
              "    <tr>\n",
              "      <th>2</th>\n",
              "      <td>0.667091</td>\n",
              "      <td>2.295091</td>\n",
              "    </tr>\n",
              "    <tr>\n",
              "      <th>3</th>\n",
              "      <td>0.708727</td>\n",
              "      <td>2.535455</td>\n",
              "    </tr>\n",
              "    <tr>\n",
              "      <th rowspan=\"3\" valign=\"top\">3</th>\n",
              "      <th>1</th>\n",
              "      <td>0.698909</td>\n",
              "      <td>2.178727</td>\n",
              "    </tr>\n",
              "    <tr>\n",
              "      <th>2</th>\n",
              "      <td>0.786727</td>\n",
              "      <td>2.487818</td>\n",
              "    </tr>\n",
              "    <tr>\n",
              "      <th>3</th>\n",
              "      <td>0.826364</td>\n",
              "      <td>2.792000</td>\n",
              "    </tr>\n",
              "  </tbody>\n",
              "</table>\n",
              "</div>"
            ],
            "text/plain": [
              "               Accuracy  Confidence\n",
              "Tilt Contrast                      \n",
              "1    1         0.558909    2.058364\n",
              "     2         0.587818    2.251273\n",
              "     3         0.609091    2.465091\n",
              "2    1         0.589455    2.080727\n",
              "     2         0.667091    2.295091\n",
              "     3         0.708727    2.535455\n",
              "3    1         0.698909    2.178727\n",
              "     2         0.786727    2.487818\n",
              "     3         0.826364    2.792000"
            ]
          },
          "metadata": {},
          "execution_count": 17
        }
      ]
    },
    {
      "cell_type": "markdown",
      "source": [
        "Save to disk."
      ],
      "metadata": {
        "id": "iOT_aarDs0-B"
      }
    },
    {
      "cell_type": "code",
      "source": [
        "results_excel_filepath = os.path.join(os.getcwd(), 'results_behavioral.xlsx') #prep path to save to\n",
        "df_results_groupbyta.to_excel(results_excel_filepath, index=True) #save to disk"
      ],
      "metadata": {
        "id": "ZoV8seiFr6Le"
      },
      "execution_count": null,
      "outputs": []
    }
  ]
}