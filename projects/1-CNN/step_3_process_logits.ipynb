{
  "nbformat": 4,
  "nbformat_minor": 0,
  "metadata": {
    "colab": {
      "name": "step_3-process_logits.ipynb",
      "provenance": [],
      "authorship_tag": "ABX9TyNQdquNusLWBfujb2HtIZyx",
      "include_colab_link": true
    },
    "kernelspec": {
      "name": "python3",
      "display_name": "Python 3"
    },
    "language_info": {
      "name": "python"
    }
  },
  "cells": [
    {
      "cell_type": "markdown",
      "metadata": {
        "id": "view-in-github",
        "colab_type": "text"
      },
      "source": [
        "<a href=\"https://colab.research.google.com/github/thor4/neuralnets/blob/master/projects/1-CNN/step_3_process_logits.ipynb\" target=\"_parent\"><img src=\"https://colab.research.google.com/assets/colab-badge.svg\" alt=\"Open In Colab\"/></a>"
      ]
    },
    {
      "cell_type": "markdown",
      "metadata": {
        "id": "I_qZimq9xmb5"
      },
      "source": [
        "# Process logits\n",
        "---\n",
        "Now we can load logits generated from each model and extract confidence and accuracy from them"
      ]
    },
    {
      "cell_type": "markdown",
      "metadata": {
        "id": "h30Xsxc9yxq0"
      },
      "source": [
        "## 1: Load logits\n",
        "These logits were created using the `step2-generation_predictions-mobilenetv2_model.ipynb` and `step2-generation_predictions-vanilla_model.ipynb` Jupyter notebooks. Run the cell to download a zip file from OSF then extract the excel files `logits_mobilenetv2.xlsx` and `logits_vanilla.xlsx` into the current directory"
      ]
    },
    {
      "cell_type": "code",
      "metadata": {
        "colab": {
          "base_uri": "https://localhost:8080/"
        },
        "cellView": "form",
        "id": "tWtIf40_xddZ",
        "outputId": "5e42b24f-dc8b-4eca-eca2-cc52e32fffb2"
      },
      "source": [
        "# @title Download logits\n",
        "\n",
        "import requests, os\n",
        "from zipfile import ZipFile\n",
        "\n",
        "print(\"Start downloading and unzipping `Model logits`...\")\n",
        "name = 'logits'\n",
        "fname = f\"{name}.zip\"\n",
        "url = f\"https://osf.io/k8fwn/download\" #osf share link\n",
        "r = requests.get(url, allow_redirects=True)\n",
        "with open(fname, 'wb') as fh:\n",
        "  fh.write(r.content) #download file\n",
        "\n",
        "with ZipFile(fname, 'r') as zfile:\n",
        "  zfile.extractall() #extract contents\n",
        "\n",
        "if os.path.exists(fname):\n",
        "  os.remove(fname) #delete zip file\n",
        "else:\n",
        "  print(f\"The file {fname} does not exist\")\n",
        "\n",
        "print(\"Download completed.\")"
      ],
      "execution_count": 1,
      "outputs": [
        {
          "output_type": "stream",
          "name": "stdout",
          "text": [
            "Start downloading and unzipping `Model logits`...\n",
            "Download completed.\n"
          ]
        }
      ]
    },
    {
      "cell_type": "markdown",
      "metadata": {
        "id": "P32-YGVvCrkm"
      },
      "source": [
        "Import libraries first."
      ]
    },
    {
      "cell_type": "code",
      "metadata": {
        "id": "Qygr-4weCrBa"
      },
      "source": [
        "import pandas as pd\n",
        "import numpy as np\n",
        "from scipy.special import expit as sigmoid #get sigmoid function"
      ],
      "execution_count": 2,
      "outputs": []
    },
    {
      "cell_type": "markdown",
      "metadata": {
        "id": "UHwARplby4L8"
      },
      "source": [
        "Now we can load the logits into pandas dataframes"
      ]
    },
    {
      "cell_type": "code",
      "metadata": {
        "colab": {
          "base_uri": "https://localhost:8080/"
        },
        "id": "Hn9MMAK7y-mB",
        "outputId": "755f9425-e82e-48c4-8408-85e16ef9305c"
      },
      "source": [
        "df_mnet = pd.read_excel(\"logits_mobilenetv2.xlsx\") #mobilenetv2 logits\n",
        "df_van = pd.read_excel(\"logits_vanilla.xlsx\") #vanilla logits\n",
        "print(df_mnet.head())\n",
        "print(df_van.head())"
      ],
      "execution_count": 3,
      "outputs": [
        {
          "output_type": "stream",
          "name": "stdout",
          "text": [
            "     Logits  Labels\n",
            "0  0.263464       0\n",
            "1  0.380446       0\n",
            "2 -0.105008       0\n",
            "3  0.152609       0\n",
            "4 -0.277837       0\n",
            "     Logits  Labels\n",
            "0 -2.320800       0\n",
            "1 -0.269380       0\n",
            "2 -2.161348       0\n",
            "3 -0.795077       0\n",
            "4 -2.513597       0\n"
          ]
        }
      ]
    },
    {
      "cell_type": "markdown",
      "metadata": {
        "id": "Vh8-QSRA9Oq6"
      },
      "source": [
        "## 2: Process mobileNetV2 model\n",
        "\n",
        "First, we will get the confidence and accuracy for each dataset with the MobileNetv2 model."
      ]
    },
    {
      "cell_type": "markdown",
      "metadata": {
        "id": "-htGKrCYDavv"
      },
      "source": [
        "Define the confidence threshold for high confidence."
      ]
    },
    {
      "cell_type": "code",
      "metadata": {
        "id": "BImvgjSNH-HD"
      },
      "source": [
        "thres_min = -0.5\n",
        "thres_max = 0.5"
      ],
      "execution_count": 4,
      "outputs": []
    },
    {
      "cell_type": "markdown",
      "metadata": {
        "id": "XMUVxTGi8qe7"
      },
      "source": [
        "Next, let's define the function to get confidence and accuracy."
      ]
    },
    {
      "cell_type": "code",
      "metadata": {
        "id": "fX9_Wqhp81mW"
      },
      "source": [
        "def get_conf_acc(df, thres_min, thres_max):\n",
        "    df['Predictions'] = df['Logits'].apply(sigmoid) #sigmoid-transform the logits\n",
        "    df['Predictions'] = np.where((df['Predictions'] < 0.5), 0, 1) #replace predictions with 0 or 1\n",
        "    df['Accuracy'] = np.where((df['Labels'] == df['Predictions']), 1, 0)\n",
        "    conditions = [\n",
        "    (df['Logits'] < thres_min) | (df['Logits'] > thres_max), #high conf\n",
        "    (df['Logits'] >= thres_min) | (df['Logits'] <= thres_max) #low conf\n",
        "    ]\n",
        "    values = ['high', 'low']\n",
        "    df['Confidence'] = np.select(conditions, values)\n",
        "    return df"
      ],
      "execution_count": 5,
      "outputs": []
    },
    {
      "cell_type": "markdown",
      "metadata": {
        "id": "kHyMgYEUy_L6"
      },
      "source": [
        "Now we will assign confidence and accuracy to all 18,000 logits at once for the MobileNetv2 model."
      ]
    },
    {
      "cell_type": "code",
      "metadata": {
        "colab": {
          "base_uri": "https://localhost:8080/"
        },
        "id": "VbUz7Y9jEMvz",
        "outputId": "64da1a1e-66e5-4627-fd4c-4abee6270f87"
      },
      "source": [
        "df = get_conf_acc(df_mnet,thres_min,thres_max)\n",
        "print(df.iloc[5000:5010])"
      ],
      "execution_count": 6,
      "outputs": [
        {
          "output_type": "stream",
          "name": "stdout",
          "text": [
            "        Logits  Labels  Predictions  Accuracy Confidence\n",
            "5000 -0.126332       0            0         1        low\n",
            "5001 -1.941892       0            0         1       high\n",
            "5002 -1.478281       0            0         1       high\n",
            "5003 -1.361156       0            0         1       high\n",
            "5004 -0.520181       0            0         1       high\n",
            "5005  0.062038       0            1         0        low\n",
            "5006 -0.320940       0            0         1        low\n",
            "5007 -0.122390       0            0         1        low\n",
            "5008 -1.939577       0            0         1       high\n",
            "5009 -1.346852       0            0         1       high\n"
          ]
        }
      ]
    },
    {
      "cell_type": "markdown",
      "metadata": {
        "id": "dNOntGHc3vNf"
      },
      "source": [
        "Next, we will calculate the accuracy and confidence for each of the 18 datasets."
      ]
    },
    {
      "cell_type": "code",
      "metadata": {
        "id": "6YgZCEKBtkFh"
      },
      "source": [
        "span = range(0, 18000, 1000)\n",
        "df_results = pd.DataFrame(columns=['Accuracy','Confidence']) #initialize dataframe\n",
        "for n in span:\n",
        "  set = df[n:n+1000] #extract dataset\n",
        "  acc = set['Accuracy'].mean() #calculate avg accuracy\n",
        "  conf = set['Confidence'].value_counts(normalize=True).loc['high'] #calculate avg high confidence\n",
        "  df_results = pd.concat([df_results, pd.DataFrame({'Accuracy':[acc],\n",
        "                                                    'Confidence':[conf]})], \n",
        "                         axis=0, ignore_index=True) #append logits & labels to dataframe"
      ],
      "execution_count": 31,
      "outputs": []
    },
    {
      "cell_type": "markdown",
      "metadata": {
        "id": "26NbArU833pB"
      },
      "source": [
        "And add the tilt/contrast columns."
      ]
    },
    {
      "cell_type": "code",
      "metadata": {
        "id": "JZ9W93s1tzYm"
      },
      "source": [
        "df_results = df_results.assign(Tilt = [0.1, 0.1, 0.1, 0.2, 0.2, 0.2, 0.4, 0.4, 0.4, \n",
        "                                 0.8, 0.8, 0.8, 1.6, 1.6, 1.6, 3.2, 3.2, 3.2],\n",
        "                         Contrast = [0.3, 0.45, 1, 0.3, 0.45, 1, 0.3, 0.45, 1, \n",
        "                                     0.3, 0.45, 1, 0.3, 0.45, 1, 0.3, 0.45, 1])"
      ],
      "execution_count": 33,
      "outputs": []
    },
    {
      "cell_type": "markdown",
      "metadata": {
        "id": "Xj0xqX0t3_wv"
      },
      "source": [
        "Now, we have results for accuracy and confidence for each of the 18 datasets with different tilt/contrast combinations."
      ]
    },
    {
      "cell_type": "code",
      "metadata": {
        "id": "DCtCGlo8q-RZ",
        "outputId": "c3576ade-befb-4200-eee5-ad5e176a74ec",
        "colab": {
          "base_uri": "https://localhost:8080/",
          "height": 607
        }
      },
      "source": [
        "df_results"
      ],
      "execution_count": 34,
      "outputs": [
        {
          "output_type": "execute_result",
          "data": {
            "text/html": [
              "<div>\n",
              "<style scoped>\n",
              "    .dataframe tbody tr th:only-of-type {\n",
              "        vertical-align: middle;\n",
              "    }\n",
              "\n",
              "    .dataframe tbody tr th {\n",
              "        vertical-align: top;\n",
              "    }\n",
              "\n",
              "    .dataframe thead th {\n",
              "        text-align: right;\n",
              "    }\n",
              "</style>\n",
              "<table border=\"1\" class=\"dataframe\">\n",
              "  <thead>\n",
              "    <tr style=\"text-align: right;\">\n",
              "      <th></th>\n",
              "      <th>Accuracy</th>\n",
              "      <th>Confidence</th>\n",
              "      <th>Tilt</th>\n",
              "      <th>Contrast</th>\n",
              "    </tr>\n",
              "  </thead>\n",
              "  <tbody>\n",
              "    <tr>\n",
              "      <th>0</th>\n",
              "      <td>0.543</td>\n",
              "      <td>0.040</td>\n",
              "      <td>0.1</td>\n",
              "      <td>0.30</td>\n",
              "    </tr>\n",
              "    <tr>\n",
              "      <th>1</th>\n",
              "      <td>0.522</td>\n",
              "      <td>0.192</td>\n",
              "      <td>0.1</td>\n",
              "      <td>0.45</td>\n",
              "    </tr>\n",
              "    <tr>\n",
              "      <th>2</th>\n",
              "      <td>0.512</td>\n",
              "      <td>0.718</td>\n",
              "      <td>0.1</td>\n",
              "      <td>1.00</td>\n",
              "    </tr>\n",
              "    <tr>\n",
              "      <th>3</th>\n",
              "      <td>0.558</td>\n",
              "      <td>0.038</td>\n",
              "      <td>0.2</td>\n",
              "      <td>0.30</td>\n",
              "    </tr>\n",
              "    <tr>\n",
              "      <th>4</th>\n",
              "      <td>0.570</td>\n",
              "      <td>0.208</td>\n",
              "      <td>0.2</td>\n",
              "      <td>0.45</td>\n",
              "    </tr>\n",
              "    <tr>\n",
              "      <th>5</th>\n",
              "      <td>0.628</td>\n",
              "      <td>0.737</td>\n",
              "      <td>0.2</td>\n",
              "      <td>1.00</td>\n",
              "    </tr>\n",
              "    <tr>\n",
              "      <th>6</th>\n",
              "      <td>0.560</td>\n",
              "      <td>0.046</td>\n",
              "      <td>0.4</td>\n",
              "      <td>0.30</td>\n",
              "    </tr>\n",
              "    <tr>\n",
              "      <th>7</th>\n",
              "      <td>0.564</td>\n",
              "      <td>0.171</td>\n",
              "      <td>0.4</td>\n",
              "      <td>0.45</td>\n",
              "    </tr>\n",
              "    <tr>\n",
              "      <th>8</th>\n",
              "      <td>0.708</td>\n",
              "      <td>0.762</td>\n",
              "      <td>0.4</td>\n",
              "      <td>1.00</td>\n",
              "    </tr>\n",
              "    <tr>\n",
              "      <th>9</th>\n",
              "      <td>0.552</td>\n",
              "      <td>0.049</td>\n",
              "      <td>0.8</td>\n",
              "      <td>0.30</td>\n",
              "    </tr>\n",
              "    <tr>\n",
              "      <th>10</th>\n",
              "      <td>0.578</td>\n",
              "      <td>0.195</td>\n",
              "      <td>0.8</td>\n",
              "      <td>0.45</td>\n",
              "    </tr>\n",
              "    <tr>\n",
              "      <th>11</th>\n",
              "      <td>0.879</td>\n",
              "      <td>0.839</td>\n",
              "      <td>0.8</td>\n",
              "      <td>1.00</td>\n",
              "    </tr>\n",
              "    <tr>\n",
              "      <th>12</th>\n",
              "      <td>0.582</td>\n",
              "      <td>0.045</td>\n",
              "      <td>1.6</td>\n",
              "      <td>0.30</td>\n",
              "    </tr>\n",
              "    <tr>\n",
              "      <th>13</th>\n",
              "      <td>0.660</td>\n",
              "      <td>0.264</td>\n",
              "      <td>1.6</td>\n",
              "      <td>0.45</td>\n",
              "    </tr>\n",
              "    <tr>\n",
              "      <th>14</th>\n",
              "      <td>0.987</td>\n",
              "      <td>0.968</td>\n",
              "      <td>1.6</td>\n",
              "      <td>1.00</td>\n",
              "    </tr>\n",
              "    <tr>\n",
              "      <th>15</th>\n",
              "      <td>0.648</td>\n",
              "      <td>0.069</td>\n",
              "      <td>3.2</td>\n",
              "      <td>0.30</td>\n",
              "    </tr>\n",
              "    <tr>\n",
              "      <th>16</th>\n",
              "      <td>0.832</td>\n",
              "      <td>0.395</td>\n",
              "      <td>3.2</td>\n",
              "      <td>0.45</td>\n",
              "    </tr>\n",
              "    <tr>\n",
              "      <th>17</th>\n",
              "      <td>1.000</td>\n",
              "      <td>1.000</td>\n",
              "      <td>3.2</td>\n",
              "      <td>1.00</td>\n",
              "    </tr>\n",
              "  </tbody>\n",
              "</table>\n",
              "</div>"
            ],
            "text/plain": [
              "    Accuracy  Confidence  Tilt  Contrast\n",
              "0      0.543       0.040   0.1      0.30\n",
              "1      0.522       0.192   0.1      0.45\n",
              "2      0.512       0.718   0.1      1.00\n",
              "3      0.558       0.038   0.2      0.30\n",
              "4      0.570       0.208   0.2      0.45\n",
              "5      0.628       0.737   0.2      1.00\n",
              "6      0.560       0.046   0.4      0.30\n",
              "7      0.564       0.171   0.4      0.45\n",
              "8      0.708       0.762   0.4      1.00\n",
              "9      0.552       0.049   0.8      0.30\n",
              "10     0.578       0.195   0.8      0.45\n",
              "11     0.879       0.839   0.8      1.00\n",
              "12     0.582       0.045   1.6      0.30\n",
              "13     0.660       0.264   1.6      0.45\n",
              "14     0.987       0.968   1.6      1.00\n",
              "15     0.648       0.069   3.2      0.30\n",
              "16     0.832       0.395   3.2      0.45\n",
              "17     1.000       1.000   3.2      1.00"
            ]
          },
          "metadata": {},
          "execution_count": 34
        }
      ]
    },
    {
      "cell_type": "markdown",
      "metadata": {
        "id": "wN8xZbQ345fd"
      },
      "source": [
        "We can group the results by tilt and contrast for a clearer visualization."
      ]
    },
    {
      "cell_type": "code",
      "metadata": {
        "id": "_m5HVZygqiS0",
        "outputId": "a49aea56-f307-464f-d681-870efb2dd262",
        "colab": {
          "base_uri": "https://localhost:8080/",
          "height": 638
        }
      },
      "source": [
        "df_results_groupbyta = df_results.reset_index().set_index(['Tilt','Contrast'])\n",
        "del df_results_groupbyta['index']\n",
        "df_results_groupbyta"
      ],
      "execution_count": 44,
      "outputs": [
        {
          "output_type": "execute_result",
          "data": {
            "text/html": [
              "<div>\n",
              "<style scoped>\n",
              "    .dataframe tbody tr th:only-of-type {\n",
              "        vertical-align: middle;\n",
              "    }\n",
              "\n",
              "    .dataframe tbody tr th {\n",
              "        vertical-align: top;\n",
              "    }\n",
              "\n",
              "    .dataframe thead th {\n",
              "        text-align: right;\n",
              "    }\n",
              "</style>\n",
              "<table border=\"1\" class=\"dataframe\">\n",
              "  <thead>\n",
              "    <tr style=\"text-align: right;\">\n",
              "      <th></th>\n",
              "      <th></th>\n",
              "      <th>Accuracy</th>\n",
              "      <th>Confidence</th>\n",
              "    </tr>\n",
              "    <tr>\n",
              "      <th>Tilt</th>\n",
              "      <th>Contrast</th>\n",
              "      <th></th>\n",
              "      <th></th>\n",
              "    </tr>\n",
              "  </thead>\n",
              "  <tbody>\n",
              "    <tr>\n",
              "      <th rowspan=\"3\" valign=\"top\">0.1</th>\n",
              "      <th>0.30</th>\n",
              "      <td>0.543</td>\n",
              "      <td>0.040</td>\n",
              "    </tr>\n",
              "    <tr>\n",
              "      <th>0.45</th>\n",
              "      <td>0.522</td>\n",
              "      <td>0.192</td>\n",
              "    </tr>\n",
              "    <tr>\n",
              "      <th>1.00</th>\n",
              "      <td>0.512</td>\n",
              "      <td>0.718</td>\n",
              "    </tr>\n",
              "    <tr>\n",
              "      <th rowspan=\"3\" valign=\"top\">0.2</th>\n",
              "      <th>0.30</th>\n",
              "      <td>0.558</td>\n",
              "      <td>0.038</td>\n",
              "    </tr>\n",
              "    <tr>\n",
              "      <th>0.45</th>\n",
              "      <td>0.570</td>\n",
              "      <td>0.208</td>\n",
              "    </tr>\n",
              "    <tr>\n",
              "      <th>1.00</th>\n",
              "      <td>0.628</td>\n",
              "      <td>0.737</td>\n",
              "    </tr>\n",
              "    <tr>\n",
              "      <th rowspan=\"3\" valign=\"top\">0.4</th>\n",
              "      <th>0.30</th>\n",
              "      <td>0.560</td>\n",
              "      <td>0.046</td>\n",
              "    </tr>\n",
              "    <tr>\n",
              "      <th>0.45</th>\n",
              "      <td>0.564</td>\n",
              "      <td>0.171</td>\n",
              "    </tr>\n",
              "    <tr>\n",
              "      <th>1.00</th>\n",
              "      <td>0.708</td>\n",
              "      <td>0.762</td>\n",
              "    </tr>\n",
              "    <tr>\n",
              "      <th rowspan=\"3\" valign=\"top\">0.8</th>\n",
              "      <th>0.30</th>\n",
              "      <td>0.552</td>\n",
              "      <td>0.049</td>\n",
              "    </tr>\n",
              "    <tr>\n",
              "      <th>0.45</th>\n",
              "      <td>0.578</td>\n",
              "      <td>0.195</td>\n",
              "    </tr>\n",
              "    <tr>\n",
              "      <th>1.00</th>\n",
              "      <td>0.879</td>\n",
              "      <td>0.839</td>\n",
              "    </tr>\n",
              "    <tr>\n",
              "      <th rowspan=\"3\" valign=\"top\">1.6</th>\n",
              "      <th>0.30</th>\n",
              "      <td>0.582</td>\n",
              "      <td>0.045</td>\n",
              "    </tr>\n",
              "    <tr>\n",
              "      <th>0.45</th>\n",
              "      <td>0.660</td>\n",
              "      <td>0.264</td>\n",
              "    </tr>\n",
              "    <tr>\n",
              "      <th>1.00</th>\n",
              "      <td>0.987</td>\n",
              "      <td>0.968</td>\n",
              "    </tr>\n",
              "    <tr>\n",
              "      <th rowspan=\"3\" valign=\"top\">3.2</th>\n",
              "      <th>0.30</th>\n",
              "      <td>0.648</td>\n",
              "      <td>0.069</td>\n",
              "    </tr>\n",
              "    <tr>\n",
              "      <th>0.45</th>\n",
              "      <td>0.832</td>\n",
              "      <td>0.395</td>\n",
              "    </tr>\n",
              "    <tr>\n",
              "      <th>1.00</th>\n",
              "      <td>1.000</td>\n",
              "      <td>1.000</td>\n",
              "    </tr>\n",
              "  </tbody>\n",
              "</table>\n",
              "</div>"
            ],
            "text/plain": [
              "               Accuracy  Confidence\n",
              "Tilt Contrast                      \n",
              "0.1  0.30         0.543       0.040\n",
              "     0.45         0.522       0.192\n",
              "     1.00         0.512       0.718\n",
              "0.2  0.30         0.558       0.038\n",
              "     0.45         0.570       0.208\n",
              "     1.00         0.628       0.737\n",
              "0.4  0.30         0.560       0.046\n",
              "     0.45         0.564       0.171\n",
              "     1.00         0.708       0.762\n",
              "0.8  0.30         0.552       0.049\n",
              "     0.45         0.578       0.195\n",
              "     1.00         0.879       0.839\n",
              "1.6  0.30         0.582       0.045\n",
              "     0.45         0.660       0.264\n",
              "     1.00         0.987       0.968\n",
              "3.2  0.30         0.648       0.069\n",
              "     0.45         0.832       0.395\n",
              "     1.00         1.000       1.000"
            ]
          },
          "metadata": {},
          "execution_count": 44
        }
      ]
    },
    {
      "cell_type": "markdown",
      "metadata": {
        "id": "XE2EbM2O5QI1"
      },
      "source": [
        "Finally, we can save these results as an Excel spreadsheet."
      ]
    },
    {
      "cell_type": "code",
      "metadata": {
        "id": "0XBqADvixNmR"
      },
      "source": [
        "results_excel_filepath = os.path.join(os.getcwd(), 'results_mobilenetv2.xlsx') #prep path to save to\n",
        "\n",
        "df_results_groupbyta.to_excel(results_excel_filepath, index=True) #save to disk"
      ],
      "execution_count": 43,
      "outputs": []
    },
    {
      "cell_type": "markdown",
      "metadata": {
        "id": "usWN0qzX9mqS"
      },
      "source": [
        "## 3: Process vanilla model"
      ]
    },
    {
      "cell_type": "markdown",
      "metadata": {
        "id": "2szpZ4-Y84Wa"
      },
      "source": [
        "Next, we will apply the same process to get confidence and accuracy for each dataset using the vanilla model."
      ]
    },
    {
      "cell_type": "code",
      "metadata": {
        "id": "yD4K9Eok9v8H",
        "outputId": "112c1f72-b852-4804-c585-e9898005f802",
        "colab": {
          "base_uri": "https://localhost:8080/"
        }
      },
      "source": [
        "thres_min = -0.5 #set confidence threshold\n",
        "thres_max = 0.5\n",
        "df = get_conf_acc(df_van,thres_min,thres_max)\n",
        "print(df.iloc[5000:5010])"
      ],
      "execution_count": 45,
      "outputs": [
        {
          "output_type": "stream",
          "name": "stdout",
          "text": [
            "        Logits  Labels  Predictions  Accuracy Confidence\n",
            "5000 -3.986970       0            0         1       high\n",
            "5001 -6.465475       0            0         1       high\n",
            "5002 -5.286637       0            0         1       high\n",
            "5003 -4.856585       0            0         1       high\n",
            "5004 -2.694278       0            0         1       high\n",
            "5005 -5.261054       0            0         1       high\n",
            "5006 -3.786383       0            0         1       high\n",
            "5007 -4.152411       0            0         1       high\n",
            "5008 -5.494016       0            0         1       high\n",
            "5009 -2.461650       0            0         1       high\n"
          ]
        }
      ]
    },
    {
      "cell_type": "code",
      "metadata": {
        "id": "JGGwlPtR-lse",
        "outputId": "4daae5c4-496c-4af9-db54-4caf01cab510",
        "colab": {
          "base_uri": "https://localhost:8080/",
          "height": 607
        }
      },
      "source": [
        "span = range(0, 18000, 1000)\n",
        "df_results = pd.DataFrame(columns=['Accuracy','Confidence']) #initialize dataframe\n",
        "for n in span:\n",
        "  set = df[n:n+1000] #extract dataset\n",
        "  acc = set['Accuracy'].mean() #calculate avg accuracy\n",
        "  conf = set['Confidence'].value_counts(normalize=True).loc['high'] #calculate avg high confidence\n",
        "  df_results = pd.concat([df_results, pd.DataFrame({'Accuracy':[acc],\n",
        "                                                    'Confidence':[conf]})], \n",
        "                         axis=0, ignore_index=True) #append logits & labels to dataframe\n",
        "df_results = df_results.assign(Tilt = [0.1, 0.1, 0.1, 0.2, 0.2, 0.2, 0.4, 0.4, 0.4, \n",
        "                                 0.8, 0.8, 0.8, 1.6, 1.6, 1.6, 3.2, 3.2, 3.2],\n",
        "                         Contrast = [0.3, 0.45, 1, 0.3, 0.45, 1, 0.3, 0.45, 1, \n",
        "                                     0.3, 0.45, 1, 0.3, 0.45, 1, 0.3, 0.45, 1])\n",
        "df_results"
      ],
      "execution_count": 46,
      "outputs": [
        {
          "output_type": "execute_result",
          "data": {
            "text/html": [
              "<div>\n",
              "<style scoped>\n",
              "    .dataframe tbody tr th:only-of-type {\n",
              "        vertical-align: middle;\n",
              "    }\n",
              "\n",
              "    .dataframe tbody tr th {\n",
              "        vertical-align: top;\n",
              "    }\n",
              "\n",
              "    .dataframe thead th {\n",
              "        text-align: right;\n",
              "    }\n",
              "</style>\n",
              "<table border=\"1\" class=\"dataframe\">\n",
              "  <thead>\n",
              "    <tr style=\"text-align: right;\">\n",
              "      <th></th>\n",
              "      <th>Accuracy</th>\n",
              "      <th>Confidence</th>\n",
              "      <th>Tilt</th>\n",
              "      <th>Contrast</th>\n",
              "    </tr>\n",
              "  </thead>\n",
              "  <tbody>\n",
              "    <tr>\n",
              "      <th>0</th>\n",
              "      <td>0.676</td>\n",
              "      <td>0.804</td>\n",
              "      <td>0.1</td>\n",
              "      <td>0.30</td>\n",
              "    </tr>\n",
              "    <tr>\n",
              "      <th>1</th>\n",
              "      <td>0.730</td>\n",
              "      <td>0.802</td>\n",
              "      <td>0.1</td>\n",
              "      <td>0.45</td>\n",
              "    </tr>\n",
              "    <tr>\n",
              "      <th>2</th>\n",
              "      <td>0.941</td>\n",
              "      <td>0.905</td>\n",
              "      <td>0.1</td>\n",
              "      <td>1.00</td>\n",
              "    </tr>\n",
              "    <tr>\n",
              "      <th>3</th>\n",
              "      <td>0.779</td>\n",
              "      <td>0.835</td>\n",
              "      <td>0.2</td>\n",
              "      <td>0.30</td>\n",
              "    </tr>\n",
              "    <tr>\n",
              "      <th>4</th>\n",
              "      <td>0.899</td>\n",
              "      <td>0.900</td>\n",
              "      <td>0.2</td>\n",
              "      <td>0.45</td>\n",
              "    </tr>\n",
              "    <tr>\n",
              "      <th>5</th>\n",
              "      <td>1.000</td>\n",
              "      <td>0.999</td>\n",
              "      <td>0.2</td>\n",
              "      <td>1.00</td>\n",
              "    </tr>\n",
              "    <tr>\n",
              "      <th>6</th>\n",
              "      <td>0.932</td>\n",
              "      <td>0.933</td>\n",
              "      <td>0.4</td>\n",
              "      <td>0.30</td>\n",
              "    </tr>\n",
              "    <tr>\n",
              "      <th>7</th>\n",
              "      <td>0.992</td>\n",
              "      <td>0.988</td>\n",
              "      <td>0.4</td>\n",
              "      <td>0.45</td>\n",
              "    </tr>\n",
              "    <tr>\n",
              "      <th>8</th>\n",
              "      <td>1.000</td>\n",
              "      <td>1.000</td>\n",
              "      <td>0.4</td>\n",
              "      <td>1.00</td>\n",
              "    </tr>\n",
              "    <tr>\n",
              "      <th>9</th>\n",
              "      <td>1.000</td>\n",
              "      <td>0.998</td>\n",
              "      <td>0.8</td>\n",
              "      <td>0.30</td>\n",
              "    </tr>\n",
              "    <tr>\n",
              "      <th>10</th>\n",
              "      <td>1.000</td>\n",
              "      <td>1.000</td>\n",
              "      <td>0.8</td>\n",
              "      <td>0.45</td>\n",
              "    </tr>\n",
              "    <tr>\n",
              "      <th>11</th>\n",
              "      <td>1.000</td>\n",
              "      <td>1.000</td>\n",
              "      <td>0.8</td>\n",
              "      <td>1.00</td>\n",
              "    </tr>\n",
              "    <tr>\n",
              "      <th>12</th>\n",
              "      <td>1.000</td>\n",
              "      <td>1.000</td>\n",
              "      <td>1.6</td>\n",
              "      <td>0.30</td>\n",
              "    </tr>\n",
              "    <tr>\n",
              "      <th>13</th>\n",
              "      <td>1.000</td>\n",
              "      <td>1.000</td>\n",
              "      <td>1.6</td>\n",
              "      <td>0.45</td>\n",
              "    </tr>\n",
              "    <tr>\n",
              "      <th>14</th>\n",
              "      <td>1.000</td>\n",
              "      <td>1.000</td>\n",
              "      <td>1.6</td>\n",
              "      <td>1.00</td>\n",
              "    </tr>\n",
              "    <tr>\n",
              "      <th>15</th>\n",
              "      <td>1.000</td>\n",
              "      <td>1.000</td>\n",
              "      <td>3.2</td>\n",
              "      <td>0.30</td>\n",
              "    </tr>\n",
              "    <tr>\n",
              "      <th>16</th>\n",
              "      <td>1.000</td>\n",
              "      <td>1.000</td>\n",
              "      <td>3.2</td>\n",
              "      <td>0.45</td>\n",
              "    </tr>\n",
              "    <tr>\n",
              "      <th>17</th>\n",
              "      <td>1.000</td>\n",
              "      <td>1.000</td>\n",
              "      <td>3.2</td>\n",
              "      <td>1.00</td>\n",
              "    </tr>\n",
              "  </tbody>\n",
              "</table>\n",
              "</div>"
            ],
            "text/plain": [
              "    Accuracy  Confidence  Tilt  Contrast\n",
              "0      0.676       0.804   0.1      0.30\n",
              "1      0.730       0.802   0.1      0.45\n",
              "2      0.941       0.905   0.1      1.00\n",
              "3      0.779       0.835   0.2      0.30\n",
              "4      0.899       0.900   0.2      0.45\n",
              "5      1.000       0.999   0.2      1.00\n",
              "6      0.932       0.933   0.4      0.30\n",
              "7      0.992       0.988   0.4      0.45\n",
              "8      1.000       1.000   0.4      1.00\n",
              "9      1.000       0.998   0.8      0.30\n",
              "10     1.000       1.000   0.8      0.45\n",
              "11     1.000       1.000   0.8      1.00\n",
              "12     1.000       1.000   1.6      0.30\n",
              "13     1.000       1.000   1.6      0.45\n",
              "14     1.000       1.000   1.6      1.00\n",
              "15     1.000       1.000   3.2      0.30\n",
              "16     1.000       1.000   3.2      0.45\n",
              "17     1.000       1.000   3.2      1.00"
            ]
          },
          "metadata": {},
          "execution_count": 46
        }
      ]
    },
    {
      "cell_type": "code",
      "metadata": {
        "id": "OJC5WQ5m_EGE",
        "outputId": "f9dc3f2e-c6b0-4aa7-8308-082f6c712a04",
        "colab": {
          "base_uri": "https://localhost:8080/",
          "height": 638
        }
      },
      "source": [
        "df_results_groupbyta = df_results.reset_index().set_index(['Tilt','Contrast'])\n",
        "del df_results_groupbyta['index']\n",
        "df_results_groupbyta"
      ],
      "execution_count": 47,
      "outputs": [
        {
          "output_type": "execute_result",
          "data": {
            "text/html": [
              "<div>\n",
              "<style scoped>\n",
              "    .dataframe tbody tr th:only-of-type {\n",
              "        vertical-align: middle;\n",
              "    }\n",
              "\n",
              "    .dataframe tbody tr th {\n",
              "        vertical-align: top;\n",
              "    }\n",
              "\n",
              "    .dataframe thead th {\n",
              "        text-align: right;\n",
              "    }\n",
              "</style>\n",
              "<table border=\"1\" class=\"dataframe\">\n",
              "  <thead>\n",
              "    <tr style=\"text-align: right;\">\n",
              "      <th></th>\n",
              "      <th></th>\n",
              "      <th>Accuracy</th>\n",
              "      <th>Confidence</th>\n",
              "    </tr>\n",
              "    <tr>\n",
              "      <th>Tilt</th>\n",
              "      <th>Contrast</th>\n",
              "      <th></th>\n",
              "      <th></th>\n",
              "    </tr>\n",
              "  </thead>\n",
              "  <tbody>\n",
              "    <tr>\n",
              "      <th rowspan=\"3\" valign=\"top\">0.1</th>\n",
              "      <th>0.30</th>\n",
              "      <td>0.676</td>\n",
              "      <td>0.804</td>\n",
              "    </tr>\n",
              "    <tr>\n",
              "      <th>0.45</th>\n",
              "      <td>0.730</td>\n",
              "      <td>0.802</td>\n",
              "    </tr>\n",
              "    <tr>\n",
              "      <th>1.00</th>\n",
              "      <td>0.941</td>\n",
              "      <td>0.905</td>\n",
              "    </tr>\n",
              "    <tr>\n",
              "      <th rowspan=\"3\" valign=\"top\">0.2</th>\n",
              "      <th>0.30</th>\n",
              "      <td>0.779</td>\n",
              "      <td>0.835</td>\n",
              "    </tr>\n",
              "    <tr>\n",
              "      <th>0.45</th>\n",
              "      <td>0.899</td>\n",
              "      <td>0.900</td>\n",
              "    </tr>\n",
              "    <tr>\n",
              "      <th>1.00</th>\n",
              "      <td>1.000</td>\n",
              "      <td>0.999</td>\n",
              "    </tr>\n",
              "    <tr>\n",
              "      <th rowspan=\"3\" valign=\"top\">0.4</th>\n",
              "      <th>0.30</th>\n",
              "      <td>0.932</td>\n",
              "      <td>0.933</td>\n",
              "    </tr>\n",
              "    <tr>\n",
              "      <th>0.45</th>\n",
              "      <td>0.992</td>\n",
              "      <td>0.988</td>\n",
              "    </tr>\n",
              "    <tr>\n",
              "      <th>1.00</th>\n",
              "      <td>1.000</td>\n",
              "      <td>1.000</td>\n",
              "    </tr>\n",
              "    <tr>\n",
              "      <th rowspan=\"3\" valign=\"top\">0.8</th>\n",
              "      <th>0.30</th>\n",
              "      <td>1.000</td>\n",
              "      <td>0.998</td>\n",
              "    </tr>\n",
              "    <tr>\n",
              "      <th>0.45</th>\n",
              "      <td>1.000</td>\n",
              "      <td>1.000</td>\n",
              "    </tr>\n",
              "    <tr>\n",
              "      <th>1.00</th>\n",
              "      <td>1.000</td>\n",
              "      <td>1.000</td>\n",
              "    </tr>\n",
              "    <tr>\n",
              "      <th rowspan=\"3\" valign=\"top\">1.6</th>\n",
              "      <th>0.30</th>\n",
              "      <td>1.000</td>\n",
              "      <td>1.000</td>\n",
              "    </tr>\n",
              "    <tr>\n",
              "      <th>0.45</th>\n",
              "      <td>1.000</td>\n",
              "      <td>1.000</td>\n",
              "    </tr>\n",
              "    <tr>\n",
              "      <th>1.00</th>\n",
              "      <td>1.000</td>\n",
              "      <td>1.000</td>\n",
              "    </tr>\n",
              "    <tr>\n",
              "      <th rowspan=\"3\" valign=\"top\">3.2</th>\n",
              "      <th>0.30</th>\n",
              "      <td>1.000</td>\n",
              "      <td>1.000</td>\n",
              "    </tr>\n",
              "    <tr>\n",
              "      <th>0.45</th>\n",
              "      <td>1.000</td>\n",
              "      <td>1.000</td>\n",
              "    </tr>\n",
              "    <tr>\n",
              "      <th>1.00</th>\n",
              "      <td>1.000</td>\n",
              "      <td>1.000</td>\n",
              "    </tr>\n",
              "  </tbody>\n",
              "</table>\n",
              "</div>"
            ],
            "text/plain": [
              "               Accuracy  Confidence\n",
              "Tilt Contrast                      \n",
              "0.1  0.30         0.676       0.804\n",
              "     0.45         0.730       0.802\n",
              "     1.00         0.941       0.905\n",
              "0.2  0.30         0.779       0.835\n",
              "     0.45         0.899       0.900\n",
              "     1.00         1.000       0.999\n",
              "0.4  0.30         0.932       0.933\n",
              "     0.45         0.992       0.988\n",
              "     1.00         1.000       1.000\n",
              "0.8  0.30         1.000       0.998\n",
              "     0.45         1.000       1.000\n",
              "     1.00         1.000       1.000\n",
              "1.6  0.30         1.000       1.000\n",
              "     0.45         1.000       1.000\n",
              "     1.00         1.000       1.000\n",
              "3.2  0.30         1.000       1.000\n",
              "     0.45         1.000       1.000\n",
              "     1.00         1.000       1.000"
            ]
          },
          "metadata": {},
          "execution_count": 47
        }
      ]
    },
    {
      "cell_type": "code",
      "metadata": {
        "id": "BxeDMxjB_SAt"
      },
      "source": [
        "results_excel_filepath = os.path.join(os.getcwd(), 'results_vanilla.xlsx') #prep path to save to\n",
        "df_results_groupbyta.to_excel(results_excel_filepath, index=True) #save to disk"
      ],
      "execution_count": 48,
      "outputs": []
    },
    {
      "cell_type": "markdown",
      "metadata": {
        "id": "KVuCYn39xkxX"
      },
      "source": [
        " ## Followup\n",
        " - want to see how robust this is, take a range of confidence thresholds\n",
        "\n",
        "- what about comparing the logits each model generates for each stimulus? some stimuli within datasets appear to drive confidence more than others. models do better with some stimulus images than others. maybe they specialize in a type of image"
      ]
    }
  ]
}