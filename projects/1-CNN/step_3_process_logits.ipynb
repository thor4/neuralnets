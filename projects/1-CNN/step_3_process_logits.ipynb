{
  "nbformat": 4,
  "nbformat_minor": 0,
  "metadata": {
    "colab": {
      "name": "step_3-process_logits.ipynb",
      "provenance": [],
      "authorship_tag": "ABX9TyPGxDGHZa9k/5DSj8Q+1I0O",
      "include_colab_link": true
    },
    "kernelspec": {
      "name": "python3",
      "display_name": "Python 3"
    },
    "language_info": {
      "name": "python"
    }
  },
  "cells": [
    {
      "cell_type": "markdown",
      "metadata": {
        "id": "view-in-github",
        "colab_type": "text"
      },
      "source": [
        "<a href=\"https://colab.research.google.com/github/thor4/neuralnets/blob/master/projects/1-CNN/step_3_process_logits.ipynb\" target=\"_parent\"><img src=\"https://colab.research.google.com/assets/colab-badge.svg\" alt=\"Open In Colab\"/></a>"
      ]
    },
    {
      "cell_type": "markdown",
      "metadata": {
        "id": "I_qZimq9xmb5"
      },
      "source": [
        "# Process logits\n",
        "---\n",
        "Now we can load logits generated from each model and extract confidence and accuracy from them"
      ]
    },
    {
      "cell_type": "markdown",
      "metadata": {
        "id": "h30Xsxc9yxq0"
      },
      "source": [
        "## 1: Load logits\n",
        "These logits were created using the `step2-generation_predictions-mobilenetv2_model.ipynb` and `step2-generation_predictions-vanilla_model.ipynb` Jupyter notebooks. Run the cell to download a zip file from OSF then extract the excel files `logits_mobilenetv2.xlsx` and `logits_vanilla.xlsx` into the current directory"
      ]
    },
    {
      "cell_type": "code",
      "metadata": {
        "colab": {
          "base_uri": "https://localhost:8080/"
        },
        "cellView": "form",
        "id": "tWtIf40_xddZ",
        "outputId": "814d5f2c-6757-4fed-e7f3-39a74f05b60d"
      },
      "source": [
        "# @title Download logits\n",
        "\n",
        "import requests, os\n",
        "from zipfile import ZipFile\n",
        "\n",
        "print(\"Start downloading and unzipping `Model logits`...\")\n",
        "name = 'logits'\n",
        "fname = f\"{name}.zip\"\n",
        "url = f\"https://osf.io/k8fwn/download\" #osf share link\n",
        "r = requests.get(url, allow_redirects=True)\n",
        "with open(fname, 'wb') as fh:\n",
        "  fh.write(r.content) #download file\n",
        "\n",
        "with ZipFile(fname, 'r') as zfile:\n",
        "  zfile.extractall() #extract contents\n",
        "\n",
        "if os.path.exists(fname):\n",
        "  os.remove(fname) #delete zip file\n",
        "else:\n",
        "  print(f\"The file {fname} does not exist\")\n",
        "\n",
        "print(\"Download completed.\")"
      ],
      "execution_count": 1,
      "outputs": [
        {
          "output_type": "stream",
          "name": "stdout",
          "text": [
            "Start downloading and unzipping `Model logits`...\n",
            "Download completed.\n"
          ]
        }
      ]
    },
    {
      "cell_type": "markdown",
      "metadata": {
        "id": "P32-YGVvCrkm"
      },
      "source": [
        "Import libraries first."
      ]
    },
    {
      "cell_type": "code",
      "metadata": {
        "id": "Qygr-4weCrBa"
      },
      "source": [
        "import pandas as pd\n",
        "import numpy as np\n",
        "from scipy.special import expit as sigmoid #get sigmoid function"
      ],
      "execution_count": 2,
      "outputs": []
    },
    {
      "cell_type": "markdown",
      "metadata": {
        "id": "UHwARplby4L8"
      },
      "source": [
        "Now we can load the logits into pandas dataframes"
      ]
    },
    {
      "cell_type": "code",
      "metadata": {
        "colab": {
          "base_uri": "https://localhost:8080/"
        },
        "id": "Hn9MMAK7y-mB",
        "outputId": "ae21131b-9550-4b30-9604-2009941def78"
      },
      "source": [
        "df_mnet = pd.read_excel(\"logits_mobilenetv2.xlsx\") #mobilenetv2 logits\n",
        "df_van = pd.read_excel(\"logits_vanilla.xlsx\") #vanilla logits\n",
        "print(df_mnet.head())\n",
        "print(df_van.head())"
      ],
      "execution_count": 3,
      "outputs": [
        {
          "output_type": "stream",
          "name": "stdout",
          "text": [
            "     Logits  Labels\n",
            "0  0.263464       0\n",
            "1  0.380446       0\n",
            "2 -0.105008       0\n",
            "3  0.152609       0\n",
            "4 -0.277837       0\n",
            "     Logits  Labels\n",
            "0 -2.320800       0\n",
            "1 -0.269380       0\n",
            "2 -2.161348       0\n",
            "3 -0.795077       0\n",
            "4 -2.513597       0\n"
          ]
        }
      ]
    },
    {
      "cell_type": "markdown",
      "metadata": {
        "id": "KVuCYn39xkxX"
      },
      "source": [
        " -want to see how robust this is, take a range of confidence thresholds \n",
        " -build out a function that takes n number of conditions/datasets and n number of logits and outputs the confidence and accuracy\n",
        "After that, determine whether this model's logits produce the same dissociation results\n",
        "\n",
        "-what about comparing the logits each model generates for each stimulus? some stimuli within datasets appear to drive confidence more than others. models do better with some stimulus images than others. maybe they specialize in a type of image"
      ]
    },
    {
      "cell_type": "markdown",
      "metadata": {
        "id": "-htGKrCYDavv"
      },
      "source": [
        "Define the confidence threshold for high confidence."
      ]
    },
    {
      "cell_type": "code",
      "metadata": {
        "id": "BImvgjSNH-HD"
      },
      "source": [
        "thres_min = -0.5\n",
        "thres_max = 0.5"
      ],
      "execution_count": 4,
      "outputs": []
    },
    {
      "cell_type": "markdown",
      "metadata": {
        "id": "XMUVxTGi8qe7"
      },
      "source": [
        "Next, let's define the function to get confidence and accuracy."
      ]
    },
    {
      "cell_type": "code",
      "metadata": {
        "id": "fX9_Wqhp81mW"
      },
      "source": [
        "def get_conf_acc(df, thres_min, thres_max):\n",
        "    df['Predictions'] = df['Logits'].apply(sigmoid) #sigmoid-transform the logits\n",
        "    df['Predictions'] = np.where((df['Predictions'] < 0.5), 0, 1) #replace predictions with 0 or 1\n",
        "    df['Accuracy'] = np.where((df['Labels'] == df['Predictions']), 1, 0)\n",
        "    conditions = [\n",
        "    (df['Logits'] < thres_min) | (df['Logits'] > thres_max), #high conf\n",
        "    (df['Logits'] >= thres_min) | (df['Logits'] <= thres_max) #low conf\n",
        "    ]\n",
        "    values = ['high', 'low']\n",
        "    df['Confidence'] = np.select(conditions, values)\n",
        "    return df"
      ],
      "execution_count": 7,
      "outputs": []
    },
    {
      "cell_type": "markdown",
      "metadata": {
        "id": "kHyMgYEUy_L6"
      },
      "source": [
        "Now we will assign confidence and accuracy to all 18,000 logits at once."
      ]
    },
    {
      "cell_type": "code",
      "metadata": {
        "colab": {
          "base_uri": "https://localhost:8080/"
        },
        "id": "VbUz7Y9jEMvz",
        "outputId": "594f68ef-2f14-4625-fbd7-d12a0dd971ad"
      },
      "source": [
        "df = get_conf_acc(df_mnet,thres_min,thres_max)\n",
        "print(df.iloc[5000:5010])"
      ],
      "execution_count": 9,
      "outputs": [
        {
          "output_type": "stream",
          "name": "stdout",
          "text": [
            "        Logits  Labels  Predictions Confidence  Accuracy\n",
            "5000 -0.126332       0            0        low         1\n",
            "5001 -1.941892       0            0       high         1\n",
            "5002 -1.478281       0            0       high         1\n",
            "5003 -1.361156       0            0       high         1\n",
            "5004 -0.520181       0            0       high         1\n",
            "5005  0.062038       0            1        low         0\n",
            "5006 -0.320940       0            0        low         1\n",
            "5007 -0.122390       0            0        low         1\n",
            "5008 -1.939577       0            0       high         1\n",
            "5009 -1.346852       0            0       high         1\n"
          ]
        }
      ]
    },
    {
      "cell_type": "code",
      "metadata": {
        "id": "c4GJTtayviW0",
        "outputId": "6c5b004a-6d67-4f71-810e-7b84a246c5fa",
        "colab": {
          "base_uri": "https://localhost:8080/"
        }
      },
      "source": [
        "df['Accuracy'].iloc[0:1000].mean() #avg accuracy for a dataset"
      ],
      "execution_count": 22,
      "outputs": [
        {
          "output_type": "execute_result",
          "data": {
            "text/plain": [
              "0.543"
            ]
          },
          "metadata": {},
          "execution_count": 22
        }
      ]
    },
    {
      "cell_type": "code",
      "metadata": {
        "id": "mwcxj-RJ5PNJ",
        "outputId": "2402c13c-94fe-491c-de4c-1151fe6ab9b6",
        "colab": {
          "base_uri": "https://localhost:8080/"
        }
      },
      "source": [
        "df['Confidence'].iloc[0:1000].value_counts(normalize=True).loc['high'] #avg high conf for a dataset"
      ],
      "execution_count": 23,
      "outputs": [
        {
          "output_type": "execute_result",
          "data": {
            "text/plain": [
              "0.04"
            ]
          },
          "metadata": {},
          "execution_count": 23
        }
      ]
    },
    {
      "cell_type": "code",
      "metadata": {
        "id": "IFGsh_IFy4jA",
        "outputId": "1d715db3-b84b-48ae-b4ee-e2f0435a7434",
        "colab": {
          "base_uri": "https://localhost:8080/"
        }
      },
      "source": [
        "df['Confidence'].value_counts(normalize=True).loc['high']"
      ],
      "execution_count": 17,
      "outputs": [
        {
          "output_type": "execute_result",
          "data": {
            "text/plain": [
              "0.37422222222222223"
            ]
          },
          "metadata": {},
          "execution_count": 17
        }
      ]
    },
    {
      "cell_type": "code",
      "metadata": {
        "id": "6YgZCEKBtkFh"
      },
      "source": [
        "span = range(0, 18000, 1000)\n",
        "df_results = pd.DataFrame(columns=['Logits','Labels']) #initialize dataframe\n",
        "for n in span:\n",
        "  set = df[n:n+1000] #extract dataset\n",
        "  acc = set['Accuracy'].mean() #calculate avg accuracy\n",
        "  conf = set['Confidence'].value_counts(normalize=True).loc['high'] #calculate avg high confidence\n",
        "  df_results = pd.concat([df_results, pd.DataFrame({'Accuracy':acc,\n",
        "                                                    'Confidence':conf})], \n",
        "                   axis=0, ignore_index=True) #append logits & labels to dataframe\n",
        "  print(n,'to',n+1000)"
      ],
      "execution_count": null,
      "outputs": []
    },
    {
      "cell_type": "markdown",
      "metadata": {
        "id": "8BAya8jcHtAz"
      },
      "source": [
        "Calculate confidence based on thresholds and add it to dataframe as a new column called `Confidence`"
      ]
    },
    {
      "cell_type": "code",
      "metadata": {
        "id": "018f_h_8JVuq",
        "colab": {
          "base_uri": "https://localhost:8080/"
        },
        "outputId": "77f9456c-3130-46ef-f8e8-7ab379485cc5"
      },
      "source": [
        "thres_min = -0.5\n",
        "thres_max = 0.5\n",
        "\n",
        "conditions = [\n",
        "    (df_mnet['Logits'] < thres_min) | (df_mnet['Logits'] > thres_max), #high conf\n",
        "    (df_mnet['Logits'] >= thres_min) | (df_mnet['Logits'] <= thres_max) #low conf\n",
        "]\n",
        "\n",
        "values = ['high', 'low']\n",
        "\n",
        "df_mnet['Confidence'] = np.select(conditions, values)\n",
        "\n",
        "print(df_mnet.iloc[5000:5010])"
      ],
      "execution_count": 3,
      "outputs": [
        {
          "output_type": "stream",
          "name": "stdout",
          "text": [
            "        Logits  Labels Confidence\n",
            "5000 -0.126332       0        low\n",
            "5001 -1.941892       0       high\n",
            "5002 -1.478281       0       high\n",
            "5003 -1.361156       0       high\n",
            "5004 -0.520181       0       high\n",
            "5005  0.062038       0        low\n",
            "5006 -0.320940       0        low\n",
            "5007 -0.122390       0        low\n",
            "5008 -1.939577       0       high\n",
            "5009 -1.346852       0       high\n"
          ]
        }
      ]
    },
    {
      "cell_type": "code",
      "metadata": {
        "colab": {
          "base_uri": "https://localhost:8080/"
        },
        "id": "BY4tibxnMAPJ",
        "outputId": "9ddeaec5-8663-4757-8684-805f63804734"
      },
      "source": [
        "df_mnet['Logits'].to_numpy()"
      ],
      "execution_count": 8,
      "outputs": [
        {
          "output_type": "execute_result",
          "data": {
            "text/plain": [
              "array([ 0.26346406,  0.38044614, -0.10500798, ...,  5.1039381 ,\n",
              "        5.38165665,  5.02641058])"
            ]
          },
          "metadata": {},
          "execution_count": 8
        }
      ]
    },
    {
      "cell_type": "code",
      "metadata": {
        "id": "5xpVX36JHVPv"
      },
      "source": [
        "from scipy.special import expit as sigmoid #get sigmoid function\n",
        "df_mnet['Predictions'] = df_mnet['Logits'].apply(sigmoid) #sigmoid-transform the logits\n",
        "\n"
      ],
      "execution_count": 14,
      "outputs": []
    },
    {
      "cell_type": "code",
      "metadata": {
        "colab": {
          "base_uri": "https://localhost:8080/",
          "height": 359
        },
        "id": "l95r1WtiQZc2",
        "outputId": "2c13a724-83fd-437a-93c5-b73bf8313abd"
      },
      "source": [
        "df_mnet.iloc[5000:5010]"
      ],
      "execution_count": 15,
      "outputs": [
        {
          "output_type": "execute_result",
          "data": {
            "text/html": [
              "<div>\n",
              "<style scoped>\n",
              "    .dataframe tbody tr th:only-of-type {\n",
              "        vertical-align: middle;\n",
              "    }\n",
              "\n",
              "    .dataframe tbody tr th {\n",
              "        vertical-align: top;\n",
              "    }\n",
              "\n",
              "    .dataframe thead th {\n",
              "        text-align: right;\n",
              "    }\n",
              "</style>\n",
              "<table border=\"1\" class=\"dataframe\">\n",
              "  <thead>\n",
              "    <tr style=\"text-align: right;\">\n",
              "      <th></th>\n",
              "      <th>Logits</th>\n",
              "      <th>Labels</th>\n",
              "      <th>Confidence</th>\n",
              "      <th>Predictions</th>\n",
              "    </tr>\n",
              "  </thead>\n",
              "  <tbody>\n",
              "    <tr>\n",
              "      <th>5000</th>\n",
              "      <td>-0.126332</td>\n",
              "      <td>0</td>\n",
              "      <td>low</td>\n",
              "      <td>0.468459</td>\n",
              "    </tr>\n",
              "    <tr>\n",
              "      <th>5001</th>\n",
              "      <td>-1.941892</td>\n",
              "      <td>0</td>\n",
              "      <td>high</td>\n",
              "      <td>0.125440</td>\n",
              "    </tr>\n",
              "    <tr>\n",
              "      <th>5002</th>\n",
              "      <td>-1.478281</td>\n",
              "      <td>0</td>\n",
              "      <td>high</td>\n",
              "      <td>0.185687</td>\n",
              "    </tr>\n",
              "    <tr>\n",
              "      <th>5003</th>\n",
              "      <td>-1.361156</td>\n",
              "      <td>0</td>\n",
              "      <td>high</td>\n",
              "      <td>0.204053</td>\n",
              "    </tr>\n",
              "    <tr>\n",
              "      <th>5004</th>\n",
              "      <td>-0.520181</td>\n",
              "      <td>0</td>\n",
              "      <td>high</td>\n",
              "      <td>0.372810</td>\n",
              "    </tr>\n",
              "    <tr>\n",
              "      <th>5005</th>\n",
              "      <td>0.062038</td>\n",
              "      <td>0</td>\n",
              "      <td>low</td>\n",
              "      <td>0.515505</td>\n",
              "    </tr>\n",
              "    <tr>\n",
              "      <th>5006</th>\n",
              "      <td>-0.320940</td>\n",
              "      <td>0</td>\n",
              "      <td>low</td>\n",
              "      <td>0.420447</td>\n",
              "    </tr>\n",
              "    <tr>\n",
              "      <th>5007</th>\n",
              "      <td>-0.122390</td>\n",
              "      <td>0</td>\n",
              "      <td>low</td>\n",
              "      <td>0.469441</td>\n",
              "    </tr>\n",
              "    <tr>\n",
              "      <th>5008</th>\n",
              "      <td>-1.939577</td>\n",
              "      <td>0</td>\n",
              "      <td>high</td>\n",
              "      <td>0.125694</td>\n",
              "    </tr>\n",
              "    <tr>\n",
              "      <th>5009</th>\n",
              "      <td>-1.346852</td>\n",
              "      <td>0</td>\n",
              "      <td>high</td>\n",
              "      <td>0.206385</td>\n",
              "    </tr>\n",
              "  </tbody>\n",
              "</table>\n",
              "</div>"
            ],
            "text/plain": [
              "        Logits  Labels Confidence  Predictions\n",
              "5000 -0.126332       0        low     0.468459\n",
              "5001 -1.941892       0       high     0.125440\n",
              "5002 -1.478281       0       high     0.185687\n",
              "5003 -1.361156       0       high     0.204053\n",
              "5004 -0.520181       0       high     0.372810\n",
              "5005  0.062038       0        low     0.515505\n",
              "5006 -0.320940       0        low     0.420447\n",
              "5007 -0.122390       0        low     0.469441\n",
              "5008 -1.939577       0       high     0.125694\n",
              "5009 -1.346852       0       high     0.206385"
            ]
          },
          "metadata": {},
          "execution_count": 15
        }
      ]
    },
    {
      "cell_type": "code",
      "metadata": {
        "colab": {
          "base_uri": "https://localhost:8080/",
          "height": 359
        },
        "id": "m2gMrLUZRNeb",
        "outputId": "d2913667-03e6-4355-ba10-0e2e3d758db6"
      },
      "source": [
        "df_mnet['Predictions'] = np.where((df_mnet['Predictions'] < 0.5), 0, 1)\n",
        "df_mnet.iloc[5000:5010]"
      ],
      "execution_count": 16,
      "outputs": [
        {
          "output_type": "execute_result",
          "data": {
            "text/html": [
              "<div>\n",
              "<style scoped>\n",
              "    .dataframe tbody tr th:only-of-type {\n",
              "        vertical-align: middle;\n",
              "    }\n",
              "\n",
              "    .dataframe tbody tr th {\n",
              "        vertical-align: top;\n",
              "    }\n",
              "\n",
              "    .dataframe thead th {\n",
              "        text-align: right;\n",
              "    }\n",
              "</style>\n",
              "<table border=\"1\" class=\"dataframe\">\n",
              "  <thead>\n",
              "    <tr style=\"text-align: right;\">\n",
              "      <th></th>\n",
              "      <th>Logits</th>\n",
              "      <th>Labels</th>\n",
              "      <th>Confidence</th>\n",
              "      <th>Predictions</th>\n",
              "    </tr>\n",
              "  </thead>\n",
              "  <tbody>\n",
              "    <tr>\n",
              "      <th>5000</th>\n",
              "      <td>-0.126332</td>\n",
              "      <td>0</td>\n",
              "      <td>low</td>\n",
              "      <td>0</td>\n",
              "    </tr>\n",
              "    <tr>\n",
              "      <th>5001</th>\n",
              "      <td>-1.941892</td>\n",
              "      <td>0</td>\n",
              "      <td>high</td>\n",
              "      <td>0</td>\n",
              "    </tr>\n",
              "    <tr>\n",
              "      <th>5002</th>\n",
              "      <td>-1.478281</td>\n",
              "      <td>0</td>\n",
              "      <td>high</td>\n",
              "      <td>0</td>\n",
              "    </tr>\n",
              "    <tr>\n",
              "      <th>5003</th>\n",
              "      <td>-1.361156</td>\n",
              "      <td>0</td>\n",
              "      <td>high</td>\n",
              "      <td>0</td>\n",
              "    </tr>\n",
              "    <tr>\n",
              "      <th>5004</th>\n",
              "      <td>-0.520181</td>\n",
              "      <td>0</td>\n",
              "      <td>high</td>\n",
              "      <td>0</td>\n",
              "    </tr>\n",
              "    <tr>\n",
              "      <th>5005</th>\n",
              "      <td>0.062038</td>\n",
              "      <td>0</td>\n",
              "      <td>low</td>\n",
              "      <td>1</td>\n",
              "    </tr>\n",
              "    <tr>\n",
              "      <th>5006</th>\n",
              "      <td>-0.320940</td>\n",
              "      <td>0</td>\n",
              "      <td>low</td>\n",
              "      <td>0</td>\n",
              "    </tr>\n",
              "    <tr>\n",
              "      <th>5007</th>\n",
              "      <td>-0.122390</td>\n",
              "      <td>0</td>\n",
              "      <td>low</td>\n",
              "      <td>0</td>\n",
              "    </tr>\n",
              "    <tr>\n",
              "      <th>5008</th>\n",
              "      <td>-1.939577</td>\n",
              "      <td>0</td>\n",
              "      <td>high</td>\n",
              "      <td>0</td>\n",
              "    </tr>\n",
              "    <tr>\n",
              "      <th>5009</th>\n",
              "      <td>-1.346852</td>\n",
              "      <td>0</td>\n",
              "      <td>high</td>\n",
              "      <td>0</td>\n",
              "    </tr>\n",
              "  </tbody>\n",
              "</table>\n",
              "</div>"
            ],
            "text/plain": [
              "        Logits  Labels Confidence  Predictions\n",
              "5000 -0.126332       0        low            0\n",
              "5001 -1.941892       0       high            0\n",
              "5002 -1.478281       0       high            0\n",
              "5003 -1.361156       0       high            0\n",
              "5004 -0.520181       0       high            0\n",
              "5005  0.062038       0        low            1\n",
              "5006 -0.320940       0        low            0\n",
              "5007 -0.122390       0        low            0\n",
              "5008 -1.939577       0       high            0\n",
              "5009 -1.346852       0       high            0"
            ]
          },
          "metadata": {},
          "execution_count": 16
        }
      ]
    },
    {
      "cell_type": "code",
      "metadata": {
        "colab": {
          "base_uri": "https://localhost:8080/",
          "height": 359
        },
        "id": "jMZT7Zq0S8BU",
        "outputId": "5e13e9c7-b16c-4a6a-b779-cbd40e69509d"
      },
      "source": [
        "df_mnet['Accuracy'] = np.where((df_mnet['Labels'] == df_mnet['Predictions']), 1, 0)\n",
        "df_mnet.iloc[5000:5010]"
      ],
      "execution_count": 17,
      "outputs": [
        {
          "output_type": "execute_result",
          "data": {
            "text/html": [
              "<div>\n",
              "<style scoped>\n",
              "    .dataframe tbody tr th:only-of-type {\n",
              "        vertical-align: middle;\n",
              "    }\n",
              "\n",
              "    .dataframe tbody tr th {\n",
              "        vertical-align: top;\n",
              "    }\n",
              "\n",
              "    .dataframe thead th {\n",
              "        text-align: right;\n",
              "    }\n",
              "</style>\n",
              "<table border=\"1\" class=\"dataframe\">\n",
              "  <thead>\n",
              "    <tr style=\"text-align: right;\">\n",
              "      <th></th>\n",
              "      <th>Logits</th>\n",
              "      <th>Labels</th>\n",
              "      <th>Confidence</th>\n",
              "      <th>Predictions</th>\n",
              "      <th>Accuracy</th>\n",
              "    </tr>\n",
              "  </thead>\n",
              "  <tbody>\n",
              "    <tr>\n",
              "      <th>5000</th>\n",
              "      <td>-0.126332</td>\n",
              "      <td>0</td>\n",
              "      <td>low</td>\n",
              "      <td>0</td>\n",
              "      <td>1</td>\n",
              "    </tr>\n",
              "    <tr>\n",
              "      <th>5001</th>\n",
              "      <td>-1.941892</td>\n",
              "      <td>0</td>\n",
              "      <td>high</td>\n",
              "      <td>0</td>\n",
              "      <td>1</td>\n",
              "    </tr>\n",
              "    <tr>\n",
              "      <th>5002</th>\n",
              "      <td>-1.478281</td>\n",
              "      <td>0</td>\n",
              "      <td>high</td>\n",
              "      <td>0</td>\n",
              "      <td>1</td>\n",
              "    </tr>\n",
              "    <tr>\n",
              "      <th>5003</th>\n",
              "      <td>-1.361156</td>\n",
              "      <td>0</td>\n",
              "      <td>high</td>\n",
              "      <td>0</td>\n",
              "      <td>1</td>\n",
              "    </tr>\n",
              "    <tr>\n",
              "      <th>5004</th>\n",
              "      <td>-0.520181</td>\n",
              "      <td>0</td>\n",
              "      <td>high</td>\n",
              "      <td>0</td>\n",
              "      <td>1</td>\n",
              "    </tr>\n",
              "    <tr>\n",
              "      <th>5005</th>\n",
              "      <td>0.062038</td>\n",
              "      <td>0</td>\n",
              "      <td>low</td>\n",
              "      <td>1</td>\n",
              "      <td>0</td>\n",
              "    </tr>\n",
              "    <tr>\n",
              "      <th>5006</th>\n",
              "      <td>-0.320940</td>\n",
              "      <td>0</td>\n",
              "      <td>low</td>\n",
              "      <td>0</td>\n",
              "      <td>1</td>\n",
              "    </tr>\n",
              "    <tr>\n",
              "      <th>5007</th>\n",
              "      <td>-0.122390</td>\n",
              "      <td>0</td>\n",
              "      <td>low</td>\n",
              "      <td>0</td>\n",
              "      <td>1</td>\n",
              "    </tr>\n",
              "    <tr>\n",
              "      <th>5008</th>\n",
              "      <td>-1.939577</td>\n",
              "      <td>0</td>\n",
              "      <td>high</td>\n",
              "      <td>0</td>\n",
              "      <td>1</td>\n",
              "    </tr>\n",
              "    <tr>\n",
              "      <th>5009</th>\n",
              "      <td>-1.346852</td>\n",
              "      <td>0</td>\n",
              "      <td>high</td>\n",
              "      <td>0</td>\n",
              "      <td>1</td>\n",
              "    </tr>\n",
              "  </tbody>\n",
              "</table>\n",
              "</div>"
            ],
            "text/plain": [
              "        Logits  Labels Confidence  Predictions  Accuracy\n",
              "5000 -0.126332       0        low            0         1\n",
              "5001 -1.941892       0       high            0         1\n",
              "5002 -1.478281       0       high            0         1\n",
              "5003 -1.361156       0       high            0         1\n",
              "5004 -0.520181       0       high            0         1\n",
              "5005  0.062038       0        low            1         0\n",
              "5006 -0.320940       0        low            0         1\n",
              "5007 -0.122390       0        low            0         1\n",
              "5008 -1.939577       0       high            0         1\n",
              "5009 -1.346852       0       high            0         1"
            ]
          },
          "metadata": {},
          "execution_count": 17
        }
      ]
    },
    {
      "cell_type": "code",
      "metadata": {
        "id": "BcuwuP6tKzYk"
      },
      "source": [
        "predictions = tf.nn.sigmoid(predictions) #apply sigmoid activation function to transform logits to [0,1]\n",
        "predictions = tf.where(predictions < 0.5, 0, 1) #round down or up accordingly since it's a binary classifier\n",
        "accuracy = tf.where(tf.equal(predictions,label_batch),1,0) #correct is 1 and incorrect is 0"
      ],
      "execution_count": null,
      "outputs": []
    },
    {
      "cell_type": "markdown",
      "metadata": {
        "id": "_K8Y-maZKRva"
      },
      "source": [
        "##NEXT: concatenate conf & acc into dataframe. cleanup code and get conf/acc for vanilla model. then split up by dataset"
      ]
    },
    {
      "cell_type": "code",
      "metadata": {
        "colab": {
          "base_uri": "https://localhost:8080/"
        },
        "id": "tW-kwvPN0rCv",
        "outputId": "a286600b-16c4-437b-dada-df1cf705fffb"
      },
      "source": [
        "df_mnet.shape"
      ],
      "execution_count": null,
      "outputs": [
        {
          "output_type": "execute_result",
          "data": {
            "text/plain": [
              "(18000, 2)"
            ]
          },
          "metadata": {},
          "execution_count": 5
        }
      ]
    },
    {
      "cell_type": "code",
      "metadata": {
        "colab": {
          "base_uri": "https://localhost:8080/"
        },
        "id": "zHMTg22U2haj",
        "outputId": "2278ac3c-2d74-47b4-a1fb-a506b1762cac"
      },
      "source": [
        "df_mnet.iloc[999]"
      ],
      "execution_count": null,
      "outputs": [
        {
          "output_type": "execute_result",
          "data": {
            "text/plain": [
              "Logits   -0.072107\n",
              "Labels    1.000000\n",
              "Name: 999, dtype: float64"
            ]
          },
          "metadata": {},
          "execution_count": 17
        }
      ]
    },
    {
      "cell_type": "code",
      "metadata": {
        "colab": {
          "base_uri": "https://localhost:8080/"
        },
        "id": "xWCnNtrTy-eN",
        "outputId": "970cf096-3ef3-40ff-a7fa-aa8b9b1b0b16"
      },
      "source": [
        "test = df_mnet[0:1000] #first 1,000 entries\n",
        "df_mnet[0:1000].shape"
      ],
      "execution_count": null,
      "outputs": [
        {
          "output_type": "execute_result",
          "data": {
            "text/plain": [
              "(1000, 2)"
            ]
          },
          "metadata": {},
          "execution_count": 24
        }
      ]
    },
    {
      "cell_type": "code",
      "metadata": {
        "colab": {
          "base_uri": "https://localhost:8080/"
        },
        "id": "xIE9l1BY4Yul",
        "outputId": "97f68e64-1ba9-4e81-e21e-1dbb0d8cc2cb"
      },
      "source": [
        "test.iloc[-1] #last entry"
      ],
      "execution_count": null,
      "outputs": [
        {
          "output_type": "execute_result",
          "data": {
            "text/plain": [
              "Logits   -0.072107\n",
              "Labels    1.000000\n",
              "Name: 999, dtype: float64"
            ]
          },
          "metadata": {},
          "execution_count": 25
        }
      ]
    },
    {
      "cell_type": "markdown",
      "metadata": {
        "id": "wuQTfxwM6pSm"
      },
      "source": [
        "last entry in `test` is same as the 999th entry of `df_mnet` since index starts at 0"
      ]
    },
    {
      "cell_type": "code",
      "metadata": {
        "colab": {
          "base_uri": "https://localhost:8080/"
        },
        "id": "eznaq4Vu5huM",
        "outputId": "21743c7b-6338-433e-a1e9-17237418756a"
      },
      "source": [
        "test.iloc[-1] == df_mnet.iloc[999] "
      ],
      "execution_count": null,
      "outputs": [
        {
          "output_type": "execute_result",
          "data": {
            "text/plain": [
              "Logits    True\n",
              "Labels    True\n",
              "Name: 999, dtype: bool"
            ]
          },
          "metadata": {},
          "execution_count": 29
        }
      ]
    },
    {
      "cell_type": "markdown",
      "metadata": {
        "id": "Opb0LN4n7Jvc"
      },
      "source": [
        "the 17,999 entry in `df_mnet` is the last since index starts at 0"
      ]
    },
    {
      "cell_type": "code",
      "metadata": {
        "colab": {
          "base_uri": "https://localhost:8080/"
        },
        "id": "GH4qN3td6Hbo",
        "outputId": "b42aa2c5-0cb8-4239-a682-2b893a68d0b5"
      },
      "source": [
        "df_mnet.iloc[17999] == df_mnet.iloc[-1]"
      ],
      "execution_count": null,
      "outputs": [
        {
          "output_type": "execute_result",
          "data": {
            "text/plain": [
              "Logits    True\n",
              "Labels    True\n",
              "Name: 17999, dtype: bool"
            ]
          },
          "metadata": {},
          "execution_count": 33
        }
      ]
    },
    {
      "cell_type": "code",
      "metadata": {
        "colab": {
          "base_uri": "https://localhost:8080/"
        },
        "id": "dly7_J1I5M0x",
        "outputId": "2c93a9d4-53c2-4327-f1ca-d66162538cea"
      },
      "source": [
        "test2 = df_mnet[1000:2000]\n",
        "df_mnet[1000:2000].shape"
      ],
      "execution_count": null,
      "outputs": [
        {
          "output_type": "execute_result",
          "data": {
            "text/plain": [
              "(1000, 2)"
            ]
          },
          "metadata": {},
          "execution_count": 26
        }
      ]
    },
    {
      "cell_type": "code",
      "metadata": {
        "colab": {
          "base_uri": "https://localhost:8080/"
        },
        "id": "8YJBZmuG5V7K",
        "outputId": "6ed7f932-5f55-4726-f6f9-120f36c13650"
      },
      "source": [
        "test2.iloc[0]"
      ],
      "execution_count": null,
      "outputs": [
        {
          "output_type": "execute_result",
          "data": {
            "text/plain": [
              "Logits   -0.590789\n",
              "Labels    0.000000\n",
              "Name: 1000, dtype: float64"
            ]
          },
          "metadata": {},
          "execution_count": 35
        }
      ]
    },
    {
      "cell_type": "markdown",
      "metadata": {
        "id": "vPstOqBD8Wtd"
      },
      "source": [
        "Let's establish our index ranges."
      ]
    },
    {
      "cell_type": "code",
      "metadata": {
        "colab": {
          "base_uri": "https://localhost:8080/"
        },
        "id": "bvuahPtU0kX1",
        "outputId": "f34b3cbc-b5fd-443b-fe03-4e329fc51ada"
      },
      "source": [
        "span = range(0, 18000, 1000)\n",
        "for n in span:\n",
        "  print(n,'to',n+1000)"
      ],
      "execution_count": null,
      "outputs": [
        {
          "output_type": "stream",
          "name": "stdout",
          "text": [
            "0 to 1000\n",
            "1000 to 2000\n",
            "2000 to 3000\n",
            "3000 to 4000\n",
            "4000 to 5000\n",
            "5000 to 6000\n",
            "6000 to 7000\n",
            "7000 to 8000\n",
            "8000 to 9000\n",
            "9000 to 10000\n",
            "10000 to 11000\n",
            "11000 to 12000\n",
            "12000 to 13000\n",
            "13000 to 14000\n",
            "14000 to 15000\n",
            "15000 to 16000\n",
            "16000 to 17000\n",
            "17000 to 18000\n"
          ]
        }
      ]
    },
    {
      "cell_type": "code",
      "metadata": {
        "id": "rcHOkWWx7_mg"
      },
      "source": [
        "span = range(0, 18000, 1000)\n",
        "for idx in span:\n",
        "  print(idx,'to',idx+1000)\n",
        "  df_mnet[idx:idx+1000]"
      ],
      "execution_count": null,
      "outputs": []
    }
  ]
}