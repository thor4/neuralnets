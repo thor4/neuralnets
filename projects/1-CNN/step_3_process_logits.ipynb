{
  "nbformat": 4,
  "nbformat_minor": 0,
  "metadata": {
    "colab": {
      "name": "step_3-process_logits.ipynb",
      "provenance": [],
      "authorship_tag": "ABX9TyO0udBZualtQFHkHh/eJc+f",
      "include_colab_link": true
    },
    "kernelspec": {
      "name": "python3",
      "display_name": "Python 3"
    },
    "language_info": {
      "name": "python"
    }
  },
  "cells": [
    {
      "cell_type": "markdown",
      "metadata": {
        "id": "view-in-github",
        "colab_type": "text"
      },
      "source": [
        "<a href=\"https://colab.research.google.com/github/thor4/neuralnets/blob/master/projects/1-CNN/step_3_process_logits.ipynb\" target=\"_parent\"><img src=\"https://colab.research.google.com/assets/colab-badge.svg\" alt=\"Open In Colab\"/></a>"
      ]
    },
    {
      "cell_type": "markdown",
      "metadata": {
        "id": "I_qZimq9xmb5"
      },
      "source": [
        "# Process logits\n",
        "---\n",
        "Now we can load logits generated from each model and extract confidence and accuracy from them"
      ]
    },
    {
      "cell_type": "markdown",
      "metadata": {
        "id": "h30Xsxc9yxq0"
      },
      "source": [
        "## 1: Load logits\n",
        "These logits were created using the `step2-generation_predictions-mobilenetv2_model.ipynb` and `step2-generation_predictions-vanilla_model.ipynb` Jupyter notebooks. Run the cell to download a zip file from OSF then extract the excel files `logits_mobilenetv2.xlsx` and `logits_vanilla.xlsx` into the current directory"
      ]
    },
    {
      "cell_type": "code",
      "metadata": {
        "colab": {
          "base_uri": "https://localhost:8080/"
        },
        "cellView": "form",
        "id": "tWtIf40_xddZ",
        "outputId": "ff1d1a62-e892-443d-ea6b-f328d9b09197"
      },
      "source": [
        "# @title Download logits\n",
        "\n",
        "import requests, os\n",
        "from zipfile import ZipFile\n",
        "\n",
        "print(\"Start downloading and unzipping `Model logits`...\")\n",
        "name = 'logits'\n",
        "fname = f\"{name}.zip\"\n",
        "url = f\"https://osf.io/7c6bh/download\" #osf share link\n",
        "r = requests.get(url, allow_redirects=True)\n",
        "with open(fname, 'wb') as fh:\n",
        "  fh.write(r.content) #download file\n",
        "\n",
        "with ZipFile(fname, 'r') as zfile:\n",
        "  zfile.extractall() #extract contents\n",
        "\n",
        "if os.path.exists(fname):\n",
        "  os.remove(fname) #delete zip file\n",
        "else:\n",
        "  print(f\"The file {fname} does not exist\")\n",
        "\n",
        "print(\"Download completed.\")"
      ],
      "execution_count": 1,
      "outputs": [
        {
          "output_type": "stream",
          "name": "stdout",
          "text": [
            "Start downloading and unzipping `Vanilla logits`...\n",
            "Download completed.\n"
          ]
        }
      ]
    },
    {
      "cell_type": "markdown",
      "metadata": {
        "id": "UHwARplby4L8"
      },
      "source": [
        "Now we can load the logits into pandas dataframes"
      ]
    },
    {
      "cell_type": "code",
      "metadata": {
        "colab": {
          "base_uri": "https://localhost:8080/"
        },
        "id": "Hn9MMAK7y-mB",
        "outputId": "c8dd9b92-1c4c-49d7-d4c3-f4056deab85b"
      },
      "source": [
        "import pandas as pd\n",
        "\n",
        "df_mnet = pd.read_excel(\"logits_mobilenetv2.xlsx\") #mobilenetv2 logits\n",
        "df_van = pd.read_excel(\"logits_vanilla.xlsx\") #vanilla logits\n",
        "print(df_mnet.head())\n",
        "print(df_van.head())"
      ],
      "execution_count": 3,
      "outputs": [
        {
          "output_type": "stream",
          "name": "stdout",
          "text": [
            "     Logits  Labels\n",
            "0  0.263464       0\n",
            "1  0.380446       0\n",
            "2 -0.105008       0\n",
            "3  0.152609       0\n",
            "4 -0.277837       0\n",
            "     Logits  Labels\n",
            "0 -1.276125       1\n",
            "1 -2.801925       0\n",
            "2  0.023091       0\n",
            "3 -1.692269       0\n",
            "4  1.778168       1\n"
          ]
        }
      ]
    },
    {
      "cell_type": "markdown",
      "metadata": {
        "id": "KVuCYn39xkxX"
      },
      "source": [
        " -want to see how robust this is, take a range of confidence thresholds \n",
        " -build out a function that takes n number of conditions/datasets and n number of logits and outputs the confidence and accuracy\n",
        "After that, determine whether this model's logits produce the same dissociation results"
      ]
    }
  ]
}