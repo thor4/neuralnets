{
  "nbformat": 4,
  "nbformat_minor": 0,
  "metadata": {
    "colab": {
      "name": "step2-tilt_search",
      "provenance": [],
      "authorship_tag": "ABX9TyPl7aGvLdcJwqeLFZEndTR+",
      "include_colab_link": true
    },
    "kernelspec": {
      "name": "python3",
      "display_name": "Python 3"
    },
    "language_info": {
      "name": "python"
    },
    "accelerator": "GPU"
  },
  "cells": [
    {
      "cell_type": "markdown",
      "metadata": {
        "id": "view-in-github",
        "colab_type": "text"
      },
      "source": [
        "<a href=\"https://colab.research.google.com/github/thor4/neuralnets/blob/master/projects/1-CNN/step2-tilt_search.ipynb\" target=\"_parent\"><img src=\"https://colab.research.google.com/assets/colab-badge.svg\" alt=\"Open In Colab\"/></a>"
      ]
    },
    {
      "cell_type": "markdown",
      "metadata": {
        "id": "hHcTgWXkB-4b"
      },
      "source": [
        "# Generate predictions from model\n",
        "--- "
      ]
    },
    {
      "cell_type": "code",
      "metadata": {
        "id": "w6D3EmbiHej8",
        "outputId": "5a1a04fe-8e84-4d60-cf22-6f5c3ca21598",
        "colab": {
          "base_uri": "https://localhost:8080/"
        }
      },
      "source": [
        "gpu_info = !nvidia-smi\n",
        "gpu_info = '\\n'.join(gpu_info)\n",
        "if gpu_info.find('failed') >= 0:\n",
        "  print('Not connected to a GPU')\n",
        "else:\n",
        "  print(gpu_info)"
      ],
      "execution_count": 4,
      "outputs": [
        {
          "output_type": "stream",
          "name": "stdout",
          "text": [
            "Mon Nov  8 15:18:17 2021       \n",
            "+-----------------------------------------------------------------------------+\n",
            "| NVIDIA-SMI 495.44       Driver Version: 460.32.03    CUDA Version: 11.2     |\n",
            "|-------------------------------+----------------------+----------------------+\n",
            "| GPU  Name        Persistence-M| Bus-Id        Disp.A | Volatile Uncorr. ECC |\n",
            "| Fan  Temp  Perf  Pwr:Usage/Cap|         Memory-Usage | GPU-Util  Compute M. |\n",
            "|                               |                      |               MIG M. |\n",
            "|===============================+======================+======================|\n",
            "|   0  Tesla P100-PCIE...  Off  | 00000000:00:04.0 Off |                    0 |\n",
            "| N/A   37C    P0    27W / 250W |      0MiB / 16280MiB |      0%      Default |\n",
            "|                               |                      |                  N/A |\n",
            "+-------------------------------+----------------------+----------------------+\n",
            "                                                                               \n",
            "+-----------------------------------------------------------------------------+\n",
            "| Processes:                                                                  |\n",
            "|  GPU   GI   CI        PID   Type   Process name                  GPU Memory |\n",
            "|        ID   ID                                                   Usage      |\n",
            "|=============================================================================|\n",
            "|  No running processes found                                                 |\n",
            "+-----------------------------------------------------------------------------+\n"
          ]
        }
      ]
    },
    {
      "cell_type": "code",
      "metadata": {
        "id": "jgnGnDu-HfF8",
        "outputId": "dc4e1ba1-ca91-415f-af6d-16510c845ebb",
        "colab": {
          "base_uri": "https://localhost:8080/"
        }
      },
      "source": [
        "from psutil import virtual_memory\n",
        "ram_gb = virtual_memory().total / 1e9\n",
        "print('Your runtime has {:.1f} gigabytes of available RAM\\n'.format(ram_gb))\n",
        "\n",
        "if ram_gb < 20:\n",
        "  print('Not using a high-RAM runtime')\n",
        "else:\n",
        "  print('You are using a high-RAM runtime!')"
      ],
      "execution_count": 5,
      "outputs": [
        {
          "output_type": "stream",
          "name": "stdout",
          "text": [
            "Your runtime has 13.6 gigabytes of available RAM\n",
            "\n",
            "Not using a high-RAM runtime\n"
          ]
        }
      ]
    },
    {
      "cell_type": "markdown",
      "metadata": {
        "id": "XKux6e-YPew0"
      },
      "source": [
        "## 1: Setup the model\n",
        "This model was created using the `step1-train_vanilla_CNN_v2-cifar10.ipynb` Jupyter notebook. \n",
        "Run the cell to download a zip file from OSF then extract its contents into the newly created directory: `content/cifar10_gabors/`"
      ]
    },
    {
      "cell_type": "code",
      "metadata": {
        "id": "jpRtxiFmDo7x",
        "colab": {
          "base_uri": "https://localhost:8080/"
        },
        "cellView": "form",
        "outputId": "38278a5d-21ef-4430-ff8a-46b77a5cbf78"
      },
      "source": [
        "# @title Download model\n",
        "\n",
        "import requests, os\n",
        "from zipfile import ZipFile\n",
        "\n",
        "print(\"Start downloading and unzipping `CIFAR10 model fine-tuned on Gabors`...\")\n",
        "name = 'cifar10_gabors'\n",
        "fname = f\"{name}.zip\"\n",
        "url = f\"https://osf.io/x8uve/download\" #osf share link\n",
        "r = requests.get(url, allow_redirects=True)\n",
        "with open(fname, 'wb') as fh:\n",
        "  fh.write(r.content) #download file\n",
        "\n",
        "with ZipFile(fname, 'r') as zfile:\n",
        "  zfile.extractall() #extract contents\n",
        "\n",
        "if os.path.exists(fname):\n",
        "  os.remove(fname) #delete zip file\n",
        "else:\n",
        "  print(f\"The file {fname} does not exist\")\n",
        "\n",
        "print(\"Download completed.\")"
      ],
      "execution_count": 6,
      "outputs": [
        {
          "output_type": "stream",
          "name": "stdout",
          "text": [
            "Start downloading and unzipping `VGG16 model`...\n",
            "Download completed.\n"
          ]
        }
      ]
    },
    {
      "cell_type": "markdown",
      "metadata": {
        "id": "VOM5VyU8x80i"
      },
      "source": [
        "#### Load the model\n",
        "Next, we load the model using Tensorflow"
      ]
    },
    {
      "cell_type": "code",
      "metadata": {
        "colab": {
          "base_uri": "https://localhost:8080/"
        },
        "id": "8RVZI9Dexw2N",
        "outputId": "ffd2967a-76be-4e02-bd55-ee8dbc8cba0a"
      },
      "source": [
        "import tensorflow as tf \n",
        "import pandas as pd\n",
        "tf.random.set_seed(42) #set random seed for reproducibility\n",
        "model = tf.keras.models.load_model('cifar10_gabors') \n",
        "model.summary() #verify architecture"
      ],
      "execution_count": 7,
      "outputs": [
        {
          "output_type": "stream",
          "name": "stdout",
          "text": [
            "Model: \"model_5\"\n",
            "_________________________________________________________________\n",
            "Layer (type)                 Output Shape              Param #   \n",
            "=================================================================\n",
            "input_7 (InputLayer)         [(None, 160, 160, 3)]     0         \n",
            "_________________________________________________________________\n",
            "sequential_9 (Sequential)    (None, 80)                2193440   \n",
            "_________________________________________________________________\n",
            "dense_6 (Dense)              (None, 1)                 81        \n",
            "=================================================================\n",
            "Total params: 2,193,521\n",
            "Trainable params: 81\n",
            "Non-trainable params: 2,193,440\n",
            "_________________________________________________________________\n"
          ]
        }
      ]
    },
    {
      "cell_type": "markdown",
      "metadata": {
        "id": "BZXJPKMezPAP"
      },
      "source": [
        "## 2: Download & load datasets to test model with\n",
        "Download the test datasets from OSF and extract the contents into the newly created directory: `content/datasets/`"
      ]
    },
    {
      "cell_type": "code",
      "metadata": {
        "colab": {
          "base_uri": "https://localhost:8080/"
        },
        "id": "CJiTI49Sz6yw",
        "cellView": "form",
        "outputId": "c6876f59-e394-4bfa-ac66-1f19dd98ba3f"
      },
      "source": [
        "# @title Download datasets\n",
        "\n",
        "print(\"Start downloading and unzipping `18 test datasets`...\")\n",
        "name = 'model2_dset1-18_cond'\n",
        "fname = f\"{name}.zip\"\n",
        "url = f\"https://osf.io/jkryf/download\" #osf share link\n",
        "r = requests.get(url, allow_redirects=True)\n",
        "with open(fname, 'wb') as fh:\n",
        "  fh.write(r.content) #download file\n",
        "\n",
        "with ZipFile(fname, 'r') as zfile:\n",
        "  zfile.extractall(\"datasets\") #extract contents\n",
        "\n",
        "if os.path.exists(fname):\n",
        "  os.remove(fname) #delete zip file\n",
        "else:\n",
        "  print(f\"The file {fname} does not exist\")\n",
        "\n",
        "print(\"Download completed.\")"
      ],
      "execution_count": 8,
      "outputs": [
        {
          "output_type": "stream",
          "name": "stdout",
          "text": [
            "Start downloading and unzipping `18 test datasets`...\n",
            "Download completed.\n"
          ]
        }
      ]
    },
    {
      "cell_type": "markdown",
      "metadata": {
        "id": "a4rHfgAq0nbi"
      },
      "source": [
        "Load all 18 sets and use prefetch to streamline image loading"
      ]
    },
    {
      "cell_type": "code",
      "metadata": {
        "colab": {
          "base_uri": "https://localhost:8080/"
        },
        "id": "fVkzI7QC2gFL",
        "cellView": "form",
        "outputId": "d044aeef-e43a-4397-f9f1-c86eb7df73ff"
      },
      "source": [
        "# @title Load datasets into tensorflow\n",
        "\n",
        "from tensorflow.keras.preprocessing import image_dataset_from_directory\n",
        "\n",
        "BATCH_SIZE = 32 \n",
        "IMG_SIZE = (160, 160) #forces a resize from 170x170 since VGG16 requires 224x224\n",
        "AUTOTUNE = tf.data.AUTOTUNE #prompts the tf.data runtime to tune the value dynamically at runtime\n",
        "def model2_init_sets(BATCH_SIZE, IMG_SIZE, AUTOTUNE):\n",
        "    curr_dir = os.getcwd() \n",
        "    set1_dir = os.path.join(curr_dir, 'datasets/s1-t_0.1-c_0.3')\n",
        "    set2_dir = os.path.join(curr_dir, 'datasets/s2-t_0.1-c_0.45')\n",
        "    set3_dir = os.path.join(curr_dir, 'datasets/s3-t_0.1-c_1')\n",
        "    set4_dir = os.path.join(curr_dir, 'datasets/s4-t_0.2-c_0.3')\n",
        "    set5_dir = os.path.join(curr_dir, 'datasets/s5-t_0.2-c_0.45')\n",
        "    set6_dir = os.path.join(curr_dir, 'datasets/s6-t_0.2-c_1')\n",
        "    set7_dir = os.path.join(curr_dir, 'datasets/s7-t_0.4-c_0.3')\n",
        "    set8_dir = os.path.join(curr_dir, 'datasets/s8-t_0.4-c_0.45')\n",
        "    set9_dir = os.path.join(curr_dir, 'datasets/s9-t_0.4-c_1')\n",
        "    set10_dir = os.path.join(curr_dir, 'datasets/s10-t_0.8-c_0.3')\n",
        "    set11_dir = os.path.join(curr_dir, 'datasets/s11-t_0.8-c_0.45')\n",
        "    set12_dir = os.path.join(curr_dir, 'datasets/s12-t_0.8-c_1')\n",
        "    set13_dir = os.path.join(curr_dir, 'datasets/s13-t_1.6-c_0.3')\n",
        "    set14_dir = os.path.join(curr_dir, 'datasets/s14-t_1.6-c_0.45')\n",
        "    set15_dir = os.path.join(curr_dir, 'datasets/s15-t_1.6-c_1')\n",
        "    set16_dir = os.path.join(curr_dir, 'datasets/s16-t_3.2-c_0.3')\n",
        "    set17_dir = os.path.join(curr_dir, 'datasets/s17-t_3.2-c_0.45')\n",
        "    set18_dir = os.path.join(curr_dir, 'datasets/s18-t_3.2-c_1')\n",
        "    set2 = image_dataset_from_directory(set2_dir, shuffle=False, batch_size=BATCH_SIZE, image_size=IMG_SIZE)\n",
        "    set1 = image_dataset_from_directory(set1_dir, shuffle=False, batch_size=BATCH_SIZE, image_size=IMG_SIZE) #3000 images 2 classes\n",
        "    set3 = image_dataset_from_directory(set3_dir, shuffle=False, batch_size=BATCH_SIZE, image_size=IMG_SIZE)\n",
        "    set4 = image_dataset_from_directory(set4_dir, shuffle=False, batch_size=BATCH_SIZE, image_size=IMG_SIZE)\n",
        "    set5 = image_dataset_from_directory(set5_dir, shuffle=False, batch_size=BATCH_SIZE, image_size=IMG_SIZE)\n",
        "    set6 = image_dataset_from_directory(set6_dir, shuffle=False, batch_size=BATCH_SIZE, image_size=IMG_SIZE)\n",
        "    set7 = image_dataset_from_directory(set7_dir, shuffle=False, batch_size=BATCH_SIZE, image_size=IMG_SIZE) #3000 images 2 classes\n",
        "    set8 = image_dataset_from_directory(set8_dir, shuffle=False, batch_size=BATCH_SIZE, image_size=IMG_SIZE)\n",
        "    set9 = image_dataset_from_directory(set9_dir, shuffle=False, batch_size=BATCH_SIZE, image_size=IMG_SIZE)\n",
        "    set10 = image_dataset_from_directory(set10_dir, shuffle=False, batch_size=BATCH_SIZE, image_size=IMG_SIZE)\n",
        "    set11 = image_dataset_from_directory(set11_dir, shuffle=False, batch_size=BATCH_SIZE, image_size=IMG_SIZE)\n",
        "    set12 = image_dataset_from_directory(set12_dir, shuffle=False, batch_size=BATCH_SIZE, image_size=IMG_SIZE)\n",
        "    set13 = image_dataset_from_directory(set13_dir, shuffle=False, batch_size=BATCH_SIZE, image_size=IMG_SIZE) #3000 images 2 classes\n",
        "    set14 = image_dataset_from_directory(set14_dir, shuffle=False, batch_size=BATCH_SIZE, image_size=IMG_SIZE)\n",
        "    set15 = image_dataset_from_directory(set15_dir, shuffle=False, batch_size=BATCH_SIZE, image_size=IMG_SIZE)\n",
        "    set16 = image_dataset_from_directory(set16_dir, shuffle=False, batch_size=BATCH_SIZE, image_size=IMG_SIZE)\n",
        "    set17 = image_dataset_from_directory(set17_dir, shuffle=False, batch_size=BATCH_SIZE, image_size=IMG_SIZE)\n",
        "    set18 = image_dataset_from_directory(set18_dir, shuffle=False, batch_size=BATCH_SIZE, image_size=IMG_SIZE)\n",
        "    class_names = set1.class_names #extract class names loading function inferred from subdir's\n",
        "    set1 = set1.prefetch(buffer_size=AUTOTUNE) \n",
        "    set2 = set2.prefetch(buffer_size=AUTOTUNE) \n",
        "    set3 = set3.prefetch(buffer_size=AUTOTUNE) \n",
        "    set4 = set4.prefetch(buffer_size=AUTOTUNE) \n",
        "    set5 = set5.prefetch(buffer_size=AUTOTUNE) \n",
        "    set6 = set6.prefetch(buffer_size=AUTOTUNE) \n",
        "    set7 = set7.prefetch(buffer_size=AUTOTUNE) \n",
        "    set8 = set8.prefetch(buffer_size=AUTOTUNE) \n",
        "    set9 = set9.prefetch(buffer_size=AUTOTUNE) \n",
        "    set10 = set10.prefetch(buffer_size=AUTOTUNE)\n",
        "    set11 = set11.prefetch(buffer_size=AUTOTUNE)\n",
        "    set12 = set12.prefetch(buffer_size=AUTOTUNE)\n",
        "    set13 = set13.prefetch(buffer_size=AUTOTUNE)\n",
        "    set14 = set14.prefetch(buffer_size=AUTOTUNE)\n",
        "    set15 = set15.prefetch(buffer_size=AUTOTUNE)\n",
        "    set16 = set16.prefetch(buffer_size=AUTOTUNE)\n",
        "    set17 = set17.prefetch(buffer_size=AUTOTUNE)\n",
        "    set18 = set18.prefetch(buffer_size=AUTOTUNE)\n",
        "    return set1,set2,set3,set4,set5,set6,set7,set8,set9,set10,set11,set12,set13,set14,set15,set16,set17,set18,class_names\n",
        "\n",
        "set1,set2,set3,set4,set5,set6,set7,set8,set9,set10,set11,set12,set13,set14,set15,set16,set17,set18,class_names = model2_init_sets(BATCH_SIZE, IMG_SIZE, AUTOTUNE)"
      ],
      "execution_count": 9,
      "outputs": [
        {
          "output_type": "stream",
          "name": "stdout",
          "text": [
            "Found 1000 files belonging to 2 classes.\n",
            "Found 1000 files belonging to 2 classes.\n",
            "Found 1000 files belonging to 2 classes.\n",
            "Found 1000 files belonging to 2 classes.\n",
            "Found 1000 files belonging to 2 classes.\n",
            "Found 1000 files belonging to 2 classes.\n",
            "Found 1000 files belonging to 2 classes.\n",
            "Found 1000 files belonging to 2 classes.\n",
            "Found 1000 files belonging to 2 classes.\n",
            "Found 1000 files belonging to 2 classes.\n",
            "Found 1000 files belonging to 2 classes.\n",
            "Found 1000 files belonging to 2 classes.\n",
            "Found 1000 files belonging to 2 classes.\n",
            "Found 1000 files belonging to 2 classes.\n",
            "Found 1000 files belonging to 2 classes.\n",
            "Found 1000 files belonging to 2 classes.\n",
            "Found 1000 files belonging to 2 classes.\n",
            "Found 1000 files belonging to 2 classes.\n"
          ]
        }
      ]
    },
    {
      "cell_type": "markdown",
      "metadata": {
        "id": "D2FohnCiVibU"
      },
      "source": [
        "##3: Generate logits\n",
        "First, we can define a function for generating logits from a dataset."
      ]
    },
    {
      "cell_type": "code",
      "metadata": {
        "id": "E1i50PBHVgzI"
      },
      "source": [
        "def get_logits(dataset, model):\n",
        "    all_pred=tf.zeros([], tf.float64) #initialize array to hold all prediction logits (single element)\n",
        "    all_labels=tf.zeros([], tf.float64) #initialize array to hold all actual labels (single element)\n",
        "    for image_batch, label_batch in dataset.as_numpy_iterator():\n",
        "        predictions = model.predict_on_batch(image_batch).flatten() #run batch through model and return logits\n",
        "        all_pred = tf.experimental.numpy.append(all_pred, predictions)\n",
        "        all_labels = tf.experimental.numpy.append(all_labels, label_batch)\n",
        "    #tf.size(all_pred) #1335 elements, 1334 images + 1 placeholder 0 at beginning\n",
        "    all_pred = all_pred[1:]\n",
        "    all_labels = all_labels[1:]\n",
        "    return all_pred,all_labels"
      ],
      "execution_count": 11,
      "outputs": []
    },
    {
      "cell_type": "markdown",
      "metadata": {
        "id": "3UUQRG-9EKgI"
      },
      "source": [
        "Let's test it on the first dataset:"
      ]
    },
    {
      "cell_type": "code",
      "metadata": {
        "id": "8asmKVbtWqYE"
      },
      "source": [
        "all_pred, all_labels = get_logits(set1,model)"
      ],
      "execution_count": 12,
      "outputs": []
    },
    {
      "cell_type": "code",
      "metadata": {
        "colab": {
          "base_uri": "https://localhost:8080/"
        },
        "id": "J8HwdbIbsYLo",
        "outputId": "bcbf5e89-7475-4e0c-edf7-de554eefd13c"
      },
      "source": [
        "all_pred.numpy()[:5] #first five logits, of 1000"
      ],
      "execution_count": 13,
      "outputs": [
        {
          "output_type": "execute_result",
          "data": {
            "text/plain": [
              "array([ 0.60719788,  0.78077209,  1.13945186, -0.01594558,  1.18500745])"
            ]
          },
          "metadata": {},
          "execution_count": 13
        }
      ]
    },
    {
      "cell_type": "code",
      "metadata": {
        "colab": {
          "base_uri": "https://localhost:8080/"
        },
        "id": "A2r3dNtSmNTI",
        "outputId": "b321b6f8-5575-4e5e-bf51-5d0bc80c2fba"
      },
      "source": [
        "all_pred.numpy().mean() #mean stays static for up to 7-8 digits"
      ],
      "execution_count": 14,
      "outputs": [
        {
          "output_type": "execute_result",
          "data": {
            "text/plain": [
              "0.6035675281286239"
            ]
          },
          "metadata": {},
          "execution_count": 14
        }
      ]
    },
    {
      "cell_type": "code",
      "metadata": {
        "colab": {
          "base_uri": "https://localhost:8080/"
        },
        "id": "33UGFwoutRHZ",
        "outputId": "0854dcff-b1b2-4692-9caf-163ab84e20ae"
      },
      "source": [
        "all_pred.numpy().shape"
      ],
      "execution_count": 15,
      "outputs": [
        {
          "output_type": "execute_result",
          "data": {
            "text/plain": [
              "(1000,)"
            ]
          },
          "metadata": {},
          "execution_count": 15
        }
      ]
    },
    {
      "cell_type": "code",
      "metadata": {
        "colab": {
          "base_uri": "https://localhost:8080/"
        },
        "id": "3plOVL_6tF-J",
        "outputId": "a847e91b-bf73-4003-8ac5-c57841cf5ca7"
      },
      "source": [
        "all_labels.numpy()[:5] #first five labels, of 1000"
      ],
      "execution_count": 16,
      "outputs": [
        {
          "output_type": "execute_result",
          "data": {
            "text/plain": [
              "array([0., 0., 0., 0., 0.])"
            ]
          },
          "metadata": {},
          "execution_count": 16
        }
      ]
    },
    {
      "cell_type": "markdown",
      "metadata": {
        "id": "lQVxXSpwER2Y"
      },
      "source": [
        "Looks good. Now, we can add it to a pandas dataframe."
      ]
    },
    {
      "cell_type": "code",
      "metadata": {
        "colab": {
          "base_uri": "https://localhost:8080/",
          "height": 204
        },
        "id": "P1XRScfEujjO",
        "outputId": "a60989ed-8289-443b-e4c0-7a82d16bad04"
      },
      "source": [
        "df = pd.DataFrame({'Logits':all_pred.numpy(),'Labels':all_labels.numpy()})\n",
        "df.head()"
      ],
      "execution_count": 17,
      "outputs": [
        {
          "output_type": "execute_result",
          "data": {
            "text/html": [
              "<div>\n",
              "<style scoped>\n",
              "    .dataframe tbody tr th:only-of-type {\n",
              "        vertical-align: middle;\n",
              "    }\n",
              "\n",
              "    .dataframe tbody tr th {\n",
              "        vertical-align: top;\n",
              "    }\n",
              "\n",
              "    .dataframe thead th {\n",
              "        text-align: right;\n",
              "    }\n",
              "</style>\n",
              "<table border=\"1\" class=\"dataframe\">\n",
              "  <thead>\n",
              "    <tr style=\"text-align: right;\">\n",
              "      <th></th>\n",
              "      <th>Logits</th>\n",
              "      <th>Labels</th>\n",
              "    </tr>\n",
              "  </thead>\n",
              "  <tbody>\n",
              "    <tr>\n",
              "      <th>0</th>\n",
              "      <td>0.607198</td>\n",
              "      <td>0.0</td>\n",
              "    </tr>\n",
              "    <tr>\n",
              "      <th>1</th>\n",
              "      <td>0.780772</td>\n",
              "      <td>0.0</td>\n",
              "    </tr>\n",
              "    <tr>\n",
              "      <th>2</th>\n",
              "      <td>1.139452</td>\n",
              "      <td>0.0</td>\n",
              "    </tr>\n",
              "    <tr>\n",
              "      <th>3</th>\n",
              "      <td>-0.015946</td>\n",
              "      <td>0.0</td>\n",
              "    </tr>\n",
              "    <tr>\n",
              "      <th>4</th>\n",
              "      <td>1.185007</td>\n",
              "      <td>0.0</td>\n",
              "    </tr>\n",
              "  </tbody>\n",
              "</table>\n",
              "</div>"
            ],
            "text/plain": [
              "     Logits  Labels\n",
              "0  0.607198     0.0\n",
              "1  0.780772     0.0\n",
              "2  1.139452     0.0\n",
              "3 -0.015946     0.0\n",
              "4  1.185007     0.0"
            ]
          },
          "metadata": {},
          "execution_count": 17
        }
      ]
    },
    {
      "cell_type": "markdown",
      "metadata": {
        "id": "VKvnQqRhEZce"
      },
      "source": [
        "Next, let's process all 18 datasets. We will stack each sets' 1,000 logits in a single dataframe. The resulting dataframe will have 18,000 logits resulting from vertically stacking the logits for set1, set 2, .., set18."
      ]
    },
    {
      "cell_type": "code",
      "metadata": {
        "id": "UAIVq7utVQf2"
      },
      "source": [
        "df = pd.DataFrame(columns=['Logits','Labels']) #initialize dataframe\n",
        "all_sets = [set1,set2,set3,set4,set5,set6,set7,set8,set9,set10,set11,set12,set13,set14,set15,set16,set17,set18]\n",
        "for dataset in all_sets: #run for all sets:\n",
        "    all_pred, all_labels = get_logits(dataset, model)\n",
        "    df = pd.concat([df, pd.DataFrame({'Logits':all_pred.numpy(),\n",
        "                                      'Labels':all_labels.numpy()})], \n",
        "                   axis=0, ignore_index=True) #append logits & labels to dataframe"
      ],
      "execution_count": 18,
      "outputs": []
    },
    {
      "cell_type": "markdown",
      "metadata": {
        "id": "OrbxiBmq7Zop"
      },
      "source": [
        "Confirm logits and labels for all 18,000 images were saved:"
      ]
    },
    {
      "cell_type": "code",
      "metadata": {
        "colab": {
          "base_uri": "https://localhost:8080/"
        },
        "id": "3JDANTPw7Qt5",
        "outputId": "f6dce44a-3cc3-4648-ce7b-62c135fa971c"
      },
      "source": [
        "df.shape"
      ],
      "execution_count": 19,
      "outputs": [
        {
          "output_type": "execute_result",
          "data": {
            "text/plain": [
              "(18000, 2)"
            ]
          },
          "metadata": {},
          "execution_count": 19
        }
      ]
    },
    {
      "cell_type": "markdown",
      "metadata": {
        "id": "4Wc47oZY-QM_"
      },
      "source": [
        "Finally, we can save the dataframe as an excel file to disk."
      ]
    },
    {
      "cell_type": "code",
      "metadata": {
        "id": "_UVlcQ7_tsD-"
      },
      "source": [
        "logits_excel_filepath = os.path.join(os.getcwd(), 'logits_cifar10.xlsx') #prep path to save to\n",
        "\n",
        "df.to_excel(logits_excel_filepath, index=False) #save to disk"
      ],
      "execution_count": 20,
      "outputs": []
    },
    {
      "cell_type": "markdown",
      "metadata": {
        "id": "2WqgffmZAd8M"
      },
      "source": [
        "##4: Visualize the logits\n",
        "First, let's the class names and insert them into the dataframe for visualization:"
      ]
    },
    {
      "cell_type": "code",
      "metadata": {
        "id": "spcNbpwW3yoP",
        "colab": {
          "base_uri": "https://localhost:8080/"
        },
        "outputId": "f80934cc-48d1-463b-f84f-36d391599732"
      },
      "source": [
        "class_names"
      ],
      "execution_count": 30,
      "outputs": [
        {
          "output_type": "execute_result",
          "data": {
            "text/plain": [
              "['cclock', 'clock']"
            ]
          },
          "metadata": {},
          "execution_count": 30
        }
      ]
    },
    {
      "cell_type": "code",
      "metadata": {
        "id": "q3VOttz2-kwk"
      },
      "source": [
        "df.replace({'Labels': {0: class_names[0], 1: class_names[1]}}, inplace=True) #change 0/1 classes to cclock & clock"
      ],
      "execution_count": 31,
      "outputs": []
    },
    {
      "cell_type": "markdown",
      "metadata": {
        "id": "3pZvMBtrDgWD"
      },
      "source": [
        "We can plot a histogram of the logits across all the datasets using Seaborn. Counterclockwise (cclock) tilts are represented as blue and clockwise (clock) tilts are represented as orange."
      ]
    },
    {
      "cell_type": "code",
      "metadata": {
        "id": "ZERw3B_41dMH",
        "colab": {
          "base_uri": "https://localhost:8080/",
          "height": 296
        },
        "outputId": "de93d064-6faf-4a01-8f9e-49fa428c46c3"
      },
      "source": [
        "import seaborn as sns\n",
        "sns.histplot(data=df, x=\"Logits\", hue=\"Labels\")"
      ],
      "execution_count": 32,
      "outputs": [
        {
          "output_type": "execute_result",
          "data": {
            "text/plain": [
              "<matplotlib.axes._subplots.AxesSubplot at 0x7f86f9975e50>"
            ]
          },
          "metadata": {},
          "execution_count": 32
        },
        {
          "output_type": "display_data",
          "data": {
            "image/png": "[encoded data removed]",
            "text/plain": [
              "<Figure size 432x288 with 1 Axes>"
            ]
          },
          "metadata": {
            "needs_background": "light"
          }
        }
      ]
    },
    {
      "cell_type": "code",
      "metadata": {
        "id": "4-f1QERf2coo",
        "colab": {
          "base_uri": "https://localhost:8080/",
          "height": 296
        },
        "outputId": "6c776ede-b7fd-406d-acd2-af8f47a55f05"
      },
      "source": [
        "sns.histplot(data=df, x=\"Logits\", hue=\"Labels\", element=\"poly\") #old model v1"
      ],
      "execution_count": null,
      "outputs": [
        {
          "output_type": "execute_result",
          "data": {
            "text/plain": [
              "<matplotlib.axes._subplots.AxesSubplot at 0x7fec44f2b850>"
            ]
          },
          "metadata": {},
          "execution_count": 18
        },
        {
          "output_type": "display_data",
          "data": {
            "image/png": "[encoded data removed]",
            "text/plain": [
              "<Figure size 432x288 with 1 Axes>"
            ]
          },
          "metadata": {
            "needs_background": "light"
          }
        }
      ]
    },
    {
      "cell_type": "code",
      "metadata": {
        "id": "kgKGH-C33JVe",
        "colab": {
          "base_uri": "https://localhost:8080/",
          "height": 296
        },
        "outputId": "d6171f0b-7023-4fac-e7eb-f159a8d1ffaf"
      },
      "source": [
        "sns.histplot(data=df, x=\"Logits\", hue=\"Labels\", element=\"step\") #v1 model"
      ],
      "execution_count": null,
      "outputs": [
        {
          "output_type": "execute_result",
          "data": {
            "text/plain": [
              "<matplotlib.axes._subplots.AxesSubplot at 0x7f23c8b6d0d0>"
            ]
          },
          "metadata": {},
          "execution_count": 21
        },
        {
          "output_type": "display_data",
          "data": {
            "image/png": "[encoded data removed]",
            "text/plain": [
              "<Figure size 432x288 with 1 Axes>"
            ]
          },
          "metadata": {
            "needs_background": "light"
          }
        }
      ]
    },
    {
      "cell_type": "code",
      "metadata": {
        "id": "OvtE-lc83UmL",
        "colab": {
          "base_uri": "https://localhost:8080/",
          "height": 296
        },
        "outputId": "15deb2b6-6331-4f7e-859c-c01fe5799b8e"
      },
      "source": [
        "sns.histplot(data=df, x=\"Logits\", hue=\"Labels\", multiple=\"stack\") #v1 model"
      ],
      "execution_count": 33,
      "outputs": [
        {
          "output_type": "execute_result",
          "data": {
            "text/plain": [
              "<matplotlib.axes._subplots.AxesSubplot at 0x7f86fbf38b10>"
            ]
          },
          "metadata": {},
          "execution_count": 33
        },
        {
          "output_type": "display_data",
          "data": {
            "image/png": "[encoded data removed]",
            "text/plain": [
              "<Figure size 432x288 with 1 Axes>"
            ]
          },
          "metadata": {
            "needs_background": "light"
          }
        }
      ]
    },
    {
      "cell_type": "markdown",
      "metadata": {
        "id": "Uo0Uil3TFXwC"
      },
      "source": [
        "This one looks best. Let's increase its size and save the figure as a high resolution transparent png."
      ]
    },
    {
      "cell_type": "code",
      "metadata": {
        "id": "lT1f-9cMFTk2",
        "colab": {
          "base_uri": "https://localhost:8080/",
          "height": 369
        },
        "outputId": "fc32f511-0649-4034-9e0c-b7fdaf1ab9c8"
      },
      "source": [
        "import matplotlib.pyplot as plt\n",
        "lfig = sns.histplot(data=df, x=\"Logits\", hue=\"Labels\", multiple=\"stack\")\n",
        "fig=plt.gcf()\n",
        "fig.set_size_inches(10, 5)\n",
        "plt.tight_layout()\n",
        "plt.savefig('logits_cifar10.png', transparent=True, dpi=300)"
      ],
      "execution_count": 34,
      "outputs": [
        {
          "output_type": "display_data",
          "data": {
            "image/png": "[encoded data removed]",
            "text/plain": [
              "<Figure size 720x360 with 1 Axes>"
            ]
          },
          "metadata": {
            "needs_background": "light"
          }
        }
      ]
    }
  ]
}