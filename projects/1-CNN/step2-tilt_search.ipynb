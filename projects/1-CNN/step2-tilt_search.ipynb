{
  "nbformat": 4,
  "nbformat_minor": 0,
  "metadata": {
    "colab": {
      "name": "step2-tilt_search",
      "provenance": [],
      "authorship_tag": "ABX9TyNtHtOmcQtOyneCm1bP/0c5",
      "include_colab_link": true
    },
    "kernelspec": {
      "name": "python3",
      "display_name": "Python 3"
    },
    "language_info": {
      "name": "python"
    },
    "accelerator": "GPU"
  },
  "cells": [
    {
      "cell_type": "markdown",
      "metadata": {
        "id": "view-in-github",
        "colab_type": "text"
      },
      "source": [
        "<a href=\"https://colab.research.google.com/github/thor4/neuralnets/blob/master/projects/1-CNN/step2-tilt_search.ipynb\" target=\"_parent\"><img src=\"https://colab.research.google.com/assets/colab-badge.svg\" alt=\"Open In Colab\"/></a>"
      ]
    },
    {
      "cell_type": "markdown",
      "metadata": {
        "id": "hHcTgWXkB-4b"
      },
      "source": [
        "# Tilt search\n",
        "--- "
      ]
    },
    {
      "cell_type": "markdown",
      "source": [
        "Here we will test a range of 25 tilts evenly spaced from [0.05,2] at .45 contrast in each trained network and pick those that produce ~60%, ~70%, and ~80% correct to match human behavioral performance. Then, we will test each qualifying tilt with contrasts of 0.3, .45, and 1."
      ],
      "metadata": {
        "id": "BjtepbQ01mJ4"
      }
    },
    {
      "cell_type": "code",
      "metadata": {
        "id": "w6D3EmbiHej8",
        "outputId": "e888001b-4c2e-4ae6-d1e2-e6a6828b6556",
        "colab": {
          "base_uri": "https://localhost:8080/"
        }
      },
      "source": [
        "gpu_info = !nvidia-smi\n",
        "gpu_info = '\\n'.join(gpu_info)\n",
        "if gpu_info.find('failed') >= 0:\n",
        "  print('Not connected to a GPU')\n",
        "else:\n",
        "  print(gpu_info)"
      ],
      "execution_count": 1,
      "outputs": [
        {
          "output_type": "stream",
          "name": "stdout",
          "text": [
            "Thu Mar 17 15:28:59 2022       \n",
            "+-----------------------------------------------------------------------------+\n",
            "| NVIDIA-SMI 460.32.03    Driver Version: 460.32.03    CUDA Version: 11.2     |\n",
            "|-------------------------------+----------------------+----------------------+\n",
            "| GPU  Name        Persistence-M| Bus-Id        Disp.A | Volatile Uncorr. ECC |\n",
            "| Fan  Temp  Perf  Pwr:Usage/Cap|         Memory-Usage | GPU-Util  Compute M. |\n",
            "|                               |                      |               MIG M. |\n",
            "|===============================+======================+======================|\n",
            "|   0  Tesla T4            Off  | 00000000:00:04.0 Off |                    0 |\n",
            "| N/A   38C    P8     9W /  70W |      0MiB / 15109MiB |      0%      Default |\n",
            "|                               |                      |                  N/A |\n",
            "+-------------------------------+----------------------+----------------------+\n",
            "                                                                               \n",
            "+-----------------------------------------------------------------------------+\n",
            "| Processes:                                                                  |\n",
            "|  GPU   GI   CI        PID   Type   Process name                  GPU Memory |\n",
            "|        ID   ID                                                   Usage      |\n",
            "|=============================================================================|\n",
            "|  No running processes found                                                 |\n",
            "+-----------------------------------------------------------------------------+\n"
          ]
        }
      ]
    },
    {
      "cell_type": "code",
      "metadata": {
        "id": "jgnGnDu-HfF8",
        "outputId": "7d5e0575-4d6e-4be6-c5ab-b4b20f45316c",
        "colab": {
          "base_uri": "https://localhost:8080/"
        }
      },
      "source": [
        "from psutil import virtual_memory\n",
        "ram_gb = virtual_memory().total / 1e9\n",
        "print('Your runtime has {:.1f} gigabytes of available RAM\\n'.format(ram_gb))\n",
        "\n",
        "if ram_gb < 20:\n",
        "  print('Not using a high-RAM runtime')\n",
        "else:\n",
        "  print('You are using a high-RAM runtime!')"
      ],
      "execution_count": 2,
      "outputs": [
        {
          "output_type": "stream",
          "name": "stdout",
          "text": [
            "Your runtime has 13.6 gigabytes of available RAM\n",
            "\n",
            "Not using a high-RAM runtime\n"
          ]
        }
      ]
    },
    {
      "cell_type": "markdown",
      "metadata": {
        "id": "XKux6e-YPew0"
      },
      "source": [
        "## 1: Setup the model\n",
        "Choose the model we will be using to search for qualifying tilts. The models were created using the `step1` Jupyter notebook. \n",
        "Run the cell to download a zip file from OSF then extract its contents into the newly created directory.\n",
        "\n",
        "vanilla gabor model: `content/van_gabor/`\n",
        "\n",
        "cifar10 gabor model: `content/cifar10_gabors/`"
      ]
    },
    {
      "cell_type": "code",
      "metadata": {
        "id": "jpRtxiFmDo7x",
        "colab": {
          "base_uri": "https://localhost:8080/"
        },
        "cellView": "form",
        "outputId": "22285455-4069-4909-9c14-a952c5005a02"
      },
      "source": [
        "# @title Download vanilla Gabor model\n",
        "\n",
        "import requests, os\n",
        "from zipfile import ZipFile\n",
        "\n",
        "print(\"Start downloading and unzipping `vanilla model trained on Gabors`...\")\n",
        "name = 'van_gabor_model.zip'\n",
        "fname = f\"{name}.zip\"\n",
        "url = f\"https://osf.io/3wqsf/download\" #osf share link\n",
        "r = requests.get(url, allow_redirects=True)\n",
        "with open(fname, 'wb') as fh:\n",
        "  fh.write(r.content) #download file\n",
        "\n",
        "with ZipFile(fname, 'r') as zfile:\n",
        "  zfile.extractall() #extract contents\n",
        "\n",
        "if os.path.exists(fname):\n",
        "  os.remove(fname) #delete zip file\n",
        "else:\n",
        "  print(f\"The file {fname} does not exist\")\n",
        "\n",
        "print(\"Download completed.\")"
      ],
      "execution_count": null,
      "outputs": [
        {
          "output_type": "stream",
          "name": "stdout",
          "text": [
            "Start downloading and unzipping `vanilla model trained on Gabors`...\n",
            "Download completed.\n"
          ]
        }
      ]
    },
    {
      "cell_type": "code",
      "source": [
        "# @title Download cifar10 Gabor model\n",
        "\n",
        "import requests, os\n",
        "from zipfile import ZipFile\n",
        "\n",
        "print(\"Start downloading and unzipping cifar10 model fine-tuned on Gabors`...\")\n",
        "name = 'cifar10_gabors_model.zip'\n",
        "fname = f\"{name}.zip\"\n",
        "url = f\"https://osf.io/x8uve/download\" #osf share link\n",
        "r = requests.get(url, allow_redirects=True)\n",
        "with open(fname, 'wb') as fh:\n",
        "  fh.write(r.content) #download file\n",
        "\n",
        "with ZipFile(fname, 'r') as zfile:\n",
        "  zfile.extractall() #extract contents\n",
        "\n",
        "if os.path.exists(fname):\n",
        "  os.remove(fname) #delete zip file\n",
        "else:\n",
        "  print(f\"The file {fname} does not exist\")\n",
        "\n",
        "print(\"Download completed.\")"
      ],
      "metadata": {
        "cellView": "form",
        "colab": {
          "base_uri": "https://localhost:8080/"
        },
        "id": "JTZOUSGUx80r",
        "outputId": "1081c117-f9a6-4cf4-f403-d11c3eec124a"
      },
      "execution_count": 3,
      "outputs": [
        {
          "output_type": "stream",
          "name": "stdout",
          "text": [
            "Start downloading and unzipping cifar10 model fine-tuned on Gabors`...\n",
            "Download completed.\n"
          ]
        }
      ]
    },
    {
      "cell_type": "markdown",
      "metadata": {
        "id": "VOM5VyU8x80i"
      },
      "source": [
        "#### Load the model\n",
        "Next, we load the model using Tensorflow"
      ]
    },
    {
      "cell_type": "code",
      "metadata": {
        "colab": {
          "base_uri": "https://localhost:8080/"
        },
        "id": "8RVZI9Dexw2N",
        "outputId": "5f2a5aba-fdad-43b0-b9b6-15593f78e10d"
      },
      "source": [
        "import tensorflow as tf \n",
        "import pandas as pd\n",
        "tf.random.set_seed(42) #set random seed for reproducibility\n",
        "#model = tf.keras.models.load_model('van_gabor') \n",
        "model = tf.keras.models.load_model('cifar10_gabors') \n",
        "model.summary() #verify architecture"
      ],
      "execution_count": 4,
      "outputs": [
        {
          "output_type": "stream",
          "name": "stdout",
          "text": [
            "Model: \"model\"\n",
            "_________________________________________________________________\n",
            " Layer (type)                Output Shape              Param #   \n",
            "=================================================================\n",
            " input_1 (InputLayer)        [(None, 160, 160, 3)]     0         \n",
            "                                                                 \n",
            " sequential (Sequential)     (None, 80)                2193440   \n",
            "                                                                 \n",
            " dense (Dense)               (None, 1)                 81        \n",
            "                                                                 \n",
            "=================================================================\n",
            "Total params: 2,193,521\n",
            "Trainable params: 81\n",
            "Non-trainable params: 2,193,440\n",
            "_________________________________________________________________\n"
          ]
        }
      ]
    },
    {
      "cell_type": "markdown",
      "metadata": {
        "id": "BZXJPKMezPAP"
      },
      "source": [
        "## 2: Download & load datasets to test model with\n",
        "Download the test datasets from OSF and extract the contents into the newly created directory: `content/datasets/`.\n",
        "The datasets were created in MATLAB using the script `gen_gabor-range_rand-test_sets.m`"
      ]
    },
    {
      "cell_type": "code",
      "metadata": {
        "colab": {
          "base_uri": "https://localhost:8080/"
        },
        "id": "CJiTI49Sz6yw",
        "cellView": "form",
        "outputId": "8a4607cb-e01f-4070-87fb-24f32977ca0c"
      },
      "source": [
        "# @title Download datasets tilt (0.05,2)\n",
        "\n",
        "print(\"Start downloading and unzipping 25 test datasets...\")\n",
        "name = 'tilt_0_05-2_contrast_0_45'\n",
        "fname = f\"{name}.zip\"\n",
        "url = f\"https://osf.io/yavbx/download\" #osf share link\n",
        "r = requests.get(url, allow_redirects=True)\n",
        "with open(fname, 'wb') as fh:\n",
        "  fh.write(r.content) #download file\n",
        "\n",
        "with ZipFile(fname, 'r') as zfile:\n",
        "  zfile.extractall(\"datasets\") #extract contents\n",
        "\n",
        "if os.path.exists(fname):\n",
        "  os.remove(fname) #delete zip file\n",
        "else:\n",
        "  print(f\"The file {fname} does not exist\")\n",
        "\n",
        "print(\"Download completed.\")"
      ],
      "execution_count": 5,
      "outputs": [
        {
          "output_type": "stream",
          "name": "stdout",
          "text": [
            "Start downloading and unzipping 25 test datasets...\n",
            "Download completed.\n"
          ]
        }
      ]
    },
    {
      "cell_type": "markdown",
      "metadata": {
        "id": "a4rHfgAq0nbi"
      },
      "source": [
        "Load all 25 sets and use prefetch to streamline image loading. Contrast is 0.45 and the 25 tilts are: \n",
        "\n",
        "[0.0500, 0.1313, 0.2125, 0.2938, 0.3750, 0.4562, 0.5375, 0.6188, 0.7000, 0.7813, 0.8625, 0.9438, 1.0250, 1.1062, 1.1875, 1.2687, 1.3500, 1.4312, 1.5125, 1.5938, 1.6750, 1.7563, 1.8375, 1.9187, 2.0000]\n",
        "\n",
        "Make sure to specify `color_mode='grayscale` for vanilla gabor model. "
      ]
    },
    {
      "cell_type": "code",
      "source": [
        "# @title Download datasets tilt (0.5,4)\n",
        "\n",
        "print(\"Start downloading and unzipping 25 test datasets...\")\n",
        "name = 'tilt_0_5-4_contrast_0_45'\n",
        "fname = f\"{name}.zip\"\n",
        "url = f\"https://osf.io/pyrmt/download\" #osf share link\n",
        "r = requests.get(url, allow_redirects=True)\n",
        "with open(fname, 'wb') as fh:\n",
        "  fh.write(r.content) #download file\n",
        "\n",
        "with ZipFile(fname, 'r') as zfile:\n",
        "  zfile.extractall(\"datasets\") #extract contents\n",
        "\n",
        "if os.path.exists(fname):\n",
        "  os.remove(fname) #delete zip file\n",
        "else:\n",
        "  print(f\"The file {fname} does not exist\")\n",
        "\n",
        "print(\"Download completed.\")"
      ],
      "metadata": {
        "cellView": "form",
        "id": "---BkVsof9me",
        "outputId": "d53a6e5f-4cf0-49b5-8c55-bed20b6fea0a",
        "colab": {
          "base_uri": "https://localhost:8080/"
        }
      },
      "execution_count": 5,
      "outputs": [
        {
          "output_type": "stream",
          "name": "stdout",
          "text": [
            "Start downloading and unzipping 25 test datasets...\n",
            "Download completed.\n"
          ]
        }
      ]
    },
    {
      "cell_type": "markdown",
      "source": [
        "Contrast is 0.45 and the 25 tilts are:\n",
        "\n",
        "[0.5000, 0.6458, 0.7917, 0.9375, 1.0833, 1.2292, 1.3750, 1.5208, 1.6667, 1.8125, 1.9583, 2.1042, 2.2500, 2.3958, 2.5417, 2.6875, 2.8333, 2.9792, 3.1250, 3.2708, 3.4167, 3.5625, 3.7083, 3.8542, 4.0000]"
      ],
      "metadata": {
        "id": "u7dqBa8YgP5l"
      }
    },
    {
      "cell_type": "code",
      "metadata": {
        "colab": {
          "base_uri": "https://localhost:8080/"
        },
        "id": "fVkzI7QC2gFL",
        "cellView": "form",
        "outputId": "bbcc3167-dc53-454d-af23-8a03062e924a"
      },
      "source": [
        "# @title Load datasets into tensorflow\n",
        "\n",
        "from tensorflow.keras.preprocessing import image_dataset_from_directory\n",
        "\n",
        "BATCH_SIZE = 32 \n",
        "IMG_SIZE = (160, 160) #forces a resize from 169x169 \n",
        "AUTOTUNE = tf.data.AUTOTUNE #prompts the tf.data runtime to tune the value dynamically at runtime\n",
        "def model_init_sets(BATCH_SIZE, IMG_SIZE, AUTOTUNE):\n",
        "    curr_dir = os.getcwd() \n",
        "    set1_dir = os.path.join(curr_dir, 'datasets/s1')\n",
        "    set2_dir = os.path.join(curr_dir, 'datasets/s2')\n",
        "    set3_dir = os.path.join(curr_dir, 'datasets/s3')\n",
        "    set4_dir = os.path.join(curr_dir, 'datasets/s4')\n",
        "    set5_dir = os.path.join(curr_dir, 'datasets/s5')\n",
        "    set6_dir = os.path.join(curr_dir, 'datasets/s6')\n",
        "    set7_dir = os.path.join(curr_dir, 'datasets/s7')\n",
        "    set8_dir = os.path.join(curr_dir, 'datasets/s8')\n",
        "    set9_dir = os.path.join(curr_dir, 'datasets/s9')\n",
        "    set10_dir = os.path.join(curr_dir, 'datasets/s10')\n",
        "    set11_dir = os.path.join(curr_dir, 'datasets/s11')\n",
        "    set12_dir = os.path.join(curr_dir, 'datasets/s12')\n",
        "    set13_dir = os.path.join(curr_dir, 'datasets/s13')\n",
        "    set14_dir = os.path.join(curr_dir, 'datasets/s14')\n",
        "    set15_dir = os.path.join(curr_dir, 'datasets/s15')\n",
        "    set16_dir = os.path.join(curr_dir, 'datasets/s16')\n",
        "    set17_dir = os.path.join(curr_dir, 'datasets/s17')\n",
        "    set18_dir = os.path.join(curr_dir, 'datasets/s18')\n",
        "    set19_dir = os.path.join(curr_dir, 'datasets/s19')\n",
        "    set20_dir = os.path.join(curr_dir, 'datasets/s20')\n",
        "    set21_dir = os.path.join(curr_dir, 'datasets/s21')\n",
        "    set22_dir = os.path.join(curr_dir, 'datasets/s22')\n",
        "    set23_dir = os.path.join(curr_dir, 'datasets/s23')\n",
        "    set24_dir = os.path.join(curr_dir, 'datasets/s24')\n",
        "    set25_dir = os.path.join(curr_dir, 'datasets/s25')\n",
        "    set1 = image_dataset_from_directory(set1_dir, shuffle=False, batch_size=BATCH_SIZE, image_size=IMG_SIZE) #2000 images 2 classes\n",
        "    set2 = image_dataset_from_directory(set2_dir, shuffle=False, batch_size=BATCH_SIZE, image_size=IMG_SIZE)\n",
        "    set3 = image_dataset_from_directory(set3_dir, shuffle=False, batch_size=BATCH_SIZE, image_size=IMG_SIZE)\n",
        "    set4 = image_dataset_from_directory(set4_dir, shuffle=False, batch_size=BATCH_SIZE, image_size=IMG_SIZE)\n",
        "    set5 = image_dataset_from_directory(set5_dir, shuffle=False, batch_size=BATCH_SIZE, image_size=IMG_SIZE)\n",
        "    set6 = image_dataset_from_directory(set6_dir, shuffle=False, batch_size=BATCH_SIZE, image_size=IMG_SIZE)\n",
        "    set7 = image_dataset_from_directory(set7_dir, shuffle=False, batch_size=BATCH_SIZE, image_size=IMG_SIZE) \n",
        "    set8 = image_dataset_from_directory(set8_dir, shuffle=False, batch_size=BATCH_SIZE, image_size=IMG_SIZE)\n",
        "    set9 = image_dataset_from_directory(set9_dir, shuffle=False, batch_size=BATCH_SIZE, image_size=IMG_SIZE)\n",
        "    set10 = image_dataset_from_directory(set10_dir, shuffle=False, batch_size=BATCH_SIZE, image_size=IMG_SIZE)\n",
        "    set11 = image_dataset_from_directory(set11_dir, shuffle=False, batch_size=BATCH_SIZE, image_size=IMG_SIZE)\n",
        "    set12 = image_dataset_from_directory(set12_dir, shuffle=False, batch_size=BATCH_SIZE, image_size=IMG_SIZE)\n",
        "    set13 = image_dataset_from_directory(set13_dir, shuffle=False, batch_size=BATCH_SIZE, image_size=IMG_SIZE) \n",
        "    set14 = image_dataset_from_directory(set14_dir, shuffle=False, batch_size=BATCH_SIZE, image_size=IMG_SIZE)\n",
        "    set15 = image_dataset_from_directory(set15_dir, shuffle=False, batch_size=BATCH_SIZE, image_size=IMG_SIZE)\n",
        "    set16 = image_dataset_from_directory(set16_dir, shuffle=False, batch_size=BATCH_SIZE, image_size=IMG_SIZE)\n",
        "    set17 = image_dataset_from_directory(set17_dir, shuffle=False, batch_size=BATCH_SIZE, image_size=IMG_SIZE)\n",
        "    set18 = image_dataset_from_directory(set18_dir, shuffle=False, batch_size=BATCH_SIZE, image_size=IMG_SIZE)\n",
        "    set19 = image_dataset_from_directory(set19_dir, shuffle=False, batch_size=BATCH_SIZE, image_size=IMG_SIZE)\n",
        "    set20 = image_dataset_from_directory(set20_dir, shuffle=False, batch_size=BATCH_SIZE, image_size=IMG_SIZE)\n",
        "    set21 = image_dataset_from_directory(set21_dir, shuffle=False, batch_size=BATCH_SIZE, image_size=IMG_SIZE) \n",
        "    set22 = image_dataset_from_directory(set22_dir, shuffle=False, batch_size=BATCH_SIZE, image_size=IMG_SIZE)\n",
        "    set23 = image_dataset_from_directory(set23_dir, shuffle=False, batch_size=BATCH_SIZE, image_size=IMG_SIZE)\n",
        "    set24 = image_dataset_from_directory(set24_dir, shuffle=False, batch_size=BATCH_SIZE, image_size=IMG_SIZE)\n",
        "    set25 = image_dataset_from_directory(set25_dir, shuffle=False, batch_size=BATCH_SIZE, image_size=IMG_SIZE)\n",
        "    class_names = set1.class_names #extract class names loading function inferred from subdir's\n",
        "    set1 = set1.prefetch(buffer_size=AUTOTUNE) \n",
        "    set2 = set2.prefetch(buffer_size=AUTOTUNE) \n",
        "    set3 = set3.prefetch(buffer_size=AUTOTUNE) \n",
        "    set4 = set4.prefetch(buffer_size=AUTOTUNE) \n",
        "    set5 = set5.prefetch(buffer_size=AUTOTUNE) \n",
        "    set6 = set6.prefetch(buffer_size=AUTOTUNE) \n",
        "    set7 = set7.prefetch(buffer_size=AUTOTUNE) \n",
        "    set8 = set8.prefetch(buffer_size=AUTOTUNE) \n",
        "    set9 = set9.prefetch(buffer_size=AUTOTUNE) \n",
        "    set10 = set10.prefetch(buffer_size=AUTOTUNE)\n",
        "    set11 = set11.prefetch(buffer_size=AUTOTUNE)\n",
        "    set12 = set12.prefetch(buffer_size=AUTOTUNE)\n",
        "    set13 = set13.prefetch(buffer_size=AUTOTUNE)\n",
        "    set14 = set14.prefetch(buffer_size=AUTOTUNE)\n",
        "    set15 = set15.prefetch(buffer_size=AUTOTUNE)\n",
        "    set16 = set16.prefetch(buffer_size=AUTOTUNE)\n",
        "    set17 = set17.prefetch(buffer_size=AUTOTUNE)\n",
        "    set18 = set18.prefetch(buffer_size=AUTOTUNE)\n",
        "    set19 = set19.prefetch(buffer_size=AUTOTUNE)\n",
        "    set20 = set20.prefetch(buffer_size=AUTOTUNE)\n",
        "    set21 = set21.prefetch(buffer_size=AUTOTUNE)\n",
        "    set22 = set22.prefetch(buffer_size=AUTOTUNE)\n",
        "    set23 = set23.prefetch(buffer_size=AUTOTUNE)\n",
        "    set24 = set24.prefetch(buffer_size=AUTOTUNE)\n",
        "    set25 = set25.prefetch(buffer_size=AUTOTUNE)\n",
        "    return set1,set2,set3,set4,set5,set6,set7,set8,set9,set10,set11,set12,set13,set14,set15,set16,set17,set18,set19,set20,set21,set22,set23,set24,set25,class_names\n",
        "\n",
        "set1,set2,set3,set4,set5,set6,set7,set8,set9,set10,set11,set12,set13,set14,set15,set16,set17,set18,set19,set20,set21,set22,set23,set24,set25,class_names = model_init_sets(BATCH_SIZE, IMG_SIZE, AUTOTUNE)"
      ],
      "execution_count": 6,
      "outputs": [
        {
          "output_type": "stream",
          "name": "stdout",
          "text": [
            "Found 4000 files belonging to 2 classes.\n",
            "Found 4000 files belonging to 2 classes.\n",
            "Found 4000 files belonging to 2 classes.\n",
            "Found 4000 files belonging to 2 classes.\n",
            "Found 4000 files belonging to 2 classes.\n",
            "Found 4000 files belonging to 2 classes.\n",
            "Found 4000 files belonging to 2 classes.\n",
            "Found 4000 files belonging to 2 classes.\n",
            "Found 4000 files belonging to 2 classes.\n",
            "Found 4000 files belonging to 2 classes.\n",
            "Found 4000 files belonging to 2 classes.\n",
            "Found 4000 files belonging to 2 classes.\n",
            "Found 4000 files belonging to 2 classes.\n",
            "Found 4000 files belonging to 2 classes.\n",
            "Found 4000 files belonging to 2 classes.\n",
            "Found 4000 files belonging to 2 classes.\n",
            "Found 4000 files belonging to 2 classes.\n",
            "Found 4000 files belonging to 2 classes.\n",
            "Found 4000 files belonging to 2 classes.\n",
            "Found 4000 files belonging to 2 classes.\n",
            "Found 4000 files belonging to 2 classes.\n",
            "Found 4000 files belonging to 2 classes.\n",
            "Found 4000 files belonging to 2 classes.\n",
            "Found 4000 files belonging to 2 classes.\n",
            "Found 4000 files belonging to 2 classes.\n"
          ]
        }
      ]
    },
    {
      "cell_type": "markdown",
      "metadata": {
        "id": "D2FohnCiVibU"
      },
      "source": [
        "##3: Generate accuracy\n",
        "First, we can define a function for generating accuracy from a dataset processed by a particular model."
      ]
    },
    {
      "cell_type": "code",
      "metadata": {
        "id": "E1i50PBHVgzI"
      },
      "source": [
        "from scipy.special import expit #import sigmoid func\n",
        "import numpy as np\n",
        "def get_acc(dataset, model):\n",
        "    all_pred=tf.zeros([], tf.float64) #initialize array to hold all prediction logits (single element)\n",
        "    all_labels=tf.zeros([], tf.float64) #initialize array to hold all actual labels (single element)\n",
        "    for image_batch, label_batch in dataset.as_numpy_iterator():\n",
        "        predictions = model.predict_on_batch(image_batch).flatten() #run batch through model and return logits\n",
        "        all_pred = tf.experimental.numpy.append(all_pred, predictions)\n",
        "        all_labels = tf.experimental.numpy.append(all_labels, label_batch)\n",
        "    #tf.size(all_pred) #1335 elements, 1334 images + 1 placeholder 0 at beginning\n",
        "    all_pred = all_pred[1:] #remove placeholder 0 at beginning\n",
        "    all_labels = all_labels[1:]\n",
        "    all_pred_sig = expit(all_pred) #sigmoid-transform the logits\n",
        "    all_pred_round = np.where((all_pred_sig < 0.5), 0, 1) #replace predictions with 0 or 1\n",
        "    all_acc = np.where((all_pred_round == all_labels), 1, 0) #decide whether pred = label\n",
        "    return all_pred,all_labels,all_acc"
      ],
      "execution_count": 7,
      "outputs": []
    },
    {
      "cell_type": "markdown",
      "metadata": {
        "id": "3UUQRG-9EKgI"
      },
      "source": [
        "Let's test it on the first dataset:"
      ]
    },
    {
      "cell_type": "code",
      "metadata": {
        "id": "8asmKVbtWqYE"
      },
      "source": [
        "all_pred, all_labels, all_acc = get_acc(set25,model)"
      ],
      "execution_count": 8,
      "outputs": []
    },
    {
      "cell_type": "code",
      "metadata": {
        "colab": {
          "base_uri": "https://localhost:8080/"
        },
        "id": "J8HwdbIbsYLo",
        "outputId": "ce8c9db8-2c12-4b5b-d5e3-0f4d112708a7"
      },
      "source": [
        "print(all_pred.numpy()[1000:1055]) #pick 55 logits to display (neg=class 0, pos=1)\n",
        "print(all_labels.numpy()[1000:1055]) #associated labels\n",
        "print(all_acc[1000:1055]) #associated accuracies"
      ],
      "execution_count": 9,
      "outputs": [
        {
          "output_type": "stream",
          "name": "stdout",
          "text": [
            "[ 0.16001113 -1.32742524 -1.36779881 -0.0321974   0.14546306  0.36572796\n",
            " -0.16568606 -1.06220901  0.19162233  0.01001556 -0.06688277 -0.35812038\n",
            " -0.67521399  0.33546406  0.88000244 -1.12089622 -1.22238529 -0.0040199\n",
            " -0.44789237 -1.00301349 -0.95054048 -1.2435981  -0.27950925 -0.3101663\n",
            " -0.58213252 -1.45550907 -0.29952902  0.16888936  0.55800599 -0.56700248\n",
            "  0.40743428  0.0942976   1.10341215  0.07171614 -1.05699027 -0.3123073\n",
            " -0.22263829  0.24709709  1.1141566  -0.66070431  0.30084306 -1.59540808\n",
            " -0.25386733  0.38472158  0.30979997 -0.53679127 -1.04016697 -0.96363074\n",
            " -0.96616727  0.17710526  0.66624695 -0.89178056  0.10003717 -0.51812023\n",
            " -0.74224585]\n",
            "[0. 0. 0. 0. 0. 0. 0. 0. 0. 0. 0. 0. 0. 0. 0. 0. 0. 0. 0. 0. 0. 0. 0. 0.\n",
            " 0. 0. 0. 0. 0. 0. 0. 0. 0. 0. 0. 0. 0. 0. 0. 0. 0. 0. 0. 0. 0. 0. 0. 0.\n",
            " 0. 0. 0. 0. 0. 0. 0.]\n",
            "[0 1 1 1 0 0 1 1 0 0 1 1 1 0 0 1 1 1 1 1 1 1 1 1 1 1 1 0 0 1 0 0 0 0 1 1 1\n",
            " 0 0 1 0 1 1 0 0 1 1 1 1 0 0 1 0 1 1]\n"
          ]
        }
      ]
    },
    {
      "cell_type": "markdown",
      "source": [
        "These look like the function is working correctly."
      ],
      "metadata": {
        "id": "olhaj4og0CHA"
      }
    },
    {
      "cell_type": "code",
      "metadata": {
        "colab": {
          "base_uri": "https://localhost:8080/"
        },
        "id": "A2r3dNtSmNTI",
        "outputId": "7cca8c21-0873-4b6a-b287-29f50466bbd8"
      },
      "source": [
        "all_acc.mean() "
      ],
      "execution_count": 10,
      "outputs": [
        {
          "output_type": "execute_result",
          "data": {
            "text/plain": [
              "0.78625"
            ]
          },
          "metadata": {},
          "execution_count": 10
        }
      ]
    },
    {
      "cell_type": "markdown",
      "source": [
        "This looks accurate. The negative logits were class 0 and positive class 1. All were supposed to be class 0. Hence, the accuracy. \n",
        "\n",
        "Now, we can process all datasets and save into a dataframe, `df`."
      ],
      "metadata": {
        "id": "mK6GsV0-QzC_"
      }
    },
    {
      "cell_type": "code",
      "source": [
        "df = pd.DataFrame(columns=['Tilts','Accuracy']) #initialize dataframe\n",
        "all_sets = [set1,set2,set3,set4,set5,set6,set7,set8,set9,set10,set11,set12,set13,set14,set15,set16,set17,set18,set19,set20,set21,set22,set23,set24,set25]\n",
        "tilts = [0.5000, 0.6458, 0.7917, 0.9375, 1.0833, 1.2292, 1.3750, 1.5208, 1.6667, 1.8125, 1.9583, 2.1042, 2.2500, 2.3958, 2.5417, 2.6875, 2.8333, 2.9792, 3.1250, 3.2708, 3.4167, 3.5625, 3.7083, 3.8542, 4.0000]\n",
        "idx=0;\n",
        "for idx, dataset in enumerate(all_sets): #run for all sets:\n",
        "    all_pred, all_labels, all_acc = get_acc(dataset, model)\n",
        "    df = pd.concat([df, pd.DataFrame({'Tilts':[tilts[idx]],\n",
        "                                      'Accuracy':[all_acc.mean()]})], \n",
        "                   axis=0, ignore_index=True) #append tilts & accuracies to dataframe"
      ],
      "metadata": {
        "id": "1cb-9LSxOtVg"
      },
      "execution_count": 11,
      "outputs": []
    },
    {
      "cell_type": "code",
      "source": [
        "df['Tilts']=[0.5000, 0.6458, 0.7917, 0.9375, 1.0833, 1.2292, 1.3750, 1.5208, 1.6667, 1.8125, 1.9583, 2.1042, 2.2500, 2.3958, 2.5417, 2.6875, 2.8333, 2.9792, 3.1250, 3.2708, 3.4167, 3.5625, 3.7083, 3.8542, 4.0000]"
      ],
      "metadata": {
        "id": "vgue24QDidaN"
      },
      "execution_count": 13,
      "outputs": []
    },
    {
      "cell_type": "code",
      "source": [
        "df"
      ],
      "metadata": {
        "colab": {
          "base_uri": "https://localhost:8080/",
          "height": 833
        },
        "id": "_N0ipL-A_7_I",
        "outputId": "8389b5b5-7220-4f7e-d991-8fdc8b778680"
      },
      "execution_count": 14,
      "outputs": [
        {
          "output_type": "execute_result",
          "data": {
            "text/plain": [
              "     Tilts  Accuracy\n",
              "0   0.5000   0.52950\n",
              "1   0.6458   0.56475\n",
              "2   0.7917   0.56400\n",
              "3   0.9375   0.59375\n",
              "4   1.0833   0.59350\n",
              "5   1.2292   0.60325\n",
              "6   1.3750   0.60875\n",
              "7   1.5208   0.62500\n",
              "8   1.6667   0.64125\n",
              "9   1.8125   0.64875\n",
              "10  1.9583   0.65575\n",
              "11  2.1042   0.66550\n",
              "12  2.2500   0.67575\n",
              "13  2.3958   0.69125\n",
              "14  2.5417   0.71325\n",
              "15  2.6875   0.72050\n",
              "16  2.8333   0.72675\n",
              "17  2.9792   0.74175\n",
              "18  3.1250   0.72575\n",
              "19  3.2708   0.74250\n",
              "20  3.4167   0.75725\n",
              "21  3.5625   0.75450\n",
              "22  3.7083   0.76950\n",
              "23  3.8542   0.77500\n",
              "24  4.0000   0.78625"
            ],
            "text/html": [
              "\n",
              "  <div id=\"df-f829c027-7033-4185-83ce-978f182af934\">\n",
              "    <div class=\"colab-df-container\">\n",
              "      <div>\n",
              "<style scoped>\n",
              "    .dataframe tbody tr th:only-of-type {\n",
              "        vertical-align: middle;\n",
              "    }\n",
              "\n",
              "    .dataframe tbody tr th {\n",
              "        vertical-align: top;\n",
              "    }\n",
              "\n",
              "    .dataframe thead th {\n",
              "        text-align: right;\n",
              "    }\n",
              "</style>\n",
              "<table border=\"1\" class=\"dataframe\">\n",
              "  <thead>\n",
              "    <tr style=\"text-align: right;\">\n",
              "      <th></th>\n",
              "      <th>Tilts</th>\n",
              "      <th>Accuracy</th>\n",
              "    </tr>\n",
              "  </thead>\n",
              "  <tbody>\n",
              "    <tr>\n",
              "      <th>0</th>\n",
              "      <td>0.5000</td>\n",
              "      <td>0.52950</td>\n",
              "    </tr>\n",
              "    <tr>\n",
              "      <th>1</th>\n",
              "      <td>0.6458</td>\n",
              "      <td>0.56475</td>\n",
              "    </tr>\n",
              "    <tr>\n",
              "      <th>2</th>\n",
              "      <td>0.7917</td>\n",
              "      <td>0.56400</td>\n",
              "    </tr>\n",
              "    <tr>\n",
              "      <th>3</th>\n",
              "      <td>0.9375</td>\n",
              "      <td>0.59375</td>\n",
              "    </tr>\n",
              "    <tr>\n",
              "      <th>4</th>\n",
              "      <td>1.0833</td>\n",
              "      <td>0.59350</td>\n",
              "    </tr>\n",
              "    <tr>\n",
              "      <th>5</th>\n",
              "      <td>1.2292</td>\n",
              "      <td>0.60325</td>\n",
              "    </tr>\n",
              "    <tr>\n",
              "      <th>6</th>\n",
              "      <td>1.3750</td>\n",
              "      <td>0.60875</td>\n",
              "    </tr>\n",
              "    <tr>\n",
              "      <th>7</th>\n",
              "      <td>1.5208</td>\n",
              "      <td>0.62500</td>\n",
              "    </tr>\n",
              "    <tr>\n",
              "      <th>8</th>\n",
              "      <td>1.6667</td>\n",
              "      <td>0.64125</td>\n",
              "    </tr>\n",
              "    <tr>\n",
              "      <th>9</th>\n",
              "      <td>1.8125</td>\n",
              "      <td>0.64875</td>\n",
              "    </tr>\n",
              "    <tr>\n",
              "      <th>10</th>\n",
              "      <td>1.9583</td>\n",
              "      <td>0.65575</td>\n",
              "    </tr>\n",
              "    <tr>\n",
              "      <th>11</th>\n",
              "      <td>2.1042</td>\n",
              "      <td>0.66550</td>\n",
              "    </tr>\n",
              "    <tr>\n",
              "      <th>12</th>\n",
              "      <td>2.2500</td>\n",
              "      <td>0.67575</td>\n",
              "    </tr>\n",
              "    <tr>\n",
              "      <th>13</th>\n",
              "      <td>2.3958</td>\n",
              "      <td>0.69125</td>\n",
              "    </tr>\n",
              "    <tr>\n",
              "      <th>14</th>\n",
              "      <td>2.5417</td>\n",
              "      <td>0.71325</td>\n",
              "    </tr>\n",
              "    <tr>\n",
              "      <th>15</th>\n",
              "      <td>2.6875</td>\n",
              "      <td>0.72050</td>\n",
              "    </tr>\n",
              "    <tr>\n",
              "      <th>16</th>\n",
              "      <td>2.8333</td>\n",
              "      <td>0.72675</td>\n",
              "    </tr>\n",
              "    <tr>\n",
              "      <th>17</th>\n",
              "      <td>2.9792</td>\n",
              "      <td>0.74175</td>\n",
              "    </tr>\n",
              "    <tr>\n",
              "      <th>18</th>\n",
              "      <td>3.1250</td>\n",
              "      <td>0.72575</td>\n",
              "    </tr>\n",
              "    <tr>\n",
              "      <th>19</th>\n",
              "      <td>3.2708</td>\n",
              "      <td>0.74250</td>\n",
              "    </tr>\n",
              "    <tr>\n",
              "      <th>20</th>\n",
              "      <td>3.4167</td>\n",
              "      <td>0.75725</td>\n",
              "    </tr>\n",
              "    <tr>\n",
              "      <th>21</th>\n",
              "      <td>3.5625</td>\n",
              "      <td>0.75450</td>\n",
              "    </tr>\n",
              "    <tr>\n",
              "      <th>22</th>\n",
              "      <td>3.7083</td>\n",
              "      <td>0.76950</td>\n",
              "    </tr>\n",
              "    <tr>\n",
              "      <th>23</th>\n",
              "      <td>3.8542</td>\n",
              "      <td>0.77500</td>\n",
              "    </tr>\n",
              "    <tr>\n",
              "      <th>24</th>\n",
              "      <td>4.0000</td>\n",
              "      <td>0.78625</td>\n",
              "    </tr>\n",
              "  </tbody>\n",
              "</table>\n",
              "</div>\n",
              "      <button class=\"colab-df-convert\" onclick=\"convertToInteractive('df-f829c027-7033-4185-83ce-978f182af934')\"\n",
              "              title=\"Convert this dataframe to an interactive table.\"\n",
              "              style=\"display:none;\">\n",
              "        \n",
              "  <svg xmlns=\"http://www.w3.org/2000/svg\" height=\"24px\"viewBox=\"0 0 24 24\"\n",
              "       width=\"24px\">\n",
              "    <path d=\"M0 0h24v24H0V0z\" fill=\"none\"/>\n",
              "    <path d=\"M18.56 5.44l.94 2.06.94-2.06 2.06-.94-2.06-.94-.94-2.06-.94 2.06-2.06.94zm-11 1L8.5 8.5l.94-2.06 2.06-.94-2.06-.94L8.5 2.5l-.94 2.06-2.06.94zm10 10l.94 2.06.94-2.06 2.06-.94-2.06-.94-.94-2.06-.94 2.06-2.06.94z\"/><path d=\"M17.41 7.96l-1.37-1.37c-.4-.4-.92-.59-1.43-.59-.52 0-1.04.2-1.43.59L10.3 9.45l-7.72 7.72c-.78.78-.78 2.05 0 2.83L4 21.41c.39.39.9.59 1.41.59.51 0 1.02-.2 1.41-.59l7.78-7.78 2.81-2.81c.8-.78.8-2.07 0-2.86zM5.41 20L4 18.59l7.72-7.72 1.47 1.35L5.41 20z\"/>\n",
              "  </svg>\n",
              "      </button>\n",
              "      \n",
              "  <style>\n",
              "    .colab-df-container {\n",
              "      display:flex;\n",
              "      flex-wrap:wrap;\n",
              "      gap: 12px;\n",
              "    }\n",
              "\n",
              "    .colab-df-convert {\n",
              "      background-color: #E8F0FE;\n",
              "      border: none;\n",
              "      border-radius: 50%;\n",
              "      cursor: pointer;\n",
              "      display: none;\n",
              "      fill: #1967D2;\n",
              "      height: 32px;\n",
              "      padding: 0 0 0 0;\n",
              "      width: 32px;\n",
              "    }\n",
              "\n",
              "    .colab-df-convert:hover {\n",
              "      background-color: #E2EBFA;\n",
              "      box-shadow: 0px 1px 2px rgba(60, 64, 67, 0.3), 0px 1px 3px 1px rgba(60, 64, 67, 0.15);\n",
              "      fill: #174EA6;\n",
              "    }\n",
              "\n",
              "    [theme=dark] .colab-df-convert {\n",
              "      background-color: #3B4455;\n",
              "      fill: #D2E3FC;\n",
              "    }\n",
              "\n",
              "    [theme=dark] .colab-df-convert:hover {\n",
              "      background-color: #434B5C;\n",
              "      box-shadow: 0px 1px 3px 1px rgba(0, 0, 0, 0.15);\n",
              "      filter: drop-shadow(0px 1px 2px rgba(0, 0, 0, 0.3));\n",
              "      fill: #FFFFFF;\n",
              "    }\n",
              "  </style>\n",
              "\n",
              "      <script>\n",
              "        const buttonEl =\n",
              "          document.querySelector('#df-f829c027-7033-4185-83ce-978f182af934 button.colab-df-convert');\n",
              "        buttonEl.style.display =\n",
              "          google.colab.kernel.accessAllowed ? 'block' : 'none';\n",
              "\n",
              "        async function convertToInteractive(key) {\n",
              "          const element = document.querySelector('#df-f829c027-7033-4185-83ce-978f182af934');\n",
              "          const dataTable =\n",
              "            await google.colab.kernel.invokeFunction('convertToInteractive',\n",
              "                                                     [key], {});\n",
              "          if (!dataTable) return;\n",
              "\n",
              "          const docLinkHtml = 'Like what you see? Visit the ' +\n",
              "            '<a target=\"_blank\" href=https://colab.research.google.com/notebooks/data_table.ipynb>data table notebook</a>'\n",
              "            + ' to learn more about interactive tables.';\n",
              "          element.innerHTML = '';\n",
              "          dataTable['output_type'] = 'display_data';\n",
              "          await google.colab.output.renderOutput(dataTable, element);\n",
              "          const docLink = document.createElement('div');\n",
              "          docLink.innerHTML = docLinkHtml;\n",
              "          element.appendChild(docLink);\n",
              "        }\n",
              "      </script>\n",
              "    </div>\n",
              "  </div>\n",
              "  "
            ]
          },
          "metadata": {},
          "execution_count": 14
        }
      ]
    },
    {
      "cell_type": "markdown",
      "metadata": {
        "id": "4Wc47oZY-QM_"
      },
      "source": [
        "Finally, we can save the dataframe as an excel file to disk."
      ]
    },
    {
      "cell_type": "code",
      "metadata": {
        "id": "_UVlcQ7_tsD-"
      },
      "source": [
        "#logits_excel_filepath = os.path.join(os.getcwd(), 'tilts_acc-van_gabor.xlsx') #prep path to save to\n",
        "logits_excel_filepath = os.path.join(os.getcwd(), 'tilts_acc-cifar10_gabor.xlsx') #prep path to save to\n",
        "\n",
        "df.to_excel(logits_excel_filepath, index=False) #save to disk"
      ],
      "execution_count": 15,
      "outputs": []
    }
  ]
}