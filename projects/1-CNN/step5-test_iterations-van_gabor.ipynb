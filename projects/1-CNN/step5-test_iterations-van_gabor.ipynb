{
  "nbformat": 4,
  "nbformat_minor": 0,
  "metadata": {
    "orig_nbformat": 4,
    "language_info": {
      "name": "python",
      "version": "3.8.6",
      "mimetype": "text/x-python",
      "codemirror_mode": {
        "name": "ipython",
        "version": 3
      },
      "pygments_lexer": "ipython3",
      "nbconvert_exporter": "python",
      "file_extension": ".py"
    },
    "kernelspec": {
      "name": "python3",
      "display_name": "Python 3.8.6 64-bit ('base': conda)"
    },
    "interpreter": {
      "hash": "98b0a9b7b4eaaa670588a142fd0a9b87eaafe866f1db4228be72b4211d12040f"
    },
    "colab": {
      "name": "step5-test_iterations-van_gabor.ipynb",
      "provenance": [],
      "include_colab_link": true
    },
    "accelerator": "GPU"
  },
  "cells": [
    {
      "cell_type": "markdown",
      "metadata": {
        "id": "view-in-github",
        "colab_type": "text"
      },
      "source": [
        "<a href=\"https://colab.research.google.com/github/thor4/neuralnets/blob/master/projects/1-CNN/step5-test_iterations-van_gabor.ipynb\" target=\"_parent\"><img src=\"https://colab.research.google.com/assets/colab-badge.svg\" alt=\"Open In Colab\"/></a>"
      ]
    },
    {
      "cell_type": "markdown",
      "metadata": {
        "id": "2nFaKIvYizD9"
      },
      "source": [
        "# Test Iterations\n",
        "--- \n",
        "## Import libraries"
      ]
    },
    {
      "cell_type": "code",
      "metadata": {
        "colab": {
          "base_uri": "https://localhost:8080/"
        },
        "id": "Apuqn65zdSGP",
        "outputId": "c58d5f61-695c-41e2-82ef-988ca7abb0e5"
      },
      "source": [
        "gpu_info = !nvidia-smi\n",
        "gpu_info = '\\n'.join(gpu_info)\n",
        "if gpu_info.find('failed') >= 0:\n",
        "  print('Not connected to a GPU')\n",
        "else:\n",
        "  print(gpu_info)"
      ],
      "execution_count": 1,
      "outputs": [
        {
          "output_type": "stream",
          "name": "stdout",
          "text": [
            "Wed Mar  2 18:04:59 2022       \n",
            "+-----------------------------------------------------------------------------+\n",
            "| NVIDIA-SMI 460.32.03    Driver Version: 460.32.03    CUDA Version: 11.2     |\n",
            "|-------------------------------+----------------------+----------------------+\n",
            "| GPU  Name        Persistence-M| Bus-Id        Disp.A | Volatile Uncorr. ECC |\n",
            "| Fan  Temp  Perf  Pwr:Usage/Cap|         Memory-Usage | GPU-Util  Compute M. |\n",
            "|                               |                      |               MIG M. |\n",
            "|===============================+======================+======================|\n",
            "|   0  Tesla P100-PCIE...  Off  | 00000000:00:04.0 Off |                    0 |\n",
            "| N/A   35C    P0    26W / 250W |      0MiB / 16280MiB |      0%      Default |\n",
            "|                               |                      |                  N/A |\n",
            "+-------------------------------+----------------------+----------------------+\n",
            "                                                                               \n",
            "+-----------------------------------------------------------------------------+\n",
            "| Processes:                                                                  |\n",
            "|  GPU   GI   CI        PID   Type   Process name                  GPU Memory |\n",
            "|        ID   ID                                                   Usage      |\n",
            "|=============================================================================|\n",
            "|  No running processes found                                                 |\n",
            "+-----------------------------------------------------------------------------+\n"
          ]
        }
      ]
    },
    {
      "cell_type": "code",
      "metadata": {
        "colab": {
          "base_uri": "https://localhost:8080/"
        },
        "id": "MSiAH1midWml",
        "outputId": "cec777b2-88a1-486c-f9a3-fb31f4fcc45b"
      },
      "source": [
        "from psutil import virtual_memory\n",
        "ram_gb = virtual_memory().total / 1e9\n",
        "print('Your runtime has {:.1f} gigabytes of available RAM\\n'.format(ram_gb))\n",
        "\n",
        "if ram_gb < 20:\n",
        "  print('Not using a high-RAM runtime')\n",
        "else:\n",
        "  print('You are using a high-RAM runtime!')"
      ],
      "execution_count": 2,
      "outputs": [
        {
          "output_type": "stream",
          "name": "stdout",
          "text": [
            "Your runtime has 13.6 gigabytes of available RAM\n",
            "\n",
            "Not using a high-RAM runtime\n"
          ]
        }
      ]
    },
    {
      "cell_type": "code",
      "metadata": {
        "id": "icB2TxuLizD_"
      },
      "source": [
        "import tensorflow as tf\n",
        "from tensorflow.keras import layers, models\n",
        "from tensorflow.keras.preprocessing import image_dataset_from_directory\n",
        "import pandas as pd\n",
        "import matplotlib.pyplot as plt\n",
        "import os\n",
        "import numpy as np\n",
        "from scipy.special import expit #import sigmoid func\n",
        "tf.random.set_seed(42) #set random seed for reproducibility"
      ],
      "execution_count": 3,
      "outputs": []
    },
    {
      "cell_type": "markdown",
      "source": [
        "### 1. Load and prepare the data\n",
        "---"
      ],
      "metadata": {
        "id": "0gjzdi2RN9G9"
      }
    },
    {
      "cell_type": "markdown",
      "source": [
        "### Download the models\n",
        "\n",
        "These models were created using the `step4_train_iterations` Jupyter notebook. Run the cell to download a zip file from OSF then extract its contents into the newly created directory.\n",
        "\n",
        "vanilla gabor models: `content/van_gabor-model_#/`\n",
        "\n",
        "where # = [0,29]"
      ],
      "metadata": {
        "id": "0eOvkcJgO8Sr"
      }
    },
    {
      "cell_type": "code",
      "source": [
        "# @title Download + unzip models\n",
        "\n",
        "import requests, os\n",
        "from zipfile import ZipFile\n",
        "\n",
        "print(\"Start downloading and unzipping vanilla models trained on Gabors...\")\n",
        "name = 'van_gabor_models'\n",
        "fname = f\"{name}.zip\"\n",
        "url = f\"https://osf.io/wzy76/download\" #osf share link\n",
        "r = requests.get(url, allow_redirects=True)\n",
        "with open(fname, 'wb') as fh:\n",
        "  fh.write(r.content) #download file\n",
        "\n",
        "with ZipFile(fname, 'r') as zfile:\n",
        "  zfile.extractall() #extract contents\n",
        "\n",
        "if os.path.exists(fname):\n",
        "  os.remove(fname) #delete zip file\n",
        "else:\n",
        "  print(f\"The file {fname} does not exist\")\n",
        "\n",
        "print(\"Download completed.\")\n",
        "!unzip 'van_gabor-model_*.zip'"
      ],
      "metadata": {
        "colab": {
          "base_uri": "https://localhost:8080/"
        },
        "id": "7FL-d1C2O73N",
        "outputId": "43b1fe35-fbc9-4b62-9b1f-42d4593dfef0"
      },
      "execution_count": 4,
      "outputs": [
        {
          "output_type": "stream",
          "name": "stdout",
          "text": [
            "Start downloading and unzipping vanilla models trained on Gabors...\n",
            "Download completed.\n",
            "Archive:  van_gabor-model_0.zip\n",
            "caution: filename not matched:  van_gabor-model_10.zip\n",
            "caution: filename not matched:  van_gabor-model_11.zip\n",
            "caution: filename not matched:  van_gabor-model_12.zip\n",
            "caution: filename not matched:  van_gabor-model_13.zip\n",
            "caution: filename not matched:  van_gabor-model_14.zip\n",
            "caution: filename not matched:  van_gabor-model_15.zip\n",
            "caution: filename not matched:  van_gabor-model_16.zip\n",
            "caution: filename not matched:  van_gabor-model_17.zip\n",
            "caution: filename not matched:  van_gabor-model_18.zip\n",
            "caution: filename not matched:  van_gabor-model_19.zip\n",
            "caution: filename not matched:  van_gabor-model_1.zip\n",
            "caution: filename not matched:  van_gabor-model_20.zip\n",
            "caution: filename not matched:  van_gabor-model_21.zip\n",
            "caution: filename not matched:  van_gabor-model_22.zip\n",
            "caution: filename not matched:  van_gabor-model_23.zip\n",
            "caution: filename not matched:  van_gabor-model_24.zip\n",
            "caution: filename not matched:  van_gabor-model_25.zip\n",
            "caution: filename not matched:  van_gabor-model_26.zip\n",
            "caution: filename not matched:  van_gabor-model_27.zip\n",
            "caution: filename not matched:  van_gabor-model_28.zip\n",
            "caution: filename not matched:  van_gabor-model_29.zip\n",
            "caution: filename not matched:  van_gabor-model_2.zip\n",
            "caution: filename not matched:  van_gabor-model_3.zip\n",
            "caution: filename not matched:  van_gabor-model_4.zip\n",
            "caution: filename not matched:  van_gabor-model_5.zip\n",
            "caution: filename not matched:  van_gabor-model_6.zip\n",
            "caution: filename not matched:  van_gabor-model_7.zip\n",
            "caution: filename not matched:  van_gabor-model_8.zip\n",
            "caution: filename not matched:  van_gabor-model_9.zip\n"
          ]
        }
      ]
    },
    {
      "cell_type": "code",
      "source": [
        "# @title Delete all zip files to save space.\n",
        "dir_name = os.getcwd()\n",
        "test = os.listdir(dir_name)\n",
        "for item in test:\n",
        "    if item.endswith(\".zip\"):\n",
        "        os.remove(os.path.join(dir_name, item))"
      ],
      "metadata": {
        "cellView": "form",
        "id": "TzKpNreO0WZh"
      },
      "execution_count": 8,
      "outputs": []
    },
    {
      "cell_type": "markdown",
      "source": [
        "### Load the model\n",
        "Next, we load the models using Tensorflow"
      ],
      "metadata": {
        "id": "daTO60vGQzo5"
      }
    },
    {
      "cell_type": "code",
      "source": [
        "# @title Load models\n",
        "model0 = tf.keras.models.load_model('van_gabor-model_0')\n",
        "model1 = tf.keras.models.load_model('van_gabor-model_1')\n",
        "model2 = tf.keras.models.load_model('van_gabor-model_2')\n",
        "model3 = tf.keras.models.load_model('van_gabor-model_3')\n",
        "model4 = tf.keras.models.load_model('van_gabor-model_4')\n",
        "model5 = tf.keras.models.load_model('van_gabor-model_5')\n",
        "model6 = tf.keras.models.load_model('van_gabor-model_6')\n",
        "model7 = tf.keras.models.load_model('van_gabor-model_7')\n",
        "model8 = tf.keras.models.load_model('van_gabor-model_8')\n",
        "model9 = tf.keras.models.load_model('van_gabor-model_9')\n",
        "model10 = tf.keras.models.load_model('van_gabor-model_10')\n",
        "model11 = tf.keras.models.load_model('van_gabor-model_11')\n",
        "model12 = tf.keras.models.load_model('van_gabor-model_12')\n",
        "model13 = tf.keras.models.load_model('van_gabor-model_13')\n",
        "model14 = tf.keras.models.load_model('van_gabor-model_14')\n",
        "model15 = tf.keras.models.load_model('van_gabor-model_15')\n",
        "model16 = tf.keras.models.load_model('van_gabor-model_16')\n",
        "model17 = tf.keras.models.load_model('van_gabor-model_17')\n",
        "model18 = tf.keras.models.load_model('van_gabor-model_18')\n",
        "model19 = tf.keras.models.load_model('van_gabor-model_19')\n",
        "model20 = tf.keras.models.load_model('van_gabor-model_20')\n",
        "model21 = tf.keras.models.load_model('van_gabor-model_21')\n",
        "model22 = tf.keras.models.load_model('van_gabor-model_22')\n",
        "model23 = tf.keras.models.load_model('van_gabor-model_23')\n",
        "model24 = tf.keras.models.load_model('van_gabor-model_24')\n",
        "model25 = tf.keras.models.load_model('van_gabor-model_25')\n",
        "model26 = tf.keras.models.load_model('van_gabor-model_26')\n",
        "model27 = tf.keras.models.load_model('van_gabor-model_27')\n",
        "model28 = tf.keras.models.load_model('van_gabor-model_28')\n",
        "model29 = tf.keras.models.load_model('van_gabor-model_29')\n",
        "model0.summary() #verify architecture"
      ],
      "metadata": {
        "cellView": "form",
        "colab": {
          "base_uri": "https://localhost:8080/"
        },
        "id": "AKPIXG6dQ1yJ",
        "outputId": "3f50c1f0-1769-4288-ecb6-6ccf7c6a7453"
      },
      "execution_count": 9,
      "outputs": [
        {
          "output_type": "stream",
          "name": "stdout",
          "text": [
            "Model: \"sequential_1\"\n",
            "_________________________________________________________________\n",
            " Layer (type)                Output Shape              Param #   \n",
            "=================================================================\n",
            " rescaling_2 (Rescaling)     (None, 160, 160, 1)       0         \n",
            "                                                                 \n",
            " conv2d_2 (Conv2D)           (None, 158, 158, 160)     1600      \n",
            "                                                                 \n",
            " max_pooling2d_3 (MaxPooling  (None, 79, 79, 160)      0         \n",
            " 2D)                                                             \n",
            "                                                                 \n",
            " max_pooling2d_4 (MaxPooling  (None, 39, 39, 160)      0         \n",
            " 2D)                                                             \n",
            "                                                                 \n",
            " conv2d_3 (Conv2D)           (None, 37, 37, 80)        115280    \n",
            "                                                                 \n",
            " max_pooling2d_5 (MaxPooling  (None, 18, 18, 80)       0         \n",
            " 2D)                                                             \n",
            "                                                                 \n",
            " flatten_1 (Flatten)         (None, 25920)             0         \n",
            "                                                                 \n",
            " dense_2 (Dense)             (None, 80)                2073680   \n",
            "                                                                 \n",
            " dense_3 (Dense)             (None, 1)                 81        \n",
            "                                                                 \n",
            "=================================================================\n",
            "Total params: 2,190,641\n",
            "Trainable params: 2,190,641\n",
            "Non-trainable params: 0\n",
            "_________________________________________________________________\n"
          ]
        }
      ]
    },
    {
      "cell_type": "markdown",
      "metadata": {
        "id": "NwDFLrffizEC"
      },
      "source": [
        "Download the 9 test datasets from OSF and extract the contents into the newly created directory: `content/datasets/`"
      ]
    },
    {
      "cell_type": "code",
      "metadata": {
        "id": "0Ss70gaYoa7p",
        "colab": {
          "base_uri": "https://localhost:8080/"
        },
        "outputId": "c4f8b40a-c6ee-4b02-b13d-593839e79223",
        "cellView": "form"
      },
      "source": [
        "# @title Download datasets to test the model\n",
        "\n",
        "print(\"Start downloading and unzipping `9 datasets`...\")\n",
        "name = 'tilt_contrast-van_gabor'\n",
        "fname = f\"{name}.zip\"\n",
        "url = f\"https://osf.io/wc3nr/download\" #osf share link\n",
        "r = requests.get(url, allow_redirects=True)\n",
        "with open(fname, 'wb') as fh:\n",
        "  fh.write(r.content) #download file\n",
        "\n",
        "with ZipFile(fname, 'r') as zfile:\n",
        "  zfile.extractall(\"datasets\") #extract contents\n",
        "\n",
        "if os.path.exists(fname):\n",
        "  os.remove(fname) #delete zip file\n",
        "else:\n",
        "  print(f\"The file {fname} does not exist\")\n",
        "\n",
        "print(\"Download completed.\")"
      ],
      "execution_count": 10,
      "outputs": [
        {
          "output_type": "stream",
          "name": "stdout",
          "text": [
            "Start downloading and unzipping `9 datasets`...\n",
            "Download completed.\n"
          ]
        }
      ]
    },
    {
      "cell_type": "markdown",
      "source": [
        "Load all 9 training sets and use prefetch to streamline image loading."
      ],
      "metadata": {
        "id": "n_ege-imBdpK"
      }
    },
    {
      "cell_type": "code",
      "metadata": {
        "id": "rXaUncrIizED",
        "colab": {
          "base_uri": "https://localhost:8080/"
        },
        "outputId": "b70e8b45-1941-4e5d-cb42-b26245e83556",
        "cellView": "form"
      },
      "source": [
        "# @title Load datasets into tensorflow\n",
        "\n",
        "BATCH_SIZE = 32 \n",
        "IMG_SIZE = (160, 160) #forces a resize from 170x170 since MobileNetV2 has weights only for certain sizes\n",
        "AUTOTUNE = tf.data.AUTOTUNE #prompts the tf.data runtime to tune the value dynamically at runtime\n",
        "def model2_init_sets(BATCH_SIZE, IMG_SIZE, AUTOTUNE):\n",
        "    curr_dir = os.getcwd() \n",
        "    set1_dir = os.path.join(curr_dir, 'datasets/t_0_05-c_0_3')\n",
        "    set2_dir = os.path.join(curr_dir, 'datasets/t_0_05-c_0_45')\n",
        "    set3_dir = os.path.join(curr_dir, 'datasets/t_0_05-c_1')\n",
        "    set4_dir = os.path.join(curr_dir, 'datasets/t_0_1313-c_0_3')\n",
        "    set5_dir = os.path.join(curr_dir, 'datasets/t_0_1313-c_0_45')\n",
        "    set6_dir = os.path.join(curr_dir, 'datasets/t_0_1313-c_1')\n",
        "    set7_dir = os.path.join(curr_dir, 'datasets/t_0_2125-c_0_3')\n",
        "    set8_dir = os.path.join(curr_dir, 'datasets/t_0_2125-c_0_45')\n",
        "    set9_dir = os.path.join(curr_dir, 'datasets/t_0_2125-c_1')\n",
        "    set1 = image_dataset_from_directory(set1_dir, shuffle=False, batch_size=BATCH_SIZE, image_size=IMG_SIZE, color_mode='grayscale') #2000 images 2 classes\n",
        "    set2 = image_dataset_from_directory(set2_dir, shuffle=False, batch_size=BATCH_SIZE, image_size=IMG_SIZE, color_mode='grayscale')    \n",
        "    set3 = image_dataset_from_directory(set3_dir, shuffle=False, batch_size=BATCH_SIZE, image_size=IMG_SIZE, color_mode='grayscale')\n",
        "    set4 = image_dataset_from_directory(set4_dir, shuffle=False, batch_size=BATCH_SIZE, image_size=IMG_SIZE, color_mode='grayscale')\n",
        "    set5 = image_dataset_from_directory(set5_dir, shuffle=False, batch_size=BATCH_SIZE, image_size=IMG_SIZE, color_mode='grayscale')\n",
        "    set6 = image_dataset_from_directory(set6_dir, shuffle=False, batch_size=BATCH_SIZE, image_size=IMG_SIZE, color_mode='grayscale')\n",
        "    set7 = image_dataset_from_directory(set7_dir, shuffle=False, batch_size=BATCH_SIZE, image_size=IMG_SIZE, color_mode='grayscale') \n",
        "    set8 = image_dataset_from_directory(set8_dir, shuffle=False, batch_size=BATCH_SIZE, image_size=IMG_SIZE, color_mode='grayscale')\n",
        "    set9 = image_dataset_from_directory(set9_dir, shuffle=False, batch_size=BATCH_SIZE, image_size=IMG_SIZE, color_mode='grayscale')\n",
        "    class_names = set1.class_names #extract class names loading function inferred from subdir's\n",
        "    set1 = set1.prefetch(buffer_size=AUTOTUNE) \n",
        "    set2 = set2.prefetch(buffer_size=AUTOTUNE) \n",
        "    set3 = set3.prefetch(buffer_size=AUTOTUNE) \n",
        "    set4 = set4.prefetch(buffer_size=AUTOTUNE) \n",
        "    set5 = set5.prefetch(buffer_size=AUTOTUNE) \n",
        "    set6 = set6.prefetch(buffer_size=AUTOTUNE) \n",
        "    set7 = set7.prefetch(buffer_size=AUTOTUNE) \n",
        "    set8 = set8.prefetch(buffer_size=AUTOTUNE) \n",
        "    set9 = set9.prefetch(buffer_size=AUTOTUNE) \n",
        "    return set1,set2,set3,set4,set5,set6,set7,set8,set9,class_names\n",
        "\n",
        "set1,set2,set3,set4,set5,set6,set7,set8,set9,class_names = model2_init_sets(BATCH_SIZE, IMG_SIZE, AUTOTUNE)"
      ],
      "execution_count": 11,
      "outputs": [
        {
          "output_type": "stream",
          "name": "stdout",
          "text": [
            "Found 4000 files belonging to 2 classes.\n",
            "Found 4000 files belonging to 2 classes.\n",
            "Found 4000 files belonging to 2 classes.\n",
            "Found 4000 files belonging to 2 classes.\n",
            "Found 4000 files belonging to 2 classes.\n",
            "Found 4000 files belonging to 2 classes.\n",
            "Found 4000 files belonging to 2 classes.\n",
            "Found 4000 files belonging to 2 classes.\n",
            "Found 4000 files belonging to 2 classes.\n"
          ]
        }
      ]
    },
    {
      "cell_type": "markdown",
      "metadata": {
        "id": "DuZc8G7k-Adt"
      },
      "source": [
        "There are 4,000 images per set, 2,000 per class, 36,000 total across sets."
      ]
    },
    {
      "cell_type": "markdown",
      "metadata": {
        "id": "D9mKkQwPizEF"
      },
      "source": [
        "### 2. Generate logits\n",
        "Next, we can define a function for processing a dataset through a model."
      ]
    },
    {
      "cell_type": "code",
      "metadata": {
        "id": "66NBuNRpizEG"
      },
      "source": [
        "def process_dataset(dataset, model):\n",
        "    all_logits=tf.zeros([], tf.float64) #initialize array to hold all prediction logits (single element)\n",
        "    all_labels=tf.zeros([], tf.float64) #initialize array to hold all actual labels (single element)\n",
        "    for image_batch, label_batch in dataset.as_numpy_iterator():\n",
        "        predictions = model.predict_on_batch(image_batch).flatten() #run batch through model and return logits\n",
        "        all_logits = tf.experimental.numpy.append(all_logits, predictions)\n",
        "        all_labels = tf.experimental.numpy.append(all_labels, label_batch)\n",
        "    #tf.size(all_pred) #1335 elements, 1334 images + 1 placeholder 0 at beginning\n",
        "    all_logits = all_logits[1:] #remove placeholder at beginning\n",
        "    all_labels = all_labels[1:]\n",
        "    all_logits_sig = expit(all_logits) #sigmoid-transform the logits\n",
        "    all_pred = np.where((all_logits_sig < 0.5), 0, 1) #replace predictions with 0 or 1\n",
        "    all_acc = np.where((all_pred == all_labels), 1, 0) #decide whether pred = label\n",
        "    return all_logits,all_labels,all_pred,all_acc"
      ],
      "execution_count": 12,
      "outputs": []
    },
    {
      "cell_type": "markdown",
      "source": [
        "Next, let's define a function for processing all 9 datasets through a model. In it, we will stack each sets' 4,000 logits in a single dataframe, `df_set`. The resulting dataframe will have 36,000 logits resulting from vertically stacking the logits for set1, set 2, .., set9. Additionally, we will calculate the average raw confidence and accuracy scores for each tilt/contrast combination and save this in a separate dataframe called `df_model_results`."
      ],
      "metadata": {
        "id": "YQnXLPYEUkBF"
      }
    },
    {
      "cell_type": "code",
      "source": [
        "def process_model(model,set1,set2,set3,set4,set5,set6,set7,set8,set9):\n",
        "    df_set = pd.DataFrame(columns=['Logits','Labels','Predictions','Accuracy','Tilt',\n",
        "                              'Contrast']) #init dataframe\n",
        "    df_model_results = pd.DataFrame(columns=['Accuracy','Confidence']) #init dataframe\n",
        "    all_sets = [set1,set2,set3,set4,set5,set6,set7,set8,set9]\n",
        "    all_tilts = [0.05, 0.05, 0.05, 0.1313, 0.1313, 0.1313, 0.2125, 0.2125, 0.2125]\n",
        "    all_contrasts = [0.3, 0.45, 1, 0.3, 0.45, 1, 0.3, 0.45, 1]\n",
        "    for idx, dataset in enumerate(all_sets): #run for all sets:\n",
        "        tilt = all_tilts[idx]\n",
        "        contrast = all_contrasts[idx]\n",
        "        all_logits,all_labels,all_pred,all_acc = process_dataset(dataset, model)\n",
        "        tilts = np.repeat(tilt, all_pred.size)\n",
        "        contrasts = np.repeat(contrast, all_pred.size)\n",
        "        df_set = pd.concat([df_set, pd.DataFrame({'Logits':all_logits.numpy(),\n",
        "                                          'Labels':all_labels.numpy(),\n",
        "                                          'Predictions':all_pred,'Accuracy':all_acc,\n",
        "                                          'Tilt':tilts,'Contrast':contrasts})], \n",
        "                      axis=0, ignore_index=True) #append logits, labels,etc to dataframe\n",
        "        acc = all_acc.mean() #calculate avg accuracy\n",
        "        conf = np.absolute(all_logits.numpy()).mean()\n",
        "        df_model_results = pd.concat([df_results, pd.DataFrame({'Accuracy':[acc],\n",
        "                                                    'Confidence':[conf],\n",
        "                                                    'Tilt':tilt,'Contrast':contrast})], \n",
        "                          axis=0, ignore_index=True) #append acc & conf to dataframe\n",
        "    return df_set,df_model_results"
      ],
      "metadata": {
        "id": "qET2WIvbU2Qg"
      },
      "execution_count": 13,
      "outputs": []
    },
    {
      "cell_type": "markdown",
      "source": [
        "# STOPPED HERE, NEED TO PROCESS A MODEL AND EXPORT DF'S AS EXCEL FILES AND SAVE THEM TO DISK EACH TIME WITH DYNAMIC NAMING CONVENTION"
      ],
      "metadata": {
        "id": "g2ElAdiG2gY-"
      }
    },
    {
      "cell_type": "markdown",
      "metadata": {
        "id": "_dLeIlRVizEI"
      },
      "source": [
        "\n",
        "### Standardize the data\n",
        "The RGB channel values are in the `[0, 255]` range. This is not ideal for a neural network; in general we should seek to make our input values small. We will standardize values to be in the `[0, 1]` range by using the `tf.keras.layers.experimental.preprocessing.Rescaling` layer."
      ]
    },
    {
      "cell_type": "code",
      "metadata": {
        "id": "6glOdQuwizEJ",
        "colab": {
          "base_uri": "https://localhost:8080/"
        },
        "outputId": "42d5901c-9949-49c8-d264-6064c99a99eb"
      },
      "source": [
        "normalization_layer = tf.keras.layers.experimental.preprocessing.Rescaling(1./255)\n",
        "normalized_ds = train_dataset.map(lambda x, y: (normalization_layer(x), y)) #apply normalization to dataset\n",
        "image_batch, labels_batch = next(iter(normalized_ds)) #extract one batch from the norm'd dataset\n",
        "first_image = image_batch[0] #view first image from the batch\n",
        "image_batch2, labels_batch2 = next(iter(train_dataset)) #extract one batch from the original dataset\n",
        "first_image2 = image_batch2[0] #view first image from the batch\n",
        "print(f\"before normalization:\",np.min(first_image2),np.max(first_image2),\"\\n\",\n",
        "      f\"after normalization:\",np.min(first_image),np.max(first_image)) #notice the pixels values are now in `[0,1]`."
      ],
      "execution_count": null,
      "outputs": [
        {
          "output_type": "stream",
          "name": "stdout",
          "text": [
            "before normalization: 0.7294922 254.38867 \n",
            " after normalization: 0.007877605 0.9995214\n"
          ]
        }
      ]
    },
    {
      "cell_type": "markdown",
      "metadata": {
        "id": "sKjtYqv2izEL"
      },
      "source": [
        "Now that we are convinced the normalization works, we will include it as the first layer inside our model definition below to simplify deployment."
      ]
    },
    {
      "cell_type": "markdown",
      "metadata": {
        "id": "YpDT6HNwizEM"
      },
      "source": [
        "### Setup buffered prefetching\n",
        "We can configure the dataset for performance using buffered prefetching to load images from disk without having I/O become blocking"
      ]
    },
    {
      "cell_type": "code",
      "metadata": {
        "id": "ntH5gPNaizEN"
      },
      "source": [
        "def prefetch(train_dataset, validation_dataset, test_dataset):\n",
        "    AUTOTUNE = tf.data.AUTOTUNE #prompts the tf.data runtime to tune the value dynamically at runtime\n",
        "    train_dataset = train_dataset.prefetch(buffer_size=AUTOTUNE) #will prefetch an optimal number of batches\n",
        "    validation_dataset = validation_dataset.prefetch(buffer_size=AUTOTUNE) #will prefetch an optimal number of batches\n",
        "    test_dataset = test_dataset.prefetch(buffer_size=AUTOTUNE) #will prefetch an optimal number of batches\n",
        "    return train_dataset,validation_dataset,test_dataset,AUTOTUNE\n",
        "\n",
        "train_dataset, validation_dataset, test_dataset, AUTOTUNE = prefetch(train_dataset, validation_dataset, test_dataset)"
      ],
      "execution_count": null,
      "outputs": []
    },
    {
      "cell_type": "markdown",
      "metadata": {
        "id": "Iwq6kTQ_izEO"
      },
      "source": [
        "### Create the model\n",
        "\n",
        "The first 3 lines of code below instantiate the Sequential model definition, declare the input shape of the images then apply the normalization layer.\n",
        "\n",
        "As input, a CNN takes tensors of shape (image_height, image_width, color_channels), ignoring the batch size. color_channels refers to (R,G,B). We will configure the CNN to process inputs of shape (160, 160, 3), which is the format of our Gabors. We can do this by passing the argument `input_shape` to the first layer titled `InputLayer`.\n",
        "\n",
        "The next 5 lines of code below define the convolutional base using a common pattern: a stack of [Conv2D](https://www.tensorflow.org/api_docs/python/tf/keras/layers/Conv2D) and [MaxPooling2D](https://www.tensorflow.org/api_docs/python/tf/keras/layers/MaxPool2D) layers.\n",
        "\n",
        "To complete the model, we will feed the last output tensor from the convolutional base (of shape (36, 36, 320)) into one or more Dense layers to perform classification. Dense layers take vectors as input (which are 1D), while the current output is a 3D tensor. First, we will flatten (or unroll) the 3D output to 1D, then add one or more Dense layers on top. Our dataset has 2 output classes, so we use a final Dense layer with a single logit output prediction."
      ]
    },
    {
      "cell_type": "code",
      "metadata": {
        "id": "__vLsH7VizEO"
      },
      "source": [
        "model = models.Sequential()\n",
        "model.add(layers.InputLayer(input_shape=(160,160,1)))\n",
        "model.add(layers.experimental.preprocessing.Rescaling(1./255)) #normalization layer\n",
        "model.add(layers.Conv2D(160, (3, 3), activation='relu', input_shape=(160, 160, 1)))\n",
        "model.add(layers.MaxPooling2D((2, 2)))\n",
        "model.add(layers.MaxPooling2D((2, 2)))\n",
        "model.add(layers.Conv2D(80, (3, 3), activation='relu'))\n",
        "model.add(layers.MaxPooling2D((2, 2)))\n",
        "model.add(layers.Flatten()) #flatten from 3d output to 1d\n",
        "model.add(layers.Dense(80, activation='relu'))\n",
        "model.add(layers.Dense(1))"
      ],
      "execution_count": null,
      "outputs": []
    },
    {
      "cell_type": "markdown",
      "metadata": {
        "id": "tOpf3jmLizEO"
      },
      "source": [
        "Let's display the architecture of the model so far:"
      ]
    },
    {
      "cell_type": "code",
      "metadata": {
        "id": "rOrtgAyEizEP",
        "colab": {
          "base_uri": "https://localhost:8080/"
        },
        "outputId": "c87aaece-1b99-4c24-c34c-2f0554140c53"
      },
      "source": [
        "model.summary()"
      ],
      "execution_count": null,
      "outputs": [
        {
          "output_type": "stream",
          "name": "stdout",
          "text": [
            "Model: \"sequential\"\n",
            "_________________________________________________________________\n",
            " Layer (type)                Output Shape              Param #   \n",
            "=================================================================\n",
            " rescaling_1 (Rescaling)     (None, 160, 160, 1)       0         \n",
            "                                                                 \n",
            " conv2d (Conv2D)             (None, 158, 158, 160)     1600      \n",
            "                                                                 \n",
            " max_pooling2d (MaxPooling2D  (None, 79, 79, 160)      0         \n",
            " )                                                               \n",
            "                                                                 \n",
            " max_pooling2d_1 (MaxPooling  (None, 39, 39, 160)      0         \n",
            " 2D)                                                             \n",
            "                                                                 \n",
            " conv2d_1 (Conv2D)           (None, 37, 37, 80)        115280    \n",
            "                                                                 \n",
            " max_pooling2d_2 (MaxPooling  (None, 18, 18, 80)       0         \n",
            " 2D)                                                             \n",
            "                                                                 \n",
            " flatten (Flatten)           (None, 25920)             0         \n",
            "                                                                 \n",
            " dense (Dense)               (None, 80)                2073680   \n",
            "                                                                 \n",
            " dense_1 (Dense)             (None, 1)                 81        \n",
            "                                                                 \n",
            "=================================================================\n",
            "Total params: 2,190,641\n",
            "Trainable params: 2,190,641\n",
            "Non-trainable params: 0\n",
            "_________________________________________________________________\n"
          ]
        }
      ]
    },
    {
      "cell_type": "markdown",
      "metadata": {
        "id": "CkoPZTuFizEP"
      },
      "source": [
        "Above, you can see that the output of every Conv2D and MaxPooling2D layer is a 3D tensor of shape (height, width, channels). The width and height dimensions tend to shrink as we go deeper in the network. The number of output channels for each Conv2D layer is controlled by the first argument (e.g., 160 or 80). \n",
        "\n",
        "Finally, we see that (18, 18, 80) outputs were flattened into vectors of shape (25920) before going through two Dense layers."
      ]
    },
    {
      "cell_type": "markdown",
      "metadata": {
        "id": "YPjHrtWmizEQ"
      },
      "source": [
        "### Compile and train the model\n",
        "\n",
        "We will define the learning rate and use the BinaryCrossEntropy loss since the model provides a single linear output"
      ]
    },
    {
      "cell_type": "code",
      "metadata": {
        "id": "gC2an-yuizEQ",
        "colab": {
          "base_uri": "https://localhost:8080/"
        },
        "outputId": "b332ba47-ce3a-473d-da96-6b592336ec32"
      },
      "source": [
        "base_learning_rate = 0.0001 #define the learning rate\n",
        "model.compile(optimizer=tf.keras.optimizers.Adam(learning_rate=base_learning_rate), \n",
        "              loss=tf.keras.losses.BinaryCrossentropy(from_logits=True), \n",
        "              metrics=['accuracy'])\n",
        "\n",
        "history = model.fit(train_dataset, \n",
        "                    epochs=2, \n",
        "                    validation_data=validation_dataset) #tests against validation dataset after each iteration"
      ],
      "execution_count": null,
      "outputs": [
        {
          "output_type": "stream",
          "name": "stdout",
          "text": [
            "Epoch 1/2\n",
            "438/438 [==============================] - 90s 178ms/step - loss: 0.6829 - accuracy: 0.5011 - val_loss: 0.6202 - val_accuracy: 0.5972\n",
            "Epoch 2/2\n",
            "438/438 [==============================] - 74s 168ms/step - loss: 0.2872 - accuracy: 0.8616 - val_loss: 0.1374 - val_accuracy: 0.9405\n"
          ]
        }
      ]
    },
    {
      "cell_type": "markdown",
      "metadata": {
        "id": "B7mHvdZqizER"
      },
      "source": [
        "### Evaluate the model\n",
        "Let's make a plot to visualize how the training and validation accuracy improves with each epoch. We will also evaluate the model against the test dataset."
      ]
    },
    {
      "cell_type": "code",
      "metadata": {
        "id": "qedbSxLEizER",
        "colab": {
          "base_uri": "https://localhost:8080/",
          "height": 300
        },
        "outputId": "077572e0-eed9-4f3d-9c54-c2d5c43d1585"
      },
      "source": [
        "plt.plot(history.history['accuracy'], label='accuracy')\n",
        "plt.plot(history.history['val_accuracy'], label = 'val_accuracy')\n",
        "plt.xlabel('Epoch')\n",
        "plt.ylabel('Accuracy')\n",
        "plt.ylim([0.5, 1])\n",
        "plt.legend(loc='lower right')\n",
        "\n",
        "test_loss, test_acc = model.evaluate(test_dataset, verbose=2)"
      ],
      "execution_count": null,
      "outputs": [
        {
          "output_type": "stream",
          "name": "stdout",
          "text": [
            "44/44 - 4s - loss: 0.1436 - accuracy: 0.9323 - 4s/epoch - 82ms/step\n"
          ]
        },
        {
          "output_type": "display_data",
          "data": {
            "image/png": "[encoded data removed]",
            "text/plain": [
              "<Figure size 432x288 with 1 Axes>"
            ]
          },
          "metadata": {
            "needs_background": "light"
          }
        }
      ]
    },
    {
      "cell_type": "markdown",
      "metadata": {
        "id": "FV7RxRg4oEJH"
      },
      "source": [
        "Nicely done! The model achieved a 94.05% accuracy on the validation set and a 93.23% accuracy on the test set after 2 epochs. Now let's save our vanilla CNN model."
      ]
    },
    {
      "cell_type": "code",
      "metadata": {
        "colab": {
          "base_uri": "https://localhost:8080/"
        },
        "id": "v2bR7_R-oX7j",
        "outputId": "2ffd28bf-de7e-4e3b-cb12-b49c3c568118"
      },
      "source": [
        "model.save('van_gabor')"
      ],
      "execution_count": null,
      "outputs": [
        {
          "output_type": "stream",
          "name": "stdout",
          "text": [
            "INFO:tensorflow:Assets written to: van_gabor/assets\n"
          ]
        }
      ]
    },
    {
      "cell_type": "code",
      "metadata": {
        "id": "fJOIkslgz_s8",
        "colab": {
          "base_uri": "https://localhost:8080/",
          "height": 35
        },
        "outputId": "4ed73f4a-9bd9-40f9-8777-7344649643a8"
      },
      "source": [
        "os.getcwd()"
      ],
      "execution_count": null,
      "outputs": [
        {
          "output_type": "execute_result",
          "data": {
            "application/vnd.google.colaboratory.intrinsic+json": {
              "type": "string"
            },
            "text/plain": [
              "'/content/model_training-range_con_rand_tilt_0_05-2'"
            ]
          },
          "metadata": {},
          "execution_count": 15
        }
      ]
    },
    {
      "cell_type": "code",
      "metadata": {
        "colab": {
          "base_uri": "https://localhost:8080/"
        },
        "id": "aY_BYpG1pJe7",
        "outputId": "bac5f1a8-25de-4766-8a28-f4329c3e88ef"
      },
      "source": [
        "! zip -r van_gabor_model.zip van_gabor/"
      ],
      "execution_count": null,
      "outputs": [
        {
          "output_type": "stream",
          "name": "stdout",
          "text": [
            "  adding: van_gabor/ (stored 0%)\n",
            "  adding: van_gabor/assets/ (stored 0%)\n",
            "  adding: van_gabor/keras_metadata.pb (deflated 90%)\n",
            "  adding: van_gabor/saved_model.pb (deflated 88%)\n",
            "  adding: van_gabor/variables/ (stored 0%)\n",
            "  adding: van_gabor/variables/variables.index (deflated 64%)\n",
            "  adding: van_gabor/variables/variables.data-00000-of-00001 (deflated 46%)\n"
          ]
        }
      ]
    },
    {
      "cell_type": "code",
      "metadata": {
        "id": "MRC-BHczz7SA"
      },
      "source": [
        "/content/model2_training/18kim_range_vanilla_v2/"
      ],
      "execution_count": null,
      "outputs": []
    }
  ]
}