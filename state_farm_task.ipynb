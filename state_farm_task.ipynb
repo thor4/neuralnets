{
  "nbformat": 4,
  "nbformat_minor": 0,
  "metadata": {
    "colab": {
      "provenance": [],
      "authorship_tag": "ABX9TyPPMNdnHCUW+KDZbJpErHI/",
      "include_colab_link": true
    },
    "kernelspec": {
      "name": "python3",
      "display_name": "Python 3"
    },
    "language_info": {
      "name": "python"
    }
  },
  "cells": [
    {
      "cell_type": "markdown",
      "metadata": {
        "id": "view-in-github",
        "colab_type": "text"
      },
      "source": [
        "<a href=\"https://colab.research.google.com/github/thor4/neuralnets/blob/master/state_farm_task.ipynb\" target=\"_parent\"><img src=\"https://colab.research.google.com/assets/colab-badge.svg\" alt=\"Open In Colab\"/></a>"
      ]
    },
    {
      "cell_type": "markdown",
      "source": [
        "# State Farm Pre-employment Assessment\n",
        "### *Model-based supervised learning binary classification task*\n",
        "Your work will be evaluated in the following areas:\n",
        "- The appropriateness of the steps you took\n",
        "- The complexity of your models\n",
        "- The performance of each model on the test set (using AUC)\n",
        "- The organization and readability of your code\n",
        "- The write-up comparing the models\n",
        "---"
      ],
      "metadata": {
        "id": "3I9U6tnpuecf"
      }
    },
    {
      "cell_type": "markdown",
      "source": [
        "## Step 1 - Clean and prepare your data\n",
        "The data in this exercise have been simulated to mimic real, dirty data. Please clean the data with whatever method(s) you believe to be best/most suitable. Success in this exercise typically involves feature engineering and avoiding data leakage. You may create new features. However, you may not add or supplement with external data. \n",
        "\n",
        "We will begin by importing relevant libraries."
      ],
      "metadata": {
        "id": "FKKVf2XCvo5b"
      }
    },
    {
      "cell_type": "code",
      "execution_count": 1,
      "metadata": {
        "id": "Zct-rkSSud0m"
      },
      "outputs": [],
      "source": [
        "import pandas as pd"
      ]
    },
    {
      "cell_type": "markdown",
      "source": [
        "Next, we use the pandas library to load our CSV data."
      ],
      "metadata": {
        "id": "gHKnysvV1TZR"
      }
    },
    {
      "cell_type": "code",
      "source": [],
      "metadata": {
        "id": "lsLMUhbm1Z2Q"
      },
      "execution_count": null,
      "outputs": []
    },
    {
      "cell_type": "markdown",
      "source": [
        "40,000 examples in the training set.\n",
        "10,000 in the test set."
      ],
      "metadata": {
        "id": "_8xS1zeDu6Xy"
      }
    }
  ]
}